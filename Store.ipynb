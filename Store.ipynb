{
  "nbformat": 4,
  "nbformat_minor": 0,
  "metadata": {
    "colab": {
      "name": "Store.ipynb",
      "provenance": [],
      "authorship_tag": "ABX9TyOTMSmhW7rIJOknfaJ5OqxL",
      "include_colab_link": true
    },
    "kernelspec": {
      "name": "python3",
      "display_name": "Python 3"
    },
    "language_info": {
      "name": "python"
    }
  },
  "cells": [
    {
      "cell_type": "markdown",
      "metadata": {
        "id": "view-in-github",
        "colab_type": "text"
      },
      "source": [
        "<a href=\"https://colab.research.google.com/github/ogut77/DataScience/blob/main/Store.ipynb\" target=\"_parent\"><img src=\"https://colab.research.google.com/assets/colab-badge.svg\" alt=\"Open In Colab\"/></a>"
      ]
    },
    {
      "cell_type": "code",
      "execution_count": 27,
      "metadata": {
        "id": "fB4ZqltwrpQn"
      },
      "outputs": [],
      "source": [
        "import pandas as pd\n",
        "df = pd.read_csv('https://raw.githubusercontent.com/ogut77/DataScience/main/data/kaggle_sales.csv')\n",
        "df = df[(df['store'] == 1) & (df['item'] == 1)] # item 1 in store 1\n",
        "df = df.set_index('date')\n",
        "y = pd.DataFrame(df['sales'])\n",
        "y_to_train = y[:-365]\n",
        "y_to_test = y[-365:] # last year for testing"
      ]
    },
    {
      "cell_type": "code",
      "source": [
        "from matplotlib import pyplot as plt\n",
        "y.plot(legend=True)\n",
        "plt.xticks( rotation='vertical')\n"
      ],
      "metadata": {
        "colab": {
          "base_uri": "https://localhost:8080/",
          "height": 362
        },
        "id": "oh5xB6iFwnnZ",
        "outputId": "0620dd26-d54a-4ced-b678-001983af2c95"
      },
      "execution_count": 30,
      "outputs": [
        {
          "output_type": "execute_result",
          "data": {
            "text/plain": [
              "(array([-250.,    0.,  250.,  500.,  750., 1000., 1250., 1500., 1750.,\n",
              "        2000.]), <a list of 10 Text major ticklabel objects>)"
            ]
          },
          "metadata": {},
          "execution_count": 30
        },
        {
          "output_type": "display_data",
          "data": {
            "text/plain": [
              "<Figure size 432x288 with 1 Axes>"
            ],
            "image/png": "[encoded data removed]"
          },
          "metadata": {
            "needs_background": "light"
          }
        }
      ]
    },
    {
      "cell_type": "code",
      "source": [
        "!pip install tbats"
      ],
      "metadata": {
        "colab": {
          "base_uri": "https://localhost:8080/"
        },
        "id": "jJbMN9Qk02IG",
        "outputId": "01847231-05d9-4380-fa76-e02041d3e5e2"
      },
      "execution_count": 6,
      "outputs": [
        {
          "output_type": "stream",
          "name": "stdout",
          "text": [
            "Collecting tbats\n",
            "  Downloading tbats-1.1.0-py3-none-any.whl (43 kB)\n",
            "\u001b[?25l\r\u001b[K     |███████▌                        | 10 kB 20.5 MB/s eta 0:00:01\r\u001b[K     |███████████████                 | 20 kB 23.5 MB/s eta 0:00:01\r\u001b[K     |██████████████████████▍         | 30 kB 16.0 MB/s eta 0:00:01\r\u001b[K     |██████████████████████████████  | 40 kB 6.9 MB/s eta 0:00:01\r\u001b[K     |████████████████████████████████| 43 kB 1.5 MB/s \n",
            "\u001b[?25hRequirement already satisfied: scipy in /usr/local/lib/python3.7/dist-packages (from tbats) (1.4.1)\n",
            "Collecting pmdarima\n",
            "  Downloading pmdarima-1.8.5-cp37-cp37m-manylinux_2_17_x86_64.manylinux2014_x86_64.manylinux_2_24_x86_64.whl (1.4 MB)\n",
            "\u001b[K     |████████████████████████████████| 1.4 MB 14.6 MB/s \n",
            "\u001b[?25hRequirement already satisfied: numpy in /usr/local/lib/python3.7/dist-packages (from tbats) (1.21.6)\n",
            "Requirement already satisfied: scikit-learn in /usr/local/lib/python3.7/dist-packages (from tbats) (1.0.2)\n",
            "Requirement already satisfied: pandas>=0.19 in /usr/local/lib/python3.7/dist-packages (from pmdarima->tbats) (1.3.5)\n",
            "Requirement already satisfied: joblib>=0.11 in /usr/local/lib/python3.7/dist-packages (from pmdarima->tbats) (1.1.0)\n",
            "Requirement already satisfied: setuptools!=50.0.0,>=38.6.0 in /usr/local/lib/python3.7/dist-packages (from pmdarima->tbats) (57.4.0)\n",
            "Requirement already satisfied: urllib3 in /usr/local/lib/python3.7/dist-packages (from pmdarima->tbats) (1.24.3)\n",
            "Requirement already satisfied: Cython!=0.29.18,>=0.29 in /usr/local/lib/python3.7/dist-packages (from pmdarima->tbats) (0.29.28)\n",
            "Collecting statsmodels!=0.12.0,>=0.11\n",
            "  Downloading statsmodels-0.13.2-cp37-cp37m-manylinux_2_17_x86_64.manylinux2014_x86_64.whl (9.8 MB)\n",
            "\u001b[K     |████████████████████████████████| 9.8 MB 40.3 MB/s \n",
            "\u001b[?25hRequirement already satisfied: python-dateutil>=2.7.3 in /usr/local/lib/python3.7/dist-packages (from pandas>=0.19->pmdarima->tbats) (2.8.2)\n",
            "Requirement already satisfied: pytz>=2017.3 in /usr/local/lib/python3.7/dist-packages (from pandas>=0.19->pmdarima->tbats) (2022.1)\n",
            "Requirement already satisfied: six>=1.5 in /usr/local/lib/python3.7/dist-packages (from python-dateutil>=2.7.3->pandas>=0.19->pmdarima->tbats) (1.15.0)\n",
            "Requirement already satisfied: threadpoolctl>=2.0.0 in /usr/local/lib/python3.7/dist-packages (from scikit-learn->tbats) (3.1.0)\n",
            "Requirement already satisfied: patsy>=0.5.2 in /usr/local/lib/python3.7/dist-packages (from statsmodels!=0.12.0,>=0.11->pmdarima->tbats) (0.5.2)\n",
            "Requirement already satisfied: packaging>=21.3 in /usr/local/lib/python3.7/dist-packages (from statsmodels!=0.12.0,>=0.11->pmdarima->tbats) (21.3)\n",
            "Requirement already satisfied: pyparsing!=3.0.5,>=2.0.2 in /usr/local/lib/python3.7/dist-packages (from packaging>=21.3->statsmodels!=0.12.0,>=0.11->pmdarima->tbats) (3.0.8)\n",
            "Installing collected packages: statsmodels, pmdarima, tbats\n",
            "  Attempting uninstall: statsmodels\n",
            "    Found existing installation: statsmodels 0.10.2\n",
            "    Uninstalling statsmodels-0.10.2:\n",
            "      Successfully uninstalled statsmodels-0.10.2\n",
            "Successfully installed pmdarima-1.8.5 statsmodels-0.13.2 tbats-1.1.0\n"
          ]
        }
      ]
    },
    {
      "cell_type": "code",
      "source": [
        "from tbats import TBATS, BATS# Fit the model\n",
        "estimator = TBATS(seasonal_periods=(7, 365.25))\n",
        "model = estimator.fit(y_to_train)# Forecast 365 days ahead\n",
        "y_forecast = model.forecast(steps=365)"
      ],
      "metadata": {
        "id": "xZ6a0h9Wyvbu"
      },
      "execution_count": 7,
      "outputs": []
    },
    {
      "cell_type": "code",
      "source": [
        "from sklearn.metrics import mean_absolute_error,mean_squared_error\n",
        "print(f'Mean Absolute Error = {mean_absolute_error(y_to_test,y_forecast)}')\n",
        "print(f'Mean Squared Error = {mean_squared_error(y_to_test,y_forecast)}')\n",
        "import numpy as np\n",
        "def mape(actual,pred):\n",
        "    return np.mean(np.abs((actual - pred) / actual)) * 100  \n",
        "print(f'Mean Absolute Percentage Error = {mape(np.array(y_to_test),np.array(y_forecast) )}')"
      ],
      "metadata": {
        "colab": {
          "base_uri": "https://localhost:8080/"
        },
        "id": "LBUaYkgvxBpN",
        "outputId": "a70bcd1c-a885-4618-f9ae-780b1afb1698"
      },
      "execution_count": 8,
      "outputs": [
        {
          "output_type": "stream",
          "name": "stdout",
          "text": [
            "Mean Absolute Error = 3.8577289832270028\n",
            "Mean Squared Error = 23.637445028684905\n",
            "Mean Absolute Percentage Error = 35.497625473230976\n"
          ]
        }
      ]
    },
    {
      "cell_type": "code",
      "source": [
        ""
      ],
      "metadata": {
        "id": "QXChCYFA1S5Q"
      },
      "execution_count": null,
      "outputs": []
    },
    {
      "cell_type": "markdown",
      "source": [
        "Holt Winters"
      ],
      "metadata": {
        "id": "9-KwA9wexUIf"
      }
    },
    {
      "cell_type": "code",
      "source": [
        "from statsmodels.tsa.holtwinters import ExponentialSmoothing\n",
        "fitted_model = ExponentialSmoothing(y_to_train,trend='mul',seasonal='mul',seasonal_periods=365).fit()\n",
        "test_predictions = fitted_model.forecast(365).rename('HW')\n"
      ],
      "metadata": {
        "colab": {
          "base_uri": "https://localhost:8080/"
        },
        "id": "rLkrgaR4xW9o",
        "outputId": "9864a04b-33ad-421a-dbd1-2842efcc80dc"
      },
      "execution_count": 24,
      "outputs": [
        {
          "output_type": "stream",
          "name": "stderr",
          "text": [
            "/usr/local/lib/python3.7/dist-packages/statsmodels/tsa/base/tsa_model.py:471: ValueWarning: No frequency information was provided, so inferred frequency D will be used.\n",
            "  self._init_dates(dates, freq)\n"
          ]
        }
      ]
    },
    {
      "cell_type": "code",
      "source": [
        "#Evaluate forecasting Performance\n",
        "from sklearn.metrics import mean_absolute_error,mean_squared_error\n",
        "print(f'Mean Absolute Error = {mean_absolute_error(y_to_test,test_predictions)}')\n",
        "print(f'Mean Squared Error = {mean_squared_error(y_to_test,test_predictions)}')\n",
        "import numpy as np\n",
        "def mape(actual,pred):\n",
        "    return np.mean(np.abs((actual - pred) / actual)) * 100  \n",
        "print(f'Mean Absolute Percentage Error = {mape(np.array(y_to_test),np.array(test_predictions) )}')"
      ],
      "metadata": {
        "colab": {
          "base_uri": "https://localhost:8080/"
        },
        "id": "oM6NSczGzpXi",
        "outputId": "886abf28-a325-460b-e372-2e0837109563"
      },
      "execution_count": 26,
      "outputs": [
        {
          "output_type": "stream",
          "name": "stdout",
          "text": [
            "Mean Absolute Error = 5.859391287582682\n",
            "Mean Squared Error = 56.80871732224168\n",
            "Mean Absolute Percentage Error = 41.26774435015866\n"
          ]
        }
      ]
    }
  ]
}