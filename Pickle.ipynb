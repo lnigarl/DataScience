{
  "nbformat": 4,
  "nbformat_minor": 0,
  "metadata": {
    "colab": {
      "name": "Pickle.ipynb",
      "provenance": []
    },
    "kernelspec": {
      "name": "python3",
      "display_name": "Python 3"
    },
    "language_info": {
      "name": "python"
    }
  },
  "cells": [
    {
      "cell_type": "code",
      "execution_count": null,
      "metadata": {
        "id": "-gtL4TGK3dY_"
      },
      "outputs": [],
      "source": [
        "!pip install auto-sklearn\n",
        "from sklearn.datasets import load_iris\n",
        "from sklearn.model_selection import train_test_split\n",
        "from sklearn.metrics import accuracy_score\n",
        "from autosklearn.classification import AutoSklearnClassifier\n",
        "import pickle\n",
        "\n",
        "\n",
        "# dataset:\n",
        "X, y = load_iris(return_X_y=True)\n",
        "X_train, X_test, y_train, y_test = train_test_split(X, y, test_size = 0.2)\n",
        "\n",
        "# train model:\n",
        "classifier = AutoSklearnClassifier(\n",
        "    time_left_for_this_task=30, \n",
        "    per_run_time_limit=60,\n",
        "    memory_limit=1024*12) # depends on your computer\n",
        "classifier.fit(X_train, y_train)\n",
        "\n",
        "# save model\n",
        "with open('iris-classifier.pkl', 'wb') as f:\n",
        "    pickle.dump(classifier, f)\n",
        "\n",
        "# load model\n",
        "with open('iris-classifier.pkl', 'rb') as f:\n",
        "    loaded_classifier = pickle.load(f)\n",
        "\n",
        "# predict\n",
        "y_true = y_test\n",
        "y_pred = loaded_classifier.predict(X_test)\n",
        "print('iris classifier: accuracy:', accuracy_score(y_true, y_pred))\n",
        "# iris classifier: accuracy: 0.9333333333333333"
      ]
    }
  ]
}