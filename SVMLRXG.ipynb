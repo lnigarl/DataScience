{
  "nbformat": 4,
  "nbformat_minor": 0,
  "metadata": {
    "colab": {
      "name": "Thilakraj_Optuna_Tutorial.ipynb",
      "provenance": [],
      "collapsed_sections": []
    },
    "kernelspec": {
      "display_name": "Python 3",
      "name": "python3"
    },
    "language_info": {
      "name": "python"
    },
    "accelerator": "GPU"
  },
  "cells": [
    {
      "cell_type": "markdown",
      "metadata": {
        "id": "Kn_qRgSSHuTt"
      },
      "source": [
        "Copyright @ 2021 ABCOM Information Systems Pvt. Ltd. All Rights Reserved.\n",
        "\n",
        "Licensed under the Apache License, Version 2.0 (the \"License\"); you may not use this file except in compliance with the License. You may obtain a copy of the License at\n",
        "\n",
        "http://www.apache.org/licenses/LICENSE-2.0\n",
        "\n",
        "Unless required by applicable law or agreed to in writing, software distributed under the License is distributed on an \"AS IS\" BASIS, WITHOUT WARRANTIES OR CONDITIONS OF ANY KIND, either express or implied.\n",
        "\n",
        "See the License for the specific language governing permissions and limitations under the License.\n"
      ]
    },
    {
      "cell_type": "markdown",
      "metadata": {
        "id": "QjnefMPdocIe"
      },
      "source": [
        "# Hyper-Parameter Tuning using Optuna\n"
      ]
    },
    {
      "cell_type": "markdown",
      "metadata": {
        "id": "M91PzaKGLrFh"
      },
      "source": [
        "To install Optuna library execute pip install optuna "
      ]
    },
    {
      "cell_type": "code",
      "metadata": {
        "id": "eeFJxebx_sl7",
        "colab": {
          "base_uri": "https://localhost:8080/"
        },
        "outputId": "8e9e5a2a-38e2-4376-9704-ea3dd1ec43f4"
      },
      "source": [
        "pip install optuna"
      ],
      "execution_count": null,
      "outputs": [
        {
          "output_type": "stream",
          "text": [
            "Collecting optuna\n",
            "\u001b[?25l  Downloading https://files.pythonhosted.org/packages/2b/21/d13081805e1e1afc71f5bb743ece324c8bd576237c51b899ecb38a717502/optuna-2.7.0-py3-none-any.whl (293kB)\n",
            "\r\u001b[K     |█▏                              | 10kB 15.8MB/s eta 0:00:01\r\u001b[K     |██▎                             | 20kB 9.5MB/s eta 0:00:01\r\u001b[K     |███▍                            | 30kB 6.0MB/s eta 0:00:01\r\u001b[K     |████▌                           | 40kB 5.5MB/s eta 0:00:01\r\u001b[K     |█████▋                          | 51kB 2.9MB/s eta 0:00:01\r\u001b[K     |██████▊                         | 61kB 3.1MB/s eta 0:00:01\r\u001b[K     |███████▉                        | 71kB 3.4MB/s eta 0:00:01\r\u001b[K     |█████████                       | 81kB 3.6MB/s eta 0:00:01\r\u001b[K     |██████████                      | 92kB 3.8MB/s eta 0:00:01\r\u001b[K     |███████████▏                    | 102kB 4.0MB/s eta 0:00:01\r\u001b[K     |████████████▎                   | 112kB 4.0MB/s eta 0:00:01\r\u001b[K     |█████████████▍                  | 122kB 4.0MB/s eta 0:00:01\r\u001b[K     |██████████████▌                 | 133kB 4.0MB/s eta 0:00:01\r\u001b[K     |███████████████▋                | 143kB 4.0MB/s eta 0:00:01\r\u001b[K     |████████████████▊               | 153kB 4.0MB/s eta 0:00:01\r\u001b[K     |█████████████████▉              | 163kB 4.0MB/s eta 0:00:01\r\u001b[K     |███████████████████             | 174kB 4.0MB/s eta 0:00:01\r\u001b[K     |████████████████████            | 184kB 4.0MB/s eta 0:00:01\r\u001b[K     |█████████████████████▏          | 194kB 4.0MB/s eta 0:00:01\r\u001b[K     |██████████████████████▎         | 204kB 4.0MB/s eta 0:00:01\r\u001b[K     |███████████████████████▍        | 215kB 4.0MB/s eta 0:00:01\r\u001b[K     |████████████████████████▋       | 225kB 4.0MB/s eta 0:00:01\r\u001b[K     |█████████████████████████▊      | 235kB 4.0MB/s eta 0:00:01\r\u001b[K     |██████████████████████████▉     | 245kB 4.0MB/s eta 0:00:01\r\u001b[K     |████████████████████████████    | 256kB 4.0MB/s eta 0:00:01\r\u001b[K     |█████████████████████████████   | 266kB 4.0MB/s eta 0:00:01\r\u001b[K     |██████████████████████████████▏ | 276kB 4.0MB/s eta 0:00:01\r\u001b[K     |███████████████████████████████▎| 286kB 4.0MB/s eta 0:00:01\r\u001b[K     |████████████████████████████████| 296kB 4.0MB/s \n",
            "\u001b[?25hRequirement already satisfied: numpy in /usr/local/lib/python3.7/dist-packages (from optuna) (1.19.5)\n",
            "Requirement already satisfied: scipy!=1.4.0 in /usr/local/lib/python3.7/dist-packages (from optuna) (1.4.1)\n",
            "Requirement already satisfied: packaging>=20.0 in /usr/local/lib/python3.7/dist-packages (from optuna) (20.9)\n",
            "Requirement already satisfied: sqlalchemy>=1.1.0 in /usr/local/lib/python3.7/dist-packages (from optuna) (1.4.15)\n",
            "Collecting alembic\n",
            "\u001b[?25l  Downloading https://files.pythonhosted.org/packages/d5/80/ef186e599a57d0e4cb78fc76e0bfc2e6953fa9716b2a5cf2de0117ed8eb5/alembic-1.6.5-py2.py3-none-any.whl (164kB)\n",
            "\u001b[K     |████████████████████████████████| 174kB 20.7MB/s \n",
            "\u001b[?25hCollecting cliff\n",
            "\u001b[?25l  Downloading https://files.pythonhosted.org/packages/87/11/aea1cacbd4cf8262809c4d6f95dcb3f2802594de1f51c5bd454d69bf15c5/cliff-3.8.0-py3-none-any.whl (80kB)\n",
            "\u001b[K     |████████████████████████████████| 81kB 8.2MB/s \n",
            "\u001b[?25hCollecting colorlog\n",
            "  Downloading https://files.pythonhosted.org/packages/32/e6/e9ddc6fa1104fda718338b341e4b3dc31cd8039ab29e52fc73b508515361/colorlog-5.0.1-py2.py3-none-any.whl\n",
            "Collecting cmaes>=0.8.2\n",
            "  Downloading https://files.pythonhosted.org/packages/01/1f/43b01223a0366171f474320c6e966c39a11587287f098a5f09809b45e05f/cmaes-0.8.2-py3-none-any.whl\n",
            "Requirement already satisfied: tqdm in /usr/local/lib/python3.7/dist-packages (from optuna) (4.41.1)\n",
            "Requirement already satisfied: pyparsing>=2.0.2 in /usr/local/lib/python3.7/dist-packages (from packaging>=20.0->optuna) (2.4.7)\n",
            "Requirement already satisfied: importlib-metadata; python_version < \"3.8\" in /usr/local/lib/python3.7/dist-packages (from sqlalchemy>=1.1.0->optuna) (4.0.1)\n",
            "Requirement already satisfied: greenlet!=0.4.17; python_version >= \"3\" in /usr/local/lib/python3.7/dist-packages (from sqlalchemy>=1.1.0->optuna) (1.1.0)\n",
            "Collecting Mako\n",
            "\u001b[?25l  Downloading https://files.pythonhosted.org/packages/f3/54/dbc07fbb20865d3b78fdb7cf7fa713e2cba4f87f71100074ef2dc9f9d1f7/Mako-1.1.4-py2.py3-none-any.whl (75kB)\n",
            "\u001b[K     |████████████████████████████████| 81kB 8.5MB/s \n",
            "\u001b[?25hCollecting python-editor>=0.3\n",
            "  Downloading https://files.pythonhosted.org/packages/c6/d3/201fc3abe391bbae6606e6f1d598c15d367033332bd54352b12f35513717/python_editor-1.0.4-py3-none-any.whl\n",
            "Requirement already satisfied: python-dateutil in /usr/local/lib/python3.7/dist-packages (from alembic->optuna) (2.8.1)\n",
            "Collecting stevedore>=2.0.1\n",
            "\u001b[?25l  Downloading https://files.pythonhosted.org/packages/d4/49/b602307aeac3df3384ff1fcd05da9c0376c622a6c48bb5325f28ab165b57/stevedore-3.3.0-py3-none-any.whl (49kB)\n",
            "\u001b[K     |████████████████████████████████| 51kB 6.1MB/s \n",
            "\u001b[?25hRequirement already satisfied: PrettyTable>=0.7.2 in /usr/local/lib/python3.7/dist-packages (from cliff->optuna) (2.1.0)\n",
            "Collecting pbr!=2.1.0,>=2.0.0\n",
            "\u001b[?25l  Downloading https://files.pythonhosted.org/packages/18/e0/1d4702dd81121d04a477c272d47ee5b6bc970d1a0990b11befa275c55cf2/pbr-5.6.0-py2.py3-none-any.whl (111kB)\n",
            "\u001b[K     |████████████████████████████████| 112kB 17.4MB/s \n",
            "\u001b[?25hCollecting cmd2>=1.0.0\n",
            "\u001b[?25l  Downloading https://files.pythonhosted.org/packages/15/8b/15061b32332bb35ea2a2f6263d0f616779d576e82739ec8e7fcf3c94abf5/cmd2-1.5.0-py3-none-any.whl (133kB)\n",
            "\u001b[K     |████████████████████████████████| 143kB 17.4MB/s \n",
            "\u001b[?25hRequirement already satisfied: PyYAML>=3.12 in /usr/local/lib/python3.7/dist-packages (from cliff->optuna) (3.13)\n",
            "Requirement already satisfied: typing-extensions>=3.6.4; python_version < \"3.8\" in /usr/local/lib/python3.7/dist-packages (from importlib-metadata; python_version < \"3.8\"->sqlalchemy>=1.1.0->optuna) (3.7.4.3)\n",
            "Requirement already satisfied: zipp>=0.5 in /usr/local/lib/python3.7/dist-packages (from importlib-metadata; python_version < \"3.8\"->sqlalchemy>=1.1.0->optuna) (3.4.1)\n",
            "Requirement already satisfied: MarkupSafe>=0.9.2 in /usr/local/lib/python3.7/dist-packages (from Mako->alembic->optuna) (2.0.1)\n",
            "Requirement already satisfied: six>=1.5 in /usr/local/lib/python3.7/dist-packages (from python-dateutil->alembic->optuna) (1.15.0)\n",
            "Requirement already satisfied: wcwidth in /usr/local/lib/python3.7/dist-packages (from PrettyTable>=0.7.2->cliff->optuna) (0.2.5)\n",
            "Collecting colorama>=0.3.7\n",
            "  Downloading https://files.pythonhosted.org/packages/44/98/5b86278fbbf250d239ae0ecb724f8572af1c91f4a11edf4d36a206189440/colorama-0.4.4-py2.py3-none-any.whl\n",
            "Requirement already satisfied: attrs>=16.3.0 in /usr/local/lib/python3.7/dist-packages (from cmd2>=1.0.0->cliff->optuna) (21.2.0)\n",
            "Collecting pyperclip>=1.6\n",
            "  Downloading https://files.pythonhosted.org/packages/a7/2c/4c64579f847bd5d539803c8b909e54ba087a79d01bb3aba433a95879a6c5/pyperclip-1.8.2.tar.gz\n",
            "Building wheels for collected packages: pyperclip\n",
            "  Building wheel for pyperclip (setup.py) ... \u001b[?25l\u001b[?25hdone\n",
            "  Created wheel for pyperclip: filename=pyperclip-1.8.2-cp37-none-any.whl size=11107 sha256=74df016a36e4cc46483d4e87908612496f5c46061d5eb7f243769bcd13e3a5e2\n",
            "  Stored in directory: /root/.cache/pip/wheels/25/af/b8/3407109267803f4015e1ee2ff23be0c8c19ce4008665931ee1\n",
            "Successfully built pyperclip\n",
            "Installing collected packages: Mako, python-editor, alembic, pbr, stevedore, colorama, pyperclip, cmd2, cliff, colorlog, cmaes, optuna\n",
            "Successfully installed Mako-1.1.4 alembic-1.6.5 cliff-3.8.0 cmaes-0.8.2 cmd2-1.5.0 colorama-0.4.4 colorlog-5.0.1 optuna-2.7.0 pbr-5.6.0 pyperclip-1.8.2 python-editor-1.0.4 stevedore-3.3.0\n"
          ],
          "name": "stdout"
        }
      ]
    },
    {
      "cell_type": "markdown",
      "metadata": {
        "id": "DY8pVbdaSP-1"
      },
      "source": [
        "### Required packages"
      ]
    },
    {
      "cell_type": "code",
      "metadata": {
        "id": "k2UYblkf_8LD"
      },
      "source": [
        "import pandas as pd\n",
        "import numpy as np\n",
        "import seaborn as sns\n",
        "import warnings\n",
        "from sklearn.svm import SVR\n",
        "import optuna as op\n",
        "from sklearn.model_selection import train_test_split\n",
        "warnings.filterwarnings(\"ignore\")"
      ],
      "execution_count": null,
      "outputs": []
    },
    {
      "cell_type": "markdown",
      "metadata": {
        "id": "lgEPikWtUkww"
      },
      "source": [
        "### Fetching dataset\n"
      ]
    },
    {
      "cell_type": "code",
      "metadata": {
        "colab": {
          "base_uri": "https://localhost:8080/",
          "height": 204
        },
        "id": "CAstMXMyBfPT",
        "outputId": "bb6f3a9c-7c99-4820-e538-16b56262614c"
      },
      "source": [
        "df=pd.read_csv(\"https://raw.githubusercontent.com/abcom-mltutorials/Optuna/main/CCPP.csv\")\n",
        "\n",
        "df.head()"
      ],
      "execution_count": null,
      "outputs": [
        {
          "output_type": "execute_result",
          "data": {
            "text/html": [
              "<div>\n",
              "<style scoped>\n",
              "    .dataframe tbody tr th:only-of-type {\n",
              "        vertical-align: middle;\n",
              "    }\n",
              "\n",
              "    .dataframe tbody tr th {\n",
              "        vertical-align: top;\n",
              "    }\n",
              "\n",
              "    .dataframe thead th {\n",
              "        text-align: right;\n",
              "    }\n",
              "</style>\n",
              "<table border=\"1\" class=\"dataframe\">\n",
              "  <thead>\n",
              "    <tr style=\"text-align: right;\">\n",
              "      <th></th>\n",
              "      <th>AT</th>\n",
              "      <th>V</th>\n",
              "      <th>AP</th>\n",
              "      <th>RH</th>\n",
              "      <th>PE</th>\n",
              "    </tr>\n",
              "  </thead>\n",
              "  <tbody>\n",
              "    <tr>\n",
              "      <th>0</th>\n",
              "      <td>14.96</td>\n",
              "      <td>41.76</td>\n",
              "      <td>1024.07</td>\n",
              "      <td>73.17</td>\n",
              "      <td>463.26</td>\n",
              "    </tr>\n",
              "    <tr>\n",
              "      <th>1</th>\n",
              "      <td>25.18</td>\n",
              "      <td>62.96</td>\n",
              "      <td>1020.04</td>\n",
              "      <td>59.08</td>\n",
              "      <td>444.37</td>\n",
              "    </tr>\n",
              "    <tr>\n",
              "      <th>2</th>\n",
              "      <td>5.11</td>\n",
              "      <td>39.40</td>\n",
              "      <td>1012.16</td>\n",
              "      <td>92.14</td>\n",
              "      <td>488.56</td>\n",
              "    </tr>\n",
              "    <tr>\n",
              "      <th>3</th>\n",
              "      <td>20.86</td>\n",
              "      <td>57.32</td>\n",
              "      <td>1010.24</td>\n",
              "      <td>76.64</td>\n",
              "      <td>446.48</td>\n",
              "    </tr>\n",
              "    <tr>\n",
              "      <th>4</th>\n",
              "      <td>10.82</td>\n",
              "      <td>37.50</td>\n",
              "      <td>1009.23</td>\n",
              "      <td>96.62</td>\n",
              "      <td>473.90</td>\n",
              "    </tr>\n",
              "  </tbody>\n",
              "</table>\n",
              "</div>"
            ],
            "text/plain": [
              "      AT      V       AP     RH      PE\n",
              "0  14.96  41.76  1024.07  73.17  463.26\n",
              "1  25.18  62.96  1020.04  59.08  444.37\n",
              "2   5.11  39.40  1012.16  92.14  488.56\n",
              "3  20.86  57.32  1010.24  76.64  446.48\n",
              "4  10.82  37.50  1009.23  96.62  473.90"
            ]
          },
          "metadata": {
            "tags": []
          },
          "execution_count": 3
        }
      ]
    },
    {
      "cell_type": "markdown",
      "metadata": {
        "id": "bToKyj_a3pIK"
      },
      "source": [
        "Features consist of hourly average ambient variables Temperature (T), Ambient Pressure (AP), Relative Humidity (RH) and Exhaust Vacuum (V) to predict the net hourly electrical energy output (PE) of the plant."
      ]
    },
    {
      "cell_type": "code",
      "metadata": {
        "colab": {
          "base_uri": "https://localhost:8080/"
        },
        "id": "Dn4CciB3BlmK",
        "outputId": "cac7208f-2b5a-4e39-b42c-622e4536f517"
      },
      "source": [
        "df.info()"
      ],
      "execution_count": null,
      "outputs": [
        {
          "output_type": "stream",
          "text": [
            "<class 'pandas.core.frame.DataFrame'>\n",
            "RangeIndex: 9568 entries, 0 to 9567\n",
            "Data columns (total 5 columns):\n",
            " #   Column  Non-Null Count  Dtype  \n",
            "---  ------  --------------  -----  \n",
            " 0   AT      9568 non-null   float64\n",
            " 1   V       9568 non-null   float64\n",
            " 2   AP      9568 non-null   float64\n",
            " 3   RH      9568 non-null   float64\n",
            " 4   PE      9568 non-null   float64\n",
            "dtypes: float64(5)\n",
            "memory usage: 373.9 KB\n"
          ],
          "name": "stdout"
        }
      ]
    },
    {
      "cell_type": "markdown",
      "metadata": {
        "id": "7J0nnzv0VORk"
      },
      "source": [
        "### Feature and Target Selection\n"
      ]
    },
    {
      "cell_type": "code",
      "metadata": {
        "id": "uraI3qfvBwAb"
      },
      "source": [
        "X=df.drop(\"PE\",axis=1)\n",
        "Y=df.PE"
      ],
      "execution_count": null,
      "outputs": []
    },
    {
      "cell_type": "markdown",
      "metadata": {
        "id": "FZpZOhKwVXQL"
      },
      "source": [
        "### Splitting Dataset\n"
      ]
    },
    {
      "cell_type": "code",
      "metadata": {
        "id": "57XUgMz-B4Aa"
      },
      "source": [
        "X_train,X_test,y_train,y_test=train_test_split(X,Y,test_size=0.2,random_state=123)"
      ],
      "execution_count": null,
      "outputs": []
    },
    {
      "cell_type": "code",
      "metadata": {
        "colab": {
          "base_uri": "https://localhost:8080/"
        },
        "id": "YFCDL3EZCIjS",
        "outputId": "dfd09f32-c63a-4b8f-af4d-272c266d6551"
      },
      "source": [
        "print(\"train: \",X_train.shape)\n",
        "print(\"test: \",X_test.shape)"
      ],
      "execution_count": null,
      "outputs": [
        {
          "output_type": "stream",
          "text": [
            "train:  (7654, 4)\n",
            "test:  (1914, 4)\n"
          ],
          "name": "stdout"
        }
      ]
    },
    {
      "cell_type": "markdown",
      "metadata": {
        "id": "XncCkXEqV8oR"
      },
      "source": [
        "### Baseline Model\n",
        "\n",
        "First we will create a model without any parameter tuning to understand effect of parameter tuning at the later stage"
      ]
    },
    {
      "cell_type": "code",
      "metadata": {
        "colab": {
          "base_uri": "https://localhost:8080/"
        },
        "id": "WSxLUMSmC-dD",
        "outputId": "2e3a23b9-0719-40fe-8746-e400fd395cc1"
      },
      "source": [
        "model=SVR()\n",
        "model.fit(X_train,y_train)"
      ],
      "execution_count": null,
      "outputs": [
        {
          "output_type": "execute_result",
          "data": {
            "text/plain": [
              "SVR(C=1.0, cache_size=200, coef0=0.0, degree=3, epsilon=0.1, gamma='scale',\n",
              "    kernel='rbf', max_iter=-1, shrinking=True, tol=0.001, verbose=False)"
            ]
          },
          "metadata": {
            "tags": []
          },
          "execution_count": 8
        }
      ]
    },
    {
      "cell_type": "markdown",
      "metadata": {
        "id": "CQZKs3s-Wg-v"
      },
      "source": [
        "#### Model accuracy"
      ]
    },
    {
      "cell_type": "code",
      "metadata": {
        "colab": {
          "base_uri": "https://localhost:8080/"
        },
        "id": "J__z9NA8DGYK",
        "outputId": "fe49260c-a9ec-440a-cd38-14f1a399c869"
      },
      "source": [
        "model.score(X_test,y_test)"
      ],
      "execution_count": null,
      "outputs": [
        {
          "output_type": "execute_result",
          "data": {
            "text/plain": [
              "0.38922787580732543"
            ]
          },
          "metadata": {
            "tags": []
          },
          "execution_count": 9
        }
      ]
    },
    {
      "cell_type": "markdown",
      "metadata": {
        "id": "TSB7S5TSWkUt"
      },
      "source": [
        "### Optuna Hyperparameter Tuning\n",
        "\n",
        "In this section we will try to maximize our accuracy using different hyperparameter tunning available for SVM model. \n",
        "\n",
        "Tuning parameters of SVM:\n",
        "\n",
        "1. Kernel - Specifies the kernel type to be used in the algorithm. It must be one of ‘linear’, ‘poly’, ‘rbf’, ‘sigmoid’.\n",
        "2. C - Regularization parameter. The strength of the regularization is inversely proportional to C. Must be strictly positive. The penalty is a squared l2 penalty.\n",
        "3. degree - Degree of the polynomial kernel function (‘poly’). Ignored by all other kernels.\n",
        "4. gamma - Kernel coefficient for ‘rbf’, ‘poly’ and ‘sigmoid’.\n"
      ]
    },
    {
      "cell_type": "code",
      "metadata": {
        "id": "Q9u482GSD89S"
      },
      "source": [
        "def objective(trial):\n",
        "    kernel=trial.suggest_categorical('kernel',['rbf','poly','linear','sigmoid'])\n",
        "    c=trial.suggest_float(\"C\",0.1,3.0,log=True)\n",
        "    gamma=trial.suggest_categorical('gamma',['auto','scale'])\n",
        "    degree=trial.suggest_int(\"degree\",1,3,log=True)\n",
        "    model =SVR(kernel=kernel,degree=degree,gamma=gamma,C=c)\n",
        "    model.fit(X_train,y_train)\n",
        "    accuracy = model.score(X_test,y_test)\n",
        "    return accuracy"
      ],
      "execution_count": null,
      "outputs": []
    },
    {
      "cell_type": "code",
      "metadata": {
        "colab": {
          "base_uri": "https://localhost:8080/"
        },
        "id": "7eTeoOkG6X6Y",
        "outputId": "0d3c4814-274f-4d1d-e8e0-ecfd525f9391"
      },
      "source": [
        "#optuna study record\n",
        "study = op.create_study(direction=\"maximize\")\n",
        "study.optimize(objective, n_trials=20,n_jobs=-1)"
      ],
      "execution_count": null,
      "outputs": [
        {
          "metadata": {
            "tags": null
          },
          "name": "stderr",
          "output_type": "stream",
          "text": [
            "\u001b[32m[I 2022-04-01 04:59:26,470]\u001b[0m A new study created in memory with name: no-name-0f8953a2-09e5-495a-addd-3457634fb07e\u001b[0m\n",
            "\u001b[32m[I 2022-04-01 04:59:28,876]\u001b[0m Trial 1 finished with value: -0.033889012046907974 and parameters: {'kernel': 'sigmoid', 'C': 0.9323530683705877, 'gamma': 'auto', 'degree': 1}. Best is trial 1 with value: -0.033889012046907974.\u001b[0m\n",
            "\u001b[32m[I 2022-04-01 04:59:37,225]\u001b[0m Trial 2 finished with value: 0.92986037518757 and parameters: {'kernel': 'linear', 'C': 0.39578756023480366, 'gamma': 'scale', 'degree': 2}. Best is trial 2 with value: 0.92986037518757.\u001b[0m\n",
            "\u001b[32m[I 2022-04-01 04:59:39,656]\u001b[0m Trial 3 finished with value: -0.033889012046907974 and parameters: {'kernel': 'sigmoid', 'C': 0.8885150104183361, 'gamma': 'auto', 'degree': 1}. Best is trial 2 with value: 0.92986037518757.\u001b[0m\n",
            "\u001b[32m[I 2022-04-01 04:59:43,541]\u001b[0m Trial 4 finished with value: 0.9298981757594549 and parameters: {'kernel': 'poly', 'C': 0.2495024523902746, 'gamma': 'auto', 'degree': 1}. Best is trial 4 with value: 0.9298981757594549.\u001b[0m\n",
            "\u001b[32m[I 2022-04-01 04:59:46,258]\u001b[0m Trial 5 finished with value: 0.31864837712876615 and parameters: {'kernel': 'poly', 'C': 2.3217827207818185, 'gamma': 'scale', 'degree': 1}. Best is trial 4 with value: 0.9298981757594549.\u001b[0m\n",
            "\u001b[32m[I 2022-04-01 04:59:51,316]\u001b[0m Trial 6 finished with value: -0.03034507268283626 and parameters: {'kernel': 'sigmoid', 'C': 0.11255274243000585, 'gamma': 'scale', 'degree': 1}. Best is trial 4 with value: 0.9298981757594549.\u001b[0m\n",
            "\u001b[32m[I 2022-04-01 04:59:53,051]\u001b[0m Trial 0 finished with value: -21907.964512626462 and parameters: {'kernel': 'poly', 'C': 0.5300866994160652, 'gamma': 'auto', 'degree': 2}. Best is trial 4 with value: 0.9298981757594549.\u001b[0m\n",
            "\u001b[32m[I 2022-04-01 04:59:55,670]\u001b[0m Trial 7 finished with value: 0.002730551446823215 and parameters: {'kernel': 'rbf', 'C': 0.10191122853475977, 'gamma': 'scale', 'degree': 1}. Best is trial 4 with value: 0.9298981757594549.\u001b[0m\n",
            "\u001b[32m[I 2022-04-01 05:00:07,044]\u001b[0m Trial 9 finished with value: 0.9298862731135599 and parameters: {'kernel': 'linear', 'C': 0.6274531365885784, 'gamma': 'auto', 'degree': 2}. Best is trial 4 with value: 0.9298981757594549.\u001b[0m\n",
            "\u001b[32m[I 2022-04-01 05:00:09,766]\u001b[0m Trial 10 finished with value: 0.08741652230393304 and parameters: {'kernel': 'poly', 'C': 0.6985719416401992, 'gamma': 'scale', 'degree': 1}. Best is trial 4 with value: 0.9298981757594549.\u001b[0m\n",
            "\u001b[32m[I 2022-04-01 05:00:12,307]\u001b[0m Trial 8 finished with value: 0.9298770793998179 and parameters: {'kernel': 'linear', 'C': 1.842512113546131, 'gamma': 'auto', 'degree': 1}. Best is trial 4 with value: 0.9298981757594549.\u001b[0m\n",
            "\u001b[32m[I 2022-04-01 05:00:14,327]\u001b[0m Trial 11 finished with value: 0.06365019176811038 and parameters: {'kernel': 'rbf', 'C': 0.22886098130082097, 'gamma': 'auto', 'degree': 3}. Best is trial 4 with value: 0.9298981757594549.\u001b[0m\n",
            "\u001b[32m[I 2022-04-01 05:00:19,020]\u001b[0m Trial 12 finished with value: 0.9299031944539519 and parameters: {'kernel': 'linear', 'C': 0.26328041423794135, 'gamma': 'auto', 'degree': 3}. Best is trial 12 with value: 0.9299031944539519.\u001b[0m\n",
            "\u001b[32m[I 2022-04-01 05:00:20,462]\u001b[0m Trial 13 finished with value: 0.9299240740137319 and parameters: {'kernel': 'linear', 'C': 0.24973546039768105, 'gamma': 'auto', 'degree': 2}. Best is trial 13 with value: 0.9299240740137319.\u001b[0m\n"
          ]
        }
      ]
    },
    {
      "cell_type": "markdown",
      "metadata": {
        "id": "VUoYgzwrtA9w"
      },
      "source": [
        "### Best result\n",
        "\n"
      ]
    },
    {
      "cell_type": "code",
      "metadata": {
        "colab": {
          "base_uri": "https://localhost:8080/"
        },
        "id": "cHI5g8O-6YE0",
        "outputId": "3abbd733-3593-4c94-a349-a1f53964dfc8"
      },
      "source": [
        "trial=study.best_trial\n",
        "print(\"Best Tuning Parameters : {} \\n with accuracy of : {:.2f} %\".format(trial.params,trial.value))"
      ],
      "execution_count": null,
      "outputs": [
        {
          "output_type": "stream",
          "text": [
            "Best Tuning Parameters : {'kernel': 'linear', 'C': 0.10540821019812002, 'gamma': 'auto', 'degree': 1} \n",
            " with accuracy of : 0.92 %\n"
          ],
          "name": "stdout"
        }
      ]
    },
    {
      "cell_type": "markdown",
      "metadata": {
        "id": "BkQBHSpoW0xZ"
      },
      "source": [
        "### tuning Model\n",
        "\n",
        "now we will use the obtained best parameter from the Optuna operation for fitting the model."
      ]
    },
    {
      "cell_type": "code",
      "metadata": {
        "colab": {
          "base_uri": "https://localhost:8080/"
        },
        "id": "uPvpbSuqHI9y",
        "outputId": "b5452eac-a537-460e-ac8c-d92d5e286065"
      },
      "source": [
        "#model with the return parameters\n",
        "model_tunned=SVR(kernel='linear',\n",
        "                C= 0.10540821019812002,\n",
        "                gamma='auto',\n",
        "                degree=1)\n",
        "model_tunned.fit(X_train,y_train)"
      ],
      "execution_count": null,
      "outputs": [
        {
          "output_type": "execute_result",
          "data": {
            "text/plain": [
              "SVR(C=0.10540821019812002, cache_size=200, coef0=0.0, degree=1, epsilon=0.1,\n",
              "    gamma='auto', kernel='linear', max_iter=-1, shrinking=True, tol=0.001,\n",
              "    verbose=False)"
            ]
          },
          "metadata": {
            "tags": []
          },
          "execution_count": 17
        }
      ]
    },
    {
      "cell_type": "markdown",
      "metadata": {
        "id": "Gu5tsXuXtcPK"
      },
      "source": [
        "### Accuracy\n"
      ]
    },
    {
      "cell_type": "code",
      "metadata": {
        "colab": {
          "base_uri": "https://localhost:8080/"
        },
        "id": "wlKBVlFxtYhb",
        "outputId": "5ea36662-ccd9-4ff0-b68d-71ba04f8db6b"
      },
      "source": [
        "print(model_tunned.score(X_test,y_test))"
      ],
      "execution_count": null,
      "outputs": [
        {
          "output_type": "stream",
          "text": [
            "0.9223965517337869\n"
          ],
          "name": "stdout"
        }
      ]
    },
    {
      "cell_type": "markdown",
      "metadata": {
        "id": "Ebf9x768W4Mr"
      },
      "source": [
        "### Study Plot of Optuna\n",
        "\n",
        "The visualization module of optuna provides utility for plotting the optimization process using plotly and matplotlib. Plotting functions generally take a Study object and optional parameters are passed as a list to the params argument."
      ]
    },
    {
      "cell_type": "code",
      "metadata": {
        "colab": {
          "base_uri": "https://localhost:8080/",
          "height": 316
        },
        "id": "8ER4fth5TrB3",
        "outputId": "897a0632-c3b4-46d0-c42a-71c7d0641307"
      },
      "source": [
        "op.visualization.matplotlib.plot_optimization_history(study)"
      ],
      "execution_count": null,
      "outputs": [
        {
          "output_type": "execute_result",
          "data": {
            "text/plain": [
              "<matplotlib.axes._subplots.AxesSubplot at 0x7f28afafc950>"
            ]
          },
          "metadata": {
            "tags": []
          },
          "execution_count": 16
        },
        {
          "output_type": "display_data",
          "data": {
            "image/png": "[encoded data removed]",
            "text/plain": [
              "<Figure size 432x288 with 1 Axes>"
            ]
          },
          "metadata": {
            "tags": []
          }
        }
      ]
    },
    {
      "cell_type": "markdown",
      "metadata": {
        "id": "CPO0G2ysyQID"
      },
      "source": [
        "Plot optimization history of all trials in a study.\n",
        "\n",
        "The line plot indicates the best accuracy in complete trial run amongst all and  blue indicates individual trial accuracy."
      ]
    },
    {
      "cell_type": "markdown",
      "metadata": {
        "id": "NyCVdWqPNIfQ"
      },
      "source": [
        "## References:\n",
        "\n",
        "* [Optuna: A hyperparameter optimization framework](https://optuna.readthedocs.io/en/stable/)\n",
        "\n",
        "* [GitHub - optuna](https://github.com/optuna/optuna)"
      ]
    }
  ]
}