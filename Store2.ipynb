{
  "nbformat": 4,
  "nbformat_minor": 0,
  "metadata": {
    "colab": {
      "name": "Store.ipynb",
      "provenance": [],
      "authorship_tag": "ABX9TyPiSI+C0J00X/2D0ZmA4LCv",
      "include_colab_link": true
    },
    "kernelspec": {
      "name": "python3",
      "display_name": "Python 3"
    },
    "language_info": {
      "name": "python"
    }
  },
  "cells": [
    {
      "cell_type": "markdown",
      "metadata": {
        "id": "view-in-github",
        "colab_type": "text"
      },
      "source": [
        "<a href=\"https://colab.research.google.com/github/ogut77/DataScience/blob/main/Store2.ipynb\" target=\"_parent\"><img src=\"https://colab.research.google.com/assets/colab-badge.svg\" alt=\"Open In Colab\"/></a>"
      ]
    },
    {
      "cell_type": "code",
      "source": [
        "pip install --upgrade --no-deps statsmodels"
      ],
      "metadata": {
        "id": "BehTpmr16vni",
        "outputId": "ad15f1e9-8321-435f-8dd3-393b74f10693",
        "colab": {
          "base_uri": "https://localhost:8080/",
          "height": 277
        }
      },
      "execution_count": 4,
      "outputs": [
        {
          "output_type": "stream",
          "name": "stdout",
          "text": [
            "Requirement already satisfied: statsmodels in /usr/local/lib/python3.7/dist-packages (0.10.2)\n",
            "Collecting statsmodels\n",
            "  Downloading statsmodels-0.13.2-cp37-cp37m-manylinux_2_17_x86_64.manylinux2014_x86_64.whl (9.8 MB)\n",
            "\u001b[K     |████████████████████████████████| 9.8 MB 18.3 MB/s \n",
            "\u001b[?25hInstalling collected packages: statsmodels\n",
            "  Attempting uninstall: statsmodels\n",
            "    Found existing installation: statsmodels 0.10.2\n",
            "    Uninstalling statsmodels-0.10.2:\n",
            "      Successfully uninstalled statsmodels-0.10.2\n",
            "Successfully installed statsmodels-0.13.2\n"
          ]
        },
        {
          "output_type": "display_data",
          "data": {
            "application/vnd.colab-display-data+json": {
              "pip_warning": {
                "packages": [
                  "statsmodels"
                ]
              }
            }
          },
          "metadata": {}
        }
      ]
    },
    {
      "cell_type": "code",
      "execution_count": 19,
      "metadata": {
        "id": "fB4ZqltwrpQn"
      },
      "outputs": [],
      "source": [
        "import pandas as pd\n",
        "df = pd.read_csv('https://raw.githubusercontent.com/ogut77/DataScience/main/data/kaggle_sales.csv')\n",
        "df = df[(df['store'] == 1) & (df['item'] == 1)] # item 1 in store 1\n",
        "df = df.set_index('date')\n",
        "\n",
        "y = pd.DataFrame(df['sales'])\n",
        "y.index.freq='D'\n",
        "train = y[:-365]\n",
        "test = y[-365:] # last year for testing\n"
      ]
    },
    {
      "cell_type": "code",
      "source": [
        "test"
      ],
      "metadata": {
        "id": "wv-F186x7v2i",
        "outputId": "0cb3555b-7d07-4ea1-96e0-412357e8de51",
        "colab": {
          "base_uri": "https://localhost:8080/",
          "height": 455
        }
      },
      "execution_count": 7,
      "outputs": [
        {
          "output_type": "execute_result",
          "data": {
            "text/plain": [
              "            sales\n",
              "date             \n",
              "1/1/2017       19\n",
              "1/2/2017       15\n",
              "1/3/2017       10\n",
              "1/4/2017       16\n",
              "1/5/2017       14\n",
              "...           ...\n",
              "12/27/2017     14\n",
              "12/28/2017     19\n",
              "12/29/2017     15\n",
              "12/30/2017     27\n",
              "12/31/2017     23\n",
              "\n",
              "[365 rows x 1 columns]"
            ],
            "text/html": [
              "\n",
              "  <div id=\"df-bfe7d7a5-9931-4fbe-b158-1d87241883cb\">\n",
              "    <div class=\"colab-df-container\">\n",
              "      <div>\n",
              "<style scoped>\n",
              "    .dataframe tbody tr th:only-of-type {\n",
              "        vertical-align: middle;\n",
              "    }\n",
              "\n",
              "    .dataframe tbody tr th {\n",
              "        vertical-align: top;\n",
              "    }\n",
              "\n",
              "    .dataframe thead th {\n",
              "        text-align: right;\n",
              "    }\n",
              "</style>\n",
              "<table border=\"1\" class=\"dataframe\">\n",
              "  <thead>\n",
              "    <tr style=\"text-align: right;\">\n",
              "      <th></th>\n",
              "      <th>sales</th>\n",
              "    </tr>\n",
              "    <tr>\n",
              "      <th>date</th>\n",
              "      <th></th>\n",
              "    </tr>\n",
              "  </thead>\n",
              "  <tbody>\n",
              "    <tr>\n",
              "      <th>1/1/2017</th>\n",
              "      <td>19</td>\n",
              "    </tr>\n",
              "    <tr>\n",
              "      <th>1/2/2017</th>\n",
              "      <td>15</td>\n",
              "    </tr>\n",
              "    <tr>\n",
              "      <th>1/3/2017</th>\n",
              "      <td>10</td>\n",
              "    </tr>\n",
              "    <tr>\n",
              "      <th>1/4/2017</th>\n",
              "      <td>16</td>\n",
              "    </tr>\n",
              "    <tr>\n",
              "      <th>1/5/2017</th>\n",
              "      <td>14</td>\n",
              "    </tr>\n",
              "    <tr>\n",
              "      <th>...</th>\n",
              "      <td>...</td>\n",
              "    </tr>\n",
              "    <tr>\n",
              "      <th>12/27/2017</th>\n",
              "      <td>14</td>\n",
              "    </tr>\n",
              "    <tr>\n",
              "      <th>12/28/2017</th>\n",
              "      <td>19</td>\n",
              "    </tr>\n",
              "    <tr>\n",
              "      <th>12/29/2017</th>\n",
              "      <td>15</td>\n",
              "    </tr>\n",
              "    <tr>\n",
              "      <th>12/30/2017</th>\n",
              "      <td>27</td>\n",
              "    </tr>\n",
              "    <tr>\n",
              "      <th>12/31/2017</th>\n",
              "      <td>23</td>\n",
              "    </tr>\n",
              "  </tbody>\n",
              "</table>\n",
              "<p>365 rows × 1 columns</p>\n",
              "</div>\n",
              "      <button class=\"colab-df-convert\" onclick=\"convertToInteractive('df-bfe7d7a5-9931-4fbe-b158-1d87241883cb')\"\n",
              "              title=\"Convert this dataframe to an interactive table.\"\n",
              "              style=\"display:none;\">\n",
              "        \n",
              "  <svg xmlns=\"http://www.w3.org/2000/svg\" height=\"24px\"viewBox=\"0 0 24 24\"\n",
              "       width=\"24px\">\n",
              "    <path d=\"M0 0h24v24H0V0z\" fill=\"none\"/>\n",
              "    <path d=\"M18.56 5.44l.94 2.06.94-2.06 2.06-.94-2.06-.94-.94-2.06-.94 2.06-2.06.94zm-11 1L8.5 8.5l.94-2.06 2.06-.94-2.06-.94L8.5 2.5l-.94 2.06-2.06.94zm10 10l.94 2.06.94-2.06 2.06-.94-2.06-.94-.94-2.06-.94 2.06-2.06.94z\"/><path d=\"M17.41 7.96l-1.37-1.37c-.4-.4-.92-.59-1.43-.59-.52 0-1.04.2-1.43.59L10.3 9.45l-7.72 7.72c-.78.78-.78 2.05 0 2.83L4 21.41c.39.39.9.59 1.41.59.51 0 1.02-.2 1.41-.59l7.78-7.78 2.81-2.81c.8-.78.8-2.07 0-2.86zM5.41 20L4 18.59l7.72-7.72 1.47 1.35L5.41 20z\"/>\n",
              "  </svg>\n",
              "      </button>\n",
              "      \n",
              "  <style>\n",
              "    .colab-df-container {\n",
              "      display:flex;\n",
              "      flex-wrap:wrap;\n",
              "      gap: 12px;\n",
              "    }\n",
              "\n",
              "    .colab-df-convert {\n",
              "      background-color: #E8F0FE;\n",
              "      border: none;\n",
              "      border-radius: 50%;\n",
              "      cursor: pointer;\n",
              "      display: none;\n",
              "      fill: #1967D2;\n",
              "      height: 32px;\n",
              "      padding: 0 0 0 0;\n",
              "      width: 32px;\n",
              "    }\n",
              "\n",
              "    .colab-df-convert:hover {\n",
              "      background-color: #E2EBFA;\n",
              "      box-shadow: 0px 1px 2px rgba(60, 64, 67, 0.3), 0px 1px 3px 1px rgba(60, 64, 67, 0.15);\n",
              "      fill: #174EA6;\n",
              "    }\n",
              "\n",
              "    [theme=dark] .colab-df-convert {\n",
              "      background-color: #3B4455;\n",
              "      fill: #D2E3FC;\n",
              "    }\n",
              "\n",
              "    [theme=dark] .colab-df-convert:hover {\n",
              "      background-color: #434B5C;\n",
              "      box-shadow: 0px 1px 3px 1px rgba(0, 0, 0, 0.15);\n",
              "      filter: drop-shadow(0px 1px 2px rgba(0, 0, 0, 0.3));\n",
              "      fill: #FFFFFF;\n",
              "    }\n",
              "  </style>\n",
              "\n",
              "      <script>\n",
              "        const buttonEl =\n",
              "          document.querySelector('#df-bfe7d7a5-9931-4fbe-b158-1d87241883cb button.colab-df-convert');\n",
              "        buttonEl.style.display =\n",
              "          google.colab.kernel.accessAllowed ? 'block' : 'none';\n",
              "\n",
              "        async function convertToInteractive(key) {\n",
              "          const element = document.querySelector('#df-bfe7d7a5-9931-4fbe-b158-1d87241883cb');\n",
              "          const dataTable =\n",
              "            await google.colab.kernel.invokeFunction('convertToInteractive',\n",
              "                                                     [key], {});\n",
              "          if (!dataTable) return;\n",
              "\n",
              "          const docLinkHtml = 'Like what you see? Visit the ' +\n",
              "            '<a target=\"_blank\" href=https://colab.research.google.com/notebooks/data_table.ipynb>data table notebook</a>'\n",
              "            + ' to learn more about interactive tables.';\n",
              "          element.innerHTML = '';\n",
              "          dataTable['output_type'] = 'display_data';\n",
              "          await google.colab.output.renderOutput(dataTable, element);\n",
              "          const docLink = document.createElement('div');\n",
              "          docLink.innerHTML = docLinkHtml;\n",
              "          element.appendChild(docLink);\n",
              "        }\n",
              "      </script>\n",
              "    </div>\n",
              "  </div>\n",
              "  "
            ]
          },
          "metadata": {},
          "execution_count": 7
        }
      ]
    },
    {
      "cell_type": "code",
      "source": [
        "from matplotlib import pyplot as plt\n",
        "plt.xticks( rotation='vertical')\n",
        "plt.plot(train.index,train, label='TRAIN')\n",
        "plt.plot(test.index,test, label='TEST')\n",
        "plt.legend(loc=\"upper left\")\n",
        "plt.show()"
      ],
      "metadata": {
        "colab": {
          "base_uri": "https://localhost:8080/",
          "height": 313
        },
        "id": "oh5xB6iFwnnZ",
        "outputId": "fef8fae3-cd0d-4eee-a73a-bb9e0d952077"
      },
      "execution_count": 5,
      "outputs": [
        {
          "output_type": "display_data",
          "data": {
            "text/plain": [
              "<Figure size 432x288 with 1 Axes>"
            ],
            "image/png": "[encoded data removed]"
          },
          "metadata": {
            "needs_background": "light"
          }
        }
      ]
    },
    {
      "cell_type": "code",
      "source": [
        "!pip install tbats"
      ],
      "metadata": {
        "colab": {
          "base_uri": "https://localhost:8080/"
        },
        "id": "jJbMN9Qk02IG",
        "outputId": "f4697db5-06f2-4469-ca66-d9f363e19d9f"
      },
      "execution_count": null,
      "outputs": [
        {
          "output_type": "stream",
          "name": "stdout",
          "text": [
            "Collecting tbats\n",
            "  Downloading tbats-1.1.0-py3-none-any.whl (43 kB)\n",
            "\u001b[?25l\r\u001b[K     |███████▌                        | 10 kB 17.4 MB/s eta 0:00:01\r\u001b[K     |███████████████                 | 20 kB 8.4 MB/s eta 0:00:01\r\u001b[K     |██████████████████████▍         | 30 kB 4.9 MB/s eta 0:00:01\r\u001b[K     |██████████████████████████████  | 40 kB 4.5 MB/s eta 0:00:01\r\u001b[K     |████████████████████████████████| 43 kB 920 kB/s \n",
            "\u001b[?25hRequirement already satisfied: numpy in /usr/local/lib/python3.7/dist-packages (from tbats) (1.21.6)\n",
            "Requirement already satisfied: scikit-learn in /usr/local/lib/python3.7/dist-packages (from tbats) (1.0.2)\n",
            "Requirement already satisfied: scipy in /usr/local/lib/python3.7/dist-packages (from tbats) (1.4.1)\n",
            "Collecting pmdarima\n",
            "  Downloading pmdarima-1.8.5-cp37-cp37m-manylinux_2_17_x86_64.manylinux2014_x86_64.manylinux_2_24_x86_64.whl (1.4 MB)\n",
            "\u001b[K     |████████████████████████████████| 1.4 MB 6.9 MB/s \n",
            "\u001b[?25hRequirement already satisfied: urllib3 in /usr/local/lib/python3.7/dist-packages (from pmdarima->tbats) (1.24.3)\n",
            "Requirement already satisfied: pandas>=0.19 in /usr/local/lib/python3.7/dist-packages (from pmdarima->tbats) (1.3.5)\n",
            "Collecting statsmodels!=0.12.0,>=0.11\n",
            "  Downloading statsmodels-0.13.2-cp37-cp37m-manylinux_2_17_x86_64.manylinux2014_x86_64.whl (9.8 MB)\n",
            "\u001b[K     |████████████████████████████████| 9.8 MB 46.1 MB/s \n",
            "\u001b[?25hRequirement already satisfied: joblib>=0.11 in /usr/local/lib/python3.7/dist-packages (from pmdarima->tbats) (1.1.0)\n",
            "Requirement already satisfied: setuptools!=50.0.0,>=38.6.0 in /usr/local/lib/python3.7/dist-packages (from pmdarima->tbats) (57.4.0)\n",
            "Requirement already satisfied: Cython!=0.29.18,>=0.29 in /usr/local/lib/python3.7/dist-packages (from pmdarima->tbats) (0.29.28)\n",
            "Requirement already satisfied: python-dateutil>=2.7.3 in /usr/local/lib/python3.7/dist-packages (from pandas>=0.19->pmdarima->tbats) (2.8.2)\n",
            "Requirement already satisfied: pytz>=2017.3 in /usr/local/lib/python3.7/dist-packages (from pandas>=0.19->pmdarima->tbats) (2022.1)\n",
            "Requirement already satisfied: six>=1.5 in /usr/local/lib/python3.7/dist-packages (from python-dateutil>=2.7.3->pandas>=0.19->pmdarima->tbats) (1.15.0)\n",
            "Requirement already satisfied: threadpoolctl>=2.0.0 in /usr/local/lib/python3.7/dist-packages (from scikit-learn->tbats) (3.1.0)\n",
            "Requirement already satisfied: patsy>=0.5.2 in /usr/local/lib/python3.7/dist-packages (from statsmodels!=0.12.0,>=0.11->pmdarima->tbats) (0.5.2)\n",
            "Requirement already satisfied: packaging>=21.3 in /usr/local/lib/python3.7/dist-packages (from statsmodels!=0.12.0,>=0.11->pmdarima->tbats) (21.3)\n",
            "Requirement already satisfied: pyparsing!=3.0.5,>=2.0.2 in /usr/local/lib/python3.7/dist-packages (from packaging>=21.3->statsmodels!=0.12.0,>=0.11->pmdarima->tbats) (3.0.8)\n",
            "Installing collected packages: statsmodels, pmdarima, tbats\n",
            "  Attempting uninstall: statsmodels\n",
            "    Found existing installation: statsmodels 0.10.2\n",
            "    Uninstalling statsmodels-0.10.2:\n",
            "      Successfully uninstalled statsmodels-0.10.2\n",
            "Successfully installed pmdarima-1.8.5 statsmodels-0.13.2 tbats-1.1.0\n"
          ]
        }
      ]
    },
    {
      "cell_type": "code",
      "source": [
        "from tbats import TBATS, BATS# Fit the model\n",
        "estimator = TBATS(seasonal_periods=(7, 365.25))\n",
        "model = estimator.fit(train)# Forecast 365 days ahead\n",
        "y_forecast = model.forecast(steps=365)"
      ],
      "metadata": {
        "id": "xZ6a0h9Wyvbu"
      },
      "execution_count": null,
      "outputs": []
    },
    {
      "cell_type": "code",
      "source": [
        "y_forecast = model.forecast(steps=365)\n",
        "\n",
        "test_predictions=pd.DataFrame(y_forecast)\n",
        "test_predictions.columns=['sales']\n"
      ],
      "metadata": {
        "id": "N_lgFDvzvP2s"
      },
      "execution_count": null,
      "outputs": []
    },
    {
      "cell_type": "code",
      "source": [
        "from sklearn.metrics import mean_absolute_error,mean_squared_error\n",
        "print(f'Mean Absolute Error = {mean_absolute_error(test,y_forecast)}')\n",
        "print(f'Mean Squared Error = {mean_squared_error(test,y_forecast)}')\n",
        "import numpy as np\n",
        "def mape(actual,pred):\n",
        "    return np.mean(np.abs((actual - pred) / actual)) * 100  \n",
        "print(f'Mean Absolute Percentage Error = {mape(np.array(test),np.array(y_forecast) )}')"
      ],
      "metadata": {
        "colab": {
          "base_uri": "https://localhost:8080/"
        },
        "id": "LBUaYkgvxBpN",
        "outputId": "32860ec5-42c2-4f14-8ad9-9199a2f63f79"
      },
      "execution_count": null,
      "outputs": [
        {
          "output_type": "stream",
          "name": "stdout",
          "text": [
            "Mean Absolute Error = 3.8577289832270028\n",
            "Mean Squared Error = 23.637445028684905\n",
            "Mean Absolute Percentage Error = 35.497625473230976\n"
          ]
        }
      ]
    },
    {
      "cell_type": "code",
      "source": [
        "from matplotlib import pyplot as plt\n",
        "plt.plot(train,label='TRAIN')\n",
        "plt.plot(test,label='TEST')\n",
        "ni=test.index\n",
        "test_predictions=test_predictions.set_index(ni)\n",
        "plt.plot(test_predictions,label='FORECAST')\n",
        "plt.legend(loc=\"upper left\")\n",
        "plt.title('Train, Test and Predicted Test using TBATS ')"
      ],
      "metadata": {
        "id": "J7n-lOa3sSd0",
        "outputId": "0803c06b-36da-47e3-d85f-6ff9ca50515d",
        "colab": {
          "base_uri": "https://localhost:8080/",
          "height": 298
        }
      },
      "execution_count": null,
      "outputs": [
        {
          "output_type": "execute_result",
          "data": {
            "text/plain": [
              "Text(0.5, 1.0, 'Train, Test and Predicted Test using TBATS ')"
            ]
          },
          "metadata": {},
          "execution_count": 25
        },
        {
          "output_type": "display_data",
          "data": {
            "text/plain": [
              "<Figure size 432x288 with 1 Axes>"
            ],
            "image/png": "[encoded data removed]"
          },
          "metadata": {
            "needs_background": "light"
          }
        }
      ]
    },
    {
      "cell_type": "markdown",
      "source": [
        "Holt Winters"
      ],
      "metadata": {
        "id": "9-KwA9wexUIf"
      }
    },
    {
      "cell_type": "code",
      "source": [
        "\n",
        "from statsmodels.tsa.holtwinters import ExponentialSmoothing\n",
        "fitted_model = ExponentialSmoothing(train,trend='mul',seasonal='mul',seasonal_periods=365).fit()\n",
        "test_predictions = fitted_model.forecast(365).rename('sales')\n"
      ],
      "metadata": {
        "colab": {
          "base_uri": "https://localhost:8080/"
        },
        "id": "rLkrgaR4xW9o",
        "outputId": "7de34cb3-8df9-428c-9a79-687749039503"
      },
      "execution_count": 8,
      "outputs": [
        {
          "output_type": "stream",
          "name": "stderr",
          "text": [
            "/usr/local/lib/python3.7/dist-packages/statsmodels/tsa/base/tsa_model.py:471: ValueWarning: No frequency information was provided, so inferred frequency D will be used.\n",
            "  self._init_dates(dates, freq)\n"
          ]
        }
      ]
    },
    {
      "cell_type": "code",
      "source": [
        "#Evaluate forecasting Performance\n",
        "from sklearn.metrics import mean_absolute_error,mean_squared_error\n",
        "print(f'Mean Absolute Error = {mean_absolute_error(test,test_predictions)}')\n",
        "print(f'Mean Squared Error = {mean_squared_error(test,test_predictions)}')\n",
        "import numpy as np\n",
        "def mape(actual,pred):\n",
        "    return np.mean(np.abs((actual - pred) / actual)) * 100  \n",
        "print(f'Mean Absolute Percentage Error = {mape(np.array(test),np.array(test_predictions) )}')"
      ],
      "metadata": {
        "colab": {
          "base_uri": "https://localhost:8080/"
        },
        "id": "oM6NSczGzpXi",
        "outputId": "016583d0-89a1-4b5a-f090-6d3ce0a0422d"
      },
      "execution_count": 9,
      "outputs": [
        {
          "output_type": "stream",
          "name": "stdout",
          "text": [
            "Mean Absolute Error = 5.859391287582682\n",
            "Mean Squared Error = 56.80871732224168\n",
            "Mean Absolute Percentage Error = 41.26774435015866\n"
          ]
        }
      ]
    },
    {
      "cell_type": "code",
      "source": [
        "plt.plot(train,label='TRAIN')\n",
        "plt.plot(test,label='TEST')\n",
        "test_predictions=pd.DataFrame(test_predictions)\n",
        "ni=test.index\n",
        "test_predictions=test_predictions.set_index(ni)\n",
        "plt.plot(test_predictions,label='PREDICTION')\n",
        "plt.legend(loc=\"upper left\")\n",
        "plt.title('Train, Test and Predicted Test using Holt Winters')"
      ],
      "metadata": {
        "colab": {
          "base_uri": "https://localhost:8080/",
          "height": 298
        },
        "id": "-8YNPFQh75iv",
        "outputId": "79facc24-8586-408e-dd86-7d72508959b8"
      },
      "execution_count": 10,
      "outputs": [
        {
          "output_type": "execute_result",
          "data": {
            "text/plain": [
              "Text(0.5, 1.0, 'Train, Test and Predicted Test using Holt Winters')"
            ]
          },
          "metadata": {},
          "execution_count": 10
        },
        {
          "output_type": "display_data",
          "data": {
            "text/plain": [
              "<Figure size 432x288 with 1 Axes>"
            ],
            "image/png": "[encoded data removed]"
          },
          "metadata": {
            "needs_background": "light"
          }
        }
      ]
    },
    {
      "cell_type": "markdown",
      "source": [
        "# ETS"
      ],
      "metadata": {
        "id": "pqbphmJN6Acr"
      }
    },
    {
      "cell_type": "markdown",
      "source": [
        "Damped-False"
      ],
      "metadata": {
        "id": "hxm2-uIgBmZu"
      }
    },
    {
      "cell_type": "code",
      "source": [
        "from statsmodels.tsa.exponential_smoothing.ets import ETSModel\n",
        "from sklearn.metrics import mean_absolute_error,mean_squared_error\n",
        "test_predictions=ETSModel(train['sales'],error='add', trend='add',seasonal='add',damped_trend=False, seasonal_periods=365).fit().forecast(365)\n",
        "print(f'Mean Absolute Error = {mean_absolute_error(test,test_predictions)}')\n",
        "mse=mean_squared_error(test,test_predictions)\n",
        "rmse=np.sqrt(mse)\n",
        "print(f'Mean Squared Error = {mse}')\n",
        "print(f'Root Mean Squared Error = {rmse}')\n",
        "import numpy as np\n",
        "def mape(actual,pred):\n",
        "            return np.mean(np.abs((actual - pred) / actual)) * 100  \n",
        "print(f'Mean Absolute Percentage Error = {mape(np.array(test),np.array(test_predictions) )}')"
      ],
      "metadata": {
        "id": "yuZCzFy06EAp",
        "outputId": "843c2376-4fab-43b7-cdd5-d7d4ba5ef291",
        "colab": {
          "base_uri": "https://localhost:8080/"
        }
      },
      "execution_count": 11,
      "outputs": [
        {
          "output_type": "stream",
          "name": "stderr",
          "text": [
            "/usr/local/lib/python3.7/dist-packages/statsmodels/tsa/base/tsa_model.py:471: ValueWarning: No frequency information was provided, so inferred frequency D will be used.\n",
            "  self._init_dates(dates, freq)\n",
            "/usr/local/lib/python3.7/dist-packages/statsmodels/base/model.py:606: ConvergenceWarning: Maximum Likelihood optimization failed to converge. Check mle_retvals\n",
            "  ConvergenceWarning)\n"
          ]
        },
        {
          "output_type": "stream",
          "name": "stdout",
          "text": [
            "Mean Absolute Error = 5.739792382732128\n",
            "Mean Squared Error = 52.05230966552013\n",
            "Root Mean Squared Error = 7.21472866194704\n",
            "Mean Absolute Percentage Error = 40.65177417815756\n"
          ]
        }
      ]
    },
    {
      "cell_type": "markdown",
      "source": [
        "Damped-True"
      ],
      "metadata": {
        "id": "m1DdwkyPBt3z"
      }
    },
    {
      "cell_type": "code",
      "source": [
        "from statsmodels.tsa.exponential_smoothing.ets import ETSModel\n",
        "from sklearn.metrics import mean_absolute_error,mean_squared_error\n",
        "test_predictions=ETSModel(train['sales'],error='add', trend='add',seasonal='add',damped_trend=True, seasonal_periods=365).fit().forecast(365)\n",
        "print(f'Mean Absolute Error = {mean_absolute_error(test,test_predictions)}')\n",
        "mse=mean_squared_error(test,test_predictions)\n",
        "rmse=np.sqrt(mse)\n",
        "print(f'Mean Squared Error = {mse}')\n",
        "print(f'Root Mean Squared Error = {rmse}')\n",
        "import numpy as np\n",
        "def mape(actual,pred):\n",
        "            return np.mean(np.abs((actual - pred) / actual)) * 100  \n",
        "print(f'Mean Absolute Percentage Error = {mape(np.array(test),np.array(test_predictions) )}')"
      ],
      "metadata": {
        "id": "3eW4RP_o9qZH",
        "outputId": "b4695db0-354f-430f-bf21-1d1632c31aa8",
        "colab": {
          "base_uri": "https://localhost:8080/"
        }
      },
      "execution_count": 12,
      "outputs": [
        {
          "metadata": {
            "tags": null
          },
          "name": "stderr",
          "output_type": "stream",
          "text": [
            "/usr/local/lib/python3.7/dist-packages/statsmodels/tsa/base/tsa_model.py:471: ValueWarning: No frequency information was provided, so inferred frequency D will be used.\n",
            "  self._init_dates(dates, freq)\n",
            "/usr/local/lib/python3.7/dist-packages/statsmodels/base/model.py:606: ConvergenceWarning: Maximum Likelihood optimization failed to converge. Check mle_retvals\n",
            "  ConvergenceWarning)\n"
          ]
        },
        {
          "output_type": "stream",
          "name": "stdout",
          "text": [
            "Mean Absolute Error = 5.518961517788971\n",
            "Mean Squared Error = 48.52526284540688\n",
            "Root Mean Squared Error = 6.966007669060297\n",
            "Mean Absolute Percentage Error = 36.591426512466505\n"
          ]
        }
      ]
    }
  ]
}