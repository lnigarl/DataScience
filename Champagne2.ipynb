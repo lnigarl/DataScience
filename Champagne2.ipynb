{
  "nbformat": 4,
  "nbformat_minor": 0,
  "metadata": {
    "colab": {
      "name": "Champagne.ipynb",
      "provenance": [],
      "authorship_tag": "ABX9TyMWCvlSyjZH1YhhrjWarlEO",
      "include_colab_link": true
    },
    "kernelspec": {
      "name": "python3",
      "display_name": "Python 3"
    },
    "language_info": {
      "name": "python"
    }
  },
  "cells": [
    {
      "cell_type": "markdown",
      "metadata": {
        "id": "view-in-github",
        "colab_type": "text"
      },
      "source": [
        "<a href=\"https://colab.research.google.com/github/ogut77/DataScience/blob/main/Champagne2.ipynb\" target=\"_parent\"><img src=\"https://colab.research.google.com/assets/colab-badge.svg\" alt=\"Open In Colab\"/></a>"
      ]
    },
    {
      "cell_type": "code",
      "source": [
        "pip install --upgrade --no-deps statsmodels"
      ],
      "metadata": {
        "colab": {
          "base_uri": "https://localhost:8080/"
        },
        "id": "E5qIytlLz3th",
        "outputId": "99d1139a-ff9f-4a17-a4ff-ae0fb390e7ec"
      },
      "execution_count": 3,
      "outputs": [
        {
          "output_type": "stream",
          "name": "stdout",
          "text": [
            "Requirement already satisfied: statsmodels in /usr/local/lib/python3.7/dist-packages (0.10.2)\n",
            "Collecting statsmodels\n",
            "  Downloading statsmodels-0.13.2-cp37-cp37m-manylinux_2_17_x86_64.manylinux2014_x86_64.whl (9.8 MB)\n",
            "\u001b[K     |████████████████████████████████| 9.8 MB 4.3 MB/s \n",
            "\u001b[?25hInstalling collected packages: statsmodels\n",
            "  Attempting uninstall: statsmodels\n",
            "    Found existing installation: statsmodels 0.10.2\n",
            "    Uninstalling statsmodels-0.10.2:\n",
            "      Successfully uninstalled statsmodels-0.10.2\n",
            "Successfully installed statsmodels-0.13.2\n"
          ]
        }
      ]
    },
    {
      "cell_type": "code",
      "execution_count": 1,
      "metadata": {
        "colab": {
          "base_uri": "https://localhost:8080/",
          "height": 470
        },
        "id": "8ZMcZgJCapE0",
        "outputId": "7fb8b490-6417-4716-f55b-0a2346b09498"
      },
      "outputs": [
        {
          "output_type": "stream",
          "name": "stdout",
          "text": [
            "--2022-05-06 03:09:53--  https://raw.githubusercontent.com/jbrownlee/Datasets/master/monthly_champagne_sales.csv\n",
            "Resolving raw.githubusercontent.com (raw.githubusercontent.com)... 185.199.111.133, 185.199.110.133, 185.199.109.133, ...\n",
            "Connecting to raw.githubusercontent.com (raw.githubusercontent.com)|185.199.111.133|:443... connected.\n",
            "HTTP request sent, awaiting response... 200 OK\n",
            "Length: 1596 (1.6K) [text/plain]\n",
            "Saving to: ‘monthly_champagne_sales.csv’\n",
            "\n",
            "monthly_champagne_s 100%[===================>]   1.56K  --.-KB/s    in 0s      \n",
            "\n",
            "2022-05-06 03:09:53 (27.4 MB/s) - ‘monthly_champagne_sales.csv’ saved [1596/1596]\n",
            "\n"
          ]
        },
        {
          "output_type": "display_data",
          "data": {
            "text/plain": [
              "<Figure size 432x288 with 1 Axes>"
            ],
            "image/png": "[encoded data removed]"
          },
          "metadata": {
            "needs_background": "light"
          }
        }
      ],
      "source": [
        "# load and plot the car sales dataset\n",
        "!wget https://raw.githubusercontent.com/jbrownlee/Datasets/master/monthly_champagne_sales.csv\n",
        "from pandas import read_csv\n",
        "from matplotlib import pyplot\n",
        "# load data\n",
        "df = read_csv('monthly_champagne_sales.csv', index_col='Month', parse_dates=True)\n",
        "# plot the time series\n",
        "df.plot()\n",
        "pyplot.show()"
      ]
    },
    {
      "cell_type": "code",
      "source": [
        "print(df.shape)\n",
        "df"
      ],
      "metadata": {
        "colab": {
          "base_uri": "https://localhost:8080/",
          "height": 472
        },
        "id": "bpK3LwRMR519",
        "outputId": "ab4228a9-0460-4f21-b7d3-5ca7dd527792"
      },
      "execution_count": 2,
      "outputs": [
        {
          "output_type": "stream",
          "name": "stdout",
          "text": [
            "(105, 1)\n"
          ]
        },
        {
          "output_type": "execute_result",
          "data": {
            "text/plain": [
              "            Sales\n",
              "Month            \n",
              "1964-01-01   2815\n",
              "1964-02-01   2672\n",
              "1964-03-01   2755\n",
              "1964-04-01   2721\n",
              "1964-05-01   2946\n",
              "...           ...\n",
              "1972-05-01   4618\n",
              "1972-06-01   5312\n",
              "1972-07-01   4298\n",
              "1972-08-01   1413\n",
              "1972-09-01   5877\n",
              "\n",
              "[105 rows x 1 columns]"
            ],
            "text/html": [
              "\n",
              "  <div id=\"df-d5548715-0d08-461c-87c6-50fa66b524be\">\n",
              "    <div class=\"colab-df-container\">\n",
              "      <div>\n",
              "<style scoped>\n",
              "    .dataframe tbody tr th:only-of-type {\n",
              "        vertical-align: middle;\n",
              "    }\n",
              "\n",
              "    .dataframe tbody tr th {\n",
              "        vertical-align: top;\n",
              "    }\n",
              "\n",
              "    .dataframe thead th {\n",
              "        text-align: right;\n",
              "    }\n",
              "</style>\n",
              "<table border=\"1\" class=\"dataframe\">\n",
              "  <thead>\n",
              "    <tr style=\"text-align: right;\">\n",
              "      <th></th>\n",
              "      <th>Sales</th>\n",
              "    </tr>\n",
              "    <tr>\n",
              "      <th>Month</th>\n",
              "      <th></th>\n",
              "    </tr>\n",
              "  </thead>\n",
              "  <tbody>\n",
              "    <tr>\n",
              "      <th>1964-01-01</th>\n",
              "      <td>2815</td>\n",
              "    </tr>\n",
              "    <tr>\n",
              "      <th>1964-02-01</th>\n",
              "      <td>2672</td>\n",
              "    </tr>\n",
              "    <tr>\n",
              "      <th>1964-03-01</th>\n",
              "      <td>2755</td>\n",
              "    </tr>\n",
              "    <tr>\n",
              "      <th>1964-04-01</th>\n",
              "      <td>2721</td>\n",
              "    </tr>\n",
              "    <tr>\n",
              "      <th>1964-05-01</th>\n",
              "      <td>2946</td>\n",
              "    </tr>\n",
              "    <tr>\n",
              "      <th>...</th>\n",
              "      <td>...</td>\n",
              "    </tr>\n",
              "    <tr>\n",
              "      <th>1972-05-01</th>\n",
              "      <td>4618</td>\n",
              "    </tr>\n",
              "    <tr>\n",
              "      <th>1972-06-01</th>\n",
              "      <td>5312</td>\n",
              "    </tr>\n",
              "    <tr>\n",
              "      <th>1972-07-01</th>\n",
              "      <td>4298</td>\n",
              "    </tr>\n",
              "    <tr>\n",
              "      <th>1972-08-01</th>\n",
              "      <td>1413</td>\n",
              "    </tr>\n",
              "    <tr>\n",
              "      <th>1972-09-01</th>\n",
              "      <td>5877</td>\n",
              "    </tr>\n",
              "  </tbody>\n",
              "</table>\n",
              "<p>105 rows × 1 columns</p>\n",
              "</div>\n",
              "      <button class=\"colab-df-convert\" onclick=\"convertToInteractive('df-d5548715-0d08-461c-87c6-50fa66b524be')\"\n",
              "              title=\"Convert this dataframe to an interactive table.\"\n",
              "              style=\"display:none;\">\n",
              "        \n",
              "  <svg xmlns=\"http://www.w3.org/2000/svg\" height=\"24px\"viewBox=\"0 0 24 24\"\n",
              "       width=\"24px\">\n",
              "    <path d=\"M0 0h24v24H0V0z\" fill=\"none\"/>\n",
              "    <path d=\"M18.56 5.44l.94 2.06.94-2.06 2.06-.94-2.06-.94-.94-2.06-.94 2.06-2.06.94zm-11 1L8.5 8.5l.94-2.06 2.06-.94-2.06-.94L8.5 2.5l-.94 2.06-2.06.94zm10 10l.94 2.06.94-2.06 2.06-.94-2.06-.94-.94-2.06-.94 2.06-2.06.94z\"/><path d=\"M17.41 7.96l-1.37-1.37c-.4-.4-.92-.59-1.43-.59-.52 0-1.04.2-1.43.59L10.3 9.45l-7.72 7.72c-.78.78-.78 2.05 0 2.83L4 21.41c.39.39.9.59 1.41.59.51 0 1.02-.2 1.41-.59l7.78-7.78 2.81-2.81c.8-.78.8-2.07 0-2.86zM5.41 20L4 18.59l7.72-7.72 1.47 1.35L5.41 20z\"/>\n",
              "  </svg>\n",
              "      </button>\n",
              "      \n",
              "  <style>\n",
              "    .colab-df-container {\n",
              "      display:flex;\n",
              "      flex-wrap:wrap;\n",
              "      gap: 12px;\n",
              "    }\n",
              "\n",
              "    .colab-df-convert {\n",
              "      background-color: #E8F0FE;\n",
              "      border: none;\n",
              "      border-radius: 50%;\n",
              "      cursor: pointer;\n",
              "      display: none;\n",
              "      fill: #1967D2;\n",
              "      height: 32px;\n",
              "      padding: 0 0 0 0;\n",
              "      width: 32px;\n",
              "    }\n",
              "\n",
              "    .colab-df-convert:hover {\n",
              "      background-color: #E2EBFA;\n",
              "      box-shadow: 0px 1px 2px rgba(60, 64, 67, 0.3), 0px 1px 3px 1px rgba(60, 64, 67, 0.15);\n",
              "      fill: #174EA6;\n",
              "    }\n",
              "\n",
              "    [theme=dark] .colab-df-convert {\n",
              "      background-color: #3B4455;\n",
              "      fill: #D2E3FC;\n",
              "    }\n",
              "\n",
              "    [theme=dark] .colab-df-convert:hover {\n",
              "      background-color: #434B5C;\n",
              "      box-shadow: 0px 1px 3px 1px rgba(0, 0, 0, 0.15);\n",
              "      filter: drop-shadow(0px 1px 2px rgba(0, 0, 0, 0.3));\n",
              "      fill: #FFFFFF;\n",
              "    }\n",
              "  </style>\n",
              "\n",
              "      <script>\n",
              "        const buttonEl =\n",
              "          document.querySelector('#df-d5548715-0d08-461c-87c6-50fa66b524be button.colab-df-convert');\n",
              "        buttonEl.style.display =\n",
              "          google.colab.kernel.accessAllowed ? 'block' : 'none';\n",
              "\n",
              "        async function convertToInteractive(key) {\n",
              "          const element = document.querySelector('#df-d5548715-0d08-461c-87c6-50fa66b524be');\n",
              "          const dataTable =\n",
              "            await google.colab.kernel.invokeFunction('convertToInteractive',\n",
              "                                                     [key], {});\n",
              "          if (!dataTable) return;\n",
              "\n",
              "          const docLinkHtml = 'Like what you see? Visit the ' +\n",
              "            '<a target=\"_blank\" href=https://colab.research.google.com/notebooks/data_table.ipynb>data table notebook</a>'\n",
              "            + ' to learn more about interactive tables.';\n",
              "          element.innerHTML = '';\n",
              "          dataTable['output_type'] = 'display_data';\n",
              "          await google.colab.output.renderOutput(dataTable, element);\n",
              "          const docLink = document.createElement('div');\n",
              "          docLink.innerHTML = docLinkHtml;\n",
              "          element.appendChild(docLink);\n",
              "        }\n",
              "      </script>\n",
              "    </div>\n",
              "  </div>\n",
              "  "
            ]
          },
          "metadata": {},
          "execution_count": 2
        }
      ]
    },
    {
      "cell_type": "code",
      "source": [
        "from statsmodels.tsa.seasonal import seasonal_decompose\n",
        "decompose_result = seasonal_decompose(df['Sales'],model='additive')\n",
        "decompose_result.plot();"
      ],
      "metadata": {
        "id": "txAPDP7Mkihg",
        "outputId": "0d288cf3-fafd-4862-ba03-11a2f3f694c1",
        "colab": {
          "base_uri": "https://localhost:8080/",
          "height": 297
        }
      },
      "execution_count": 21,
      "outputs": [
        {
          "output_type": "display_data",
          "data": {
            "text/plain": [
              "<Figure size 432x288 with 4 Axes>"
            ],
            "image/png": "[encoded data removed]"
          },
          "metadata": {
            "needs_background": "light"
          }
        }
      ]
    },
    {
      "cell_type": "markdown",
      "source": [
        "Challenge: Use last 47 months of data as test and get RMSE value less than 924.699 found in analysis having URL below.\n",
        "https://machinelearningmastery.com/time-series-forecast-study-python-monthly-sales-french-champagne/"
      ],
      "metadata": {
        "id": "eC5PSCCY40Sr"
      }
    },
    {
      "cell_type": "code",
      "source": [
        "train = df['Sales'][:-47]\n",
        "test = df['Sales'][-47:]\n",
        "print(\"Full data shape is \"+ str(df.shape))\n",
        "print(\"Train data shape is \"+ str(train.shape))\n",
        "print(\"Test data shape is \"+ str(test.shape))"
      ],
      "metadata": {
        "colab": {
          "base_uri": "https://localhost:8080/"
        },
        "id": "gWWfIZUFbXFD",
        "outputId": "5daad1dd-154c-42b6-d0ec-dfa325824954"
      },
      "execution_count": 2,
      "outputs": [
        {
          "output_type": "stream",
          "name": "stdout",
          "text": [
            "Full data shape is (105, 1)\n",
            "Train data shape is (58,)\n",
            "Test data shape is (47,)\n"
          ]
        }
      ]
    },
    {
      "cell_type": "markdown",
      "source": [
        "## **HOLT WINTERS**"
      ],
      "metadata": {
        "id": "gqI8K_2qccrn"
      }
    },
    {
      "cell_type": "code",
      "source": [
        "import pandas as pd\n",
        "import numpy as np\n",
        "# plotting data - matplotlib\n",
        "from matplotlib import pyplot as plt\n",
        "# time series - statsmodels \n",
        "# Seasonality decomposition\n",
        "from statsmodels.tsa.seasonal import seasonal_decompose\n",
        "# holt winters \n",
        "# single exponential smoothing\n",
        "from statsmodels.tsa.holtwinters import SimpleExpSmoothing   \n",
        "# double and triple exponential smoothing\n",
        "from statsmodels.tsa.holtwinters import ExponentialSmoothing\n",
        "fitted_model = ExponentialSmoothing(train,trend='mul',seasonal='mul',seasonal_periods=12).fit()\n",
        "test_predictions = ExponentialSmoothing(train,trend='mul',seasonal='mul',seasonal_periods=12).fit().forecast(47)\n",
        "plt.plot(train,label='TRAIN')\n",
        "plt.plot(test,label='TEST')\n",
        "plt.plot(test_predictions,label='FORECAST')\n",
        "plt.legend(loc=\"upper left\")\n",
        "plt.title('Train, Test and Predicted Test using Holt Winters')"
      ],
      "metadata": {
        "colab": {
          "base_uri": "https://localhost:8080/",
          "height": 498
        },
        "id": "0YSqjyG8cRJF",
        "outputId": "b6dbc935-5ad3-469c-c0f5-be5329a4c289"
      },
      "execution_count": null,
      "outputs": [
        {
          "output_type": "stream",
          "name": "stderr",
          "text": [
            "/usr/local/lib/python3.7/dist-packages/statsmodels/tools/_testing.py:19: FutureWarning: pandas.util.testing is deprecated. Use the functions in the public API at pandas.testing instead.\n",
            "  import pandas.util.testing as tm\n",
            "/usr/local/lib/python3.7/dist-packages/statsmodels/tsa/base/tsa_model.py:165: ValueWarning: No frequency information was provided, so inferred frequency MS will be used.\n",
            "  % freq, ValueWarning)\n",
            "/usr/local/lib/python3.7/dist-packages/statsmodels/tsa/holtwinters.py:712: ConvergenceWarning: Optimization failed to converge. Check mle_retvals.\n",
            "  ConvergenceWarning)\n",
            "/usr/local/lib/python3.7/dist-packages/statsmodels/tsa/base/tsa_model.py:165: ValueWarning: No frequency information was provided, so inferred frequency MS will be used.\n",
            "  % freq, ValueWarning)\n",
            "/usr/local/lib/python3.7/dist-packages/statsmodels/tsa/holtwinters.py:712: ConvergenceWarning: Optimization failed to converge. Check mle_retvals.\n",
            "  ConvergenceWarning)\n"
          ]
        },
        {
          "output_type": "execute_result",
          "data": {
            "text/plain": [
              "Text(0.5, 1.0, 'Train, Test and Predicted Test using Holt Winters')"
            ]
          },
          "metadata": {},
          "execution_count": 3
        },
        {
          "output_type": "display_data",
          "data": {
            "text/plain": [
              "<Figure size 432x288 with 1 Axes>"
            ],
            "image/png": "[encoded data removed]"
          },
          "metadata": {
            "needs_background": "light"
          }
        }
      ]
    },
    {
      "cell_type": "code",
      "source": [
        "#Evaluate forecasting Performance\n",
        "from sklearn.metrics import mean_absolute_error,mean_squared_error\n",
        "print(f'Mean Absolute Error = {mean_absolute_error(test,test_predictions)}')\n",
        "mse=mean_squared_error(test,test_predictions)\n",
        "rmse=np.sqrt(mse)\n",
        "print(f'Mean Squared Error = {mse}')\n",
        "print(f'Root Mean Squared Error = {rmse}')\n",
        "def mape(actual,pred):\n",
        "    return np.mean(np.abs((actual - pred) / actual)) * 100  \n",
        "print(f'Mean Absolute Percentage Error = {mape(np.array(test),np.array(test_predictions) )}')"
      ],
      "metadata": {
        "colab": {
          "base_uri": "https://localhost:8080/"
        },
        "id": "YfxTFGPgco2Y",
        "outputId": "33213027-d9c2-429f-9a67-01007c2c9e86"
      },
      "execution_count": null,
      "outputs": [
        {
          "output_type": "stream",
          "name": "stdout",
          "text": [
            "Mean Absolute Error = 1232.8846051934008\n",
            "Mean Squared Error = 2042410.4954075639\n",
            "Root Mean Squared Error = 1429.1292787594703\n",
            "Mean Absolute Percentage Error = 80.24387885610417\n"
          ]
        }
      ]
    },
    {
      "cell_type": "markdown",
      "source": [
        "## **TBATS**"
      ],
      "metadata": {
        "id": "v7ata_QrcJco"
      }
    },
    {
      "cell_type": "code",
      "source": [
        "!pip install tbats"
      ],
      "metadata": {
        "colab": {
          "base_uri": "https://localhost:8080/"
        },
        "id": "mNKP-l7fe9ah",
        "outputId": "4170687f-107c-45df-ba1a-f00680d88f97"
      },
      "execution_count": 10,
      "outputs": [
        {
          "output_type": "stream",
          "name": "stdout",
          "text": [
            "Collecting tbats\n",
            "  Downloading tbats-1.1.0-py3-none-any.whl (43 kB)\n",
            "\u001b[K     |████████████████████████████████| 43 kB 1.4 MB/s \n",
            "\u001b[?25hCollecting pmdarima\n",
            "  Downloading pmdarima-1.8.5-cp37-cp37m-manylinux_2_17_x86_64.manylinux2014_x86_64.manylinux_2_24_x86_64.whl (1.4 MB)\n",
            "\u001b[K     |████████████████████████████████| 1.4 MB 7.0 MB/s \n",
            "\u001b[?25hRequirement already satisfied: scipy in /usr/local/lib/python3.7/dist-packages (from tbats) (1.4.1)\n",
            "Requirement already satisfied: scikit-learn in /usr/local/lib/python3.7/dist-packages (from tbats) (1.0.2)\n",
            "Requirement already satisfied: numpy in /usr/local/lib/python3.7/dist-packages (from tbats) (1.21.6)\n",
            "Requirement already satisfied: pandas>=0.19 in /usr/local/lib/python3.7/dist-packages (from pmdarima->tbats) (1.3.5)\n",
            "Requirement already satisfied: Cython!=0.29.18,>=0.29 in /usr/local/lib/python3.7/dist-packages (from pmdarima->tbats) (0.29.28)\n",
            "Requirement already satisfied: urllib3 in /usr/local/lib/python3.7/dist-packages (from pmdarima->tbats) (1.24.3)\n",
            "Requirement already satisfied: statsmodels!=0.12.0,>=0.11 in /usr/local/lib/python3.7/dist-packages (from pmdarima->tbats) (0.13.2)\n",
            "Requirement already satisfied: joblib>=0.11 in /usr/local/lib/python3.7/dist-packages (from pmdarima->tbats) (1.1.0)\n",
            "Requirement already satisfied: setuptools!=50.0.0,>=38.6.0 in /usr/local/lib/python3.7/dist-packages (from pmdarima->tbats) (57.4.0)\n",
            "Requirement already satisfied: pytz>=2017.3 in /usr/local/lib/python3.7/dist-packages (from pandas>=0.19->pmdarima->tbats) (2022.1)\n",
            "Requirement already satisfied: python-dateutil>=2.7.3 in /usr/local/lib/python3.7/dist-packages (from pandas>=0.19->pmdarima->tbats) (2.8.2)\n",
            "Requirement already satisfied: six>=1.5 in /usr/local/lib/python3.7/dist-packages (from python-dateutil>=2.7.3->pandas>=0.19->pmdarima->tbats) (1.15.0)\n",
            "Requirement already satisfied: threadpoolctl>=2.0.0 in /usr/local/lib/python3.7/dist-packages (from scikit-learn->tbats) (3.1.0)\n",
            "Requirement already satisfied: patsy>=0.5.2 in /usr/local/lib/python3.7/dist-packages (from statsmodels!=0.12.0,>=0.11->pmdarima->tbats) (0.5.2)\n",
            "Requirement already satisfied: packaging>=21.3 in /usr/local/lib/python3.7/dist-packages (from statsmodels!=0.12.0,>=0.11->pmdarima->tbats) (21.3)\n",
            "Requirement already satisfied: pyparsing!=3.0.5,>=2.0.2 in /usr/local/lib/python3.7/dist-packages (from packaging>=21.3->statsmodels!=0.12.0,>=0.11->pmdarima->tbats) (3.0.8)\n",
            "Installing collected packages: pmdarima, tbats\n",
            "Successfully installed pmdarima-1.8.5 tbats-1.1.0\n"
          ]
        }
      ]
    },
    {
      "cell_type": "code",
      "source": [
        "from tbats import TBATS\n",
        "import numpy as np\n",
        "estimator = TBATS(\n",
        "    seasonal_periods=[12],\n",
        "    use_arma_errors=True,  # shall try only models with ARMA\n",
        "    use_box_cox=True # will use Box-Cox\n",
        ")\n",
        "model = estimator.fit(train)"
      ],
      "metadata": {
        "id": "DuBLW7MTfCSj"
      },
      "execution_count": 11,
      "outputs": []
    },
    {
      "cell_type": "code",
      "source": [
        "import pandas as pd\n",
        "from matplotlib import pyplot as plt\n",
        "test_predictions = model.forecast(steps=47)\n",
        "from sklearn.metrics import mean_absolute_error,mean_squared_error\n",
        "print(f'Mean Absolute Error = {mean_absolute_error(test,test_predictions)}')\n",
        "mse=mean_squared_error(test,test_predictions)\n",
        "rmse=np.sqrt(mse)\n",
        "print(f'Mean Squared Error = {mse}')\n",
        "print(f'Root Mean Squared Error = {rmse}')\n",
        "def mape(actual,pred):\n",
        "    return np.mean(np.abs((actual - pred) / actual)) * 100  \n",
        "print(f'Mean Absolute Percentage Error = {mape(np.array(test),np.array(test_predictions) )}')\n",
        "\n",
        "#916.14727451\n",
        "test_predictions=pd.DataFrame(test_predictions)\n",
        "new_index = test.index\n",
        "test_predictions=test_predictions.set_index(new_index)\n",
        "test_predictions.columns=['SALES']\n",
        "plt.plot(train,label='TRAIN')\n",
        "plt.plot(test,label='TEST')\n",
        "plt.plot(test_predictions,label='FORECAST')\n",
        "plt.legend(loc=\"upper left\")\n",
        "plt.title('Train, Test and Predicted Test using TBATS');"
      ],
      "metadata": {
        "colab": {
          "base_uri": "https://localhost:8080/",
          "height": 350
        },
        "id": "nhNqBeofhTi6",
        "outputId": "f7d85565-4630-4f23-f63e-69c0f78deea8"
      },
      "execution_count": 12,
      "outputs": [
        {
          "output_type": "stream",
          "name": "stdout",
          "text": [
            "Mean Absolute Error = 682.4765341048537\n",
            "Mean Squared Error = 839325.8286071263\n",
            "Root Mean Squared Error = 916.1472745182001\n",
            "Mean Absolute Percentage Error = 15.279811258613718\n"
          ]
        },
        {
          "output_type": "display_data",
          "data": {
            "text/plain": [
              "<Figure size 432x288 with 1 Axes>"
            ],
            "image/png": "[encoded data removed]"
          },
          "metadata": {
            "needs_background": "light"
          }
        }
      ]
    },
    {
      "cell_type": "markdown",
      "source": [
        "# **ETS**"
      ],
      "metadata": {
        "id": "sFkX4ccuYY4J"
      }
    },
    {
      "cell_type": "code",
      "source": [
        "from statsmodels.tsa.exponential_smoothing.ets import ETSModel\n",
        "from sklearn.metrics import mean_absolute_error,mean_squared_error\n",
        "import numpy as np\n",
        "a=[\"add\",\"mul\"]\n",
        "for t in [True,False]:\n",
        " for x in a:\n",
        "  for y in a:\n",
        "    for z in a:\n",
        "      print(x)\n",
        "      print(y)\n",
        "      print(z)\n",
        "      print(t)\n",
        "      tr_predictions=ETSModel(train,error=x, trend=y,seasonal=z,damped_trend=t, seasonal_periods=12).fit().fittedvalues()\n",
        "      print(f'Mean Absolute Error = {mean_absolute_error(train,tr_predictions)}')\n",
        "      mse=mean_squared_error(train,tr_predictions)\n",
        "      rmse=np.sqrt(mse)\n",
        "      print(f'Mean Squared Error = {mse}')\n",
        "      print(f'Root Mean Squared Error = {rmse}')\n",
        "      import numpy as np\n",
        "      def mape(actual,pred):\n",
        "            return np.mean(np.abs((actual - pred) / actual)) * 100  \n",
        "      print(f'Mean Absolute Percentage Error = {mape(np.array(train),np.array(tr_predictions) )}')"
      ],
      "metadata": {
        "colab": {
          "base_uri": "https://localhost:8080/"
        },
        "id": "Eaqaa-nUyr-l",
        "outputId": "16188fdb-faad-4739-83ac-bac39e04a090"
      },
      "execution_count": 4,
      "outputs": [
        {
          "output_type": "stream",
          "name": "stdout",
          "text": [
            "add\n",
            "add\n",
            "add\n",
            "True\n",
            "Mean Absolute Error = 899.2401915826421\n",
            "Mean Squared Error = 1596800.2974199029\n",
            "Root Mean Squared Error = 1263.6456375977812\n",
            "Mean Absolute Percentage Error = 25.15803294864945\n",
            "add\n",
            "add\n",
            "mul\n",
            "True\n"
          ]
        },
        {
          "output_type": "stream",
          "name": "stderr",
          "text": [
            "/usr/local/lib/python3.7/dist-packages/statsmodels/tsa/base/tsa_model.py:471: ValueWarning: No frequency information was provided, so inferred frequency MS will be used.\n",
            "  self._init_dates(dates, freq)\n",
            "/usr/local/lib/python3.7/dist-packages/statsmodels/tsa/base/tsa_model.py:471: ValueWarning: No frequency information was provided, so inferred frequency MS will be used.\n",
            "  self._init_dates(dates, freq)\n"
          ]
        },
        {
          "output_type": "stream",
          "name": "stdout",
          "text": [
            "Mean Absolute Error = 262.88511360077683\n",
            "Mean Squared Error = 147941.00425592062\n",
            "Root Mean Squared Error = 384.63099752349734\n",
            "Mean Absolute Percentage Error = 7.32833383602783\n",
            "add\n",
            "mul\n",
            "add\n",
            "True\n",
            "Mean Absolute Error = 986.9934170112916\n",
            "Mean Squared Error = 2025043.1447454698\n",
            "Root Mean Squared Error = 1423.04010651333\n",
            "Mean Absolute Percentage Error = 27.23404226610923\n",
            "add\n",
            "mul\n",
            "mul\n",
            "True\n",
            "Mean Absolute Error = 262.1803053846251\n",
            "Mean Squared Error = 146822.0697509211\n",
            "Root Mean Squared Error = 383.17368092148644\n",
            "Mean Absolute Percentage Error = 7.289268826280199\n",
            "mul"
          ]
        },
        {
          "output_type": "stream",
          "name": "stderr",
          "text": [
            "/usr/local/lib/python3.7/dist-packages/statsmodels/tsa/base/tsa_model.py:471: ValueWarning: No frequency information was provided, so inferred frequency MS will be used.\n",
            "  self._init_dates(dates, freq)\n",
            "/usr/local/lib/python3.7/dist-packages/statsmodels/tsa/base/tsa_model.py:471: ValueWarning: No frequency information was provided, so inferred frequency MS will be used.\n",
            "  self._init_dates(dates, freq)\n"
          ]
        },
        {
          "output_type": "stream",
          "name": "stdout",
          "text": [
            "\n",
            "add\n",
            "add\n",
            "True\n",
            "Mean Absolute Error = 1728.9458307611872\n",
            "Mean Squared Error = 5932997.280391371\n",
            "Root Mean Squared Error = 2435.7744723991527\n",
            "Mean Absolute Percentage Error = 50.90510336406099\n",
            "mul\n",
            "add\n",
            "mul\n",
            "True\n"
          ]
        },
        {
          "output_type": "stream",
          "name": "stderr",
          "text": [
            "/usr/local/lib/python3.7/dist-packages/statsmodels/tsa/base/tsa_model.py:471: ValueWarning: No frequency information was provided, so inferred frequency MS will be used.\n",
            "  self._init_dates(dates, freq)\n",
            "/usr/local/lib/python3.7/dist-packages/statsmodels/tsa/base/tsa_model.py:471: ValueWarning: No frequency information was provided, so inferred frequency MS will be used.\n",
            "  self._init_dates(dates, freq)\n"
          ]
        },
        {
          "output_type": "stream",
          "name": "stdout",
          "text": [
            "Mean Absolute Error = 330.6728881306101\n",
            "Mean Squared Error = 182765.87051303193\n",
            "Root Mean Squared Error = 427.51125191394897\n",
            "Mean Absolute Percentage Error = 9.493227923639894\n",
            "mul\n",
            "mul\n",
            "add\n",
            "True\n"
          ]
        },
        {
          "output_type": "stream",
          "name": "stderr",
          "text": [
            "/usr/local/lib/python3.7/dist-packages/statsmodels/tsa/base/tsa_model.py:471: ValueWarning: No frequency information was provided, so inferred frequency MS will be used.\n",
            "  self._init_dates(dates, freq)\n"
          ]
        },
        {
          "output_type": "stream",
          "name": "stdout",
          "text": [
            "Mean Absolute Error = 2766.1951786564423\n",
            "Mean Squared Error = 11979716.27272213\n",
            "Root Mean Squared Error = 3461.172673057808\n",
            "Mean Absolute Percentage Error = 78.1116142949746\n",
            "mul\n",
            "mul\n",
            "mul\n",
            "True\n",
            "Mean Absolute Error = 355.61711335683214\n",
            "Mean Squared Error = 202556.1745678311\n",
            "Root Mean Squared Error = 450.0624118584345\n",
            "Mean Absolute Percentage Error = 9.937429870369753\n",
            "add\n",
            "add\n",
            "add\n",
            "False\n"
          ]
        },
        {
          "output_type": "stream",
          "name": "stderr",
          "text": [
            "/usr/local/lib/python3.7/dist-packages/statsmodels/tsa/base/tsa_model.py:471: ValueWarning: No frequency information was provided, so inferred frequency MS will be used.\n",
            "  self._init_dates(dates, freq)\n",
            "/usr/local/lib/python3.7/dist-packages/statsmodels/tsa/base/tsa_model.py:471: ValueWarning: No frequency information was provided, so inferred frequency MS will be used.\n",
            "  self._init_dates(dates, freq)\n"
          ]
        },
        {
          "output_type": "stream",
          "name": "stdout",
          "text": [
            "Mean Absolute Error = 1240.514865624162\n",
            "Mean Squared Error = 3090293.671238965\n",
            "Root Mean Squared Error = 1757.9231130055048\n",
            "Mean Absolute Percentage Error = 36.90681230636492\n",
            "add\n",
            "add\n",
            "mul\n",
            "False\n",
            "Mean Absolute Error = 239.85827610528145\n",
            "Mean Squared Error = 115693.84989766455\n",
            "Root Mean Squared Error = 340.1379865549635\n",
            "Mean Absolute Percentage Error = 7.0012899905095916\n",
            "add\n",
            "mul\n",
            "add\n",
            "False\n",
            "Mean Absolute Error = 1258.0254935354887\n",
            "Mean Squared Error = 3238387.2659863466\n",
            "Root Mean Squared Error = 1799.5519625691131\n",
            "Mean Absolute Percentage Error = 36.45009979519797\n",
            "add\n",
            "mul\n",
            "mul\n",
            "False\n"
          ]
        },
        {
          "output_type": "stream",
          "name": "stderr",
          "text": [
            "/usr/local/lib/python3.7/dist-packages/statsmodels/tsa/base/tsa_model.py:471: ValueWarning: No frequency information was provided, so inferred frequency MS will be used.\n",
            "  self._init_dates(dates, freq)\n",
            "/usr/local/lib/python3.7/dist-packages/statsmodels/tsa/base/tsa_model.py:471: ValueWarning: No frequency information was provided, so inferred frequency MS will be used.\n",
            "  self._init_dates(dates, freq)\n",
            "/usr/local/lib/python3.7/dist-packages/statsmodels/tsa/base/tsa_model.py:471: ValueWarning: No frequency information was provided, so inferred frequency MS will be used.\n",
            "  self._init_dates(dates, freq)\n"
          ]
        },
        {
          "output_type": "stream",
          "name": "stdout",
          "text": [
            "Mean Absolute Error = 282.6129650120612\n",
            "Mean Squared Error = 153585.73290857137\n",
            "Root Mean Squared Error = 391.90015681110845\n",
            "Mean Absolute Percentage Error = 8.134658396998656\n",
            "mul\n",
            "add\n",
            "add\n",
            "False\n",
            "Mean Absolute Error = 1743.031757542495\n",
            "Mean Squared Error = 6467357.901513772\n",
            "Root Mean Squared Error = 2543.1000573146493\n",
            "Mean Absolute Percentage Error = 52.47480229090692\n",
            "mul\n",
            "add\n",
            "mul\n",
            "False\n"
          ]
        },
        {
          "output_type": "stream",
          "name": "stderr",
          "text": [
            "/usr/local/lib/python3.7/dist-packages/statsmodels/tsa/base/tsa_model.py:471: ValueWarning: No frequency information was provided, so inferred frequency MS will be used.\n",
            "  self._init_dates(dates, freq)\n",
            "/usr/local/lib/python3.7/dist-packages/statsmodels/tsa/base/tsa_model.py:471: ValueWarning: No frequency information was provided, so inferred frequency MS will be used.\n",
            "  self._init_dates(dates, freq)\n"
          ]
        },
        {
          "output_type": "stream",
          "name": "stdout",
          "text": [
            "Mean Absolute Error = 323.24153450676687\n",
            "Mean Squared Error = 193847.05177753916\n",
            "Root Mean Squared Error = 440.28065115053505\n",
            "Mean Absolute Percentage Error = 9.322311357479373\n",
            "mul\n",
            "mul\n",
            "add\n",
            "False\n",
            "Mean Absolute Error = 1859.5827915550417\n",
            "Mean Squared Error = 8220134.122422892\n",
            "Root Mean Squared Error = 2867.0776275543867\n",
            "Mean Absolute Percentage Error = 58.696846452812835\n",
            "mul\n",
            "mul\n",
            "mul\n",
            "False\n"
          ]
        },
        {
          "output_type": "stream",
          "name": "stderr",
          "text": [
            "/usr/local/lib/python3.7/dist-packages/statsmodels/tsa/base/tsa_model.py:471: ValueWarning: No frequency information was provided, so inferred frequency MS will be used.\n",
            "  self._init_dates(dates, freq)\n",
            "/usr/local/lib/python3.7/dist-packages/statsmodels/tsa/base/tsa_model.py:471: ValueWarning: No frequency information was provided, so inferred frequency MS will be used.\n",
            "  self._init_dates(dates, freq)\n"
          ]
        },
        {
          "output_type": "stream",
          "name": "stdout",
          "text": [
            "Mean Absolute Error = 316.2311798021057\n",
            "Mean Squared Error = 181904.92256125712\n",
            "Root Mean Squared Error = 426.50313312009456\n",
            "Mean Absolute Percentage Error = 9.196709676888492\n"
          ]
        }
      ]
    },
    {
      "cell_type": "markdown",
      "source": [
        "Damped Trend False"
      ],
      "metadata": {
        "id": "0w_BWuw5y8Du"
      }
    },
    {
      "cell_type": "code",
      "source": [
        "from statsmodels.tsa.exponential_smoothing.ets import ETSModel\n",
        "from sklearn.metrics import mean_absolute_error,mean_squared_error\n",
        "test_predictions=ETSModel(train,error='add', trend='add',seasonal='mul',damped_trend=False, seasonal_periods=12).fit().forecast(47)\n",
        "print(f'Mean Absolute Error = {mean_absolute_error(test,test_predictions)}')\n",
        "mse=mean_squared_error(test,test_predictions)\n",
        "rmse=np.sqrt(mse)\n",
        "print(f'Mean Squared Error = {mse}')\n",
        "print(f'Root Mean Squared Error = {rmse}')\n",
        "import numpy as np\n",
        "def mape(actual,pred):\n",
        "            return np.mean(np.abs((actual - pred) / actual)) * 100  \n",
        "print(f'Mean Absolute Percentage Error = {mape(np.array(test),np.array(test_predictions) )}')"
      ],
      "metadata": {
        "colab": {
          "base_uri": "https://localhost:8080/"
        },
        "id": "RDfmzNGDW5Zt",
        "outputId": "e2f75b07-19f3-47a3-abf0-104ea17d67ed"
      },
      "execution_count": 22,
      "outputs": [
        {
          "output_type": "stream",
          "name": "stderr",
          "text": [
            "/usr/local/lib/python3.7/dist-packages/statsmodels/tsa/base/tsa_model.py:471: ValueWarning: No frequency information was provided, so inferred frequency MS will be used.\n",
            "  self._init_dates(dates, freq)\n"
          ]
        },
        {
          "output_type": "stream",
          "name": "stdout",
          "text": [
            "Mean Absolute Error = 1127.170422499744\n",
            "Mean Squared Error = 1692936.4406313219\n",
            "Root Mean Squared Error = 1301.1289100743716\n",
            "Mean Absolute Percentage Error = 28.627113441654007\n"
          ]
        }
      ]
    },
    {
      "cell_type": "markdown",
      "source": [
        "Damped Trend True"
      ],
      "metadata": {
        "id": "oo91kefLzDAp"
      }
    },
    {
      "cell_type": "code",
      "source": [
        "from statsmodels.tsa.exponential_smoothing.ets import ETSModel\n",
        "from sklearn.metrics import mean_absolute_error,mean_squared_error\n",
        "test_predictions=ETSModel(train,error='add', trend='add',seasonal='mul',damped_trend=True, seasonal_periods=12).fit().forecast(47)\n",
        "print(f'Mean Absolute Error = {mean_absolute_error(test,test_predictions)}')\n",
        "mse=mean_squared_error(test,test_predictions)\n",
        "rmse=np.sqrt(mse)\n",
        "print(f'Mean Squared Error = {mse}')\n",
        "print(f'Root Mean Squared Error = {rmse}')\n",
        "import numpy as np\n",
        "def mape(actual,pred):\n",
        "            return np.mean(np.abs((actual - pred) / actual)) * 100  \n",
        "print(f'Mean Absolute Percentage Error = {mape(np.array(test),np.array(test_predictions) )}')"
      ],
      "metadata": {
        "id": "ekhE6ZPayylt",
        "outputId": "70d1f137-d963-432b-fbfd-e2afae282996",
        "colab": {
          "base_uri": "https://localhost:8080/"
        }
      },
      "execution_count": 23,
      "outputs": [
        {
          "output_type": "stream",
          "name": "stderr",
          "text": [
            "/usr/local/lib/python3.7/dist-packages/statsmodels/tsa/base/tsa_model.py:471: ValueWarning: No frequency information was provided, so inferred frequency MS will be used.\n",
            "  self._init_dates(dates, freq)\n"
          ]
        },
        {
          "output_type": "stream",
          "name": "stdout",
          "text": [
            "Mean Absolute Error = 611.0719414997002\n",
            "Mean Squared Error = 717647.8166265619\n",
            "Root Mean Squared Error = 847.1409662072552\n",
            "Mean Absolute Percentage Error = 14.149428205994703\n"
          ]
        }
      ]
    },
    {
      "cell_type": "code",
      "source": [
        "import pandas as pd\n",
        "from matplotlib import pyplot as plt\n",
        "from sklearn.metrics import mean_absolute_error,mean_squared_error\n",
        "test_predictions=pd.DataFrame(test_predictions)\n",
        "new_index = test.index\n",
        "test_predictions=test_predictions.set_index(new_index)\n",
        "test_predictions.columns=['SALES']\n",
        "plt.plot(train,label='TRAIN')\n",
        "plt.plot(test,label='TEST')\n",
        "plt.plot(test_predictions,label='FORECAST')\n",
        "plt.legend(loc=\"upper left\")\n",
        "plt.title('Train, Test and Predicted Test using ETS with Damped Trend False');"
      ],
      "metadata": {
        "colab": {
          "base_uri": "https://localhost:8080/",
          "height": 281
        },
        "id": "SJbcCSbTZMmi",
        "outputId": "43ec3272-a8f0-4ec7-a655-5e5674ecbea5"
      },
      "execution_count": 24,
      "outputs": [
        {
          "output_type": "display_data",
          "data": {
            "text/plain": [
              "<Figure size 432x288 with 1 Axes>"
            ],
            "image/png": "[encoded data removed]"
          },
          "metadata": {
            "needs_background": "light"
          }
        }
      ]
    },
    {
      "cell_type": "code",
      "source": [
        "from statsmodels.tsa.exponential_smoothing.ets import ETSModel\n",
        "from sklearn.metrics import mean_absolute_error,mean_squared_error\n",
        "import numpy as np\n",
        "a=[\"add\",\"mul\"]\n",
        "for t in [True,False]:\n",
        " for x in a:\n",
        "  for y in a:\n",
        "    for z in a:\n",
        "      print(x)\n",
        "      print(y)\n",
        "      print(z)\n",
        "      print(t)\n",
        "      tr_predictions=ETSModel(train,error=x, trend=y,seasonal=z,damped_trend=t, seasonal_periods=12).fit().forecast(47)\n",
        "      print(f'Mean Absolute Error = {mean_absolute_error(test,tr_predictions)}')\n",
        "      mse=mean_squared_error(test,tr_predictions)\n",
        "      rmse=np.sqrt(mse)\n",
        "      print(f'Mean Squared Error = {mse}')\n",
        "      print(f'Root Mean Squared Error = {rmse}')\n",
        "      import numpy as np\n",
        "      def mape(actual,pred):\n",
        "            return np.mean(np.abs((actual - pred) / actual)) * 100  \n",
        "      print(f'Mean Absolute Percentage Error = {mape(np.array(test),np.array(tr_predictions) )}')"
      ],
      "metadata": {
        "colab": {
          "base_uri": "https://localhost:8080/"
        },
        "id": "M_oKY9AZd7LX",
        "outputId": "55d94c3b-ace7-4422-fb6e-eb82940cdc66"
      },
      "execution_count": 17,
      "outputs": [
        {
          "output_type": "stream",
          "name": "stdout",
          "text": [
            "add\n",
            "add\n",
            "add\n",
            "True\n",
            "Mean Absolute Error = 698.7986415940477\n",
            "Mean Squared Error = 991395.3659597604\n",
            "Root Mean Squared Error = 995.6883879807781\n",
            "Mean Absolute Percentage Error = 13.252228692954526\n",
            "add\n",
            "add\n",
            "mul\n",
            "True\n"
          ]
        },
        {
          "output_type": "stream",
          "name": "stderr",
          "text": [
            "/usr/local/lib/python3.7/dist-packages/statsmodels/tsa/base/tsa_model.py:471: ValueWarning: No frequency information was provided, so inferred frequency MS will be used.\n",
            "  self._init_dates(dates, freq)\n",
            "/usr/local/lib/python3.7/dist-packages/statsmodels/tsa/base/tsa_model.py:471: ValueWarning: No frequency information was provided, so inferred frequency MS will be used.\n",
            "  self._init_dates(dates, freq)\n"
          ]
        },
        {
          "output_type": "stream",
          "name": "stdout",
          "text": [
            "Mean Absolute Error = 611.0719414997002\n",
            "Mean Squared Error = 717647.8166265619\n",
            "Root Mean Squared Error = 847.1409662072552\n",
            "Mean Absolute Percentage Error = 14.149428205994703\n",
            "add\n",
            "mul\n",
            "add\n",
            "True\n",
            "Mean Absolute Error = 720.1277587602068\n",
            "Mean Squared Error = 1061955.1310661186\n",
            "Root Mean Squared Error = 1030.5120722563704\n",
            "Mean Absolute Percentage Error = 13.208098963481198\n",
            "add\n",
            "mul\n",
            "mul\n",
            "True\n"
          ]
        },
        {
          "output_type": "stream",
          "name": "stderr",
          "text": [
            "/usr/local/lib/python3.7/dist-packages/statsmodels/tsa/base/tsa_model.py:471: ValueWarning: No frequency information was provided, so inferred frequency MS will be used.\n",
            "  self._init_dates(dates, freq)\n",
            "/usr/local/lib/python3.7/dist-packages/statsmodels/tsa/base/tsa_model.py:471: ValueWarning: No frequency information was provided, so inferred frequency MS will be used.\n",
            "  self._init_dates(dates, freq)\n"
          ]
        },
        {
          "output_type": "stream",
          "name": "stdout",
          "text": [
            "Mean Absolute Error = 612.7108074101741\n",
            "Mean Squared Error = 719576.2164150134\n",
            "Root Mean Squared Error = 848.2783837956814\n",
            "Mean Absolute Percentage Error = 14.044428405817113\n",
            "mul\n",
            "add\n",
            "add\n",
            "True\n"
          ]
        },
        {
          "output_type": "stream",
          "name": "stderr",
          "text": [
            "/usr/local/lib/python3.7/dist-packages/statsmodels/tsa/base/tsa_model.py:471: ValueWarning: No frequency information was provided, so inferred frequency MS will be used.\n",
            "  self._init_dates(dates, freq)\n"
          ]
        },
        {
          "output_type": "stream",
          "name": "stdout",
          "text": [
            "Mean Absolute Error = 992.5604969513819\n",
            "Mean Squared Error = 1399545.025865141\n",
            "Root Mean Squared Error = 1183.0236793340787\n",
            "Mean Absolute Percentage Error = 24.941705521554006\n",
            "mul\n",
            "add\n",
            "mul\n",
            "True\n"
          ]
        },
        {
          "output_type": "stream",
          "name": "stderr",
          "text": [
            "/usr/local/lib/python3.7/dist-packages/statsmodels/tsa/base/tsa_model.py:471: ValueWarning: No frequency information was provided, so inferred frequency MS will be used.\n",
            "  self._init_dates(dates, freq)\n"
          ]
        },
        {
          "output_type": "stream",
          "name": "stdout",
          "text": [
            "Mean Absolute Error = 757.2354964453631\n",
            "Mean Squared Error = 1030584.7208902489\n",
            "Root Mean Squared Error = 1015.1771869433675\n",
            "Mean Absolute Percentage Error = 17.841813006115398\n",
            "mul\n",
            "mul\n",
            "add\n",
            "True\n"
          ]
        },
        {
          "output_type": "stream",
          "name": "stderr",
          "text": [
            "/usr/local/lib/python3.7/dist-packages/statsmodels/tsa/base/tsa_model.py:471: ValueWarning: No frequency information was provided, so inferred frequency MS will be used.\n",
            "  self._init_dates(dates, freq)\n"
          ]
        },
        {
          "output_type": "stream",
          "name": "stdout",
          "text": [
            "Mean Absolute Error = 2957.3647820099923\n",
            "Mean Squared Error = 15326096.271252843\n",
            "Root Mean Squared Error = 3914.8558429721065\n",
            "Mean Absolute Percentage Error = 64.11592617143282\n",
            "mul\n",
            "mul\n",
            "mul\n",
            "True\n",
            "Mean Absolute Error = 836.9616731905224\n",
            "Mean Squared Error = 1165021.8124116496\n",
            "Root Mean Squared Error = 1079.3617616034253\n",
            "Mean Absolute Percentage Error = 23.023039763152315\n",
            "add\n",
            "add\n",
            "add\n",
            "False\n"
          ]
        },
        {
          "output_type": "stream",
          "name": "stderr",
          "text": [
            "/usr/local/lib/python3.7/dist-packages/statsmodels/tsa/base/tsa_model.py:471: ValueWarning: No frequency information was provided, so inferred frequency MS will be used.\n",
            "  self._init_dates(dates, freq)\n",
            "/usr/local/lib/python3.7/dist-packages/statsmodels/tsa/base/tsa_model.py:471: ValueWarning: No frequency information was provided, so inferred frequency MS will be used.\n",
            "  self._init_dates(dates, freq)\n"
          ]
        },
        {
          "output_type": "stream",
          "name": "stdout",
          "text": [
            "Mean Absolute Error = 3187.0330645221225\n",
            "Mean Squared Error = 13068780.96903182\n",
            "Root Mean Squared Error = 3615.076896696918\n",
            "Mean Absolute Percentage Error = 84.15756133959556\n",
            "add\n",
            "add\n",
            "mul\n",
            "False\n",
            "Mean Absolute Error = 1127.170422499744\n",
            "Mean Squared Error = 1692936.4406313219\n",
            "Root Mean Squared Error = 1301.1289100743716\n",
            "Mean Absolute Percentage Error = 28.627113441654007\n",
            "add\n",
            "mul\n",
            "add\n",
            "False\n",
            "Mean Absolute Error = 2177.7143581586556"
          ]
        },
        {
          "output_type": "stream",
          "name": "stderr",
          "text": [
            "/usr/local/lib/python3.7/dist-packages/statsmodels/tsa/base/tsa_model.py:471: ValueWarning: No frequency information was provided, so inferred frequency MS will be used.\n",
            "  self._init_dates(dates, freq)\n",
            "/usr/local/lib/python3.7/dist-packages/statsmodels/tsa/base/tsa_model.py:471: ValueWarning: No frequency information was provided, so inferred frequency MS will be used.\n",
            "  self._init_dates(dates, freq)\n",
            "/usr/local/lib/python3.7/dist-packages/statsmodels/tsa/base/tsa_model.py:471: ValueWarning: No frequency information was provided, so inferred frequency MS will be used.\n",
            "  self._init_dates(dates, freq)\n"
          ]
        },
        {
          "output_type": "stream",
          "name": "stdout",
          "text": [
            "\n",
            "Mean Squared Error = 6169593.219800367\n",
            "Root Mean Squared Error = 2483.8665865541907\n",
            "Mean Absolute Percentage Error = 58.314871345555794\n",
            "add\n",
            "mul\n",
            "mul\n",
            "False\n",
            "Mean Absolute Error = 932.4676468664796\n",
            "Mean Squared Error = 1270407.3727706599\n",
            "Root Mean Squared Error = 1127.123494906685\n",
            "Mean Absolute Percentage Error = 23.567188578581842\n",
            "mul\n",
            "add\n",
            "add\n",
            "False\n"
          ]
        },
        {
          "output_type": "stream",
          "name": "stderr",
          "text": [
            "/usr/local/lib/python3.7/dist-packages/statsmodels/tsa/base/tsa_model.py:471: ValueWarning: No frequency information was provided, so inferred frequency MS will be used.\n",
            "  self._init_dates(dates, freq)\n"
          ]
        },
        {
          "output_type": "stream",
          "name": "stdout",
          "text": [
            "Mean Absolute Error = 2240.635913876715\n",
            "Mean Squared Error = 6373009.223441951\n",
            "Root Mean Squared Error = 2524.4819713045986\n",
            "Mean Absolute Percentage Error = 59.93805735073951\n",
            "mul\n",
            "add\n",
            "mul\n",
            "False\n",
            "Mean Absolute Error = 852.1456424358028\n",
            "Mean Squared Error = 1236633.4037641792\n",
            "Root Mean Squared Error = 1112.0401988076596\n",
            "Mean Absolute Percentage Error = 22.790559347686433\n",
            "mul\n",
            "mul\n",
            "add\n",
            "False\n"
          ]
        },
        {
          "output_type": "stream",
          "name": "stderr",
          "text": [
            "/usr/local/lib/python3.7/dist-packages/statsmodels/tsa/base/tsa_model.py:471: ValueWarning: No frequency information was provided, so inferred frequency MS will be used.\n",
            "  self._init_dates(dates, freq)\n",
            "/usr/local/lib/python3.7/dist-packages/statsmodels/tsa/base/tsa_model.py:471: ValueWarning: No frequency information was provided, so inferred frequency MS will be used.\n",
            "  self._init_dates(dates, freq)\n"
          ]
        },
        {
          "output_type": "stream",
          "name": "stdout",
          "text": [
            "Mean Absolute Error = 2271.6379530574045\n",
            "Mean Squared Error = 6665249.172788406\n",
            "Root Mean Squared Error = 2581.714386369725\n",
            "Mean Absolute Percentage Error = 60.66238957709209\n",
            "mul\n",
            "mul\n",
            "mul\n",
            "False\n"
          ]
        },
        {
          "output_type": "stream",
          "name": "stderr",
          "text": [
            "/usr/local/lib/python3.7/dist-packages/statsmodels/tsa/base/tsa_model.py:471: ValueWarning: No frequency information was provided, so inferred frequency MS will be used.\n",
            "  self._init_dates(dates, freq)\n"
          ]
        },
        {
          "output_type": "stream",
          "name": "stdout",
          "text": [
            "Mean Absolute Error = 1145.2157398219254\n",
            "Mean Squared Error = 1904611.7817899578\n",
            "Root Mean Squared Error = 1380.0767303994216\n",
            "Mean Absolute Percentage Error = 30.09184279730559\n"
          ]
        }
      ]
    }
  ]
}