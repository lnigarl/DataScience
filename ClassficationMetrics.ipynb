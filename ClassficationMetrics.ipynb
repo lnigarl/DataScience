{
  "nbformat": 4,
  "nbformat_minor": 0,
  "metadata": {
    "colab": {
      "name": "Untitled70.ipynb",
      "provenance": [],
      "authorship_tag": "ABX9TyMOAAD1WvgqwAmKdFPXE8vq",
      "include_colab_link": true
    },
    "kernelspec": {
      "name": "python3",
      "display_name": "Python 3"
    },
    "language_info": {
      "name": "python"
    }
  },
  "cells": [
    {
      "cell_type": "markdown",
      "metadata": {
        "id": "view-in-github",
        "colab_type": "text"
      },
      "source": [
        "<a href=\"https://colab.research.google.com/github/ogut77/DataScience/blob/main/ClassficationMetrics.ipynb\" target=\"_parent\"><img src=\"https://colab.research.google.com/assets/colab-badge.svg\" alt=\"Open In Colab\"/></a>"
      ]
    },
    {
      "cell_type": "code",
      "execution_count": 1,
      "metadata": {
        "id": "zr4xBjQgBLRr"
      },
      "outputs": [],
      "source": [
        "import pandas as pd\n",
        "import numpy as np\n",
        "from sklearn import datasets\n",
        "#\n",
        "# Load the breast cancer data set\n",
        "#\n",
        "bc = datasets.load_breast_cancer()\n",
        "X = bc.data\n",
        "y = bc.target"
      ]
    },
    {
      "cell_type": "code",
      "source": [
        "from sklearn.model_selection import train_test_split\n",
        "#\n",
        "# Create training and test split\n",
        "#\n",
        "X_train, X_test, y_train, y_test = train_test_split(X, y, test_size=0.30, random_state=1)"
      ],
      "metadata": {
        "id": "Dl9SM_DnBT1X"
      },
      "execution_count": 4,
      "outputs": []
    },
    {
      "cell_type": "code",
      "source": [
        "print('Shape of X_train=>',X_train.shape)\n",
        "print('Shape of X_test=>',X_test.shape)\n",
        "print('Shape of Y_train=>',y_train.shape)\n",
        "print('Shape of Y_test=>',y_test.shape)"
      ],
      "metadata": {
        "colab": {
          "base_uri": "https://localhost:8080/"
        },
        "id": "li3OdMCsCjsa",
        "outputId": "a563d891-b86e-4099-d555-3e7ce8a2a61b"
      },
      "execution_count": 5,
      "outputs": [
        {
          "output_type": "stream",
          "name": "stdout",
          "text": [
            "Shape of X_train=> (398, 30)\n",
            "Shape of X_test=> (171, 30)\n",
            "Shape of Y_train=> (398,)\n",
            "Shape of Y_test=> (171,)\n"
          ]
        }
      ]
    },
    {
      "cell_type": "code",
      "source": [
        "# Building Decision Tree\n",
        "from sklearn.tree import DecisionTreeClassifier\n",
        "dt = DecisionTreeClassifier(criterion = 'entropy', random_state = 21)\n",
        "dt.fit(X_train, y_train)\n",
        "dt_pred_train = dt.predict(X_train)"
      ],
      "metadata": {
        "id": "EYq9b4djC3S5"
      },
      "execution_count": 16,
      "outputs": []
    },
    {
      "cell_type": "code",
      "source": [
        ""
      ],
      "metadata": {
        "colab": {
          "base_uri": "https://localhost:8080/"
        },
        "id": "5mZpIaPOC976",
        "outputId": "5f980c08-f86e-4711-fd3b-128a8eeda131"
      },
      "execution_count": 17,
      "outputs": [
        {
          "output_type": "stream",
          "name": "stdout",
          "text": [
            "Training Set Evaluation Accuracy score=> 1.0\n",
            "Testing Set Evaluation Accuracy score=> 0.9005847953216374\n"
          ]
        }
      ]
    },
    {
      "cell_type": "code",
      "source": [
        "from sklearn.metrics import confusion_matrix\n",
        "import matplotlib.pyplot as plt\n",
        "conf_matrix = confusion_matrix(y_true=y_test, y_pred=dt_pred_test)\n",
        "#\n",
        "# Print the confusion matrix using Matplotlib\n",
        "#\n",
        "fig, ax = plt.subplots(figsize=(5, 5))\n",
        "ax.matshow(conf_matrix, cmap=plt.cm.Oranges, alpha=0.3)\n",
        "for i in range(conf_matrix.shape[0]):\n",
        "    for j in range(conf_matrix.shape[1]):\n",
        "        ax.text(x=j, y=i,s=conf_matrix[i, j], va='center', ha='center', size='xx-large')\n",
        " \n",
        "plt.xlabel('Predictions', fontsize=18)\n",
        "plt.ylabel('Actuals', fontsize=18)\n",
        "plt.title('Confusion Matrix', fontsize=18)\n",
        "plt.show()"
      ],
      "metadata": {
        "colab": {
          "base_uri": "https://localhost:8080/",
          "height": 358
        },
        "id": "12e2cQjnDWxs",
        "outputId": "2cfd97ae-a61c-4458-b08a-ec0f3557ba0c"
      },
      "execution_count": 18,
      "outputs": [
        {
          "output_type": "display_data",
          "data": {
            "image/png": "[encoded data removed]",
            "text/plain": [
              "<Figure size 360x360 with 1 Axes>"
            ]
          },
          "metadata": {
            "needs_background": "light"
          }
        }
      ]
    },
    {
      "cell_type": "markdown",
      "source": [
        "True Positive (TP): True positive represents the value of correct predictions of positives out of actual positive cases. Out of ? actual positive, ? is correctly predicted positive. Thus, the value of True Positive is ?.\n",
        "\n",
        "False Positive (FP): False positive represents the value of incorrect positive predictions. This value represents the number of negatives (out of ?) which gets falsely predicted as positive. Out of ? actual negative, ? is falsely predicted as positive. Thus, the value of False Positive is ?.\n",
        "\n",
        "True Negative (TN): True negative represents the value of correct predictions of negatives out of actual negative cases. Out of ? actual negative, ? is correctly predicted negative. Thus, the value of True Negative is ?.\n",
        "\n",
        "False Negative (FN): False negative represents the value of incorrect negative predictions. This value represents the number of positives (out of ?) which gets falsely predicted as negative. Out of ? actual positive, ? is falsely predicted as negative. Thus, the value of False Negative is ?."
      ],
      "metadata": {
        "id": "NVpHp9W9DxYN"
      }
    },
    {
      "cell_type": "code",
      "source": [
        "print(conf_matrix)\n",
        "print(sum(y_test))\n",
        "print(sum(dt_pred_test))"
      ],
      "metadata": {
        "colab": {
          "base_uri": "https://localhost:8080/"
        },
        "id": "ltwy6_ilEf84",
        "outputId": "26ad32eb-283f-483a-c1b5-d5a87e627485"
      },
      "execution_count": 19,
      "outputs": [
        {
          "output_type": "stream",
          "name": "stdout",
          "text": [
            "[[55  8]\n",
            " [ 9 99]]\n",
            "108\n",
            "107\n"
          ]
        }
      ]
    },
    {
      "cell_type": "code",
      "source": [
        "from sklearn.metrics import accuracy_score\n",
        "dt_pred_train = dt.predict(X_train)\n",
        "print('Training Set Evaluation Accuracy score=>',accuracy_score(y_train,dt_pred_train))\n",
        "# Evaluating on Test set\n",
        "dt_pred_test = dt.predict(X_test)\n",
        "print('Testing Set Evaluation Accuracy score=>',accuracy_score(y_test,dt_pred_test))"
      ],
      "metadata": {
        "colab": {
          "base_uri": "https://localhost:8080/"
        },
        "id": "fFXFNI3OFM8h",
        "outputId": "9eb7b385-2ba6-428c-d1ea-856f32d878e4"
      },
      "execution_count": 20,
      "outputs": [
        {
          "output_type": "stream",
          "name": "stdout",
          "text": [
            "Training Set Evaluation Accuracy score=> 1.0\n",
            "Testing Set Evaluation Accuracy score=> 0.9005847953216374\n"
          ]
        }
      ]
    },
    {
      "cell_type": "code",
      "source": [
        "#Calculate Accuracy Score on test data"
      ],
      "metadata": {
        "colab": {
          "base_uri": "https://localhost:8080/"
        },
        "id": "cGrsWs-HFTQM",
        "outputId": "31be34b5-2628-4bf2-d36e-99d366e90259"
      },
      "execution_count": 21,
      "outputs": [
        {
          "output_type": "stream",
          "name": "stdout",
          "text": [
            "0.9005847953216374\n"
          ]
        }
      ]
    },
    {
      "cell_type": "markdown",
      "source": [
        "Precision: Model precision score represents the model’s ability to correctly predict the positives out of all the positive predictions it made. The precision score is a useful measure of the success of prediction when the classes are very imbalanced. Mathematically, it represents the ratio of true positive to the sum of true positive and false positive.\n",
        "\n",
        "Precision Score = TP / (FP + TP)\n",
        "\n",
        "From the above formula, you could notice that the value of false-positive would impact the precision score. Thus, while building predictive models, you may choose to focus appropriately to build models with lower false positives if a high precision score is important for the business requirements."
      ],
      "metadata": {
        "id": "3yuapMV-GwEH"
      }
    },
    {
      "cell_type": "code",
      "source": [
        "from sklearn.metrics import precision_score\n",
        "print('Precision: ' + str(precision_score(y_test, dt_pred_test)))"
      ],
      "metadata": {
        "colab": {
          "base_uri": "https://localhost:8080/"
        },
        "id": "XgiM0QOcGvnV",
        "outputId": "783b6a6e-6eeb-428d-dc24-459e283ad6b6"
      },
      "execution_count": 27,
      "outputs": [
        {
          "output_type": "stream",
          "name": "stdout",
          "text": [
            "Precision: 0.9252336448598131\n"
          ]
        }
      ]
    },
    {
      "cell_type": "code",
      "source": [
        "#Calculate Precision Score on test data"
      ],
      "metadata": {
        "colab": {
          "base_uri": "https://localhost:8080/"
        },
        "id": "gB49P0XeHT2W",
        "outputId": "528e4268-5c87-4f37-d0a6-63eafc50cc6e"
      },
      "execution_count": 25,
      "outputs": [
        {
          "output_type": "stream",
          "name": "stdout",
          "text": [
            "0.9252336448598131\n"
          ]
        }
      ]
    },
    {
      "cell_type": "markdown",
      "source": [
        "Recall score measures how good our machine learning model is at identifying all actual positives out of all positives that exist within a dataset. The higher the recall score, the better the machine learning model is at identifying both positive and negative examples. Recall score is a useful measure of success of prediction when the classes are very imbalanced.  Mathematically, it represents the ratio of true positive to the sum of true positive and false negative.\n",
        "\n",
        "Recall Score = TP / (FN + TP)\n",
        "\n",
        "From the above formula, you could notice that the value of false-negative would impact the recall score. Thus, while building predictive models, you may choose to focus appropriately to build models with lower false negatives if a high recall score is important for the business requirements."
      ],
      "metadata": {
        "id": "WergDB3YHxEL"
      }
    },
    {
      "cell_type": "code",
      "source": [
        "from sklearn.metrics import recall_score\n",
        "print('Recall: ' + str(recall_score(y_test, dt_pred_test)))"
      ],
      "metadata": {
        "colab": {
          "base_uri": "https://localhost:8080/"
        },
        "id": "S2Jq0_8rIXtf",
        "outputId": "ab0ea90b-af93-46fa-c817-4f22ddc669e2"
      },
      "execution_count": 28,
      "outputs": [
        {
          "output_type": "stream",
          "name": "stdout",
          "text": [
            "Recall: 0.9166666666666666\n"
          ]
        }
      ]
    },
    {
      "cell_type": "code",
      "source": [
        "#Calculate Recall Score on test data"
      ],
      "metadata": {
        "id": "RFb9stzeIplC"
      },
      "execution_count": null,
      "outputs": []
    },
    {
      "cell_type": "markdown",
      "source": [
        "Model F1 score represents the model score as a function of precision and recall score. F-score is a machine learning model performance metric that gives equal weight to both the Precision and Recall for measuring its performance in terms of accuracy, making it an alternative to Accuracy metrics (it doesn’t require us to know the total number of observations). It’s often used as a single value that provides high-level information about the model’s output quality. This is a useful measure of the model in the scenarios where one tries to optimize either of precision or recall score and as a result, the model performance suffers. \n",
        "\n",
        "F1 Score = 2* Precision Score * Recall Score/ (Precision Score + Recall Score)"
      ],
      "metadata": {
        "id": "Ms0cxsgVJYWw"
      }
    },
    {
      "cell_type": "code",
      "source": [
        "from sklearn.metrics import  f1_score\n",
        "print('F1-Score: ' + str(f1_score(y_test, dt_pred_test)))"
      ],
      "metadata": {
        "colab": {
          "base_uri": "https://localhost:8080/"
        },
        "id": "F6U82Ak5JMf5",
        "outputId": "6b44b114-2f78-487e-e90d-235e93eaec70"
      },
      "execution_count": 29,
      "outputs": [
        {
          "output_type": "stream",
          "name": "stdout",
          "text": [
            "F1-Score: 0.9209302325581395\n"
          ]
        }
      ]
    },
    {
      "cell_type": "code",
      "source": [
        "#Calculate F1-Score on test data\n"
      ],
      "metadata": {
        "colab": {
          "base_uri": "https://localhost:8080/"
        },
        "id": "QFAvhmvUKIgG",
        "outputId": "699c3736-b8ae-470f-e35f-ec8cb6549554"
      },
      "execution_count": 30,
      "outputs": [
        {
          "output_type": "execute_result",
          "data": {
            "text/plain": [
              "0.9209302325581395"
            ]
          },
          "metadata": {},
          "execution_count": 30
        }
      ]
    },
    {
      "cell_type": "code",
      "source": [
        "from sklearn.metrics import roc_curve\n",
        "from sklearn.metrics import roc_auc_score\n",
        "from matplotlib import pyplot\n",
        "ns_probs = [0 for _ in range(len(y_test))]\n",
        "# fit a model\n",
        "\n",
        "# predict probabilities\n",
        "lr_probs = dt.predict_proba(X_test)\n",
        "# keep probabilities for the positive outcome only\n",
        "lr_probs = lr_probs[:, 1]\n",
        "# calculate scores\n",
        "ns_auc = roc_auc_score(y_test, ns_probs)\n",
        "lr_auc = roc_auc_score(y_test, lr_probs)\n",
        "# summarize scores\n",
        "print('No Skill: ROC AUC=%.3f' % (ns_auc))\n",
        "print('Decision Tree: ROC AUC=%.3f' % (lr_auc))\n",
        "# calculate roc curves\n",
        "ns_fpr, ns_tpr, _ = roc_curve(y_test, ns_probs)\n",
        "lr_fpr, lr_tpr, _ = roc_curve(y_test, lr_probs)\n",
        "# plot the roc curve for the model\n",
        "pyplot.plot(ns_fpr, ns_tpr, linestyle='--', label='No Skill')\n",
        "pyplot.plot(lr_fpr, lr_tpr, marker='.', label='Decision Tree')\n",
        "# axis labels\n",
        "pyplot.xlabel('False Positive Rate')\n",
        "pyplot.ylabel('True Positive Rate')\n",
        "# show the legend\n",
        "pyplot.legend()\n",
        "# show the plot\n",
        "pyplot.show()"
      ],
      "metadata": {
        "colab": {
          "base_uri": "https://localhost:8080/",
          "height": 313
        },
        "id": "ekKOQ0ZFLrrl",
        "outputId": "4f4ae715-73ba-40c3-ee84-492d43a8f01c"
      },
      "execution_count": 34,
      "outputs": [
        {
          "output_type": "stream",
          "name": "stdout",
          "text": [
            "No Skill: ROC AUC=0.500\n",
            "Decision Tree: ROC AUC=0.895\n"
          ]
        },
        {
          "output_type": "display_data",
          "data": {
            "image/png": "[encoded data removed]",
            "text/plain": [
              "<Figure size 432x288 with 1 Axes>"
            ]
          },
          "metadata": {
            "needs_background": "light"
          }
        }
      ]
    },
    {
      "cell_type": "code",
      "source": [
        "# Building  Random Forest Classifier\n",
        "from sklearn.ensemble import RandomForestClassifier\n",
        "rfc = RandomForestClassifier(criterion = 'entropy', random_state = 21)\n",
        "rfc.fit(X_train, y_train)\n",
        "\n",
        "# Evaluating on Training set\n",
        "rfc_pred_train = rfc.predict(X_train)\n",
        "print('Training Set Evaluation Accuracy score=>',accuracy_score(y_train,rfc_pred_train))\n",
        "# Evaluating on Test set\n",
        "rfc_pred_test = rfc.predict(X_test)\n",
        "print('Testing Set Evaluation Accuracy score=>',accuracy_score(y_test,rfc_pred_test))"
      ],
      "metadata": {
        "colab": {
          "base_uri": "https://localhost:8080/"
        },
        "id": "GvASWhpRNSP_",
        "outputId": "0376229c-7258-415c-fc04-71fb0b472130"
      },
      "execution_count": 35,
      "outputs": [
        {
          "output_type": "stream",
          "name": "stdout",
          "text": [
            "Training Set Evaluation Accuracy score=> 1.0\n",
            "Testing Set Evaluation Accuracy score=> 0.9415204678362573\n"
          ]
        }
      ]
    },
    {
      "cell_type": "code",
      "source": [
        "from sklearn.metrics import roc_curve\n",
        "from sklearn.metrics import roc_auc_score\n",
        "from matplotlib import pyplot\n",
        "ns_probs = [0 for _ in range(len(y_test))]\n",
        "# fit a model\n",
        "\n",
        "# predict probabilities\n",
        "lr_probs = rfc.predict_proba(X_test)\n",
        "# keep probabilities for the positive outcome only\n",
        "lr_probs = lr_probs[:, 1]\n",
        "# calculate scores\n",
        "ns_auc = roc_auc_score(y_test, ns_probs)\n",
        "lr_auc = roc_auc_score(y_test, lr_probs)\n",
        "# summarize scores\n",
        "print('No Skill: ROC AUC=%.3f' % (ns_auc))\n",
        "print('Random Forest: ROC AUC=%.3f' % (lr_auc))\n",
        "# calculate roc curves\n",
        "ns_fpr, ns_tpr, _ = roc_curve(y_test, ns_probs)\n",
        "lr_fpr, lr_tpr, _ = roc_curve(y_test, lr_probs)\n",
        "# plot the roc curve for the model\n",
        "pyplot.plot(ns_fpr, ns_tpr, linestyle='--', label='No Skill')\n",
        "pyplot.plot(lr_fpr, lr_tpr, marker='.', label='Random Forest')\n",
        "# axis labels\n",
        "pyplot.xlabel('False Positive Rate')\n",
        "pyplot.ylabel('True Positive Rate')\n",
        "# show the legend\n",
        "pyplot.legend()\n",
        "# show the plot\n",
        "pyplot.show()"
      ],
      "metadata": {
        "colab": {
          "base_uri": "https://localhost:8080/",
          "height": 313
        },
        "id": "Sc488PwZNmyi",
        "outputId": "a0567818-031a-4ee5-9b95-dfe77bc03c2e"
      },
      "execution_count": 37,
      "outputs": [
        {
          "output_type": "stream",
          "name": "stdout",
          "text": [
            "No Skill: ROC AUC=0.500\n",
            "Decision Tree: ROC AUC=0.979\n"
          ]
        },
        {
          "output_type": "display_data",
          "data": {
            "image/png": "[encoded data removed]",
            "text/plain": [
              "<Figure size 432x288 with 1 Axes>"
            ]
          },
          "metadata": {
            "needs_background": "light"
          }
        }
      ]
    },
    {
      "cell_type": "code",
      "source": [
        "from sklearn.metrics import roc_curve\n",
        "from sklearn.metrics import roc_auc_score\n",
        "from matplotlib import pyplot\n",
        "ns_probs = [0 for _ in range(len(y_test))]\n",
        "# fit a model\n",
        "\n",
        "# predict probabilities\n",
        "lr_probs = rfc.predict_proba(X_test)\n",
        "lr_probs1 = dt.predict_proba(X_test)\n",
        "# keep probabilities for the positive outcome only\n",
        "lr_probs = lr_probs[:, 1]\n",
        "lr_probs1 = lr_probs1[:, 1]\n",
        "# calculate scores\n",
        "ns_auc = roc_auc_score(y_test, ns_probs)\n",
        "lr_auc = roc_auc_score(y_test, lr_probs)\n",
        "lr_auc1 = roc_auc_score(y_test, lr_probs1)\n",
        "# summarize scores\n",
        "print('No Skill: ROC AUC=%.3f' % (ns_auc))\n",
        "print('Decision Tree: ROC AUC=%.3f' % (lr_auc1))\n",
        "print('Random Forest: ROC AUC=%.3f' % (lr_auc))\n",
        "\n",
        "# calculate roc curves\n",
        "ns_fpr, ns_tpr, _ = roc_curve(y_test, ns_probs)\n",
        "lr_fpr, lr_tpr, _ = roc_curve(y_test, lr_probs)\n",
        "lr_fpr1, lr_tpr1, _ = roc_curve(y_test, lr_probs1)\n",
        "# plot the roc curve for the model\n",
        "pyplot.plot(ns_fpr, ns_tpr, linestyle='--', label='No Skill')\n",
        "pyplot.plot(lr_fpr, lr_tpr, marker='.', label='Random Forest')\n",
        "pyplot.plot(lr_fpr1, lr_tpr1, marker='*', label='Decision Tree')\n",
        "# axis labels\n",
        "pyplot.xlabel('False Positive Rate')\n",
        "pyplot.ylabel('True Positive Rate')\n",
        "# show the legend\n",
        "pyplot.legend()\n",
        "# show the plot\n",
        "pyplot.show()"
      ],
      "metadata": {
        "colab": {
          "base_uri": "https://localhost:8080/",
          "height": 331
        },
        "id": "gz2u26m-N-Zr",
        "outputId": "5b802eeb-70e6-4ca2-eb2c-09a8aeede884"
      },
      "execution_count": 38,
      "outputs": [
        {
          "output_type": "stream",
          "name": "stdout",
          "text": [
            "No Skill: ROC AUC=0.500\n",
            "Decision Tree: ROC AUC=0.895\n",
            "Random Forest: ROC AUC=0.979\n"
          ]
        },
        {
          "output_type": "display_data",
          "data": {
            "image/png": "[encoded data removed]",
            "text/plain": [
              "<Figure size 432x288 with 1 Axes>"
            ]
          },
          "metadata": {
            "needs_background": "light"
          }
        }
      ]
    }
  ]
}