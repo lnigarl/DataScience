{
  "nbformat": 4,
  "nbformat_minor": 0,
  "metadata": {
    "colab": {
      "name": "Homework6.ipynb",
      "provenance": [],
      "authorship_tag": "ABX9TyO9LLNULlo1zMxENZQcpR7z",
      "include_colab_link": true
    },
    "kernelspec": {
      "name": "python3",
      "display_name": "Python 3"
    },
    "language_info": {
      "name": "python"
    }
  },
  "cells": [
    {
      "cell_type": "markdown",
      "metadata": {
        "id": "view-in-github",
        "colab_type": "text"
      },
      "source": [
        "<a href=\"https://colab.research.google.com/github/ogut77/DataScience/blob/main/Homework6.ipynb\" target=\"_parent\"><img src=\"https://colab.research.google.com/assets/colab-badge.svg\" alt=\"Open In Colab\"/></a>"
      ]
    },
    {
      "cell_type": "code",
      "source": [
        "#Q2\n",
        "import pandas as pd\n",
        "breast_dataset=pd.read_csv('https://raw.githubusercontent.com/ogut77/DataScience/main/data/Bcancer.csv')\n",
        "breast_dataset\n",
        "y=breast_dataset['label']\n",
        "X=breast_dataset.drop(['label'], axis = 1)\n",
        "X"
      ],
      "metadata": {
        "id": "M-SHEIK8i9Cx"
      },
      "execution_count": null,
      "outputs": []
    },
    {
      "cell_type": "markdown",
      "source": [
        "Q2) (70 points)Using breast cancer data above, \n",
        "\n",
        "(1) split the data two : training (65%) and testing (35%)\n",
        "\n",
        "(2) Using logistic regression model in train data, get the performance metric on test data(accuracy,recall, precision confusuion matrix)\n",
        "\n",
        "(3)Using knn model in train data(choose k based on CV), get the performance metric on test data(accuracy,recall, precision confusuion matrix). What is the k value chosen based on k?\n",
        "\n",
        "(4)Using naive  model in train data, get the performance metric on test data(accuracy,recall, precision confusuion matrix)\n",
        "\n",
        "(5)Using SVM with parameter tuning(you can use optuna) in train data ,get the performance metric on test data(accuracy,recall, precision confusuion matrix)"
      ],
      "metadata": {
        "id": "zC7aVfnCjG09"
      }
    }
  ]
}