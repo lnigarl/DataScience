{
  "nbformat": 4,
  "nbformat_minor": 0,
  "metadata": {
    "colab": {
      "name": "Untitled1.ipynb",
      "provenance": [],
      "authorship_tag": "ABX9TyNxq91RBhmC043AhZ/LiUXg",
      "include_colab_link": true
    },
    "kernelspec": {
      "name": "python3",
      "display_name": "Python 3"
    },
    "language_info": {
      "name": "python"
    },
    "accelerator": "TPU"
  },
  "cells": [
    {
      "cell_type": "markdown",
      "metadata": {
        "id": "view-in-github",
        "colab_type": "text"
      },
      "source": [
        "<a href=\"https://colab.research.google.com/github/ogut77/DataScience/blob/main/LR%2BkNN%2BNB%2BSVM.ipynb\" target=\"_parent\"><img src=\"https://colab.research.google.com/assets/colab-badge.svg\" alt=\"Open In Colab\"/></a>"
      ]
    },
    {
      "cell_type": "code",
      "execution_count": 3,
      "metadata": {
        "id": "2lmdj0w2FtPB"
      },
      "outputs": [],
      "source": [
        "# for Jupyter-book, we copy data from GitHub, locally, to save Internet traffic,\n",
        "# you can specify the data/ folder from the root of your cloned\n",
        "# https://github.com/Yorko/mlcourse.ai repo, to save Internet traffic\n",
        "import numpy as np\n",
        "import pandas as pd\n",
        "import seaborn as sns\n",
        "\n",
        "sns.set()\n",
        "from matplotlib import pyplot as plt\n",
        "DATA_PATH = \"https://raw.githubusercontent.com/Yorko/mlcourse.ai/master/data/\"\n",
        "df = pd.read_csv(DATA_PATH + \"telecom_churn.csv\")\n",
        "\n",
        "df[\"International plan\"] = pd.factorize(df[\"International plan\"])[0]\n",
        "df[\"Voice mail plan\"] = pd.factorize(df[\"Voice mail plan\"])[0]\n",
        "df[\"Churn\"] = df[\"Churn\"].astype(\"int\")\n",
        "states = df[\"State\"]\n",
        "y = df[\"Churn\"]\n",
        "X=df.drop([\"State\", \"Churn\"], axis=1)"
      ]
    },
    {
      "cell_type": "code",
      "source": [
        "def eval(yact,ypred):\n",
        " from sklearn import metrics\n",
        " print(\"Accuracy:\",metrics.accuracy_score(yact, ypred))\n",
        " print(\"Precision:\",metrics.precision_score(yact, ypred))\n",
        " print(\"Recall:\",metrics.recall_score(yact, ypred))\n",
        " \n",
        " cnf_matrix = metrics.confusion_matrix(yact, ypred)\n",
        " import numpy as np\n",
        " import matplotlib.pyplot as plt\n",
        " import seaborn as sns\n",
        " %matplotlib inline\n",
        " class_names=[0,1] # name  of classes\n",
        " fig, ax = plt.subplots()\n",
        " tick_marks = np.arange(len(class_names))\n",
        " plt.xticks(tick_marks, class_names)\n",
        " plt.yticks(tick_marks, class_names)\n",
        " # create heatmap\n",
        " sns.heatmap(pd.DataFrame(cnf_matrix), annot=True, cmap=\"YlGnBu\" ,fmt='g')\n",
        " ax.xaxis.set_label_position(\"top\")\n",
        " plt.tight_layout()\n",
        " plt.title('Confusion matrix', y=1.1)\n",
        " plt.ylabel('Actual label')\n",
        " plt.xlabel('Predicted label')\n"
      ],
      "metadata": {
        "id": "QD-s3ycHNtwS"
      },
      "execution_count": 4,
      "outputs": []
    },
    {
      "cell_type": "code",
      "source": [
        "#split data into 2 parts:test and train\n",
        "from sklearn.model_selection import StratifiedKFold, train_test_split\n",
        "from sklearn.tree import DecisionTreeClassifier\n",
        "\n",
        "X_train, X_test, y_train, y_test = train_test_split(\n",
        "    X, y, test_size=0.3, random_state=17\n",
        ")"
      ],
      "metadata": {
        "id": "MCfC1YujF2MX"
      },
      "execution_count": 5,
      "outputs": []
    },
    {
      "cell_type": "code",
      "source": [
        "X"
      ],
      "metadata": {
        "id": "6ziU2uXC_YHI",
        "outputId": "6987ee4a-4081-49cf-e5d9-ed0ab80327b7",
        "colab": {
          "base_uri": "https://localhost:8080/",
          "height": 522
        }
      },
      "execution_count": 5,
      "outputs": [
        {
          "output_type": "execute_result",
          "data": {
            "text/plain": [
              "      Account length  Area code  International plan  Voice mail plan  \\\n",
              "0                128        415                   0                0   \n",
              "1                107        415                   0                0   \n",
              "2                137        415                   0                1   \n",
              "3                 84        408                   1                1   \n",
              "4                 75        415                   1                1   \n",
              "...              ...        ...                 ...              ...   \n",
              "3328             192        415                   0                0   \n",
              "3329              68        415                   0                1   \n",
              "3330              28        510                   0                1   \n",
              "3331             184        510                   1                1   \n",
              "3332              74        415                   0                0   \n",
              "\n",
              "      Number vmail messages  Total day minutes  Total day calls  \\\n",
              "0                        25              265.1              110   \n",
              "1                        26              161.6              123   \n",
              "2                         0              243.4              114   \n",
              "3                         0              299.4               71   \n",
              "4                         0              166.7              113   \n",
              "...                     ...                ...              ...   \n",
              "3328                     36              156.2               77   \n",
              "3329                      0              231.1               57   \n",
              "3330                      0              180.8              109   \n",
              "3331                      0              213.8              105   \n",
              "3332                     25              234.4              113   \n",
              "\n",
              "      Total day charge  Total eve minutes  Total eve calls  Total eve charge  \\\n",
              "0                45.07              197.4               99             16.78   \n",
              "1                27.47              195.5              103             16.62   \n",
              "2                41.38              121.2              110             10.30   \n",
              "3                50.90               61.9               88              5.26   \n",
              "4                28.34              148.3              122             12.61   \n",
              "...                ...                ...              ...               ...   \n",
              "3328             26.55              215.5              126             18.32   \n",
              "3329             39.29              153.4               55             13.04   \n",
              "3330             30.74              288.8               58             24.55   \n",
              "3331             36.35              159.6               84             13.57   \n",
              "3332             39.85              265.9               82             22.60   \n",
              "\n",
              "      Total night minutes  Total night calls  Total night charge  \\\n",
              "0                   244.7                 91               11.01   \n",
              "1                   254.4                103               11.45   \n",
              "2                   162.6                104                7.32   \n",
              "3                   196.9                 89                8.86   \n",
              "4                   186.9                121                8.41   \n",
              "...                   ...                ...                 ...   \n",
              "3328                279.1                 83               12.56   \n",
              "3329                191.3                123                8.61   \n",
              "3330                191.9                 91                8.64   \n",
              "3331                139.2                137                6.26   \n",
              "3332                241.4                 77               10.86   \n",
              "\n",
              "      Total intl minutes  Total intl calls  Total intl charge  \\\n",
              "0                   10.0                 3               2.70   \n",
              "1                   13.7                 3               3.70   \n",
              "2                   12.2                 5               3.29   \n",
              "3                    6.6                 7               1.78   \n",
              "4                   10.1                 3               2.73   \n",
              "...                  ...               ...                ...   \n",
              "3328                 9.9                 6               2.67   \n",
              "3329                 9.6                 4               2.59   \n",
              "3330                14.1                 6               3.81   \n",
              "3331                 5.0                10               1.35   \n",
              "3332                13.7                 4               3.70   \n",
              "\n",
              "      Customer service calls  \n",
              "0                          1  \n",
              "1                          1  \n",
              "2                          0  \n",
              "3                          2  \n",
              "4                          3  \n",
              "...                      ...  \n",
              "3328                       2  \n",
              "3329                       3  \n",
              "3330                       2  \n",
              "3331                       2  \n",
              "3332                       0  \n",
              "\n",
              "[3333 rows x 18 columns]"
            ],
            "text/html": [
              "\n",
              "  <div id=\"df-b0a372b2-3251-4a10-b5c4-39e474f4d99e\">\n",
              "    <div class=\"colab-df-container\">\n",
              "      <div>\n",
              "<style scoped>\n",
              "    .dataframe tbody tr th:only-of-type {\n",
              "        vertical-align: middle;\n",
              "    }\n",
              "\n",
              "    .dataframe tbody tr th {\n",
              "        vertical-align: top;\n",
              "    }\n",
              "\n",
              "    .dataframe thead th {\n",
              "        text-align: right;\n",
              "    }\n",
              "</style>\n",
              "<table border=\"1\" class=\"dataframe\">\n",
              "  <thead>\n",
              "    <tr style=\"text-align: right;\">\n",
              "      <th></th>\n",
              "      <th>Account length</th>\n",
              "      <th>Area code</th>\n",
              "      <th>International plan</th>\n",
              "      <th>Voice mail plan</th>\n",
              "      <th>Number vmail messages</th>\n",
              "      <th>Total day minutes</th>\n",
              "      <th>Total day calls</th>\n",
              "      <th>Total day charge</th>\n",
              "      <th>Total eve minutes</th>\n",
              "      <th>Total eve calls</th>\n",
              "      <th>Total eve charge</th>\n",
              "      <th>Total night minutes</th>\n",
              "      <th>Total night calls</th>\n",
              "      <th>Total night charge</th>\n",
              "      <th>Total intl minutes</th>\n",
              "      <th>Total intl calls</th>\n",
              "      <th>Total intl charge</th>\n",
              "      <th>Customer service calls</th>\n",
              "    </tr>\n",
              "  </thead>\n",
              "  <tbody>\n",
              "    <tr>\n",
              "      <th>0</th>\n",
              "      <td>128</td>\n",
              "      <td>415</td>\n",
              "      <td>0</td>\n",
              "      <td>0</td>\n",
              "      <td>25</td>\n",
              "      <td>265.1</td>\n",
              "      <td>110</td>\n",
              "      <td>45.07</td>\n",
              "      <td>197.4</td>\n",
              "      <td>99</td>\n",
              "      <td>16.78</td>\n",
              "      <td>244.7</td>\n",
              "      <td>91</td>\n",
              "      <td>11.01</td>\n",
              "      <td>10.0</td>\n",
              "      <td>3</td>\n",
              "      <td>2.70</td>\n",
              "      <td>1</td>\n",
              "    </tr>\n",
              "    <tr>\n",
              "      <th>1</th>\n",
              "      <td>107</td>\n",
              "      <td>415</td>\n",
              "      <td>0</td>\n",
              "      <td>0</td>\n",
              "      <td>26</td>\n",
              "      <td>161.6</td>\n",
              "      <td>123</td>\n",
              "      <td>27.47</td>\n",
              "      <td>195.5</td>\n",
              "      <td>103</td>\n",
              "      <td>16.62</td>\n",
              "      <td>254.4</td>\n",
              "      <td>103</td>\n",
              "      <td>11.45</td>\n",
              "      <td>13.7</td>\n",
              "      <td>3</td>\n",
              "      <td>3.70</td>\n",
              "      <td>1</td>\n",
              "    </tr>\n",
              "    <tr>\n",
              "      <th>2</th>\n",
              "      <td>137</td>\n",
              "      <td>415</td>\n",
              "      <td>0</td>\n",
              "      <td>1</td>\n",
              "      <td>0</td>\n",
              "      <td>243.4</td>\n",
              "      <td>114</td>\n",
              "      <td>41.38</td>\n",
              "      <td>121.2</td>\n",
              "      <td>110</td>\n",
              "      <td>10.30</td>\n",
              "      <td>162.6</td>\n",
              "      <td>104</td>\n",
              "      <td>7.32</td>\n",
              "      <td>12.2</td>\n",
              "      <td>5</td>\n",
              "      <td>3.29</td>\n",
              "      <td>0</td>\n",
              "    </tr>\n",
              "    <tr>\n",
              "      <th>3</th>\n",
              "      <td>84</td>\n",
              "      <td>408</td>\n",
              "      <td>1</td>\n",
              "      <td>1</td>\n",
              "      <td>0</td>\n",
              "      <td>299.4</td>\n",
              "      <td>71</td>\n",
              "      <td>50.90</td>\n",
              "      <td>61.9</td>\n",
              "      <td>88</td>\n",
              "      <td>5.26</td>\n",
              "      <td>196.9</td>\n",
              "      <td>89</td>\n",
              "      <td>8.86</td>\n",
              "      <td>6.6</td>\n",
              "      <td>7</td>\n",
              "      <td>1.78</td>\n",
              "      <td>2</td>\n",
              "    </tr>\n",
              "    <tr>\n",
              "      <th>4</th>\n",
              "      <td>75</td>\n",
              "      <td>415</td>\n",
              "      <td>1</td>\n",
              "      <td>1</td>\n",
              "      <td>0</td>\n",
              "      <td>166.7</td>\n",
              "      <td>113</td>\n",
              "      <td>28.34</td>\n",
              "      <td>148.3</td>\n",
              "      <td>122</td>\n",
              "      <td>12.61</td>\n",
              "      <td>186.9</td>\n",
              "      <td>121</td>\n",
              "      <td>8.41</td>\n",
              "      <td>10.1</td>\n",
              "      <td>3</td>\n",
              "      <td>2.73</td>\n",
              "      <td>3</td>\n",
              "    </tr>\n",
              "    <tr>\n",
              "      <th>...</th>\n",
              "      <td>...</td>\n",
              "      <td>...</td>\n",
              "      <td>...</td>\n",
              "      <td>...</td>\n",
              "      <td>...</td>\n",
              "      <td>...</td>\n",
              "      <td>...</td>\n",
              "      <td>...</td>\n",
              "      <td>...</td>\n",
              "      <td>...</td>\n",
              "      <td>...</td>\n",
              "      <td>...</td>\n",
              "      <td>...</td>\n",
              "      <td>...</td>\n",
              "      <td>...</td>\n",
              "      <td>...</td>\n",
              "      <td>...</td>\n",
              "      <td>...</td>\n",
              "    </tr>\n",
              "    <tr>\n",
              "      <th>3328</th>\n",
              "      <td>192</td>\n",
              "      <td>415</td>\n",
              "      <td>0</td>\n",
              "      <td>0</td>\n",
              "      <td>36</td>\n",
              "      <td>156.2</td>\n",
              "      <td>77</td>\n",
              "      <td>26.55</td>\n",
              "      <td>215.5</td>\n",
              "      <td>126</td>\n",
              "      <td>18.32</td>\n",
              "      <td>279.1</td>\n",
              "      <td>83</td>\n",
              "      <td>12.56</td>\n",
              "      <td>9.9</td>\n",
              "      <td>6</td>\n",
              "      <td>2.67</td>\n",
              "      <td>2</td>\n",
              "    </tr>\n",
              "    <tr>\n",
              "      <th>3329</th>\n",
              "      <td>68</td>\n",
              "      <td>415</td>\n",
              "      <td>0</td>\n",
              "      <td>1</td>\n",
              "      <td>0</td>\n",
              "      <td>231.1</td>\n",
              "      <td>57</td>\n",
              "      <td>39.29</td>\n",
              "      <td>153.4</td>\n",
              "      <td>55</td>\n",
              "      <td>13.04</td>\n",
              "      <td>191.3</td>\n",
              "      <td>123</td>\n",
              "      <td>8.61</td>\n",
              "      <td>9.6</td>\n",
              "      <td>4</td>\n",
              "      <td>2.59</td>\n",
              "      <td>3</td>\n",
              "    </tr>\n",
              "    <tr>\n",
              "      <th>3330</th>\n",
              "      <td>28</td>\n",
              "      <td>510</td>\n",
              "      <td>0</td>\n",
              "      <td>1</td>\n",
              "      <td>0</td>\n",
              "      <td>180.8</td>\n",
              "      <td>109</td>\n",
              "      <td>30.74</td>\n",
              "      <td>288.8</td>\n",
              "      <td>58</td>\n",
              "      <td>24.55</td>\n",
              "      <td>191.9</td>\n",
              "      <td>91</td>\n",
              "      <td>8.64</td>\n",
              "      <td>14.1</td>\n",
              "      <td>6</td>\n",
              "      <td>3.81</td>\n",
              "      <td>2</td>\n",
              "    </tr>\n",
              "    <tr>\n",
              "      <th>3331</th>\n",
              "      <td>184</td>\n",
              "      <td>510</td>\n",
              "      <td>1</td>\n",
              "      <td>1</td>\n",
              "      <td>0</td>\n",
              "      <td>213.8</td>\n",
              "      <td>105</td>\n",
              "      <td>36.35</td>\n",
              "      <td>159.6</td>\n",
              "      <td>84</td>\n",
              "      <td>13.57</td>\n",
              "      <td>139.2</td>\n",
              "      <td>137</td>\n",
              "      <td>6.26</td>\n",
              "      <td>5.0</td>\n",
              "      <td>10</td>\n",
              "      <td>1.35</td>\n",
              "      <td>2</td>\n",
              "    </tr>\n",
              "    <tr>\n",
              "      <th>3332</th>\n",
              "      <td>74</td>\n",
              "      <td>415</td>\n",
              "      <td>0</td>\n",
              "      <td>0</td>\n",
              "      <td>25</td>\n",
              "      <td>234.4</td>\n",
              "      <td>113</td>\n",
              "      <td>39.85</td>\n",
              "      <td>265.9</td>\n",
              "      <td>82</td>\n",
              "      <td>22.60</td>\n",
              "      <td>241.4</td>\n",
              "      <td>77</td>\n",
              "      <td>10.86</td>\n",
              "      <td>13.7</td>\n",
              "      <td>4</td>\n",
              "      <td>3.70</td>\n",
              "      <td>0</td>\n",
              "    </tr>\n",
              "  </tbody>\n",
              "</table>\n",
              "<p>3333 rows × 18 columns</p>\n",
              "</div>\n",
              "      <button class=\"colab-df-convert\" onclick=\"convertToInteractive('df-b0a372b2-3251-4a10-b5c4-39e474f4d99e')\"\n",
              "              title=\"Convert this dataframe to an interactive table.\"\n",
              "              style=\"display:none;\">\n",
              "        \n",
              "  <svg xmlns=\"http://www.w3.org/2000/svg\" height=\"24px\"viewBox=\"0 0 24 24\"\n",
              "       width=\"24px\">\n",
              "    <path d=\"M0 0h24v24H0V0z\" fill=\"none\"/>\n",
              "    <path d=\"M18.56 5.44l.94 2.06.94-2.06 2.06-.94-2.06-.94-.94-2.06-.94 2.06-2.06.94zm-11 1L8.5 8.5l.94-2.06 2.06-.94-2.06-.94L8.5 2.5l-.94 2.06-2.06.94zm10 10l.94 2.06.94-2.06 2.06-.94-2.06-.94-.94-2.06-.94 2.06-2.06.94z\"/><path d=\"M17.41 7.96l-1.37-1.37c-.4-.4-.92-.59-1.43-.59-.52 0-1.04.2-1.43.59L10.3 9.45l-7.72 7.72c-.78.78-.78 2.05 0 2.83L4 21.41c.39.39.9.59 1.41.59.51 0 1.02-.2 1.41-.59l7.78-7.78 2.81-2.81c.8-.78.8-2.07 0-2.86zM5.41 20L4 18.59l7.72-7.72 1.47 1.35L5.41 20z\"/>\n",
              "  </svg>\n",
              "      </button>\n",
              "      \n",
              "  <style>\n",
              "    .colab-df-container {\n",
              "      display:flex;\n",
              "      flex-wrap:wrap;\n",
              "      gap: 12px;\n",
              "    }\n",
              "\n",
              "    .colab-df-convert {\n",
              "      background-color: #E8F0FE;\n",
              "      border: none;\n",
              "      border-radius: 50%;\n",
              "      cursor: pointer;\n",
              "      display: none;\n",
              "      fill: #1967D2;\n",
              "      height: 32px;\n",
              "      padding: 0 0 0 0;\n",
              "      width: 32px;\n",
              "    }\n",
              "\n",
              "    .colab-df-convert:hover {\n",
              "      background-color: #E2EBFA;\n",
              "      box-shadow: 0px 1px 2px rgba(60, 64, 67, 0.3), 0px 1px 3px 1px rgba(60, 64, 67, 0.15);\n",
              "      fill: #174EA6;\n",
              "    }\n",
              "\n",
              "    [theme=dark] .colab-df-convert {\n",
              "      background-color: #3B4455;\n",
              "      fill: #D2E3FC;\n",
              "    }\n",
              "\n",
              "    [theme=dark] .colab-df-convert:hover {\n",
              "      background-color: #434B5C;\n",
              "      box-shadow: 0px 1px 3px 1px rgba(0, 0, 0, 0.15);\n",
              "      filter: drop-shadow(0px 1px 2px rgba(0, 0, 0, 0.3));\n",
              "      fill: #FFFFFF;\n",
              "    }\n",
              "  </style>\n",
              "\n",
              "      <script>\n",
              "        const buttonEl =\n",
              "          document.querySelector('#df-b0a372b2-3251-4a10-b5c4-39e474f4d99e button.colab-df-convert');\n",
              "        buttonEl.style.display =\n",
              "          google.colab.kernel.accessAllowed ? 'block' : 'none';\n",
              "\n",
              "        async function convertToInteractive(key) {\n",
              "          const element = document.querySelector('#df-b0a372b2-3251-4a10-b5c4-39e474f4d99e');\n",
              "          const dataTable =\n",
              "            await google.colab.kernel.invokeFunction('convertToInteractive',\n",
              "                                                     [key], {});\n",
              "          if (!dataTable) return;\n",
              "\n",
              "          const docLinkHtml = 'Like what you see? Visit the ' +\n",
              "            '<a target=\"_blank\" href=https://colab.research.google.com/notebooks/data_table.ipynb>data table notebook</a>'\n",
              "            + ' to learn more about interactive tables.';\n",
              "          element.innerHTML = '';\n",
              "          dataTable['output_type'] = 'display_data';\n",
              "          await google.colab.output.renderOutput(dataTable, element);\n",
              "          const docLink = document.createElement('div');\n",
              "          docLink.innerHTML = docLinkHtml;\n",
              "          element.appendChild(docLink);\n",
              "        }\n",
              "      </script>\n",
              "    </div>\n",
              "  </div>\n",
              "  "
            ]
          },
          "metadata": {},
          "execution_count": 5
        }
      ]
    },
    {
      "cell_type": "code",
      "source": [
        "#To get the coeffient\n",
        "import statsmodels.api as sm\n",
        "X2 = sm.add_constant(X_train)\n",
        "logit_model=sm.Logit(y_train,X2)\n",
        "result=logit_model.fit()\n",
        "print(result.summary())"
      ],
      "metadata": {
        "colab": {
          "base_uri": "https://localhost:8080/"
        },
        "id": "jXecTh6slqPY",
        "outputId": "b1bd387b-60eb-4ad6-9aee-564c89204f0e"
      },
      "execution_count": 20,
      "outputs": [
        {
          "output_type": "stream",
          "name": "stdout",
          "text": [
            "Optimization terminated successfully.\n",
            "         Current function value: 0.330509\n",
            "         Iterations 8\n",
            "                           Logit Regression Results                           \n",
            "==============================================================================\n",
            "Dep. Variable:                  Churn   No. Observations:                 2333\n",
            "Model:                          Logit   Df Residuals:                     2314\n",
            "Method:                           MLE   Df Model:                           18\n",
            "Date:                Fri, 01 Apr 2022   Pseudo R-squ.:                  0.2182\n",
            "Time:                        03:51:19   Log-Likelihood:                -771.08\n",
            "converged:                       True   LL-Null:                       -986.27\n",
            "Covariance Type:            nonrobust   LLR p-value:                 4.144e-80\n",
            "==========================================================================================\n",
            "                             coef    std err          z      P>|z|      [0.025      0.975]\n",
            "------------------------------------------------------------------------------------------\n",
            "const                     -9.7729      1.278     -7.648      0.000     -12.277      -7.268\n",
            "Account length             0.0009      0.002      0.521      0.602      -0.002       0.004\n",
            "Area code                 -0.0007      0.002     -0.463      0.643      -0.004       0.002\n",
            "International plan         2.0504      0.179     11.455      0.000       1.700       2.401\n",
            "Voice mail plan            1.5822      0.650      2.436      0.015       0.309       2.855\n",
            "Number vmail messages      0.0243      0.021      1.176      0.240      -0.016       0.065\n",
            "Total day minutes         -0.2946      3.838     -0.077      0.939      -7.818       7.229\n",
            "Total day calls            0.0023      0.003      0.706      0.480      -0.004       0.009\n",
            "Total day charge           1.8135     22.579      0.080      0.936     -42.441      46.068\n",
            "Total eve minutes          0.6297      1.930      0.326      0.744      -3.153       4.412\n",
            "Total eve calls            0.0021      0.003      0.627      0.531      -0.004       0.009\n",
            "Total eve charge          -7.3315     22.704     -0.323      0.747     -51.831      37.168\n",
            "Total night minutes        0.2826      1.043      0.271      0.786      -1.762       2.328\n",
            "Total night calls         -0.0011      0.003     -0.333      0.739      -0.008       0.006\n",
            "Total night charge        -6.1647     23.184     -0.266      0.790     -51.604      39.275\n",
            "Total intl minutes        -9.6705      6.266     -1.543      0.123     -21.952       2.610\n",
            "Total intl calls          -0.1082      0.030     -3.604      0.000      -0.167      -0.049\n",
            "Total intl charge         36.0789     23.207      1.555      0.120      -9.406      81.564\n",
            "Customer service calls     0.5095      0.045     11.223      0.000       0.421       0.599\n",
            "==========================================================================================\n"
          ]
        },
        {
          "output_type": "stream",
          "name": "stderr",
          "text": [
            "/usr/local/lib/python3.7/dist-packages/statsmodels/tsa/tsatools.py:117: FutureWarning: In a future version of pandas all arguments of concat except for the argument 'objs' will be keyword-only\n",
            "  x = pd.concat(x[::order], 1)\n"
          ]
        }
      ]
    },
    {
      "cell_type": "markdown",
      "source": [
        "A) Which variables are significantly diffrent than 0  at 5% significant level?\n",
        "\n",
        "B)Among signicant variables, which one increases the probability of churn?"
      ],
      "metadata": {
        "id": "cEFu01cG9r0o"
      }
    },
    {
      "cell_type": "code",
      "source": [
        "from sklearn.linear_model import LogisticRegression\n",
        "\n",
        "# instantiate the model (using the default parameters)\n",
        "logreg = LogisticRegression()\n",
        "\n",
        "# fit the model with data\n",
        "logreg.fit(X_train,y_train)\n",
        "\n",
        "#\n",
        "y_pred=logreg.predict(X_test)"
      ],
      "metadata": {
        "colab": {
          "base_uri": "https://localhost:8080/"
        },
        "id": "PRUCmnhwGAEy",
        "outputId": "4f7c9386-4014-4e4a-eef4-0b4e167b3e0d"
      },
      "execution_count": 21,
      "outputs": [
        {
          "output_type": "stream",
          "name": "stderr",
          "text": [
            "/usr/local/lib/python3.7/dist-packages/sklearn/linear_model/_logistic.py:818: ConvergenceWarning: lbfgs failed to converge (status=1):\n",
            "STOP: TOTAL NO. of ITERATIONS REACHED LIMIT.\n",
            "\n",
            "Increase the number of iterations (max_iter) or scale the data as shown in:\n",
            "    https://scikit-learn.org/stable/modules/preprocessing.html\n",
            "Please also refer to the documentation for alternative solver options:\n",
            "    https://scikit-learn.org/stable/modules/linear_model.html#logistic-regression\n",
            "  extra_warning_msg=_LOGISTIC_SOLVER_CONVERGENCE_MSG,\n"
          ]
        }
      ]
    },
    {
      "cell_type": "code",
      "source": [
        "eval(y_test,y_pred)"
      ],
      "metadata": {
        "id": "N5X-h6pNIVt8",
        "outputId": "d89209ed-d7b1-42db-fd5d-d68729dea0d1",
        "colab": {
          "base_uri": "https://localhost:8080/",
          "height": 379
        }
      },
      "execution_count": 24,
      "outputs": [
        {
          "output_type": "stream",
          "name": "stdout",
          "text": [
            "Accuracy: 0.873\n",
            "Precision: 0.625\n",
            "Recall: 0.11278195488721804\n"
          ]
        },
        {
          "output_type": "display_data",
          "data": {
            "text/plain": [
              "<Figure size 432x288 with 2 Axes>"
            ],
            "image/png": "[encoded data removed]"
          },
          "metadata": {
            "needs_background": "light"
          }
        }
      ]
    },
    {
      "cell_type": "markdown",
      "source": [
        "K-Nearest Neighbour- k-NN"
      ],
      "metadata": {
        "id": "7c_TrtqBKon6"
      }
    },
    {
      "cell_type": "code",
      "source": [
        "from sklearn.neighbors import KNeighborsClassifier\n",
        "knn3 = KNeighborsClassifier(n_neighbors=3)\n",
        "# fit the model with data\n",
        "knn3.fit(X_train,y_train)\n",
        "\n",
        "#\n",
        "y_predKNN3=knn3.predict(X_test)\n",
        "from sklearn import metrics\n",
        "\n",
        "eval(y_test,y_predKNN3)"
      ],
      "metadata": {
        "colab": {
          "base_uri": "https://localhost:8080/",
          "height": 379
        },
        "id": "HVDVT-svK8P5",
        "outputId": "f2d314e4-c0e6-4f61-8604-1c0ccca32354"
      },
      "execution_count": 31,
      "outputs": [
        {
          "output_type": "stream",
          "name": "stdout",
          "text": [
            "Accuracy: 0.868\n",
            "Precision: 0.5072463768115942\n",
            "Recall: 0.2631578947368421\n"
          ]
        },
        {
          "output_type": "display_data",
          "data": {
            "text/plain": [
              "<Figure size 432x288 with 2 Axes>"
            ],
            "image/png": "[encoded data removed]"
          },
          "metadata": {
            "needs_background": "light"
          }
        }
      ]
    },
    {
      "cell_type": "markdown",
      "source": [
        "Choose k Based On CV"
      ],
      "metadata": {
        "id": "pkzt4LxTMhyC"
      }
    },
    {
      "cell_type": "code",
      "source": [
        "from sklearn.neighbors import KNeighborsClassifier\n",
        "knn = KNeighborsClassifier()\n",
        "from sklearn.model_selection import GridSearchCV, cross_val_score\n",
        "\n",
        "knn_params = {\"n_neighbors\": range(2, 10)}\n",
        "\n",
        "knn_grid = GridSearchCV(knn, knn_params, cv=3)\n",
        "\n",
        "knn_grid.fit(X_train, y_train)\n",
        "knn_grid.best_params_"
      ],
      "metadata": {
        "colab": {
          "base_uri": "https://localhost:8080/"
        },
        "id": "H6e5ylhtMdEh",
        "outputId": "bbeafa15-a753-47b5-a22f-e23be0c16010"
      },
      "execution_count": 27,
      "outputs": [
        {
          "output_type": "execute_result",
          "data": {
            "text/plain": [
              "{'n_neighbors': 5}"
            ]
          },
          "metadata": {},
          "execution_count": 27
        }
      ]
    },
    {
      "cell_type": "code",
      "source": [
        "from sklearn.neighbors import KNeighborsClassifier\n",
        "knncv = KNeighborsClassifier(**knn_grid.best_params_)\n",
        "# fit the model with data\n",
        "knncv.fit(X_train,y_train)\n",
        "#\n",
        "y_predknncv=knncv.predict(X_test)\n",
        "eval(y_test,y_predknncv)\n"
      ],
      "metadata": {
        "colab": {
          "base_uri": "https://localhost:8080/",
          "height": 379
        },
        "id": "zLz4D_FBO3dI",
        "outputId": "4efb90fe-c111-45a9-b9bf-cba4108096a2"
      },
      "execution_count": 29,
      "outputs": [
        {
          "output_type": "stream",
          "name": "stdout",
          "text": [
            "Accuracy: 0.875\n",
            "Precision: 0.58\n",
            "Recall: 0.21804511278195488\n"
          ]
        },
        {
          "output_type": "display_data",
          "data": {
            "text/plain": [
              "<Figure size 432x288 with 2 Axes>"
            ],
            "image/png": "[encoded data removed]"
          },
          "metadata": {
            "needs_background": "light"
          }
        }
      ]
    },
    {
      "cell_type": "markdown",
      "source": [
        "# **Naive Bayes**"
      ],
      "metadata": {
        "id": "mwP7mQ_IP-hU"
      }
    },
    {
      "cell_type": "code",
      "source": [
        "from sklearn.naive_bayes import GaussianNB\n",
        "\n",
        "#Create a Gaussian Classifier\n",
        "model = GaussianNB()\n",
        "\n",
        "# Train the model using the training sets\n",
        "model.fit(X_train,y_train)\n",
        "y_predNB=model.predict(X_test)\n",
        "eval(y_test,y_predNB)"
      ],
      "metadata": {
        "colab": {
          "base_uri": "https://localhost:8080/",
          "height": 379
        },
        "id": "jGOqxa1pP6bI",
        "outputId": "80f1bb26-28ec-44d6-b056-fab3fe9ae75e"
      },
      "execution_count": 32,
      "outputs": [
        {
          "output_type": "stream",
          "name": "stdout",
          "text": [
            "Accuracy: 0.863\n",
            "Precision: 0.4864864864864865\n",
            "Recall: 0.5413533834586466\n"
          ]
        },
        {
          "output_type": "display_data",
          "data": {
            "text/plain": [
              "<Figure size 432x288 with 2 Axes>"
            ],
            "image/png": "[encoded data removed]"
          },
          "metadata": {
            "needs_background": "light"
          }
        }
      ]
    },
    {
      "cell_type": "markdown",
      "source": [
        "# **SVM with default parameters**"
      ],
      "metadata": {
        "id": "KJs8P-XtmEiP"
      }
    },
    {
      "cell_type": "code",
      "source": [
        "from sklearn.svm import SVC \n",
        "sv =SVC()\n",
        "sv.fit(X_train,y_train)\n",
        "y_predsv=sv.predict(X_test)\n",
        "from sklearn import metrics\n",
        "\n",
        "eval(y_test,y_predsv)"
      ],
      "metadata": {
        "id": "jDmCOewLcdbG",
        "outputId": "d4115e32-80f4-4088-b3f5-413253498230",
        "colab": {
          "base_uri": "https://localhost:8080/",
          "height": 434
        }
      },
      "execution_count": 7,
      "outputs": [
        {
          "output_type": "stream",
          "name": "stdout",
          "text": [
            "Accuracy: 0.867\n",
            "Precision: 0.0\n",
            "Recall: 0.0\n"
          ]
        },
        {
          "output_type": "stream",
          "name": "stderr",
          "text": [
            "/usr/local/lib/python3.7/dist-packages/sklearn/metrics/_classification.py:1318: UndefinedMetricWarning: Precision is ill-defined and being set to 0.0 due to no predicted samples. Use `zero_division` parameter to control this behavior.\n",
            "  _warn_prf(average, modifier, msg_start, len(result))\n"
          ]
        },
        {
          "output_type": "display_data",
          "data": {
            "text/plain": [
              "<Figure size 432x288 with 2 Axes>"
            ],
            "image/png": "[encoded data removed]"
          },
          "metadata": {
            "needs_background": "light"
          }
        }
      ]
    },
    {
      "cell_type": "code",
      "source": [
        "!pip install optuna"
      ],
      "metadata": {
        "id": "hEOSyZ8IY7-S",
        "outputId": "f9dccb0b-af73-462f-ac36-5d1aa9b32930",
        "colab": {
          "base_uri": "https://localhost:8080/"
        }
      },
      "execution_count": 5,
      "outputs": [
        {
          "output_type": "stream",
          "name": "stdout",
          "text": [
            "Collecting optuna\n",
            "  Downloading optuna-2.10.0-py3-none-any.whl (308 kB)\n",
            "\u001b[K     |████████████████████████████████| 308 kB 5.3 MB/s \n",
            "\u001b[?25hRequirement already satisfied: tqdm in /usr/local/lib/python3.7/dist-packages (from optuna) (4.63.0)\n",
            "Requirement already satisfied: packaging>=20.0 in /usr/local/lib/python3.7/dist-packages (from optuna) (21.3)\n",
            "Collecting cliff\n",
            "  Downloading cliff-3.10.1-py3-none-any.whl (81 kB)\n",
            "\u001b[K     |████████████████████████████████| 81 kB 8.3 MB/s \n",
            "\u001b[?25hCollecting colorlog\n",
            "  Downloading colorlog-6.6.0-py2.py3-none-any.whl (11 kB)\n",
            "Collecting alembic\n",
            "  Downloading alembic-1.7.7-py3-none-any.whl (210 kB)\n",
            "\u001b[K     |████████████████████████████████| 210 kB 51.2 MB/s \n",
            "\u001b[?25hCollecting cmaes>=0.8.2\n",
            "  Downloading cmaes-0.8.2-py3-none-any.whl (15 kB)\n",
            "Requirement already satisfied: scipy!=1.4.0 in /usr/local/lib/python3.7/dist-packages (from optuna) (1.4.1)\n",
            "Requirement already satisfied: numpy in /usr/local/lib/python3.7/dist-packages (from optuna) (1.21.5)\n",
            "Requirement already satisfied: PyYAML in /usr/local/lib/python3.7/dist-packages (from optuna) (3.13)\n",
            "Requirement already satisfied: sqlalchemy>=1.1.0 in /usr/local/lib/python3.7/dist-packages (from optuna) (1.4.32)\n",
            "Requirement already satisfied: pyparsing!=3.0.5,>=2.0.2 in /usr/local/lib/python3.7/dist-packages (from packaging>=20.0->optuna) (3.0.7)\n",
            "Requirement already satisfied: importlib-metadata in /usr/local/lib/python3.7/dist-packages (from sqlalchemy>=1.1.0->optuna) (4.11.3)\n",
            "Requirement already satisfied: greenlet!=0.4.17 in /usr/local/lib/python3.7/dist-packages (from sqlalchemy>=1.1.0->optuna) (1.1.2)\n",
            "Collecting Mako\n",
            "  Downloading Mako-1.2.0-py3-none-any.whl (78 kB)\n",
            "\u001b[K     |████████████████████████████████| 78 kB 6.5 MB/s \n",
            "\u001b[?25hRequirement already satisfied: importlib-resources in /usr/local/lib/python3.7/dist-packages (from alembic->optuna) (5.4.0)\n",
            "Collecting stevedore>=2.0.1\n",
            "  Downloading stevedore-3.5.0-py3-none-any.whl (49 kB)\n",
            "\u001b[K     |████████████████████████████████| 49 kB 5.7 MB/s \n",
            "\u001b[?25hCollecting cmd2>=1.0.0\n",
            "  Downloading cmd2-2.4.0-py3-none-any.whl (150 kB)\n",
            "\u001b[K     |████████████████████████████████| 150 kB 52.7 MB/s \n",
            "\u001b[?25hRequirement already satisfied: PrettyTable>=0.7.2 in /usr/local/lib/python3.7/dist-packages (from cliff->optuna) (3.2.0)\n",
            "Collecting pbr!=2.1.0,>=2.0.0\n",
            "  Downloading pbr-5.8.1-py2.py3-none-any.whl (113 kB)\n",
            "\u001b[K     |████████████████████████████████| 113 kB 54.0 MB/s \n",
            "\u001b[?25hCollecting autopage>=0.4.0\n",
            "  Downloading autopage-0.5.0-py3-none-any.whl (29 kB)\n",
            "Requirement already satisfied: wcwidth>=0.1.7 in /usr/local/lib/python3.7/dist-packages (from cmd2>=1.0.0->cliff->optuna) (0.2.5)\n",
            "Requirement already satisfied: typing-extensions in /usr/local/lib/python3.7/dist-packages (from cmd2>=1.0.0->cliff->optuna) (3.10.0.2)\n",
            "Requirement already satisfied: attrs>=16.3.0 in /usr/local/lib/python3.7/dist-packages (from cmd2>=1.0.0->cliff->optuna) (21.4.0)\n",
            "Collecting pyperclip>=1.6\n",
            "  Downloading pyperclip-1.8.2.tar.gz (20 kB)\n",
            "Requirement already satisfied: zipp>=0.5 in /usr/local/lib/python3.7/dist-packages (from importlib-metadata->sqlalchemy>=1.1.0->optuna) (3.7.0)\n",
            "Requirement already satisfied: MarkupSafe>=0.9.2 in /usr/local/lib/python3.7/dist-packages (from Mako->alembic->optuna) (2.0.1)\n",
            "Building wheels for collected packages: pyperclip\n",
            "  Building wheel for pyperclip (setup.py) ... \u001b[?25l\u001b[?25hdone\n",
            "  Created wheel for pyperclip: filename=pyperclip-1.8.2-py3-none-any.whl size=11137 sha256=f182460a5944a854f9aa53a22baa4bbb55eed831224a48513d8028ca31510fec\n",
            "  Stored in directory: /root/.cache/pip/wheels/9f/18/84/8f69f8b08169c7bae2dde6bd7daf0c19fca8c8e500ee620a28\n",
            "Successfully built pyperclip\n",
            "Installing collected packages: pyperclip, pbr, stevedore, Mako, cmd2, autopage, colorlog, cmaes, cliff, alembic, optuna\n",
            "Successfully installed Mako-1.2.0 alembic-1.7.7 autopage-0.5.0 cliff-3.10.1 cmaes-0.8.2 cmd2-2.4.0 colorlog-6.6.0 optuna-2.10.0 pbr-5.8.1 pyperclip-1.8.2 stevedore-3.5.0\n"
          ]
        }
      ]
    },
    {
      "cell_type": "markdown",
      "source": [
        "Support Vector with Parameter Optimization\n",
        "\n",
        "It takes too much time to optimize"
      ],
      "metadata": {
        "id": "dWhoeIpWfqa6"
      }
    },
    {
      "cell_type": "code",
      "source": [
        "from sklearn.svm import SVC \n",
        "import optuna as op\n",
        "#split data into 2 parts:test and train\n",
        "from sklearn.model_selection import StratifiedKFold, train_test_split\n",
        "X_train2, X_test2, y_train2, y_test2 = train_test_split(\n",
        "    X_train, y_train, test_size=0.3, random_state=17\n",
        ") \n",
        "def objective(trial):\n",
        "\n",
        "   kernel=trial.suggest_categorical('kernel',['rbf','poly','linear','sigmoid'])\n",
        "   c=trial.suggest_float(\"C\",0.1,3.0,log=True)\n",
        "   gamma=trial.suggest_categorical('gamma',['auto','scale'])\n",
        "   degree=trial.suggest_int(\"degree\",1,3,log=True)\n",
        "   model =SVC(kernel=kernel,degree=degree,gamma=gamma,C=c)\n",
        "   model.fit(X_train2,y_train2)\n",
        "   accuracy = model.score(X_test2,y_test2)\n",
        "   return accuracy\n",
        "#optuna study record\n",
        "study = op.create_study(direction=\"maximize\")\n",
        "study.optimize(objective, n_trials=10,n_jobs=-1)"
      ],
      "metadata": {
        "id": "n1uCJaAiVpjN",
        "outputId": "b580fd05-548a-41e4-858f-37daca2d29cd",
        "colab": {
          "base_uri": "https://localhost:8080/"
        }
      },
      "execution_count": 7,
      "outputs": [
        {
          "output_type": "stream",
          "name": "stderr",
          "text": [
            "\u001b[32m[I 2022-04-01 04:31:32,241]\u001b[0m A new study created in memory with name: no-name-2a0f692e-9d41-41b6-a330-d98c756e2b46\u001b[0m\n",
            "/usr/local/lib/python3.7/dist-packages/optuna/study/study.py:397: FutureWarning: `n_jobs` argument has been deprecated in v2.7.0. This feature will be removed in v4.0.0. See https://github.com/optuna/optuna/releases/tag/v2.7.0.\n",
            "  FutureWarning,\n",
            "\u001b[32m[I 2022-04-01 04:31:32,476]\u001b[0m Trial 1 finished with value: 0.8528571428571429 and parameters: {'kernel': 'sigmoid', 'C': 1.4626369315034748, 'gamma': 'auto', 'degree': 1}. Best is trial 1 with value: 0.8528571428571429.\u001b[0m\n",
            "\u001b[32m[I 2022-04-01 04:31:32,746]\u001b[0m Trial 2 finished with value: 0.8528571428571429 and parameters: {'kernel': 'poly', 'C': 1.553590580158599, 'gamma': 'scale', 'degree': 2}. Best is trial 1 with value: 0.8528571428571429.\u001b[0m\n",
            "\u001b[32m[I 2022-04-01 04:31:33,095]\u001b[0m Trial 0 finished with value: 0.8528571428571429 and parameters: {'kernel': 'rbf', 'C': 1.1518064561982062, 'gamma': 'auto', 'degree': 1}. Best is trial 1 with value: 0.8528571428571429.\u001b[0m\n",
            "\u001b[32m[I 2022-04-01 04:31:33,549]\u001b[0m Trial 3 finished with value: 0.8528571428571429 and parameters: {'kernel': 'rbf', 'C': 2.017796530129644, 'gamma': 'auto', 'degree': 1}. Best is trial 1 with value: 0.8528571428571429.\u001b[0m\n",
            "\u001b[32m[I 2022-04-01 04:31:33,792]\u001b[0m Trial 5 finished with value: 0.8528571428571429 and parameters: {'kernel': 'sigmoid', 'C': 0.22043283519342816, 'gamma': 'scale', 'degree': 1}. Best is trial 1 with value: 0.8528571428571429.\u001b[0m\n",
            "\u001b[32m[I 2022-04-01 04:31:34,164]\u001b[0m Trial 6 finished with value: 0.8528571428571429 and parameters: {'kernel': 'rbf', 'C': 0.6961810845123587, 'gamma': 'scale', 'degree': 3}. Best is trial 1 with value: 0.8528571428571429.\u001b[0m\n",
            "\u001b[32m[I 2022-04-01 04:32:11,145]\u001b[0m Trial 4 finished with value: 0.8528571428571429 and parameters: {'kernel': 'linear', 'C': 0.1058862961616335, 'gamma': 'scale', 'degree': 2}. Best is trial 1 with value: 0.8528571428571429.\u001b[0m\n",
            "\u001b[32m[I 2022-04-01 04:32:12,224]\u001b[0m Trial 7 finished with value: 0.8528571428571429 and parameters: {'kernel': 'linear', 'C': 0.14441151794934418, 'gamma': 'scale', 'degree': 1}. Best is trial 1 with value: 0.8528571428571429.\u001b[0m\n",
            "\u001b[32m[I 2022-04-01 04:32:12,399]\u001b[0m Trial 9 finished with value: 0.8528571428571429 and parameters: {'kernel': 'sigmoid', 'C': 0.6643423999757536, 'gamma': 'scale', 'degree': 2}. Best is trial 1 with value: 0.8528571428571429.\u001b[0m\n",
            "\u001b[32m[I 2022-04-01 04:44:31,002]\u001b[0m Trial 8 finished with value: 0.8928571428571429 and parameters: {'kernel': 'poly', 'C': 0.8962395119767587, 'gamma': 'auto', 'degree': 2}. Best is trial 8 with value: 0.8928571428571429.\u001b[0m\n"
          ]
        }
      ]
    },
    {
      "cell_type": "code",
      "source": [
        "parameters={'kernel': 'poly', 'C': 0.8962395119767587, 'gamma': 'auto', 'degree': 2}\n",
        "from sklearn.svm import SVC \n",
        "sv =SVC(**parameters)\n",
        "sv.fit(X_train,y_train)\n",
        "y_predsv=sv.predict(X_test)\n",
        "from sklearn import metrics\n",
        "\n",
        "eval(y_test,y_predsv)"
      ],
      "metadata": {
        "id": "lrYFlyWfd1-s",
        "outputId": "88dd77c2-c18e-4ad0-d595-b99170e63ac5",
        "colab": {
          "base_uri": "https://localhost:8080/",
          "height": 379
        }
      },
      "execution_count": 8,
      "outputs": [
        {
          "output_type": "stream",
          "name": "stdout",
          "text": [
            "Accuracy: 0.904\n",
            "Precision: 0.6666666666666666\n",
            "Recall: 0.556390977443609\n"
          ]
        },
        {
          "output_type": "display_data",
          "data": {
            "text/plain": [
              "<Figure size 432x288 with 2 Axes>"
            ],
            "image/png": "[encoded data removed]"
          },
          "metadata": {
            "needs_background": "light"
          }
        }
      ]
    },
    {
      "cell_type": "markdown",
      "source": [
        "## **Boosting**"
      ],
      "metadata": {
        "id": "vxbtshG-mjWI"
      }
    },
    {
      "cell_type": "code",
      "source": [
        "#Apply Best Model Parameter to Test Data\n",
        "import optuna\n",
        "\n",
        "import sklearn.datasets\n",
        "import sklearn.ensemble\n",
        "import sklearn.model_selection\n",
        "import sklearn.svm\n",
        "\n",
        "\n",
        "# FYI: Objective functions can take additional arguments\n",
        "# (https://optuna.readthedocs.io/en/stable/faq.html#objective-func-additional-args).\n",
        "def objective(trial):\n",
        "    x, y = X_train,y_train\n",
        "\n",
        "    param = {\n",
        "        \"objective\": \"binary\",\n",
        "        \"verbosity\": -1,\n",
        "        \"boosting_type\": \"gbdt\",\n",
        "        \"max_dept\" :trial.suggest_int(\"max_depth\", 2, X_train.shape[1]),\n",
        "        \"max_features\" : trial.suggest_int(\"max_features\", 2,X_train.shape[1]),       \n",
        "        \"num_leaves\": trial.suggest_int(\"num_leaves\", 2, 256),\n",
        "        \"feature_fraction\": trial.suggest_float(\"feature_fraction\", 0.4, 1.0),\n",
        "        \"bagging_fraction\": trial.suggest_float(\"bagging_fraction\", 0.4, 1.0),\n",
        "        \"bagging_freq\": trial.suggest_int(\"bagging_freq\", 1, 7),\n",
        "        \"min_child_samples\": trial.suggest_int(\"min_child_samples\", 5, 100),\n",
        "    }\n",
        "    import lightgbm as lgb\n",
        "    classifier_obj = lgb.LGBMClassifier(random_state=17,**param)\n",
        "\n",
        "    accuracy=sklearn.model_selection.cross_val_score(classifier_obj, x, y, n_jobs=-1, cv=3).mean()\n",
        "   \n",
        "    return accuracy\n",
        "\n",
        "\n",
        "if __name__ == \"__main__\":\n",
        "    study = optuna.create_study(direction=\"maximize\")\n",
        "    study.optimize(objective, n_trials=15)\n",
        "    print(study.best_trial)\n",
        "import lightgbm as lgb\n",
        "lgbm = lgb.LGBMClassifier(random_state=17,**study.best_params)\n",
        "lgbm.fit(X_train, y_train)\n",
        "# make predictions for test data\n",
        "y_predlgbm = lgbm.predict(X_test)\n",
        "eval(y_test, y_predlgbm)"
      ],
      "metadata": {
        "id": "8cmstdAHg46W",
        "outputId": "cc103c63-c36d-47df-eb9a-865c307f943f",
        "colab": {
          "base_uri": "https://localhost:8080/",
          "height": 694
        }
      },
      "execution_count": 15,
      "outputs": [
        {
          "output_type": "stream",
          "name": "stderr",
          "text": [
            "\u001b[32m[I 2022-04-01 05:28:57,544]\u001b[0m A new study created in memory with name: no-name-448ab094-d0e9-4b57-b1dc-060eb7e0e1ce\u001b[0m\n",
            "\u001b[32m[I 2022-04-01 05:28:57,993]\u001b[0m Trial 0 finished with value: 0.9344219357072827 and parameters: {'max_depth': 10, 'max_features': 12, 'num_leaves': 212, 'feature_fraction': 0.5952396322575778, 'bagging_fraction': 0.8411233981967632, 'bagging_freq': 3, 'min_child_samples': 24}. Best is trial 0 with value: 0.9344219357072827.\u001b[0m\n",
            "\u001b[32m[I 2022-04-01 05:28:58,260]\u001b[0m Trial 1 finished with value: 0.9108478658607194 and parameters: {'max_depth': 14, 'max_features': 17, 'num_leaves': 248, 'feature_fraction': 0.5192838940496995, 'bagging_fraction': 0.7046602470614216, 'bagging_freq': 6, 'min_child_samples': 52}. Best is trial 0 with value: 0.9344219357072827.\u001b[0m\n",
            "\u001b[32m[I 2022-04-01 05:28:58,503]\u001b[0m Trial 2 finished with value: 0.9125616619189884 and parameters: {'max_depth': 11, 'max_features': 3, 'num_leaves': 51, 'feature_fraction': 0.8998933601800811, 'bagging_fraction': 0.8256999608935842, 'bagging_freq': 4, 'min_child_samples': 91}. Best is trial 0 with value: 0.9344219357072827.\u001b[0m\n",
            "\u001b[32m[I 2022-04-01 05:28:58,705]\u001b[0m Trial 3 finished with value: 0.8932770449479962 and parameters: {'max_depth': 6, 'max_features': 18, 'num_leaves': 21, 'feature_fraction': 0.5567006762198035, 'bagging_fraction': 0.6220069067062662, 'bagging_freq': 7, 'min_child_samples': 83}. Best is trial 0 with value: 0.9344219357072827.\u001b[0m\n",
            "\u001b[32m[I 2022-04-01 05:28:58,999]\u001b[0m Trial 4 finished with value: 0.9125600076756889 and parameters: {'max_depth': 6, 'max_features': 12, 'num_leaves': 48, 'feature_fraction': 0.778395984783234, 'bagging_fraction': 0.491702189362245, 'bagging_freq': 1, 'min_child_samples': 32}. Best is trial 0 with value: 0.9344219357072827.\u001b[0m\n",
            "\u001b[32m[I 2022-04-01 05:28:59,356]\u001b[0m Trial 5 finished with value: 0.9292799961180425 and parameters: {'max_depth': 18, 'max_features': 14, 'num_leaves': 40, 'feature_fraction': 0.9742256654026066, 'bagging_fraction': 0.930610472694553, 'bagging_freq': 2, 'min_child_samples': 59}. Best is trial 0 with value: 0.9344219357072827.\u001b[0m\n",
            "\u001b[32m[I 2022-04-01 05:28:59,563]\u001b[0m Trial 6 finished with value: 0.9164199087078265 and parameters: {'max_depth': 18, 'max_features': 10, 'num_leaves': 148, 'feature_fraction': 0.5905237556133747, 'bagging_fraction': 0.6602967537537089, 'bagging_freq': 4, 'min_child_samples': 69}. Best is trial 0 with value: 0.9344219357072827.\u001b[0m\n",
            "\u001b[32m[I 2022-04-01 05:28:59,887]\u001b[0m Trial 7 finished with value: 0.9121299044178222 and parameters: {'max_depth': 18, 'max_features': 12, 'num_leaves': 180, 'feature_fraction': 0.9124990914143704, 'bagging_fraction': 0.4290981880694572, 'bagging_freq': 5, 'min_child_samples': 25}. Best is trial 0 with value: 0.9344219357072827.\u001b[0m\n",
            "\u001b[32m[I 2022-04-01 05:29:00,212]\u001b[0m Trial 8 finished with value: 0.9121321100755547 and parameters: {'max_depth': 8, 'max_features': 4, 'num_leaves': 238, 'feature_fraction': 0.9821214040348211, 'bagging_fraction': 0.6749851576341002, 'bagging_freq': 3, 'min_child_samples': 47}. Best is trial 0 with value: 0.9344219357072827.\u001b[0m\n",
            "\u001b[32m[I 2022-04-01 05:29:00,462]\u001b[0m Trial 9 finished with value: 0.9159925625221255 and parameters: {'max_depth': 6, 'max_features': 10, 'num_leaves': 20, 'feature_fraction': 0.41778481860668665, 'bagging_fraction': 0.9618103937257069, 'bagging_freq': 2, 'min_child_samples': 60}. Best is trial 0 with value: 0.9344219357072827.\u001b[0m\n",
            "\u001b[32m[I 2022-04-01 05:29:02,352]\u001b[0m Trial 10 finished with value: 0.9348426649197857 and parameters: {'max_depth': 3, 'max_features': 6, 'num_leaves': 198, 'feature_fraction': 0.7050029370438499, 'bagging_fraction': 0.8240665051072633, 'bagging_freq': 1, 'min_child_samples': 5}. Best is trial 10 with value: 0.9348426649197857.\u001b[0m\n",
            "\u001b[32m[I 2022-04-01 05:29:03,960]\u001b[0m Trial 11 finished with value: 0.9387014631230569 and parameters: {'max_depth': 2, 'max_features': 7, 'num_leaves': 195, 'feature_fraction': 0.7072612330665542, 'bagging_fraction': 0.8231194599900645, 'bagging_freq': 1, 'min_child_samples': 6}. Best is trial 11 with value: 0.9387014631230569.\u001b[0m\n",
            "\u001b[32m[I 2022-04-01 05:29:05,293]\u001b[0m Trial 12 finished with value: 0.9344175243918175 and parameters: {'max_depth': 2, 'max_features': 6, 'num_leaves': 131, 'feature_fraction': 0.7493189942257046, 'bagging_fraction': 0.8030201891071945, 'bagging_freq': 1, 'min_child_samples': 5}. Best is trial 11 with value: 0.9387014631230569.\u001b[0m\n",
            "\u001b[32m[I 2022-04-01 05:29:06,472]\u001b[0m Trial 13 finished with value: 0.9348404592620531 and parameters: {'max_depth': 2, 'max_features': 7, 'num_leaves': 187, 'feature_fraction': 0.6859978477960719, 'bagging_fraction': 0.7548119602132471, 'bagging_freq': 1, 'min_child_samples': 7}. Best is trial 11 with value: 0.9387014631230569.\u001b[0m\n",
            "\u001b[32m[I 2022-04-01 05:29:07,135]\u001b[0m Trial 14 finished with value: 0.945134815314764 and parameters: {'max_depth': 4, 'max_features': 7, 'num_leaves': 87, 'feature_fraction': 0.6843520966127518, 'bagging_fraction': 0.8912441918373144, 'bagging_freq': 2, 'min_child_samples': 17}. Best is trial 14 with value: 0.945134815314764.\u001b[0m\n"
          ]
        },
        {
          "output_type": "stream",
          "name": "stdout",
          "text": [
            "FrozenTrial(number=14, values=[0.945134815314764], datetime_start=datetime.datetime(2022, 4, 1, 5, 29, 6, 473508), datetime_complete=datetime.datetime(2022, 4, 1, 5, 29, 7, 134539), params={'max_depth': 4, 'max_features': 7, 'num_leaves': 87, 'feature_fraction': 0.6843520966127518, 'bagging_fraction': 0.8912441918373144, 'bagging_freq': 2, 'min_child_samples': 17}, distributions={'max_depth': IntUniformDistribution(high=18, low=2, step=1), 'max_features': IntUniformDistribution(high=18, low=2, step=1), 'num_leaves': IntUniformDistribution(high=256, low=2, step=1), 'feature_fraction': UniformDistribution(high=1.0, low=0.4), 'bagging_fraction': UniformDistribution(high=1.0, low=0.4), 'bagging_freq': IntUniformDistribution(high=7, low=1, step=1), 'min_child_samples': IntUniformDistribution(high=100, low=5, step=1)}, user_attrs={}, system_attrs={}, intermediate_values={}, trial_id=14, state=TrialState.COMPLETE, value=None)\n",
            "Accuracy: 0.95\n",
            "Precision: 0.9029126213592233\n",
            "Recall: 0.6992481203007519\n"
          ]
        },
        {
          "output_type": "display_data",
          "data": {
            "text/plain": [
              "<Figure size 432x288 with 2 Axes>"
            ],
            "image/png": "[encoded data removed]"
          },
          "metadata": {
            "needs_background": "light"
          }
        }
      ]
    }
  ]
}