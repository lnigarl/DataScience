{
  "nbformat": 4,
  "nbformat_minor": 0,
  "metadata": {
    "colab": {
      "name": "Untitled68.ipynb",
      "provenance": [],
      "authorship_tag": "ABX9TyN4ynPbZrx0Clf/Pcs5Z7TH",
      "include_colab_link": true
    },
    "kernelspec": {
      "name": "python3",
      "display_name": "Python 3"
    },
    "language_info": {
      "name": "python"
    }
  },
  "cells": [
    {
      "cell_type": "markdown",
      "metadata": {
        "id": "view-in-github",
        "colab_type": "text"
      },
      "source": [
        "<a href=\"https://colab.research.google.com/github/ogut77/DataScience/blob/main/BoostingRegression.ipynb\" target=\"_parent\"><img src=\"https://colab.research.google.com/assets/colab-badge.svg\" alt=\"Open In Colab\"/></a>"
      ]
    },
    {
      "cell_type": "code",
      "execution_count": 1,
      "metadata": {
        "id": "yuu5yla6RAlg"
      },
      "outputs": [],
      "source": [
        "import pandas as pd\n",
        "import numpy as np\n",
        "import matplotlib.pyplot as plt\n",
        "import seaborn as sns"
      ]
    },
    {
      "cell_type": "code",
      "source": [
        "import pandas as pd\n",
        "import numpy as np\n",
        "import matplotlib.pyplot as plt\n",
        "from sklearn.metrics import accuracy_score,f1_score\n",
        "from sklearn.model_selection import train_test_split\n",
        "\n",
        "# Importing dataset\n",
        "df=pd.read_csv('https://raw.githubusercontent.com/ogut77/DataScience/main/data/housing.csv')\n",
        "df.head()"
      ],
      "metadata": {
        "colab": {
          "base_uri": "https://localhost:8080/",
          "height": 270
        },
        "id": "WuUfmgs-RGlr",
        "outputId": "5caa28a7-4a9c-47d4-ef27-38accb5ec3b9"
      },
      "execution_count": 2,
      "outputs": [
        {
          "output_type": "execute_result",
          "data": {
            "text/html": [
              "\n",
              "  <div id=\"df-58ec87c7-faea-41d1-b9e4-7091adbdb1ba\">\n",
              "    <div class=\"colab-df-container\">\n",
              "      <div>\n",
              "<style scoped>\n",
              "    .dataframe tbody tr th:only-of-type {\n",
              "        vertical-align: middle;\n",
              "    }\n",
              "\n",
              "    .dataframe tbody tr th {\n",
              "        vertical-align: top;\n",
              "    }\n",
              "\n",
              "    .dataframe thead th {\n",
              "        text-align: right;\n",
              "    }\n",
              "</style>\n",
              "<table border=\"1\" class=\"dataframe\">\n",
              "  <thead>\n",
              "    <tr style=\"text-align: right;\">\n",
              "      <th></th>\n",
              "      <th>longitude</th>\n",
              "      <th>latitude</th>\n",
              "      <th>housing_median_age</th>\n",
              "      <th>total_rooms</th>\n",
              "      <th>total_bedrooms</th>\n",
              "      <th>population</th>\n",
              "      <th>households</th>\n",
              "      <th>median_income</th>\n",
              "      <th>median_house_value</th>\n",
              "      <th>ocean_proximity</th>\n",
              "    </tr>\n",
              "  </thead>\n",
              "  <tbody>\n",
              "    <tr>\n",
              "      <th>0</th>\n",
              "      <td>-122.23</td>\n",
              "      <td>37.88</td>\n",
              "      <td>41.0</td>\n",
              "      <td>880.0</td>\n",
              "      <td>129.0</td>\n",
              "      <td>322.0</td>\n",
              "      <td>126.0</td>\n",
              "      <td>8.3252</td>\n",
              "      <td>452600.0</td>\n",
              "      <td>NEAR BAY</td>\n",
              "    </tr>\n",
              "    <tr>\n",
              "      <th>1</th>\n",
              "      <td>-122.22</td>\n",
              "      <td>37.86</td>\n",
              "      <td>21.0</td>\n",
              "      <td>7099.0</td>\n",
              "      <td>1106.0</td>\n",
              "      <td>2401.0</td>\n",
              "      <td>1138.0</td>\n",
              "      <td>8.3014</td>\n",
              "      <td>358500.0</td>\n",
              "      <td>NEAR BAY</td>\n",
              "    </tr>\n",
              "    <tr>\n",
              "      <th>2</th>\n",
              "      <td>-122.24</td>\n",
              "      <td>37.85</td>\n",
              "      <td>52.0</td>\n",
              "      <td>1467.0</td>\n",
              "      <td>190.0</td>\n",
              "      <td>496.0</td>\n",
              "      <td>177.0</td>\n",
              "      <td>7.2574</td>\n",
              "      <td>352100.0</td>\n",
              "      <td>NEAR BAY</td>\n",
              "    </tr>\n",
              "    <tr>\n",
              "      <th>3</th>\n",
              "      <td>-122.25</td>\n",
              "      <td>37.85</td>\n",
              "      <td>52.0</td>\n",
              "      <td>1274.0</td>\n",
              "      <td>235.0</td>\n",
              "      <td>558.0</td>\n",
              "      <td>219.0</td>\n",
              "      <td>5.6431</td>\n",
              "      <td>341300.0</td>\n",
              "      <td>NEAR BAY</td>\n",
              "    </tr>\n",
              "    <tr>\n",
              "      <th>4</th>\n",
              "      <td>-122.25</td>\n",
              "      <td>37.85</td>\n",
              "      <td>52.0</td>\n",
              "      <td>1627.0</td>\n",
              "      <td>280.0</td>\n",
              "      <td>565.0</td>\n",
              "      <td>259.0</td>\n",
              "      <td>3.8462</td>\n",
              "      <td>342200.0</td>\n",
              "      <td>NEAR BAY</td>\n",
              "    </tr>\n",
              "  </tbody>\n",
              "</table>\n",
              "</div>\n",
              "      <button class=\"colab-df-convert\" onclick=\"convertToInteractive('df-58ec87c7-faea-41d1-b9e4-7091adbdb1ba')\"\n",
              "              title=\"Convert this dataframe to an interactive table.\"\n",
              "              style=\"display:none;\">\n",
              "        \n",
              "  <svg xmlns=\"http://www.w3.org/2000/svg\" height=\"24px\"viewBox=\"0 0 24 24\"\n",
              "       width=\"24px\">\n",
              "    <path d=\"M0 0h24v24H0V0z\" fill=\"none\"/>\n",
              "    <path d=\"M18.56 5.44l.94 2.06.94-2.06 2.06-.94-2.06-.94-.94-2.06-.94 2.06-2.06.94zm-11 1L8.5 8.5l.94-2.06 2.06-.94-2.06-.94L8.5 2.5l-.94 2.06-2.06.94zm10 10l.94 2.06.94-2.06 2.06-.94-2.06-.94-.94-2.06-.94 2.06-2.06.94z\"/><path d=\"M17.41 7.96l-1.37-1.37c-.4-.4-.92-.59-1.43-.59-.52 0-1.04.2-1.43.59L10.3 9.45l-7.72 7.72c-.78.78-.78 2.05 0 2.83L4 21.41c.39.39.9.59 1.41.59.51 0 1.02-.2 1.41-.59l7.78-7.78 2.81-2.81c.8-.78.8-2.07 0-2.86zM5.41 20L4 18.59l7.72-7.72 1.47 1.35L5.41 20z\"/>\n",
              "  </svg>\n",
              "      </button>\n",
              "      \n",
              "  <style>\n",
              "    .colab-df-container {\n",
              "      display:flex;\n",
              "      flex-wrap:wrap;\n",
              "      gap: 12px;\n",
              "    }\n",
              "\n",
              "    .colab-df-convert {\n",
              "      background-color: #E8F0FE;\n",
              "      border: none;\n",
              "      border-radius: 50%;\n",
              "      cursor: pointer;\n",
              "      display: none;\n",
              "      fill: #1967D2;\n",
              "      height: 32px;\n",
              "      padding: 0 0 0 0;\n",
              "      width: 32px;\n",
              "    }\n",
              "\n",
              "    .colab-df-convert:hover {\n",
              "      background-color: #E2EBFA;\n",
              "      box-shadow: 0px 1px 2px rgba(60, 64, 67, 0.3), 0px 1px 3px 1px rgba(60, 64, 67, 0.15);\n",
              "      fill: #174EA6;\n",
              "    }\n",
              "\n",
              "    [theme=dark] .colab-df-convert {\n",
              "      background-color: #3B4455;\n",
              "      fill: #D2E3FC;\n",
              "    }\n",
              "\n",
              "    [theme=dark] .colab-df-convert:hover {\n",
              "      background-color: #434B5C;\n",
              "      box-shadow: 0px 1px 3px 1px rgba(0, 0, 0, 0.15);\n",
              "      filter: drop-shadow(0px 1px 2px rgba(0, 0, 0, 0.3));\n",
              "      fill: #FFFFFF;\n",
              "    }\n",
              "  </style>\n",
              "\n",
              "      <script>\n",
              "        const buttonEl =\n",
              "          document.querySelector('#df-58ec87c7-faea-41d1-b9e4-7091adbdb1ba button.colab-df-convert');\n",
              "        buttonEl.style.display =\n",
              "          google.colab.kernel.accessAllowed ? 'block' : 'none';\n",
              "\n",
              "        async function convertToInteractive(key) {\n",
              "          const element = document.querySelector('#df-58ec87c7-faea-41d1-b9e4-7091adbdb1ba');\n",
              "          const dataTable =\n",
              "            await google.colab.kernel.invokeFunction('convertToInteractive',\n",
              "                                                     [key], {});\n",
              "          if (!dataTable) return;\n",
              "\n",
              "          const docLinkHtml = 'Like what you see? Visit the ' +\n",
              "            '<a target=\"_blank\" href=https://colab.research.google.com/notebooks/data_table.ipynb>data table notebook</a>'\n",
              "            + ' to learn more about interactive tables.';\n",
              "          element.innerHTML = '';\n",
              "          dataTable['output_type'] = 'display_data';\n",
              "          await google.colab.output.renderOutput(dataTable, element);\n",
              "          const docLink = document.createElement('div');\n",
              "          docLink.innerHTML = docLinkHtml;\n",
              "          element.appendChild(docLink);\n",
              "        }\n",
              "      </script>\n",
              "    </div>\n",
              "  </div>\n",
              "  "
            ],
            "text/plain": [
              "   longitude  latitude  housing_median_age  total_rooms  total_bedrooms  \\\n",
              "0    -122.23     37.88                41.0        880.0           129.0   \n",
              "1    -122.22     37.86                21.0       7099.0          1106.0   \n",
              "2    -122.24     37.85                52.0       1467.0           190.0   \n",
              "3    -122.25     37.85                52.0       1274.0           235.0   \n",
              "4    -122.25     37.85                52.0       1627.0           280.0   \n",
              "\n",
              "   population  households  median_income  median_house_value ocean_proximity  \n",
              "0       322.0       126.0         8.3252            452600.0        NEAR BAY  \n",
              "1      2401.0      1138.0         8.3014            358500.0        NEAR BAY  \n",
              "2       496.0       177.0         7.2574            352100.0        NEAR BAY  \n",
              "3       558.0       219.0         5.6431            341300.0        NEAR BAY  \n",
              "4       565.0       259.0         3.8462            342200.0        NEAR BAY  "
            ]
          },
          "metadata": {},
          "execution_count": 2
        }
      ]
    },
    {
      "cell_type": "code",
      "source": [
        "#Check missing values\n",
        "df.isnull().sum()"
      ],
      "metadata": {
        "colab": {
          "base_uri": "https://localhost:8080/"
        },
        "id": "9xLHZnIxR3R0",
        "outputId": "a90115af-f67b-4fcc-88e8-65449fba4305"
      },
      "execution_count": null,
      "outputs": [
        {
          "output_type": "execute_result",
          "data": {
            "text/plain": [
              "longitude               0\n",
              "latitude                0\n",
              "housing_median_age      0\n",
              "total_rooms             0\n",
              "total_bedrooms        207\n",
              "population              0\n",
              "households              0\n",
              "median_income           0\n",
              "median_house_value      0\n",
              "ocean_proximity         0\n",
              "dtype: int64"
            ]
          },
          "metadata": {},
          "execution_count": 3
        }
      ]
    },
    {
      "cell_type": "code",
      "source": [
        "bedroom_mean = df['total_bedrooms'].mean()\n",
        "df['total_bedrooms'].fillna(bedroom_mean, inplace=True)"
      ],
      "metadata": {
        "id": "2tMKZesvVzdC"
      },
      "execution_count": 3,
      "outputs": []
    },
    {
      "cell_type": "code",
      "source": [
        "df['ocean_proximity'].unique()"
      ],
      "metadata": {
        "id": "_OBavca9Xqm0",
        "outputId": "68746da1-7055-4e09-de81-be5e62b3fc5d",
        "colab": {
          "base_uri": "https://localhost:8080/"
        }
      },
      "execution_count": 4,
      "outputs": [
        {
          "output_type": "execute_result",
          "data": {
            "text/plain": [
              "array(['NEAR BAY', '<1H OCEAN', 'INLAND', 'NEAR OCEAN', 'ISLAND'],\n",
              "      dtype=object)"
            ]
          },
          "metadata": {},
          "execution_count": 4
        }
      ]
    },
    {
      "cell_type": "code",
      "source": [
        "df['ocean_proximity'].value_counts()"
      ],
      "metadata": {
        "id": "qbbF4LOIXuJi",
        "outputId": "7a1344d4-b29a-4dea-9dda-8a08b3385fd3",
        "colab": {
          "base_uri": "https://localhost:8080/"
        }
      },
      "execution_count": 5,
      "outputs": [
        {
          "output_type": "execute_result",
          "data": {
            "text/plain": [
              "<1H OCEAN     9136\n",
              "INLAND        6551\n",
              "NEAR OCEAN    2658\n",
              "NEAR BAY      2290\n",
              "ISLAND           5\n",
              "Name: ocean_proximity, dtype: int64"
            ]
          },
          "metadata": {},
          "execution_count": 5
        }
      ]
    },
    {
      "cell_type": "code",
      "source": [
        "#(Optinal) Delete Island as we have few value \n",
        "df = df[df.ocean_proximity != 'ISLAND']\n",
        "df['ocean_proximity'].value_counts()"
      ],
      "metadata": {
        "id": "hmW7sSCdadgi",
        "outputId": "d70b25ff-edf0-4298-e0ff-10c28d64b052",
        "colab": {
          "base_uri": "https://localhost:8080/"
        }
      },
      "execution_count": 6,
      "outputs": [
        {
          "output_type": "execute_result",
          "data": {
            "text/plain": [
              "<1H OCEAN     9136\n",
              "INLAND        6551\n",
              "NEAR OCEAN    2658\n",
              "NEAR BAY      2290\n",
              "Name: ocean_proximity, dtype: int64"
            ]
          },
          "metadata": {},
          "execution_count": 6
        }
      ]
    },
    {
      "cell_type": "code",
      "source": [
        "X=df.drop(columns=['median_house_value'])\n",
        "X\n",
        "X = pd.get_dummies(X, drop_first=True)\n",
        "Y=df['median_house_value']\n",
        "X_train, X_test, Y_train, Y_test = train_test_split(X, Y, test_size = 0.2, random_state = 42)"
      ],
      "metadata": {
        "id": "USQbSWwFR0je"
      },
      "execution_count": 7,
      "outputs": []
    },
    {
      "cell_type": "code",
      "source": [
        "def evalmetric(y,ypred):\n",
        " import numpy as np\n",
        " e = y - ypred \n",
        " mse_f = np.mean(e**2)\n",
        " rmse_f = np.sqrt(mse_f)\n",
        " mae_f = np.mean(abs(e))\n",
        " mape_f = 100*np.mean(abs(e/y))\n",
        " r2_f = 1-(sum(e**2)/sum((y-np.mean(y))**2))\n",
        " print(\"MSE:\", mse_f)\n",
        " print(\"RMSE:\", rmse_f)\n",
        " print(\"MAE:\",mae_f)\n",
        " print(\"MAPE:\",mape_f)\n",
        " print(\"R-Squared:\", r2_f)\n",
        "\n",
        " "
      ],
      "metadata": {
        "id": "oyFcoY9ZkXs8"
      },
      "execution_count": 8,
      "outputs": []
    },
    {
      "cell_type": "code",
      "source": [
        "from sklearn.tree import DecisionTreeRegressor\n",
        "dtr = DecisionTreeRegressor(random_state=17)\n",
        "dtr.fit(X_train,Y_train)\n",
        "## Predicting for training data\n",
        "print('Train Data')\n",
        "y_pred = dtr.predict(X_train)\n",
        "evalmetric(Y_train,y_pred)\n",
        "print('Test Data')\n",
        "y_pred2 = dtr.predict(X_test)\n",
        "evalmetric(Y_test,y_pred2)"
      ],
      "metadata": {
        "id": "tXJFK_bfnIfP",
        "outputId": "25e20789-74b2-4913-f974-1cd1111ab09b",
        "colab": {
          "base_uri": "https://localhost:8080/"
        }
      },
      "execution_count": 9,
      "outputs": [
        {
          "output_type": "stream",
          "name": "stdout",
          "text": [
            "Train Data\n",
            "MSE: 0.0\n",
            "RMSE: 0.0\n",
            "MAE: 0.0\n",
            "MAPE: 0.0\n",
            "R-Squared: 1.0\n",
            "Test Data\n",
            "MSE: 4582121593.935061\n",
            "RMSE: 67691.37015849998\n",
            "MAE: 42478.282045069056\n",
            "MAPE: 22.388230275078598\n",
            "R-Squared: 0.6529475448739743\n"
          ]
        }
      ]
    },
    {
      "cell_type": "code",
      "source": [
        "from sklearn.ensemble import RandomForestRegressor\n",
        "rfr = RandomForestRegressor(random_state=17)\n",
        "rfr.fit(X_train,Y_train)\n",
        "## Predicting for training data\n",
        "print('Train Data')\n",
        "y_pred = rfr.predict(X_train)\n",
        "evalmetric(Y_train,y_pred)\n",
        "print('Test Data')\n",
        "y_pred2 = rfr.predict(X_test)\n",
        "evalmetric(Y_test,y_pred2)"
      ],
      "metadata": {
        "id": "XH2h0Q4HnvR2",
        "outputId": "beb1191e-f5ce-43c4-8809-5d8ee7572721",
        "colab": {
          "base_uri": "https://localhost:8080/"
        }
      },
      "execution_count": 10,
      "outputs": [
        {
          "output_type": "stream",
          "name": "stdout",
          "text": [
            "Train Data\n",
            "MSE: 329785984.64020747\n",
            "RMSE: 18160.010590310994\n",
            "MAE: 11748.325371940835\n",
            "MAPE: 6.56845425162232\n",
            "R-Squared: 0.9752724835086763\n",
            "Test Data\n",
            "MSE: 2399606709.669161\n",
            "RMSE: 48985.78068857493\n",
            "MAE: 31496.838415313792\n",
            "MAPE: 17.10933080329566\n",
            "R-Squared: 0.8182524442324153\n"
          ]
        }
      ]
    },
    {
      "cell_type": "code",
      "source": [
        "from sklearn.ensemble import RandomForestRegressor\n",
        "rfr = RandomForestRegressor(random_state=17)\n",
        "rfr.fit(X_train,Y_train)\n",
        "## Predicting for training data\n",
        "print('Train Data')\n",
        "y_pred = rfr.predict(X_train)\n",
        "evalmetric(Y_train,y_pred)\n",
        "print('Test Data')\n",
        "y_pred2 = rfr.predict(X_test)\n",
        "evalmetric(Y_test,y_pred2)"
      ],
      "metadata": {
        "colab": {
          "base_uri": "https://localhost:8080/"
        },
        "id": "PNwdA450xgUt",
        "outputId": "d5f1fac0-0a31-43f2-d62e-433af8d20bf2"
      },
      "execution_count": 11,
      "outputs": [
        {
          "output_type": "stream",
          "name": "stdout",
          "text": [
            "Train Data\n",
            "MSE: 329785984.64020747\n",
            "RMSE: 18160.010590310994\n",
            "MAE: 11748.325371940835\n",
            "MAPE: 6.56845425162232\n",
            "R-Squared: 0.9752724835086763\n",
            "Test Data\n",
            "MSE: 2399606709.669161\n",
            "RMSE: 48985.78068857493\n",
            "MAE: 31496.838415313792\n",
            "MAPE: 17.10933080329566\n",
            "R-Squared: 0.8182524442324153\n"
          ]
        }
      ]
    },
    {
      "cell_type": "code",
      "source": [
        "from sklearn.ensemble import GradientBoostingRegressor\n",
        "from time import time\n",
        "\n",
        "gbr = GradientBoostingRegressor(random_state=17)\n",
        "gbr.fit(X_train, Y_train)\n",
        "print('Train Data')\n",
        "y_pred = gbr.predict(X_train)\n",
        "evalmetric(Y_train,y_pred)\n",
        "print('Test Data')\n",
        "y_pred2 = gbr.predict(X_test)\n",
        "evalmetric(Y_test,y_pred2)"
      ],
      "metadata": {
        "colab": {
          "base_uri": "https://localhost:8080/"
        },
        "id": "fjKeSpQzztEZ",
        "outputId": "a4cfec83-a565-434f-de51-a07bc5f43a52"
      },
      "execution_count": 12,
      "outputs": [
        {
          "output_type": "stream",
          "name": "stdout",
          "text": [
            "Train Data\n",
            "MSE: 2791255953.7591376\n",
            "RMSE: 52832.33814397331\n",
            "MAE: 36932.6449857026\n",
            "MAPE: 20.828365695969683\n",
            "R-Squared: 0.7907102459087658\n",
            "Test Data\n",
            "MSE: 3230110065.293995\n",
            "RMSE: 56834.05726581549\n",
            "MAE: 38772.213915339154\n",
            "MAPE: 21.257935869213657\n",
            "R-Squared: 0.7553496550656017\n"
          ]
        }
      ]
    },
    {
      "cell_type": "code",
      "source": [
        "# fit model no training data\n",
        "from xgboost import XGBRegressor\n",
        "xgr = XGBRegressor(random_state=17)\n",
        "xgr.fit(X_train, Y_train)\n",
        "print('Train Data')\n",
        "y_pred = xgr.predict(X_train)\n",
        "evalmetric(Y_train,y_pred)\n",
        "print('Test Data')\n",
        "y_pred2 = xgr.predict(X_test)\n",
        "evalmetric(Y_test,y_pred2)"
      ],
      "metadata": {
        "id": "ulYLDAGu2-To",
        "outputId": "e3cba0c1-3f7f-43dd-fdc0-b54eee255dbc",
        "colab": {
          "base_uri": "https://localhost:8080/"
        }
      },
      "execution_count": 13,
      "outputs": [
        {
          "output_type": "stream",
          "name": "stdout",
          "text": [
            "[10:38:51] WARNING: /workspace/src/objective/regression_obj.cu:152: reg:linear is now deprecated in favor of reg:squarederror.\n",
            "Train Data\n",
            "MSE: 2797522548.295516\n",
            "RMSE: 52891.61132254827\n",
            "MAE: 36901.73582174173\n",
            "MAPE: 20.814812254501085\n",
            "R-Squared: 0.7902403735462038\n",
            "Test Data\n",
            "MSE: 3215787961.443122\n",
            "RMSE: 56707.91797838395\n",
            "MAE: 38647.82312269051\n",
            "MAPE: 21.223611283318743\n",
            "R-Squared: 0.7564344192304362\n"
          ]
        }
      ]
    },
    {
      "cell_type": "code",
      "source": [
        "from time import time\n",
        "import lightgbm as lgb\n",
        "t0 = time()\n",
        "lgr = lgb.LGBMRegressor(random_state=17)\n",
        "lgr.fit(X_train, Y_train)\n",
        "print('Train Data')\n",
        "y_pred = lgr.predict(X_train)\n",
        "evalmetric(Y_train,y_pred)\n",
        "print('Test Data')\n",
        "y_pred2 = lgr.predict(X_test)\n",
        "evalmetric(Y_test,y_pred2)"
      ],
      "metadata": {
        "colab": {
          "base_uri": "https://localhost:8080/"
        },
        "id": "hT_CLPW60W0U",
        "outputId": "e2391c25-4a89-467c-d1cd-81d8cf5919e5"
      },
      "execution_count": 15,
      "outputs": [
        {
          "output_type": "stream",
          "name": "stdout",
          "text": [
            "Train Data\n",
            "MSE: 1660147578.5955615\n",
            "RMSE: 40744.90862175987\n",
            "MAE: 28000.970378281367\n",
            "MAPE: 15.935631729637711\n",
            "R-Squared: 0.875521312185115\n",
            "Test Data\n",
            "MSE: 2257597727.1239085\n",
            "RMSE: 47514.184483414094\n",
            "MAE: 31657.83129872351\n",
            "MAPE: 17.314256925107436\n",
            "R-Squared: 0.8290082840834381\n"
          ]
        }
      ]
    },
    {
      "cell_type": "code",
      "source": [
        "!pip install catboost"
      ],
      "metadata": {
        "id": "crUUDdDQBcNC",
        "outputId": "082994db-969f-44b0-8b55-8e827f8ac585",
        "colab": {
          "base_uri": "https://localhost:8080/"
        }
      },
      "execution_count": 16,
      "outputs": [
        {
          "output_type": "stream",
          "name": "stdout",
          "text": [
            "Collecting catboost\n",
            "  Downloading catboost-1.0.4-cp37-none-manylinux1_x86_64.whl (76.1 MB)\n",
            "\u001b[K     |████████████████████████████████| 76.1 MB 1.2 MB/s \n",
            "\u001b[?25hRequirement already satisfied: pandas>=0.24.0 in /usr/local/lib/python3.7/dist-packages (from catboost) (1.3.5)\n",
            "Requirement already satisfied: six in /usr/local/lib/python3.7/dist-packages (from catboost) (1.15.0)\n",
            "Requirement already satisfied: matplotlib in /usr/local/lib/python3.7/dist-packages (from catboost) (3.2.2)\n",
            "Requirement already satisfied: plotly in /usr/local/lib/python3.7/dist-packages (from catboost) (5.5.0)\n",
            "Requirement already satisfied: scipy in /usr/local/lib/python3.7/dist-packages (from catboost) (1.4.1)\n",
            "Requirement already satisfied: graphviz in /usr/local/lib/python3.7/dist-packages (from catboost) (0.10.1)\n",
            "Requirement already satisfied: numpy>=1.16.0 in /usr/local/lib/python3.7/dist-packages (from catboost) (1.21.5)\n",
            "Requirement already satisfied: pytz>=2017.3 in /usr/local/lib/python3.7/dist-packages (from pandas>=0.24.0->catboost) (2018.9)\n",
            "Requirement already satisfied: python-dateutil>=2.7.3 in /usr/local/lib/python3.7/dist-packages (from pandas>=0.24.0->catboost) (2.8.2)\n",
            "Requirement already satisfied: kiwisolver>=1.0.1 in /usr/local/lib/python3.7/dist-packages (from matplotlib->catboost) (1.3.2)\n",
            "Requirement already satisfied: pyparsing!=2.0.4,!=2.1.2,!=2.1.6,>=2.0.1 in /usr/local/lib/python3.7/dist-packages (from matplotlib->catboost) (3.0.7)\n",
            "Requirement already satisfied: cycler>=0.10 in /usr/local/lib/python3.7/dist-packages (from matplotlib->catboost) (0.11.0)\n",
            "Requirement already satisfied: tenacity>=6.2.0 in /usr/local/lib/python3.7/dist-packages (from plotly->catboost) (8.0.1)\n",
            "Installing collected packages: catboost\n",
            "Successfully installed catboost-1.0.4\n"
          ]
        }
      ]
    },
    {
      "cell_type": "code",
      "source": [
        "from catboost import CatBoostRegressor\n",
        "cbc= CatBoostRegressor(random_state=17,verbose=False)\n",
        "\n",
        "cbc.fit(X_train, Y_train)\n",
        "print('Train Data')\n",
        "y_pred = cbc.predict(X_train)\n",
        "evalmetric(Y_train,y_pred)\n",
        "print('Test Data')\n",
        "y_pred2 = cbc.predict(X_test)\n",
        "evalmetric(Y_test,y_pred2)"
      ],
      "metadata": {
        "id": "WwIu1JV35UaW",
        "outputId": "a5839880-55a4-4d3a-86dc-1edf2c0190d6",
        "colab": {
          "base_uri": "https://localhost:8080/"
        }
      },
      "execution_count": 17,
      "outputs": [
        {
          "output_type": "stream",
          "name": "stdout",
          "text": [
            "Train Data\n",
            "MSE: 1298966027.6042879\n",
            "RMSE: 36041.17128513289\n",
            "MAE: 25083.81284232364\n",
            "MAPE: 14.10060669996647\n",
            "R-Squared: 0.9026028837935699\n",
            "Test Data\n",
            "MSE: 2093063112.9987338\n",
            "RMSE: 45750.006699439225\n",
            "MAE: 30229.629333225057\n",
            "MAPE: 16.48829211263689\n",
            "R-Squared: 0.8414702278827768\n"
          ]
        }
      ]
    },
    {
      "cell_type": "code",
      "source": [
        "!pip install optuna"
      ],
      "metadata": {
        "colab": {
          "base_uri": "https://localhost:8080/"
        },
        "id": "LeJhW8Uzkw5l",
        "outputId": "6a8e2869-4c97-42c2-ae09-a3ca166aa040"
      },
      "execution_count": 18,
      "outputs": [
        {
          "output_type": "stream",
          "name": "stdout",
          "text": [
            "Collecting optuna\n",
            "  Downloading optuna-2.10.0-py3-none-any.whl (308 kB)\n",
            "\u001b[K     |████████████████████████████████| 308 kB 4.1 MB/s \n",
            "\u001b[?25hRequirement already satisfied: sqlalchemy>=1.1.0 in /usr/local/lib/python3.7/dist-packages (from optuna) (1.4.31)\n",
            "Requirement already satisfied: tqdm in /usr/local/lib/python3.7/dist-packages (from optuna) (4.63.0)\n",
            "Collecting cmaes>=0.8.2\n",
            "  Downloading cmaes-0.8.2-py3-none-any.whl (15 kB)\n",
            "Collecting colorlog\n",
            "  Downloading colorlog-6.6.0-py2.py3-none-any.whl (11 kB)\n",
            "Requirement already satisfied: numpy in /usr/local/lib/python3.7/dist-packages (from optuna) (1.21.5)\n",
            "Collecting cliff\n",
            "  Downloading cliff-3.10.1-py3-none-any.whl (81 kB)\n",
            "\u001b[K     |████████████████████████████████| 81 kB 5.5 MB/s \n",
            "\u001b[?25hRequirement already satisfied: PyYAML in /usr/local/lib/python3.7/dist-packages (from optuna) (3.13)\n",
            "Requirement already satisfied: packaging>=20.0 in /usr/local/lib/python3.7/dist-packages (from optuna) (21.3)\n",
            "Requirement already satisfied: scipy!=1.4.0 in /usr/local/lib/python3.7/dist-packages (from optuna) (1.4.1)\n",
            "Collecting alembic\n",
            "  Downloading alembic-1.7.6-py3-none-any.whl (210 kB)\n",
            "\u001b[K     |████████████████████████████████| 210 kB 38.1 MB/s \n",
            "\u001b[?25hRequirement already satisfied: pyparsing!=3.0.5,>=2.0.2 in /usr/local/lib/python3.7/dist-packages (from packaging>=20.0->optuna) (3.0.7)\n",
            "Requirement already satisfied: importlib-metadata in /usr/local/lib/python3.7/dist-packages (from sqlalchemy>=1.1.0->optuna) (4.11.2)\n",
            "Requirement already satisfied: greenlet!=0.4.17 in /usr/local/lib/python3.7/dist-packages (from sqlalchemy>=1.1.0->optuna) (1.1.2)\n",
            "Collecting Mako\n",
            "  Downloading Mako-1.2.0-py3-none-any.whl (78 kB)\n",
            "\u001b[K     |████████████████████████████████| 78 kB 4.6 MB/s \n",
            "\u001b[?25hRequirement already satisfied: importlib-resources in /usr/local/lib/python3.7/dist-packages (from alembic->optuna) (5.4.0)\n",
            "Collecting pbr!=2.1.0,>=2.0.0\n",
            "  Downloading pbr-5.8.1-py2.py3-none-any.whl (113 kB)\n",
            "\u001b[K     |████████████████████████████████| 113 kB 31.1 MB/s \n",
            "\u001b[?25hRequirement already satisfied: PrettyTable>=0.7.2 in /usr/local/lib/python3.7/dist-packages (from cliff->optuna) (3.1.1)\n",
            "Collecting cmd2>=1.0.0\n",
            "  Downloading cmd2-2.4.0-py3-none-any.whl (150 kB)\n",
            "\u001b[K     |████████████████████████████████| 150 kB 44.6 MB/s \n",
            "\u001b[?25hCollecting autopage>=0.4.0\n",
            "  Downloading autopage-0.5.0-py3-none-any.whl (29 kB)\n",
            "Collecting stevedore>=2.0.1\n",
            "  Downloading stevedore-3.5.0-py3-none-any.whl (49 kB)\n",
            "\u001b[K     |████████████████████████████████| 49 kB 2.5 MB/s \n",
            "\u001b[?25hRequirement already satisfied: wcwidth>=0.1.7 in /usr/local/lib/python3.7/dist-packages (from cmd2>=1.0.0->cliff->optuna) (0.2.5)\n",
            "Requirement already satisfied: attrs>=16.3.0 in /usr/local/lib/python3.7/dist-packages (from cmd2>=1.0.0->cliff->optuna) (21.4.0)\n",
            "Requirement already satisfied: typing-extensions in /usr/local/lib/python3.7/dist-packages (from cmd2>=1.0.0->cliff->optuna) (3.10.0.2)\n",
            "Collecting pyperclip>=1.6\n",
            "  Downloading pyperclip-1.8.2.tar.gz (20 kB)\n",
            "Requirement already satisfied: zipp>=0.5 in /usr/local/lib/python3.7/dist-packages (from importlib-metadata->sqlalchemy>=1.1.0->optuna) (3.7.0)\n",
            "Requirement already satisfied: MarkupSafe>=0.9.2 in /usr/local/lib/python3.7/dist-packages (from Mako->alembic->optuna) (2.0.1)\n",
            "Building wheels for collected packages: pyperclip\n",
            "  Building wheel for pyperclip (setup.py) ... \u001b[?25l\u001b[?25hdone\n",
            "  Created wheel for pyperclip: filename=pyperclip-1.8.2-py3-none-any.whl size=11137 sha256=7b8796638a684a254d706b92333d9d67352f035159dc4a42aff96485e9c31cbc\n",
            "  Stored in directory: /root/.cache/pip/wheels/9f/18/84/8f69f8b08169c7bae2dde6bd7daf0c19fca8c8e500ee620a28\n",
            "Successfully built pyperclip\n",
            "Installing collected packages: pyperclip, pbr, stevedore, Mako, cmd2, autopage, colorlog, cmaes, cliff, alembic, optuna\n",
            "Successfully installed Mako-1.2.0 alembic-1.7.6 autopage-0.5.0 cliff-3.10.1 cmaes-0.8.2 cmd2-2.4.0 colorlog-6.6.0 optuna-2.10.0 pbr-5.8.1 pyperclip-1.8.2 stevedore-3.5.0\n"
          ]
        }
      ]
    },
    {
      "cell_type": "code",
      "source": [
        "import optuna\n",
        "\n",
        "import sklearn.datasets\n",
        "import sklearn.ensemble\n",
        "import sklearn.model_selection\n",
        "import sklearn.svm\n",
        "\n",
        "\n",
        "# FYI: Objective functions can take additional arguments\n",
        "# (https://optuna.readthedocs.io/en/stable/faq.html#objective-func-additional-args).\n",
        "def objective(trial):\n",
        "    x, y = X_train,Y_train\n",
        "\n",
        "    regressor_name = trial.suggest_categorical(\"regressor\", [\"GradientBoosting\", \"RandomForest\"])\n",
        "    if regressor_name == \"GradientBoosting\":\n",
        "         max_depth = trial.suggest_int(\"max_depth\", 2,16)\n",
        "         max_features = trial.suggest_int(\"max_features\", 2,X_train.shape[1])\n",
        "         regressor_obj = sklearn.ensemble.GradientBoostingRegressor(random_state=17,  max_depth=max_depth, max_features=max_features )\n",
        "    \n",
        "    else:\n",
        "         max_depth = trial.suggest_int(\"max_depth\", 2,16)\n",
        "         max_features = trial.suggest_int(\"max_features\", 2,X_train.shape[1])\n",
        "         regressor_obj = sklearn.ensemble.RandomForestRegressor(random_state=17,  max_depth=max_depth, max_features=max_features )\n",
        "     \n",
        "\n",
        "    r2=sklearn.model_selection.cross_val_score(regressor_obj, x, y, n_jobs=-1, cv=3).mean()\n",
        "   \n",
        "    return r2\n",
        "\n",
        "\n",
        "if __name__ == \"__main__\":\n",
        "    study = optuna.create_study(direction=\"maximize\")\n",
        "    study.optimize(objective, n_trials=10)\n",
        "    print(study.best_trial)"
      ],
      "metadata": {
        "colab": {
          "base_uri": "https://localhost:8080/"
        },
        "id": "zEE2iT5mkD6z",
        "outputId": "f3e164a2-75ca-4666-d317-bb88564709dd"
      },
      "execution_count": 20,
      "outputs": [
        {
          "output_type": "stream",
          "name": "stderr",
          "text": [
            "\u001b[32m[I 2022-03-11 10:46:04,391]\u001b[0m A new study created in memory with name: no-name-e35ccae0-9486-4818-bb7c-5f08f53ce2dc\u001b[0m\n",
            "\u001b[32m[I 2022-03-11 10:46:09,219]\u001b[0m Trial 0 finished with value: 0.8096890403097374 and parameters: {'regressor': 'GradientBoosting', 'max_depth': 7, 'max_features': 2}. Best is trial 0 with value: 0.8096890403097374.\u001b[0m\n",
            "\u001b[32m[I 2022-03-11 10:46:16,770]\u001b[0m Trial 1 finished with value: 0.8068139278604255 and parameters: {'regressor': 'RandomForest', 'max_depth': 13, 'max_features': 5}. Best is trial 0 with value: 0.8096890403097374.\u001b[0m\n",
            "\u001b[32m[I 2022-03-11 10:46:27,487]\u001b[0m Trial 2 finished with value: 0.8220181050880818 and parameters: {'regressor': 'GradientBoosting', 'max_depth': 12, 'max_features': 5}. Best is trial 2 with value: 0.8220181050880818.\u001b[0m\n",
            "\u001b[32m[I 2022-03-11 10:46:37,562]\u001b[0m Trial 3 finished with value: 0.7842574367602233 and parameters: {'regressor': 'RandomForest', 'max_depth': 10, 'max_features': 9}. Best is trial 2 with value: 0.8220181050880818.\u001b[0m\n",
            "\u001b[32m[I 2022-03-11 10:46:42,378]\u001b[0m Trial 4 finished with value: 0.7899484962460633 and parameters: {'regressor': 'RandomForest', 'max_depth': 12, 'max_features': 3}. Best is trial 2 with value: 0.8220181050880818.\u001b[0m\n",
            "\u001b[32m[I 2022-03-11 10:46:52,078]\u001b[0m Trial 5 finished with value: 0.8195175454613451 and parameters: {'regressor': 'GradientBoosting', 'max_depth': 6, 'max_features': 9}. Best is trial 2 with value: 0.8220181050880818.\u001b[0m\n",
            "\u001b[32m[I 2022-03-11 10:46:55,953]\u001b[0m Trial 6 finished with value: 0.7243181354289122 and parameters: {'regressor': 'RandomForest', 'max_depth': 7, 'max_features': 4}. Best is trial 2 with value: 0.8220181050880818.\u001b[0m\n",
            "\u001b[32m[I 2022-03-11 10:47:08,795]\u001b[0m Trial 7 finished with value: 0.8262271425995661 and parameters: {'regressor': 'GradientBoosting', 'max_depth': 10, 'max_features': 7}. Best is trial 7 with value: 0.8262271425995661.\u001b[0m\n",
            "\u001b[32m[I 2022-03-11 10:47:15,960]\u001b[0m Trial 8 finished with value: 0.7836420130208476 and parameters: {'regressor': 'RandomForest', 'max_depth': 10, 'max_features': 6}. Best is trial 7 with value: 0.8262271425995661.\u001b[0m\n",
            "\u001b[32m[I 2022-03-11 10:47:24,840]\u001b[0m Trial 9 finished with value: 0.7298065398810486 and parameters: {'regressor': 'RandomForest', 'max_depth': 7, 'max_features': 11}. Best is trial 7 with value: 0.8262271425995661.\u001b[0m\n"
          ]
        },
        {
          "output_type": "stream",
          "name": "stdout",
          "text": [
            "FrozenTrial(number=7, values=[0.8262271425995661], datetime_start=datetime.datetime(2022, 3, 11, 10, 46, 55, 956130), datetime_complete=datetime.datetime(2022, 3, 11, 10, 47, 8, 795307), params={'regressor': 'GradientBoosting', 'max_depth': 10, 'max_features': 7}, distributions={'regressor': CategoricalDistribution(choices=('GradientBoosting', 'RandomForest')), 'max_depth': IntUniformDistribution(high=16, low=2, step=1), 'max_features': IntUniformDistribution(high=11, low=2, step=1)}, user_attrs={}, system_attrs={}, intermediate_values={}, trial_id=7, state=TrialState.COMPLETE, value=None)\n"
          ]
        }
      ]
    },
    {
      "cell_type": "code",
      "source": [
        "print(study.best_params)"
      ],
      "metadata": {
        "colab": {
          "base_uri": "https://localhost:8080/"
        },
        "id": "2LFOmwPKl1O2",
        "outputId": "d2ceae89-9d8c-4589-e4b0-21b519ba7897"
      },
      "execution_count": 22,
      "outputs": [
        {
          "output_type": "stream",
          "name": "stdout",
          "text": [
            "{'regressor': 'GradientBoosting', 'max_depth': 10, 'max_features': 7}\n"
          ]
        }
      ]
    },
    {
      "cell_type": "code",
      "source": [
        ""
      ],
      "metadata": {
        "colab": {
          "base_uri": "https://localhost:8080/"
        },
        "id": "viR_F8V-mF96",
        "outputId": "5c14636f-3aca-47e5-95ac-e4a695ccc03f"
      },
      "execution_count": 24,
      "outputs": [
        {
          "output_type": "stream",
          "name": "stdout",
          "text": [
            "Train Data\n",
            "MSE: 219418925.62759438\n",
            "RMSE: 14812.796009788104\n",
            "MAE: 10711.805215817667\n",
            "MAPE: 6.287719972778737\n",
            "R-Squared: 0.9835478602649406\n",
            "Test Data\n",
            "MSE: 2158219919.388748\n",
            "RMSE: 46456.64558907313\n",
            "MAE: 30049.431335785477\n",
            "MAPE: 16.153459861179485\n",
            "R-Squared: 0.8365352148844845\n"
          ]
        }
      ]
    }
  ]
}