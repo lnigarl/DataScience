{
  "nbformat": 4,
  "nbformat_minor": 0,
  "metadata": {
    "colab": {
      "name": "Untitled68.ipynb",
      "provenance": [],
      "authorship_tag": "ABX9TyNyArejbMpkBvfIMwgYiesP",
      "include_colab_link": true
    },
    "kernelspec": {
      "name": "python3",
      "display_name": "Python 3"
    },
    "language_info": {
      "name": "python"
    }
  },
  "cells": [
    {
      "cell_type": "markdown",
      "metadata": {
        "id": "view-in-github",
        "colab_type": "text"
      },
      "source": [
        "<a href=\"https://colab.research.google.com/github/ogut77/DataScience/blob/main/BoostingRegression.ipynb\" target=\"_parent\"><img src=\"https://colab.research.google.com/assets/colab-badge.svg\" alt=\"Open In Colab\"/></a>"
      ]
    },
    {
      "cell_type": "code",
      "execution_count": 1,
      "metadata": {
        "id": "yuu5yla6RAlg"
      },
      "outputs": [],
      "source": [
        "import pandas as pd\n",
        "import numpy as np\n",
        "import matplotlib.pyplot as plt\n",
        "import seaborn as sns"
      ]
    },
    {
      "cell_type": "code",
      "source": [
        "import pandas as pd\n",
        "import numpy as np\n",
        "import matplotlib.pyplot as plt\n",
        "from sklearn.metrics import accuracy_score,f1_score\n",
        "from sklearn.model_selection import train_test_split\n",
        "\n",
        "# Importing dataset\n",
        "df=pd.read_csv('https://raw.githubusercontent.com/ogut77/DataScience/main/data/housing.csv')\n",
        "df.head()"
      ],
      "metadata": {
        "colab": {
          "base_uri": "https://localhost:8080/",
          "height": 206
        },
        "id": "WuUfmgs-RGlr",
        "outputId": "81b39389-e6ff-402e-f08b-5ba12f4e1af5"
      },
      "execution_count": 2,
      "outputs": [
        {
          "output_type": "execute_result",
          "data": {
            "text/html": [
              "\n",
              "  <div id=\"df-e94c54cc-93bf-4fd2-b363-877e92634254\">\n",
              "    <div class=\"colab-df-container\">\n",
              "      <div>\n",
              "<style scoped>\n",
              "    .dataframe tbody tr th:only-of-type {\n",
              "        vertical-align: middle;\n",
              "    }\n",
              "\n",
              "    .dataframe tbody tr th {\n",
              "        vertical-align: top;\n",
              "    }\n",
              "\n",
              "    .dataframe thead th {\n",
              "        text-align: right;\n",
              "    }\n",
              "</style>\n",
              "<table border=\"1\" class=\"dataframe\">\n",
              "  <thead>\n",
              "    <tr style=\"text-align: right;\">\n",
              "      <th></th>\n",
              "      <th>longitude</th>\n",
              "      <th>latitude</th>\n",
              "      <th>housing_median_age</th>\n",
              "      <th>total_rooms</th>\n",
              "      <th>total_bedrooms</th>\n",
              "      <th>population</th>\n",
              "      <th>households</th>\n",
              "      <th>median_income</th>\n",
              "      <th>median_house_value</th>\n",
              "      <th>ocean_proximity</th>\n",
              "    </tr>\n",
              "  </thead>\n",
              "  <tbody>\n",
              "    <tr>\n",
              "      <th>0</th>\n",
              "      <td>-122.23</td>\n",
              "      <td>37.88</td>\n",
              "      <td>41.0</td>\n",
              "      <td>880.0</td>\n",
              "      <td>129.0</td>\n",
              "      <td>322.0</td>\n",
              "      <td>126.0</td>\n",
              "      <td>8.3252</td>\n",
              "      <td>452600.0</td>\n",
              "      <td>NEAR BAY</td>\n",
              "    </tr>\n",
              "    <tr>\n",
              "      <th>1</th>\n",
              "      <td>-122.22</td>\n",
              "      <td>37.86</td>\n",
              "      <td>21.0</td>\n",
              "      <td>7099.0</td>\n",
              "      <td>1106.0</td>\n",
              "      <td>2401.0</td>\n",
              "      <td>1138.0</td>\n",
              "      <td>8.3014</td>\n",
              "      <td>358500.0</td>\n",
              "      <td>NEAR BAY</td>\n",
              "    </tr>\n",
              "    <tr>\n",
              "      <th>2</th>\n",
              "      <td>-122.24</td>\n",
              "      <td>37.85</td>\n",
              "      <td>52.0</td>\n",
              "      <td>1467.0</td>\n",
              "      <td>190.0</td>\n",
              "      <td>496.0</td>\n",
              "      <td>177.0</td>\n",
              "      <td>7.2574</td>\n",
              "      <td>352100.0</td>\n",
              "      <td>NEAR BAY</td>\n",
              "    </tr>\n",
              "    <tr>\n",
              "      <th>3</th>\n",
              "      <td>-122.25</td>\n",
              "      <td>37.85</td>\n",
              "      <td>52.0</td>\n",
              "      <td>1274.0</td>\n",
              "      <td>235.0</td>\n",
              "      <td>558.0</td>\n",
              "      <td>219.0</td>\n",
              "      <td>5.6431</td>\n",
              "      <td>341300.0</td>\n",
              "      <td>NEAR BAY</td>\n",
              "    </tr>\n",
              "    <tr>\n",
              "      <th>4</th>\n",
              "      <td>-122.25</td>\n",
              "      <td>37.85</td>\n",
              "      <td>52.0</td>\n",
              "      <td>1627.0</td>\n",
              "      <td>280.0</td>\n",
              "      <td>565.0</td>\n",
              "      <td>259.0</td>\n",
              "      <td>3.8462</td>\n",
              "      <td>342200.0</td>\n",
              "      <td>NEAR BAY</td>\n",
              "    </tr>\n",
              "  </tbody>\n",
              "</table>\n",
              "</div>\n",
              "      <button class=\"colab-df-convert\" onclick=\"convertToInteractive('df-e94c54cc-93bf-4fd2-b363-877e92634254')\"\n",
              "              title=\"Convert this dataframe to an interactive table.\"\n",
              "              style=\"display:none;\">\n",
              "        \n",
              "  <svg xmlns=\"http://www.w3.org/2000/svg\" height=\"24px\"viewBox=\"0 0 24 24\"\n",
              "       width=\"24px\">\n",
              "    <path d=\"M0 0h24v24H0V0z\" fill=\"none\"/>\n",
              "    <path d=\"M18.56 5.44l.94 2.06.94-2.06 2.06-.94-2.06-.94-.94-2.06-.94 2.06-2.06.94zm-11 1L8.5 8.5l.94-2.06 2.06-.94-2.06-.94L8.5 2.5l-.94 2.06-2.06.94zm10 10l.94 2.06.94-2.06 2.06-.94-2.06-.94-.94-2.06-.94 2.06-2.06.94z\"/><path d=\"M17.41 7.96l-1.37-1.37c-.4-.4-.92-.59-1.43-.59-.52 0-1.04.2-1.43.59L10.3 9.45l-7.72 7.72c-.78.78-.78 2.05 0 2.83L4 21.41c.39.39.9.59 1.41.59.51 0 1.02-.2 1.41-.59l7.78-7.78 2.81-2.81c.8-.78.8-2.07 0-2.86zM5.41 20L4 18.59l7.72-7.72 1.47 1.35L5.41 20z\"/>\n",
              "  </svg>\n",
              "      </button>\n",
              "      \n",
              "  <style>\n",
              "    .colab-df-container {\n",
              "      display:flex;\n",
              "      flex-wrap:wrap;\n",
              "      gap: 12px;\n",
              "    }\n",
              "\n",
              "    .colab-df-convert {\n",
              "      background-color: #E8F0FE;\n",
              "      border: none;\n",
              "      border-radius: 50%;\n",
              "      cursor: pointer;\n",
              "      display: none;\n",
              "      fill: #1967D2;\n",
              "      height: 32px;\n",
              "      padding: 0 0 0 0;\n",
              "      width: 32px;\n",
              "    }\n",
              "\n",
              "    .colab-df-convert:hover {\n",
              "      background-color: #E2EBFA;\n",
              "      box-shadow: 0px 1px 2px rgba(60, 64, 67, 0.3), 0px 1px 3px 1px rgba(60, 64, 67, 0.15);\n",
              "      fill: #174EA6;\n",
              "    }\n",
              "\n",
              "    [theme=dark] .colab-df-convert {\n",
              "      background-color: #3B4455;\n",
              "      fill: #D2E3FC;\n",
              "    }\n",
              "\n",
              "    [theme=dark] .colab-df-convert:hover {\n",
              "      background-color: #434B5C;\n",
              "      box-shadow: 0px 1px 3px 1px rgba(0, 0, 0, 0.15);\n",
              "      filter: drop-shadow(0px 1px 2px rgba(0, 0, 0, 0.3));\n",
              "      fill: #FFFFFF;\n",
              "    }\n",
              "  </style>\n",
              "\n",
              "      <script>\n",
              "        const buttonEl =\n",
              "          document.querySelector('#df-e94c54cc-93bf-4fd2-b363-877e92634254 button.colab-df-convert');\n",
              "        buttonEl.style.display =\n",
              "          google.colab.kernel.accessAllowed ? 'block' : 'none';\n",
              "\n",
              "        async function convertToInteractive(key) {\n",
              "          const element = document.querySelector('#df-e94c54cc-93bf-4fd2-b363-877e92634254');\n",
              "          const dataTable =\n",
              "            await google.colab.kernel.invokeFunction('convertToInteractive',\n",
              "                                                     [key], {});\n",
              "          if (!dataTable) return;\n",
              "\n",
              "          const docLinkHtml = 'Like what you see? Visit the ' +\n",
              "            '<a target=\"_blank\" href=https://colab.research.google.com/notebooks/data_table.ipynb>data table notebook</a>'\n",
              "            + ' to learn more about interactive tables.';\n",
              "          element.innerHTML = '';\n",
              "          dataTable['output_type'] = 'display_data';\n",
              "          await google.colab.output.renderOutput(dataTable, element);\n",
              "          const docLink = document.createElement('div');\n",
              "          docLink.innerHTML = docLinkHtml;\n",
              "          element.appendChild(docLink);\n",
              "        }\n",
              "      </script>\n",
              "    </div>\n",
              "  </div>\n",
              "  "
            ],
            "text/plain": [
              "   longitude  latitude  housing_median_age  total_rooms  total_bedrooms  \\\n",
              "0    -122.23     37.88                41.0        880.0           129.0   \n",
              "1    -122.22     37.86                21.0       7099.0          1106.0   \n",
              "2    -122.24     37.85                52.0       1467.0           190.0   \n",
              "3    -122.25     37.85                52.0       1274.0           235.0   \n",
              "4    -122.25     37.85                52.0       1627.0           280.0   \n",
              "\n",
              "   population  households  median_income  median_house_value ocean_proximity  \n",
              "0       322.0       126.0         8.3252            452600.0        NEAR BAY  \n",
              "1      2401.0      1138.0         8.3014            358500.0        NEAR BAY  \n",
              "2       496.0       177.0         7.2574            352100.0        NEAR BAY  \n",
              "3       558.0       219.0         5.6431            341300.0        NEAR BAY  \n",
              "4       565.0       259.0         3.8462            342200.0        NEAR BAY  "
            ]
          },
          "metadata": {},
          "execution_count": 2
        }
      ]
    },
    {
      "cell_type": "code",
      "source": [
        "#Check missing values\n",
        "df.isnull().sum()"
      ],
      "metadata": {
        "colab": {
          "base_uri": "https://localhost:8080/"
        },
        "id": "9xLHZnIxR3R0",
        "outputId": "a90115af-f67b-4fcc-88e8-65449fba4305"
      },
      "execution_count": 3,
      "outputs": [
        {
          "output_type": "execute_result",
          "data": {
            "text/plain": [
              "longitude               0\n",
              "latitude                0\n",
              "housing_median_age      0\n",
              "total_rooms             0\n",
              "total_bedrooms        207\n",
              "population              0\n",
              "households              0\n",
              "median_income           0\n",
              "median_house_value      0\n",
              "ocean_proximity         0\n",
              "dtype: int64"
            ]
          },
          "metadata": {},
          "execution_count": 3
        }
      ]
    },
    {
      "cell_type": "code",
      "source": [
        "bedroom_mean = df['total_bedrooms'].mean()\n",
        "df['total_bedrooms'].fillna(bedroom_mean, inplace=True)"
      ],
      "metadata": {
        "id": "2tMKZesvVzdC"
      },
      "execution_count": 4,
      "outputs": []
    },
    {
      "cell_type": "code",
      "source": [
        "df['ocean_proximity'].unique()"
      ],
      "metadata": {
        "id": "_OBavca9Xqm0",
        "outputId": "ebdacfad-7b79-4b89-85b4-557e7e6b1ac0",
        "colab": {
          "base_uri": "https://localhost:8080/"
        }
      },
      "execution_count": 7,
      "outputs": [
        {
          "output_type": "execute_result",
          "data": {
            "text/plain": [
              "array(['NEAR BAY', '<1H OCEAN', 'INLAND', 'NEAR OCEAN', 'ISLAND'],\n",
              "      dtype=object)"
            ]
          },
          "metadata": {},
          "execution_count": 7
        }
      ]
    },
    {
      "cell_type": "code",
      "source": [
        "df['ocean_proximity'].value_counts()"
      ],
      "metadata": {
        "id": "qbbF4LOIXuJi",
        "outputId": "cb609688-7729-4485-e531-e8456f6978bd",
        "colab": {
          "base_uri": "https://localhost:8080/"
        }
      },
      "execution_count": 8,
      "outputs": [
        {
          "output_type": "execute_result",
          "data": {
            "text/plain": [
              "<1H OCEAN     9136\n",
              "INLAND        6551\n",
              "NEAR OCEAN    2658\n",
              "NEAR BAY      2290\n",
              "ISLAND           5\n",
              "Name: ocean_proximity, dtype: int64"
            ]
          },
          "metadata": {},
          "execution_count": 8
        }
      ]
    },
    {
      "cell_type": "code",
      "source": [
        "#(Optinal) Delete Island as we have few value \n",
        "df = df[df.ocean_proximity != 'ISLAND']\n",
        "df['ocean_proximity'].value_counts()"
      ],
      "metadata": {
        "id": "hmW7sSCdadgi",
        "outputId": "8e0a0c37-dd8f-47ea-a11f-e719977605ff",
        "colab": {
          "base_uri": "https://localhost:8080/"
        }
      },
      "execution_count": 9,
      "outputs": [
        {
          "output_type": "execute_result",
          "data": {
            "text/plain": [
              "<1H OCEAN     9136\n",
              "INLAND        6551\n",
              "NEAR OCEAN    2658\n",
              "NEAR BAY      2290\n",
              "Name: ocean_proximity, dtype: int64"
            ]
          },
          "metadata": {},
          "execution_count": 9
        }
      ]
    },
    {
      "cell_type": "code",
      "source": [
        "X=df.drop(columns=['median_house_value'])\n",
        "X\n",
        "X = pd.get_dummies(X, drop_first=True)\n",
        "Y=df['median_house_value']\n",
        "X_train, X_test, Y_train, Y_test = train_test_split(X, Y, test_size = 0.2, random_state = 42)"
      ],
      "metadata": {
        "id": "USQbSWwFR0je"
      },
      "execution_count": 10,
      "outputs": []
    },
    {
      "cell_type": "code",
      "source": [
        "def evalmetric(y,ypred):\n",
        " import numpy as np\n",
        " e = y - ypred \n",
        " mse_f = np.mean(e**2)\n",
        " rmse_f = np.sqrt(mse_f)\n",
        " mae_f = np.mean(abs(e))\n",
        " mape_f = 100*np.mean(abs(e/y))\n",
        " r2_f = 1-(sum(e**2)/sum((y-np.mean(y))**2))\n",
        " print(\"MSE:\", mse_f)\n",
        " print(\"RMSE:\", rmse_f)\n",
        " print(\"MAE:\",mae_f)\n",
        " print(\"MAPE:\",mape_f)\n",
        " print(\"R-Squared:\", r2_f)\n",
        "\n",
        " "
      ],
      "metadata": {
        "id": "oyFcoY9ZkXs8"
      },
      "execution_count": 11,
      "outputs": []
    },
    {
      "cell_type": "code",
      "source": [
        "from sklearn.tree import DecisionTreeRegressor\n",
        "dtr = DecisionTreeRegressor(random_state=17)\n",
        "dtr.fit(X_train,Y_train)\n",
        "## Predicting for training data\n",
        "print('Train Data')\n",
        "y_pred = dtr.predict(X_train)\n",
        "evalmetric(Y_train,y_pred)\n",
        "print('Test Data')\n",
        "y_pred2 = dtr.predict(X_test)\n",
        "evalmetric(Y_test,y_pred2)"
      ],
      "metadata": {
        "id": "tXJFK_bfnIfP",
        "outputId": "6cfead60-b8c4-4e49-fcef-54dc4e2e4254",
        "colab": {
          "base_uri": "https://localhost:8080/"
        }
      },
      "execution_count": 15,
      "outputs": [
        {
          "output_type": "stream",
          "name": "stdout",
          "text": [
            "Train Data\n",
            "MSE: 0.0\n",
            "RMSE: 0.0\n",
            "MAE: 0.0\n",
            "MAPE: 0.0\n",
            "R-Squared: 1.0\n",
            "Test Data\n",
            "MSE: 4582121593.935061\n",
            "RMSE: 67691.37015849998\n",
            "MAE: 42478.282045069056\n",
            "MAPE: 22.388230275078598\n",
            "R-Squared: 0.6529475448739743\n"
          ]
        }
      ]
    },
    {
      "cell_type": "code",
      "source": [
        "from sklearn.ensemble import RandomForestRegressor\n",
        "rfr = RandomForestRegressor(random_state=17)\n",
        "rfr.fit(X_train,Y_train)\n",
        "## Predicting for training data\n",
        "print('Train Data')\n",
        "y_pred = rfr.predict(X_train)\n",
        "evalmetric(Y_train,y_pred)\n",
        "print('Test Data')\n",
        "y_pred2 = rfr.predict(X_test)\n",
        "evalmetric(Y_test,y_pred2)"
      ],
      "metadata": {
        "id": "XH2h0Q4HnvR2",
        "outputId": "ee43e13d-d943-4c8c-95ec-69bae5cbab42",
        "colab": {
          "base_uri": "https://localhost:8080/"
        }
      },
      "execution_count": 17,
      "outputs": [
        {
          "output_type": "stream",
          "name": "stdout",
          "text": [
            "Train Data\n",
            "MSE: 329785984.64020747\n",
            "RMSE: 18160.010590310994\n",
            "MAE: 11748.325371940835\n",
            "MAPE: 6.56845425162232\n",
            "R-Squared: 0.9752724835086763\n",
            "Test Data\n",
            "MSE: 2399606709.669161\n",
            "RMSE: 48985.78068857493\n",
            "MAE: 31496.838415313792\n",
            "MAPE: 17.10933080329566\n",
            "R-Squared: 0.8182524442324153\n"
          ]
        }
      ]
    },
    {
      "cell_type": "code",
      "source": [
        "from sklearn.ensemble import RandomForestRegressor\n",
        "rfr = RandomForestRegressor(random_state=17)\n",
        "rfr.fit(X_train,Y_train)\n",
        "## Predicting for training data\n",
        "print('Train Data')\n",
        "y_pred = rfr.predict(X_train)\n",
        "evalmetric(Y_train,y_pred)\n",
        "print('Test Data')\n",
        "y_pred2 = rfr.predict(X_test)\n",
        "evalmetric(Y_test,y_pred2)"
      ],
      "metadata": {
        "id": "PNwdA450xgUt",
        "outputId": "a9e92885-0c32-4931-a153-9c6dd786f2d5",
        "colab": {
          "base_uri": "https://localhost:8080/"
        }
      },
      "execution_count": 18,
      "outputs": [
        {
          "output_type": "stream",
          "name": "stdout",
          "text": [
            "Train Data\n",
            "MSE: 329785984.64020747\n",
            "RMSE: 18160.010590310994\n",
            "MAE: 11748.325371940835\n",
            "MAPE: 6.56845425162232\n",
            "R-Squared: 0.9752724835086763\n",
            "Test Data\n",
            "MSE: 2399606709.669161\n",
            "RMSE: 48985.78068857493\n",
            "MAE: 31496.838415313792\n",
            "MAPE: 17.10933080329566\n",
            "R-Squared: 0.8182524442324153\n"
          ]
        }
      ]
    },
    {
      "cell_type": "code",
      "source": [
        "from sklearn.ensemble import GradientBoostingRegressor\n",
        "from time import time\n",
        "\n",
        "gbr = GradientBoostingRegressor(random_state=17)\n",
        "gbr.fit(X_train, Y_train)\n",
        "print('Train Data')\n",
        "y_pred = gbr.predict(X_train)\n",
        "evalmetric(Y_train,y_pred)\n",
        "print('Test Data')\n",
        "y_pred2 = gbr.predict(X_test)\n",
        "evalmetric(Y_test,y_pred2)"
      ],
      "metadata": {
        "id": "fjKeSpQzztEZ",
        "outputId": "263235cb-6da9-4a24-fd00-e6f333888d1c",
        "colab": {
          "base_uri": "https://localhost:8080/"
        }
      },
      "execution_count": 20,
      "outputs": [
        {
          "output_type": "stream",
          "name": "stdout",
          "text": [
            "Train Data\n",
            "MSE: 2791255953.7591376\n",
            "RMSE: 52832.33814397331\n",
            "MAE: 36932.6449857026\n",
            "MAPE: 20.828365695969683\n",
            "R-Squared: 0.7907102459087658\n",
            "Test Data\n",
            "MSE: 3230110065.293995\n",
            "RMSE: 56834.05726581549\n",
            "MAE: 38772.213915339154\n",
            "MAPE: 21.257935869213657\n",
            "R-Squared: 0.7553496550656017\n"
          ]
        }
      ]
    },
    {
      "cell_type": "code",
      "source": [
        "from time import time\n",
        "import lightgbm as lgb\n",
        "t0 = time()\n",
        "lgr = lgb.LGBMRegressor(random_state=17)\n",
        "lgr.fit(X_train, Y_train)\n",
        "print('Train Data')\n",
        "y_pred = lgr.predict(X_train)\n",
        "evalmetric(Y_train,y_pred)\n",
        "print('Test Data')\n",
        "y_pred2 = lgr.predict(X_test)\n",
        "evalmetric(Y_test,y_pred2)"
      ],
      "metadata": {
        "id": "hT_CLPW60W0U",
        "outputId": "7dd82cba-956e-400d-ffbe-75914e339cd3",
        "colab": {
          "base_uri": "https://localhost:8080/"
        }
      },
      "execution_count": 22,
      "outputs": [
        {
          "output_type": "stream",
          "name": "stdout",
          "text": [
            "Train Data\n",
            "MSE: 1660147578.5955615\n",
            "RMSE: 40744.90862175987\n",
            "MAE: 28000.970378281367\n",
            "MAPE: 15.935631729637711\n",
            "R-Squared: 0.875521312185115\n",
            "Test Data\n",
            "MSE: 2257597727.1239085\n",
            "RMSE: 47514.184483414094\n",
            "MAE: 31657.83129872351\n",
            "MAPE: 17.314256925107436\n",
            "R-Squared: 0.8290082840834381\n"
          ]
        }
      ]
    }
  ]
}