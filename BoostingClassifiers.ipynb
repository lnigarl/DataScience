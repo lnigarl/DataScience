{
  "nbformat": 4,
  "nbformat_minor": 0,
  "metadata": {
    "colab": {
      "name": "Untitled71.ipynb",
      "provenance": [],
      "authorship_tag": "ABX9TyOE2IQQE2FxmRVu6BopfPYO",
      "include_colab_link": true
    },
    "kernelspec": {
      "name": "python3",
      "display_name": "Python 3"
    },
    "language_info": {
      "name": "python"
    }
  },
  "cells": [
    {
      "cell_type": "markdown",
      "metadata": {
        "id": "view-in-github",
        "colab_type": "text"
      },
      "source": [
        "<a href=\"https://colab.research.google.com/github/ogut77/DataScience/blob/main/BoostingClassifiers.ipynb\" target=\"_parent\"><img src=\"https://colab.research.google.com/assets/colab-badge.svg\" alt=\"Open In Colab\"/></a>"
      ]
    },
    {
      "cell_type": "markdown",
      "source": [
        ""
      ],
      "metadata": {
        "id": "IrgV4xyWYWoj"
      }
    },
    {
      "cell_type": "code",
      "source": [
        "# for Jupyter-book, we copy data from GitHub, locally, to save Internet traffic,\n",
        "# you can specify the data/ folder from the root of your cloned\n",
        "# https://github.com/Yorko/mlcourse.ai repo, to save Internet traffic\n",
        "import numpy as np\n",
        "import pandas as pd\n",
        "import seaborn as sns\n",
        "\n",
        "sns.set()\n",
        "from matplotlib import pyplot as plt\n",
        "DATA_PATH = \"https://raw.githubusercontent.com/Yorko/mlcourse.ai/master/data/\"\n",
        "df = pd.read_csv(DATA_PATH + \"telecom_churn.csv\")\n",
        "\n",
        "df[\"International plan\"] = pd.factorize(df[\"International plan\"])[0]\n",
        "df[\"Voice mail plan\"] = pd.factorize(df[\"Voice mail plan\"])[0]\n",
        "df[\"Churn\"] = df[\"Churn\"].astype(\"int\")\n",
        "states = df[\"State\"]\n",
        "y = df[\"Churn\"]\n",
        "X=df.drop([\"State\", \"Churn\"], axis=1)\n"
      ],
      "metadata": {
        "id": "EZdL1N4MZqZF"
      },
      "execution_count": 1,
      "outputs": []
    },
    {
      "cell_type": "code",
      "source": [
        "X"
      ],
      "metadata": {
        "colab": {
          "base_uri": "https://localhost:8080/",
          "height": 522
        },
        "id": "hm9ZMVW9aJNh",
        "outputId": "f3cf465d-54b1-497e-cb28-fdc407219aee"
      },
      "execution_count": 2,
      "outputs": [
        {
          "output_type": "execute_result",
          "data": {
            "text/html": [
              "\n",
              "  <div id=\"df-843beda9-4548-49b5-9a2d-f5e1f73b8392\">\n",
              "    <div class=\"colab-df-container\">\n",
              "      <div>\n",
              "<style scoped>\n",
              "    .dataframe tbody tr th:only-of-type {\n",
              "        vertical-align: middle;\n",
              "    }\n",
              "\n",
              "    .dataframe tbody tr th {\n",
              "        vertical-align: top;\n",
              "    }\n",
              "\n",
              "    .dataframe thead th {\n",
              "        text-align: right;\n",
              "    }\n",
              "</style>\n",
              "<table border=\"1\" class=\"dataframe\">\n",
              "  <thead>\n",
              "    <tr style=\"text-align: right;\">\n",
              "      <th></th>\n",
              "      <th>Account length</th>\n",
              "      <th>Area code</th>\n",
              "      <th>International plan</th>\n",
              "      <th>Voice mail plan</th>\n",
              "      <th>Number vmail messages</th>\n",
              "      <th>Total day minutes</th>\n",
              "      <th>Total day calls</th>\n",
              "      <th>Total day charge</th>\n",
              "      <th>Total eve minutes</th>\n",
              "      <th>Total eve calls</th>\n",
              "      <th>Total eve charge</th>\n",
              "      <th>Total night minutes</th>\n",
              "      <th>Total night calls</th>\n",
              "      <th>Total night charge</th>\n",
              "      <th>Total intl minutes</th>\n",
              "      <th>Total intl calls</th>\n",
              "      <th>Total intl charge</th>\n",
              "      <th>Customer service calls</th>\n",
              "    </tr>\n",
              "  </thead>\n",
              "  <tbody>\n",
              "    <tr>\n",
              "      <th>0</th>\n",
              "      <td>128</td>\n",
              "      <td>415</td>\n",
              "      <td>0</td>\n",
              "      <td>0</td>\n",
              "      <td>25</td>\n",
              "      <td>265.1</td>\n",
              "      <td>110</td>\n",
              "      <td>45.07</td>\n",
              "      <td>197.4</td>\n",
              "      <td>99</td>\n",
              "      <td>16.78</td>\n",
              "      <td>244.7</td>\n",
              "      <td>91</td>\n",
              "      <td>11.01</td>\n",
              "      <td>10.0</td>\n",
              "      <td>3</td>\n",
              "      <td>2.70</td>\n",
              "      <td>1</td>\n",
              "    </tr>\n",
              "    <tr>\n",
              "      <th>1</th>\n",
              "      <td>107</td>\n",
              "      <td>415</td>\n",
              "      <td>0</td>\n",
              "      <td>0</td>\n",
              "      <td>26</td>\n",
              "      <td>161.6</td>\n",
              "      <td>123</td>\n",
              "      <td>27.47</td>\n",
              "      <td>195.5</td>\n",
              "      <td>103</td>\n",
              "      <td>16.62</td>\n",
              "      <td>254.4</td>\n",
              "      <td>103</td>\n",
              "      <td>11.45</td>\n",
              "      <td>13.7</td>\n",
              "      <td>3</td>\n",
              "      <td>3.70</td>\n",
              "      <td>1</td>\n",
              "    </tr>\n",
              "    <tr>\n",
              "      <th>2</th>\n",
              "      <td>137</td>\n",
              "      <td>415</td>\n",
              "      <td>0</td>\n",
              "      <td>1</td>\n",
              "      <td>0</td>\n",
              "      <td>243.4</td>\n",
              "      <td>114</td>\n",
              "      <td>41.38</td>\n",
              "      <td>121.2</td>\n",
              "      <td>110</td>\n",
              "      <td>10.30</td>\n",
              "      <td>162.6</td>\n",
              "      <td>104</td>\n",
              "      <td>7.32</td>\n",
              "      <td>12.2</td>\n",
              "      <td>5</td>\n",
              "      <td>3.29</td>\n",
              "      <td>0</td>\n",
              "    </tr>\n",
              "    <tr>\n",
              "      <th>3</th>\n",
              "      <td>84</td>\n",
              "      <td>408</td>\n",
              "      <td>1</td>\n",
              "      <td>1</td>\n",
              "      <td>0</td>\n",
              "      <td>299.4</td>\n",
              "      <td>71</td>\n",
              "      <td>50.90</td>\n",
              "      <td>61.9</td>\n",
              "      <td>88</td>\n",
              "      <td>5.26</td>\n",
              "      <td>196.9</td>\n",
              "      <td>89</td>\n",
              "      <td>8.86</td>\n",
              "      <td>6.6</td>\n",
              "      <td>7</td>\n",
              "      <td>1.78</td>\n",
              "      <td>2</td>\n",
              "    </tr>\n",
              "    <tr>\n",
              "      <th>4</th>\n",
              "      <td>75</td>\n",
              "      <td>415</td>\n",
              "      <td>1</td>\n",
              "      <td>1</td>\n",
              "      <td>0</td>\n",
              "      <td>166.7</td>\n",
              "      <td>113</td>\n",
              "      <td>28.34</td>\n",
              "      <td>148.3</td>\n",
              "      <td>122</td>\n",
              "      <td>12.61</td>\n",
              "      <td>186.9</td>\n",
              "      <td>121</td>\n",
              "      <td>8.41</td>\n",
              "      <td>10.1</td>\n",
              "      <td>3</td>\n",
              "      <td>2.73</td>\n",
              "      <td>3</td>\n",
              "    </tr>\n",
              "    <tr>\n",
              "      <th>...</th>\n",
              "      <td>...</td>\n",
              "      <td>...</td>\n",
              "      <td>...</td>\n",
              "      <td>...</td>\n",
              "      <td>...</td>\n",
              "      <td>...</td>\n",
              "      <td>...</td>\n",
              "      <td>...</td>\n",
              "      <td>...</td>\n",
              "      <td>...</td>\n",
              "      <td>...</td>\n",
              "      <td>...</td>\n",
              "      <td>...</td>\n",
              "      <td>...</td>\n",
              "      <td>...</td>\n",
              "      <td>...</td>\n",
              "      <td>...</td>\n",
              "      <td>...</td>\n",
              "    </tr>\n",
              "    <tr>\n",
              "      <th>3328</th>\n",
              "      <td>192</td>\n",
              "      <td>415</td>\n",
              "      <td>0</td>\n",
              "      <td>0</td>\n",
              "      <td>36</td>\n",
              "      <td>156.2</td>\n",
              "      <td>77</td>\n",
              "      <td>26.55</td>\n",
              "      <td>215.5</td>\n",
              "      <td>126</td>\n",
              "      <td>18.32</td>\n",
              "      <td>279.1</td>\n",
              "      <td>83</td>\n",
              "      <td>12.56</td>\n",
              "      <td>9.9</td>\n",
              "      <td>6</td>\n",
              "      <td>2.67</td>\n",
              "      <td>2</td>\n",
              "    </tr>\n",
              "    <tr>\n",
              "      <th>3329</th>\n",
              "      <td>68</td>\n",
              "      <td>415</td>\n",
              "      <td>0</td>\n",
              "      <td>1</td>\n",
              "      <td>0</td>\n",
              "      <td>231.1</td>\n",
              "      <td>57</td>\n",
              "      <td>39.29</td>\n",
              "      <td>153.4</td>\n",
              "      <td>55</td>\n",
              "      <td>13.04</td>\n",
              "      <td>191.3</td>\n",
              "      <td>123</td>\n",
              "      <td>8.61</td>\n",
              "      <td>9.6</td>\n",
              "      <td>4</td>\n",
              "      <td>2.59</td>\n",
              "      <td>3</td>\n",
              "    </tr>\n",
              "    <tr>\n",
              "      <th>3330</th>\n",
              "      <td>28</td>\n",
              "      <td>510</td>\n",
              "      <td>0</td>\n",
              "      <td>1</td>\n",
              "      <td>0</td>\n",
              "      <td>180.8</td>\n",
              "      <td>109</td>\n",
              "      <td>30.74</td>\n",
              "      <td>288.8</td>\n",
              "      <td>58</td>\n",
              "      <td>24.55</td>\n",
              "      <td>191.9</td>\n",
              "      <td>91</td>\n",
              "      <td>8.64</td>\n",
              "      <td>14.1</td>\n",
              "      <td>6</td>\n",
              "      <td>3.81</td>\n",
              "      <td>2</td>\n",
              "    </tr>\n",
              "    <tr>\n",
              "      <th>3331</th>\n",
              "      <td>184</td>\n",
              "      <td>510</td>\n",
              "      <td>1</td>\n",
              "      <td>1</td>\n",
              "      <td>0</td>\n",
              "      <td>213.8</td>\n",
              "      <td>105</td>\n",
              "      <td>36.35</td>\n",
              "      <td>159.6</td>\n",
              "      <td>84</td>\n",
              "      <td>13.57</td>\n",
              "      <td>139.2</td>\n",
              "      <td>137</td>\n",
              "      <td>6.26</td>\n",
              "      <td>5.0</td>\n",
              "      <td>10</td>\n",
              "      <td>1.35</td>\n",
              "      <td>2</td>\n",
              "    </tr>\n",
              "    <tr>\n",
              "      <th>3332</th>\n",
              "      <td>74</td>\n",
              "      <td>415</td>\n",
              "      <td>0</td>\n",
              "      <td>0</td>\n",
              "      <td>25</td>\n",
              "      <td>234.4</td>\n",
              "      <td>113</td>\n",
              "      <td>39.85</td>\n",
              "      <td>265.9</td>\n",
              "      <td>82</td>\n",
              "      <td>22.60</td>\n",
              "      <td>241.4</td>\n",
              "      <td>77</td>\n",
              "      <td>10.86</td>\n",
              "      <td>13.7</td>\n",
              "      <td>4</td>\n",
              "      <td>3.70</td>\n",
              "      <td>0</td>\n",
              "    </tr>\n",
              "  </tbody>\n",
              "</table>\n",
              "<p>3333 rows × 18 columns</p>\n",
              "</div>\n",
              "      <button class=\"colab-df-convert\" onclick=\"convertToInteractive('df-843beda9-4548-49b5-9a2d-f5e1f73b8392')\"\n",
              "              title=\"Convert this dataframe to an interactive table.\"\n",
              "              style=\"display:none;\">\n",
              "        \n",
              "  <svg xmlns=\"http://www.w3.org/2000/svg\" height=\"24px\"viewBox=\"0 0 24 24\"\n",
              "       width=\"24px\">\n",
              "    <path d=\"M0 0h24v24H0V0z\" fill=\"none\"/>\n",
              "    <path d=\"M18.56 5.44l.94 2.06.94-2.06 2.06-.94-2.06-.94-.94-2.06-.94 2.06-2.06.94zm-11 1L8.5 8.5l.94-2.06 2.06-.94-2.06-.94L8.5 2.5l-.94 2.06-2.06.94zm10 10l.94 2.06.94-2.06 2.06-.94-2.06-.94-.94-2.06-.94 2.06-2.06.94z\"/><path d=\"M17.41 7.96l-1.37-1.37c-.4-.4-.92-.59-1.43-.59-.52 0-1.04.2-1.43.59L10.3 9.45l-7.72 7.72c-.78.78-.78 2.05 0 2.83L4 21.41c.39.39.9.59 1.41.59.51 0 1.02-.2 1.41-.59l7.78-7.78 2.81-2.81c.8-.78.8-2.07 0-2.86zM5.41 20L4 18.59l7.72-7.72 1.47 1.35L5.41 20z\"/>\n",
              "  </svg>\n",
              "      </button>\n",
              "      \n",
              "  <style>\n",
              "    .colab-df-container {\n",
              "      display:flex;\n",
              "      flex-wrap:wrap;\n",
              "      gap: 12px;\n",
              "    }\n",
              "\n",
              "    .colab-df-convert {\n",
              "      background-color: #E8F0FE;\n",
              "      border: none;\n",
              "      border-radius: 50%;\n",
              "      cursor: pointer;\n",
              "      display: none;\n",
              "      fill: #1967D2;\n",
              "      height: 32px;\n",
              "      padding: 0 0 0 0;\n",
              "      width: 32px;\n",
              "    }\n",
              "\n",
              "    .colab-df-convert:hover {\n",
              "      background-color: #E2EBFA;\n",
              "      box-shadow: 0px 1px 2px rgba(60, 64, 67, 0.3), 0px 1px 3px 1px rgba(60, 64, 67, 0.15);\n",
              "      fill: #174EA6;\n",
              "    }\n",
              "\n",
              "    [theme=dark] .colab-df-convert {\n",
              "      background-color: #3B4455;\n",
              "      fill: #D2E3FC;\n",
              "    }\n",
              "\n",
              "    [theme=dark] .colab-df-convert:hover {\n",
              "      background-color: #434B5C;\n",
              "      box-shadow: 0px 1px 3px 1px rgba(0, 0, 0, 0.15);\n",
              "      filter: drop-shadow(0px 1px 2px rgba(0, 0, 0, 0.3));\n",
              "      fill: #FFFFFF;\n",
              "    }\n",
              "  </style>\n",
              "\n",
              "      <script>\n",
              "        const buttonEl =\n",
              "          document.querySelector('#df-843beda9-4548-49b5-9a2d-f5e1f73b8392 button.colab-df-convert');\n",
              "        buttonEl.style.display =\n",
              "          google.colab.kernel.accessAllowed ? 'block' : 'none';\n",
              "\n",
              "        async function convertToInteractive(key) {\n",
              "          const element = document.querySelector('#df-843beda9-4548-49b5-9a2d-f5e1f73b8392');\n",
              "          const dataTable =\n",
              "            await google.colab.kernel.invokeFunction('convertToInteractive',\n",
              "                                                     [key], {});\n",
              "          if (!dataTable) return;\n",
              "\n",
              "          const docLinkHtml = 'Like what you see? Visit the ' +\n",
              "            '<a target=\"_blank\" href=https://colab.research.google.com/notebooks/data_table.ipynb>data table notebook</a>'\n",
              "            + ' to learn more about interactive tables.';\n",
              "          element.innerHTML = '';\n",
              "          dataTable['output_type'] = 'display_data';\n",
              "          await google.colab.output.renderOutput(dataTable, element);\n",
              "          const docLink = document.createElement('div');\n",
              "          docLink.innerHTML = docLinkHtml;\n",
              "          element.appendChild(docLink);\n",
              "        }\n",
              "      </script>\n",
              "    </div>\n",
              "  </div>\n",
              "  "
            ],
            "text/plain": [
              "      Account length  Area code  International plan  Voice mail plan  \\\n",
              "0                128        415                   0                0   \n",
              "1                107        415                   0                0   \n",
              "2                137        415                   0                1   \n",
              "3                 84        408                   1                1   \n",
              "4                 75        415                   1                1   \n",
              "...              ...        ...                 ...              ...   \n",
              "3328             192        415                   0                0   \n",
              "3329              68        415                   0                1   \n",
              "3330              28        510                   0                1   \n",
              "3331             184        510                   1                1   \n",
              "3332              74        415                   0                0   \n",
              "\n",
              "      Number vmail messages  Total day minutes  Total day calls  \\\n",
              "0                        25              265.1              110   \n",
              "1                        26              161.6              123   \n",
              "2                         0              243.4              114   \n",
              "3                         0              299.4               71   \n",
              "4                         0              166.7              113   \n",
              "...                     ...                ...              ...   \n",
              "3328                     36              156.2               77   \n",
              "3329                      0              231.1               57   \n",
              "3330                      0              180.8              109   \n",
              "3331                      0              213.8              105   \n",
              "3332                     25              234.4              113   \n",
              "\n",
              "      Total day charge  Total eve minutes  Total eve calls  Total eve charge  \\\n",
              "0                45.07              197.4               99             16.78   \n",
              "1                27.47              195.5              103             16.62   \n",
              "2                41.38              121.2              110             10.30   \n",
              "3                50.90               61.9               88              5.26   \n",
              "4                28.34              148.3              122             12.61   \n",
              "...                ...                ...              ...               ...   \n",
              "3328             26.55              215.5              126             18.32   \n",
              "3329             39.29              153.4               55             13.04   \n",
              "3330             30.74              288.8               58             24.55   \n",
              "3331             36.35              159.6               84             13.57   \n",
              "3332             39.85              265.9               82             22.60   \n",
              "\n",
              "      Total night minutes  Total night calls  Total night charge  \\\n",
              "0                   244.7                 91               11.01   \n",
              "1                   254.4                103               11.45   \n",
              "2                   162.6                104                7.32   \n",
              "3                   196.9                 89                8.86   \n",
              "4                   186.9                121                8.41   \n",
              "...                   ...                ...                 ...   \n",
              "3328                279.1                 83               12.56   \n",
              "3329                191.3                123                8.61   \n",
              "3330                191.9                 91                8.64   \n",
              "3331                139.2                137                6.26   \n",
              "3332                241.4                 77               10.86   \n",
              "\n",
              "      Total intl minutes  Total intl calls  Total intl charge  \\\n",
              "0                   10.0                 3               2.70   \n",
              "1                   13.7                 3               3.70   \n",
              "2                   12.2                 5               3.29   \n",
              "3                    6.6                 7               1.78   \n",
              "4                   10.1                 3               2.73   \n",
              "...                  ...               ...                ...   \n",
              "3328                 9.9                 6               2.67   \n",
              "3329                 9.6                 4               2.59   \n",
              "3330                14.1                 6               3.81   \n",
              "3331                 5.0                10               1.35   \n",
              "3332                13.7                 4               3.70   \n",
              "\n",
              "      Customer service calls  \n",
              "0                          1  \n",
              "1                          1  \n",
              "2                          0  \n",
              "3                          2  \n",
              "4                          3  \n",
              "...                      ...  \n",
              "3328                       2  \n",
              "3329                       3  \n",
              "3330                       2  \n",
              "3331                       2  \n",
              "3332                       0  \n",
              "\n",
              "[3333 rows x 18 columns]"
            ]
          },
          "metadata": {},
          "execution_count": 2
        }
      ]
    },
    {
      "cell_type": "code",
      "source": [
        "y"
      ],
      "metadata": {
        "id": "6ct1B7Xw1frV",
        "outputId": "4c7e947d-62b4-443a-9413-6694a302883e",
        "colab": {
          "base_uri": "https://localhost:8080/"
        }
      },
      "execution_count": 12,
      "outputs": [
        {
          "output_type": "execute_result",
          "data": {
            "text/plain": [
              "0       0\n",
              "1       0\n",
              "2       0\n",
              "3       0\n",
              "4       0\n",
              "       ..\n",
              "3328    0\n",
              "3329    0\n",
              "3330    0\n",
              "3331    0\n",
              "3332    0\n",
              "Name: Churn, Length: 3333, dtype: int64"
            ]
          },
          "metadata": {},
          "execution_count": 12
        }
      ]
    },
    {
      "cell_type": "code",
      "source": [
        "from sklearn.model_selection import StratifiedKFold, train_test_split\n",
        "from sklearn.tree import DecisionTreeClassifier\n",
        "\n",
        "X_train, X_test, y_train, y_test = train_test_split(\n",
        "    X, y, test_size=0.3, random_state=17\n",
        ")\n",
        "\n"
      ],
      "metadata": {
        "id": "aC4sGAvybIGe"
      },
      "execution_count": 4,
      "outputs": []
    },
    {
      "cell_type": "code",
      "source": [
        "#Decison Tree\n",
        "from sklearn.metrics import accuracy_score,confusion_matrix\n",
        "tree = DecisionTreeClassifier(random_state=17)\n",
        "tree.fit(X_train, y_train)\n",
        "\n",
        "# make predictions for test data\n",
        "tree_pred = tree.predict(X_test)\n",
        "accuracy_score(y_test, tree_pred) "
      ],
      "metadata": {
        "colab": {
          "base_uri": "https://localhost:8080/"
        },
        "id": "caDTFnXIb9Kn",
        "outputId": "92ff3455-fa0f-4bd9-a558-4bc15494d06d"
      },
      "execution_count": 7,
      "outputs": [
        {
          "output_type": "execute_result",
          "data": {
            "text/plain": [
              "0.92"
            ]
          },
          "metadata": {},
          "execution_count": 7
        }
      ]
    },
    {
      "cell_type": "code",
      "source": [
        "print(confusion_matrix(y_test, tree_pred)) \n",
        "sum(y_test)"
      ],
      "metadata": {
        "id": "salFI3lg2q9d",
        "outputId": "cfbed3d8-f2ee-4942-ef73-f82fd8228741",
        "colab": {
          "base_uri": "https://localhost:8080/"
        }
      },
      "execution_count": 10,
      "outputs": [
        {
          "output_type": "stream",
          "name": "stdout",
          "text": [
            "[[827  40]\n",
            " [ 40  93]]\n"
          ]
        },
        {
          "output_type": "execute_result",
          "data": {
            "text/plain": [
              "133"
            ]
          },
          "metadata": {},
          "execution_count": 10
        }
      ]
    },
    {
      "cell_type": "code",
      "source": [
        "#Random Forest \n",
        "from sklearn.ensemble import RandomForestClassifier\n",
        "forest = RandomForestClassifier(random_state=17 )\n",
        "forest.fit(X_train, y_train)\n",
        "\n",
        "# make predictions for test data\n",
        "\n",
        "forest_pred = forest.predict(X_test)\n",
        "accuracy_score(y_test, forest_pred) "
      ],
      "metadata": {
        "colab": {
          "base_uri": "https://localhost:8080/"
        },
        "id": "eqqgQ351dStx",
        "outputId": "8bce2521-d556-47f7-8cc5-d1120f752d3c"
      },
      "execution_count": 19,
      "outputs": [
        {
          "output_type": "execute_result",
          "data": {
            "text/plain": [
              "0.95"
            ]
          },
          "metadata": {},
          "execution_count": 19
        }
      ]
    },
    {
      "cell_type": "code",
      "source": [
        "# XGBoost\n",
        "from xgboost import XGBClassifier\n",
        "model = XGBClassifier(random_state=17)\n",
        "model.fit(X_train, y_train)\n",
        "# make predictions for test data\n",
        "xgb_pred = model.predict(X_test)\n",
        "accuracy_score(y_test, xgb_pred)"
      ],
      "metadata": {
        "id": "g5ar8WG6-q_4",
        "outputId": "bf66aafb-df84-4585-aa44-f04d9337cc7a",
        "colab": {
          "base_uri": "https://localhost:8080/"
        }
      },
      "execution_count": 15,
      "outputs": [
        {
          "output_type": "execute_result",
          "data": {
            "text/plain": [
              "0.951"
            ]
          },
          "metadata": {},
          "execution_count": 15
        }
      ]
    },
    {
      "cell_type": "code",
      "source": [
        "#Light GBM\n",
        "import lightgbm as lgb\n",
        "lgb_model = lgb.LGBMClassifier(random_state=17)\n",
        "lgb_model.fit(X_train, y_train)\n",
        "# make predictions for test data\n",
        "accuracy_score(y_test, lgb_model.predict(X_test))"
      ],
      "metadata": {
        "id": "sDYQOsNJClI6",
        "outputId": "6ee8122b-6298-4bc4-9653-299998b5b5cd",
        "colab": {
          "base_uri": "https://localhost:8080/"
        }
      },
      "execution_count": 20,
      "outputs": [
        {
          "output_type": "execute_result",
          "data": {
            "text/plain": [
              "0.956"
            ]
          },
          "metadata": {},
          "execution_count": 20
        }
      ]
    },
    {
      "cell_type": "code",
      "source": [
        "#Gradient Boosting\n",
        "from sklearn.ensemble import GradientBoostingClassifier\n",
        "gbm_model = GradientBoostingClassifier(random_state=17)\n",
        "gbm_model.fit(X_train, y_train)\n",
        "accuracy_score(y_test, gbm_model.predict(X_test))"
      ],
      "metadata": {
        "id": "7uzEf6HPB8q4",
        "outputId": "8350c444-6040-48c8-d418-6862876f4429",
        "colab": {
          "base_uri": "https://localhost:8080/"
        }
      },
      "execution_count": 13,
      "outputs": [
        {
          "output_type": "execute_result",
          "data": {
            "text/plain": [
              "0.954"
            ]
          },
          "metadata": {},
          "execution_count": 13
        }
      ]
    },
    {
      "cell_type": "code",
      "source": [
        "#Ada Boost\n",
        "from sklearn.ensemble import AdaBoostClassifier\n",
        "ada = AdaBoostClassifier(random_state=17)\n",
        "ada.fit(X_train, y_train)\n",
        "accuracy_score(y_test, ada.predict(X_test))"
      ],
      "metadata": {
        "id": "JR2Z8O8EYi0N",
        "outputId": "dd4cb5cc-9f41-4a72-9bb5-e091cabcfb54",
        "colab": {
          "base_uri": "https://localhost:8080/"
        }
      },
      "execution_count": 22,
      "outputs": [
        {
          "output_type": "execute_result",
          "data": {
            "text/plain": [
              "0.874"
            ]
          },
          "metadata": {},
          "execution_count": 22
        }
      ]
    },
    {
      "cell_type": "code",
      "source": [
        "#Random Forest CV\n",
        "from time import time\n",
        "t0=time()\n",
        "from sklearn.model_selection import GridSearchCV, cross_val_score\n",
        "forest_params = {\"max_depth\": range(5, X_train.shape[1],3), \"max_features\": range(5, X_train.shape[1],3)}\n",
        "forest = RandomForestClassifier(random_state=17 )\n",
        "forest_grid = GridSearchCV(forest, forest_params, cv=3, n_jobs=-1, verbose=True)\n",
        "forest_grid.fit(X_train, y_train)\n",
        "forest_grid.best_params_, forest_grid.best_score_\n",
        "print(accuracy_score(y_test, forest_grid.predict(X_test)))\n",
        "print(forest_grid.best_params_, forest_grid.best_score_)\n",
        "t1=time()\n",
        "print('Time is ' +str(t1-t0))"
      ],
      "metadata": {
        "colab": {
          "base_uri": "https://localhost:8080/"
        },
        "id": "h1leXRk6O-Hm",
        "outputId": "3ce73b38-4707-4d7f-93d4-3a05c708dad5"
      },
      "execution_count": 26,
      "outputs": [
        {
          "output_type": "stream",
          "name": "stdout",
          "text": [
            "Fitting 3 folds for each of 25 candidates, totalling 75 fits\n",
            "0.954\n",
            "{'max_depth': 17, 'max_features': 8} 0.946421265187332\n",
            "Time is 51.27836489677429\n"
          ]
        }
      ]
    },
    {
      "cell_type": "code",
      "source": [
        " X_train.shape[1]"
      ],
      "metadata": {
        "id": "AzXFG5B-6gbD",
        "outputId": "64ac4b80-8f72-466c-b26f-000327e49658",
        "colab": {
          "base_uri": "https://localhost:8080/"
        }
      },
      "execution_count": 25,
      "outputs": [
        {
          "output_type": "execute_result",
          "data": {
            "text/plain": [
              "18"
            ]
          },
          "metadata": {},
          "execution_count": 25
        }
      ]
    },
    {
      "cell_type": "code",
      "source": [
        "#XGBoost CV"
      ],
      "metadata": {
        "id": "O1X3UbjSfNGV"
      },
      "execution_count": null,
      "outputs": []
    },
    {
      "cell_type": "code",
      "source": [
        "#Light GBM CV\n",
        "import lightgbm as lgb\n",
        "\n",
        "\n",
        "from time import time\n",
        "t0=time()\n",
        "from sklearn.model_selection import GridSearchCV, cross_val_score\n",
        "lgb_params = {\"max_depth\": range(5, X_train.shape[1],3), \"max_features\": range(5, X_train.shape[1],3)}\n",
        "lgbm = lgb.LGBMClassifier(random_state=17)\n",
        "lgb_grid = GridSearchCV(lgbm, lgb_params , cv=3, n_jobs=-1, verbose=True)\n",
        "lgb_grid.fit(X_train, y_train)\n",
        "lgb_grid.best_params_, lgb_grid.best_score_\n",
        "print(accuracy_score(y_test, lgb_grid.predict(X_test)))\n",
        "print(lgb_grid.best_params_, lgb_grid.best_score_)\n",
        "t1=time()\n",
        "print('Time is ' +str(t1-t0))"
      ],
      "metadata": {
        "id": "vDoJ0GG2fWg6",
        "outputId": "eae73d86-61a6-4929-e1b4-1a8b0629c7ff",
        "colab": {
          "base_uri": "https://localhost:8080/"
        }
      },
      "execution_count": 27,
      "outputs": [
        {
          "output_type": "stream",
          "name": "stdout",
          "text": [
            "Fitting 3 folds for each of 25 candidates, totalling 75 fits\n",
            "0.954\n",
            "{'max_depth': 17, 'max_features': 5} 0.9558526576521436\n",
            "Time is 12.120943307876587\n"
          ]
        }
      ]
    },
    {
      "cell_type": "code",
      "source": [
        "#Gradient Based CV"
      ],
      "metadata": {
        "id": "oh3PmdkTfYGi"
      },
      "execution_count": null,
      "outputs": []
    },
    {
      "cell_type": "code",
      "source": [
        "!pip install optuna\n"
      ],
      "metadata": {
        "id": "FlZybpVuUw1A",
        "outputId": "b656ce5d-6c3b-47dc-bf57-45b2f3b5a10a",
        "colab": {
          "base_uri": "https://localhost:8080/"
        }
      },
      "execution_count": 28,
      "outputs": [
        {
          "output_type": "stream",
          "name": "stdout",
          "text": [
            "Collecting optuna\n",
            "  Downloading optuna-2.10.0-py3-none-any.whl (308 kB)\n",
            "\u001b[K     |████████████████████████████████| 308 kB 2.9 MB/s \n",
            "\u001b[?25hRequirement already satisfied: packaging>=20.0 in /usr/local/lib/python3.7/dist-packages (from optuna) (21.3)\n",
            "Collecting cliff\n",
            "  Downloading cliff-3.10.1-py3-none-any.whl (81 kB)\n",
            "\u001b[K     |████████████████████████████████| 81 kB 7.4 MB/s \n",
            "\u001b[?25hRequirement already satisfied: tqdm in /usr/local/lib/python3.7/dist-packages (from optuna) (4.63.0)\n",
            "Requirement already satisfied: numpy in /usr/local/lib/python3.7/dist-packages (from optuna) (1.21.5)\n",
            "Requirement already satisfied: scipy!=1.4.0 in /usr/local/lib/python3.7/dist-packages (from optuna) (1.4.1)\n",
            "Collecting colorlog\n",
            "  Downloading colorlog-6.6.0-py2.py3-none-any.whl (11 kB)\n",
            "Collecting cmaes>=0.8.2\n",
            "  Downloading cmaes-0.8.2-py3-none-any.whl (15 kB)\n",
            "Requirement already satisfied: sqlalchemy>=1.1.0 in /usr/local/lib/python3.7/dist-packages (from optuna) (1.4.31)\n",
            "Collecting alembic\n",
            "  Downloading alembic-1.7.6-py3-none-any.whl (210 kB)\n",
            "\u001b[K     |████████████████████████████████| 210 kB 58.2 MB/s \n",
            "\u001b[?25hRequirement already satisfied: PyYAML in /usr/local/lib/python3.7/dist-packages (from optuna) (3.13)\n",
            "Requirement already satisfied: pyparsing!=3.0.5,>=2.0.2 in /usr/local/lib/python3.7/dist-packages (from packaging>=20.0->optuna) (3.0.7)\n",
            "Requirement already satisfied: importlib-metadata in /usr/local/lib/python3.7/dist-packages (from sqlalchemy>=1.1.0->optuna) (4.11.2)\n",
            "Requirement already satisfied: greenlet!=0.4.17 in /usr/local/lib/python3.7/dist-packages (from sqlalchemy>=1.1.0->optuna) (1.1.2)\n",
            "Collecting Mako\n",
            "  Downloading Mako-1.2.0-py3-none-any.whl (78 kB)\n",
            "\u001b[K     |████████████████████████████████| 78 kB 6.4 MB/s \n",
            "\u001b[?25hRequirement already satisfied: importlib-resources in /usr/local/lib/python3.7/dist-packages (from alembic->optuna) (5.4.0)\n",
            "Collecting pbr!=2.1.0,>=2.0.0\n",
            "  Downloading pbr-5.8.1-py2.py3-none-any.whl (113 kB)\n",
            "\u001b[K     |████████████████████████████████| 113 kB 63.3 MB/s \n",
            "\u001b[?25hCollecting stevedore>=2.0.1\n",
            "  Downloading stevedore-3.5.0-py3-none-any.whl (49 kB)\n",
            "\u001b[K     |████████████████████████████████| 49 kB 4.9 MB/s \n",
            "\u001b[?25hCollecting autopage>=0.4.0\n",
            "  Downloading autopage-0.5.0-py3-none-any.whl (29 kB)\n",
            "Collecting cmd2>=1.0.0\n",
            "  Downloading cmd2-2.4.0-py3-none-any.whl (150 kB)\n",
            "\u001b[K     |████████████████████████████████| 150 kB 58.7 MB/s \n",
            "\u001b[?25hRequirement already satisfied: PrettyTable>=0.7.2 in /usr/local/lib/python3.7/dist-packages (from cliff->optuna) (3.1.1)\n",
            "Collecting pyperclip>=1.6\n",
            "  Downloading pyperclip-1.8.2.tar.gz (20 kB)\n",
            "Requirement already satisfied: typing-extensions in /usr/local/lib/python3.7/dist-packages (from cmd2>=1.0.0->cliff->optuna) (3.10.0.2)\n",
            "Requirement already satisfied: attrs>=16.3.0 in /usr/local/lib/python3.7/dist-packages (from cmd2>=1.0.0->cliff->optuna) (21.4.0)\n",
            "Requirement already satisfied: wcwidth>=0.1.7 in /usr/local/lib/python3.7/dist-packages (from cmd2>=1.0.0->cliff->optuna) (0.2.5)\n",
            "Requirement already satisfied: zipp>=0.5 in /usr/local/lib/python3.7/dist-packages (from importlib-metadata->sqlalchemy>=1.1.0->optuna) (3.7.0)\n",
            "Requirement already satisfied: MarkupSafe>=0.9.2 in /usr/local/lib/python3.7/dist-packages (from Mako->alembic->optuna) (2.0.1)\n",
            "Building wheels for collected packages: pyperclip\n",
            "  Building wheel for pyperclip (setup.py) ... \u001b[?25l\u001b[?25hdone\n",
            "  Created wheel for pyperclip: filename=pyperclip-1.8.2-py3-none-any.whl size=11137 sha256=3148a7c87c104a5337164a6abc4df974e7e140e2fe9dced81e6ac0b062b0c0c9\n",
            "  Stored in directory: /root/.cache/pip/wheels/9f/18/84/8f69f8b08169c7bae2dde6bd7daf0c19fca8c8e500ee620a28\n",
            "Successfully built pyperclip\n",
            "Installing collected packages: pyperclip, pbr, stevedore, Mako, cmd2, autopage, colorlog, cmaes, cliff, alembic, optuna\n",
            "Successfully installed Mako-1.2.0 alembic-1.7.6 autopage-0.5.0 cliff-3.10.1 cmaes-0.8.2 cmd2-2.4.0 colorlog-6.6.0 optuna-2.10.0 pbr-5.8.1 pyperclip-1.8.2 stevedore-3.5.0\n"
          ]
        }
      ]
    },
    {
      "cell_type": "code",
      "source": [
        "import optuna\n",
        "\n",
        "def objective(trial):\n",
        "    x = trial.suggest_float('x', -10, 10)\n",
        "    return (x - 2) ** 2\n",
        "\n",
        "study = optuna.create_study()\n",
        "study.optimize(objective, n_trials=100)\n",
        "\n",
        "print(study.best_params) # E.g. {'x': 2.002108042}"
      ],
      "metadata": {
        "id": "aEdxFHEbbFyW"
      },
      "execution_count": null,
      "outputs": []
    },
    {
      "cell_type": "code",
      "source": [
        " print(study.best_trial)"
      ],
      "metadata": {
        "id": "-eTl_KNw-Zow",
        "outputId": "6539a1e5-783f-4a9a-ea24-96a90c6f1db5",
        "colab": {
          "base_uri": "https://localhost:8080/"
        }
      },
      "execution_count": 30,
      "outputs": [
        {
          "output_type": "stream",
          "name": "stdout",
          "text": [
            "FrozenTrial(number=62, values=[1.6179161434112966e-06], datetime_start=datetime.datetime(2022, 3, 11, 12, 34, 9, 195836), datetime_complete=datetime.datetime(2022, 3, 11, 12, 34, 9, 199282), params={'x': 1.998728026673467}, distributions={'x': UniformDistribution(high=10.0, low=-10.0)}, user_attrs={}, system_attrs={}, intermediate_values={}, trial_id=62, state=TrialState.COMPLETE, value=None)\n"
          ]
        }
      ]
    },
    {
      "cell_type": "code",
      "source": [
        "import optuna\n",
        "\n",
        "import sklearn.datasets\n",
        "import sklearn.ensemble\n",
        "import sklearn.model_selection\n",
        "import sklearn.svm\n",
        "\n",
        "\n",
        "# FYI: Objective functions can take additional arguments\n",
        "# (https://optuna.readthedocs.io/en/stable/faq.html#objective-func-additional-args).\n",
        "def objective(trial):\n",
        "    x, y = X_train,y_train\n",
        "\n",
        "    classifier_name = trial.suggest_categorical(\"classifier\", [\"GradientBoostingClassifier\", \"LightGBM\"])\n",
        "    if classifier_name == \"GradientBoostingClassifier\":\n",
        "         max_depth = trial.suggest_int(\"max_depth\", 2,16)\n",
        "         max_features = trial.suggest_int(\"max_features\", 2,X_train.shape[1])\n",
        "         classifier_obj = sklearn.ensemble.GradientBoostingClassifier(random_state=17,  max_depth=max_depth, max_features=max_features )\n",
        "        \n",
        "    else:\n",
        "         import lightgbm as lgb\n",
        "         max_depth = trial.suggest_int(\"max_depth\", 2,16)\n",
        "         max_features = trial.suggest_int(\"max_features\", 2,X_train.shape[1])\n",
        "         classifier_obj = lgb.LGBMClassifier(random_state=17,  max_depth=max_depth, max_features=max_features )\n",
        "        \n",
        "\n",
        "    accuracy=sklearn.model_selection.cross_val_score(classifier_obj, x, y, n_jobs=-1, cv=3).mean()\n",
        "   \n",
        "    return accuracy\n",
        "\n",
        "\n",
        "if __name__ == \"__main__\":\n",
        "    study = optuna.create_study(direction=\"maximize\")\n",
        "    study.optimize(objective, n_trials=100)\n",
        "    print(study.best_trial)"
      ],
      "metadata": {
        "id": "fkFEMF1VY6zF"
      },
      "execution_count": null,
      "outputs": []
    },
    {
      "cell_type": "code",
      "source": [
        "#Print Best Model\n",
        "study.best_params"
      ],
      "metadata": {
        "id": "oKEwZpRvg2KC",
        "outputId": "744b4105-d742-415b-e45a-89a2ae4b2a66",
        "colab": {
          "base_uri": "https://localhost:8080/"
        }
      },
      "execution_count": 32,
      "outputs": [
        {
          "output_type": "execute_result",
          "data": {
            "text/plain": [
              "{'classifier': 'LightGBM', 'max_depth': 12, 'max_features': 2}"
            ]
          },
          "metadata": {},
          "execution_count": 32
        }
      ]
    },
    {
      "cell_type": "code",
      "source": [
        "#Apply Best Model Parameter to Test Data\n",
        "import optuna\n",
        "\n",
        "import sklearn.datasets\n",
        "import sklearn.ensemble\n",
        "import sklearn.model_selection\n",
        "import sklearn.svm\n",
        "\n",
        "\n",
        "# FYI: Objective functions can take additional arguments\n",
        "# (https://optuna.readthedocs.io/en/stable/faq.html#objective-func-additional-args).\n",
        "def objective(trial):\n",
        "    x, y = X_train,y_train\n",
        "\n",
        "    param = {\n",
        "        \"objective\": \"binary\",\n",
        "        \"metric\": \"binary_logloss\",\n",
        "        \"verbosity\": -1,\n",
        "        \"boosting_type\": \"gbdt\",\n",
        "        \"lambda_l1\": trial.suggest_float(\"lambda_l1\", 1e-8, 10.0, log=True),\n",
        "        \"lambda_l2\": trial.suggest_float(\"lambda_l2\", 1e-8, 10.0, log=True),\n",
        "        \"num_leaves\": trial.suggest_int(\"num_leaves\", 2, 256),\n",
        "        \"feature_fraction\": trial.suggest_float(\"feature_fraction\", 0.4, 1.0),\n",
        "        \"bagging_fraction\": trial.suggest_float(\"bagging_fraction\", 0.4, 1.0),\n",
        "        \"bagging_freq\": trial.suggest_int(\"bagging_freq\", 1, 7),\n",
        "        \"min_child_samples\": trial.suggest_int(\"min_child_samples\", 5, 100),\n",
        "    }\n",
        "    import lightgbm as lgb\n",
        "    classifier_obj = lgb.LGBMClassifier(random_state=17,**param)\n",
        "\n",
        "    accuracy=sklearn.model_selection.cross_val_score(classifier_obj, x, y, n_jobs=-1, cv=3).mean()\n",
        "   \n",
        "    return accuracy\n",
        "\n",
        "\n",
        "if __name__ == \"__main__\":\n",
        "    study = optuna.create_study(direction=\"maximize\")\n",
        "    study.optimize(objective, n_trials=200)\n",
        "    print(study.best_trial)"
      ],
      "metadata": {
        "id": "8cmstdAHg46W",
        "outputId": "9794c743-51ca-41f0-fa29-e80da6a91f19",
        "colab": {
          "base_uri": "https://localhost:8080/"
        }
      },
      "execution_count": 48,
      "outputs": [
        {
          "output_type": "stream",
          "name": "stderr",
          "text": [
            "\u001b[32m[I 2022-03-12 23:39:49,921]\u001b[0m A new study created in memory with name: no-name-2facc234-be6e-4e17-bc3c-fc7793c7b1e2\u001b[0m\n",
            "\u001b[32m[I 2022-03-12 23:39:52,645]\u001b[0m Trial 0 finished with value: 0.9095603131592848 and parameters: {'lambda_l1': 1.2068594818664454e-05, 'lambda_l2': 3.103103899084126e-05, 'num_leaves': 46, 'feature_fraction': 0.4473570931046189, 'bagging_fraction': 0.5096144022717055, 'bagging_freq': 3, 'min_child_samples': 34}. Best is trial 0 with value: 0.9095603131592848.\u001b[0m\n",
            "\u001b[32m[I 2022-03-12 23:39:53,297]\u001b[0m Trial 1 finished with value: 0.9087034151301504 and parameters: {'lambda_l1': 0.0019840259744407637, 'lambda_l2': 0.04149308592878834, 'num_leaves': 79, 'feature_fraction': 0.4436929363387725, 'bagging_fraction': 0.4387269261479715, 'bagging_freq': 7, 'min_child_samples': 9}. Best is trial 0 with value: 0.9095603131592848.\u001b[0m\n",
            "\u001b[32m[I 2022-03-12 23:39:54,208]\u001b[0m Trial 2 finished with value: 0.9502767549040043 and parameters: {'lambda_l1': 2.9028261017708118e-08, 'lambda_l2': 0.00016044919551036927, 'num_leaves': 216, 'feature_fraction': 0.8898552330194658, 'bagging_fraction': 0.8896173202621793, 'bagging_freq': 3, 'min_child_samples': 12}. Best is trial 2 with value: 0.9502767549040043.\u001b[0m\n",
            "\u001b[32m[I 2022-03-12 23:39:54,445]\u001b[0m Trial 3 finished with value: 0.9147033555773915 and parameters: {'lambda_l1': 1.0780569359745458e-08, 'lambda_l2': 1.0320861947178267e-05, 'num_leaves': 59, 'feature_fraction': 0.701130267626499, 'bagging_fraction': 0.9227401366290205, 'bagging_freq': 3, 'min_child_samples': 99}. Best is trial 2 with value: 0.9502767549040043.\u001b[0m\n",
            "\u001b[32m[I 2022-03-12 23:39:54,956]\u001b[0m Trial 4 finished with value: 0.9318484845477134 and parameters: {'lambda_l1': 0.0014869089910511258, 'lambda_l2': 2.2245362922980374e-07, 'num_leaves': 102, 'feature_fraction': 0.8615713893285462, 'bagging_fraction': 0.6203275810971031, 'bagging_freq': 3, 'min_child_samples': 18}. Best is trial 2 with value: 0.9502767549040043.\u001b[0m\n",
            "\u001b[32m[I 2022-03-12 23:39:55,203]\u001b[0m Trial 5 finished with value: 0.9074180680864486 and parameters: {'lambda_l1': 6.170735060197973e-08, 'lambda_l2': 0.00030417678344708045, 'num_leaves': 37, 'feature_fraction': 0.9861221554189824, 'bagging_fraction': 0.7827960494235571, 'bagging_freq': 3, 'min_child_samples': 100}. Best is trial 2 with value: 0.9502767549040043.\u001b[0m\n",
            "\u001b[32m[I 2022-03-12 23:39:55,477]\u001b[0m Trial 6 finished with value: 0.918132050522796 and parameters: {'lambda_l1': 6.800082351023917e-07, 'lambda_l2': 5.2869556972249525e-06, 'num_leaves': 66, 'feature_fraction': 0.9787623034601114, 'bagging_fraction': 0.7070453635650096, 'bagging_freq': 5, 'min_child_samples': 71}. Best is trial 2 with value: 0.9502767549040043.\u001b[0m\n",
            "\u001b[32m[I 2022-03-12 23:39:55,747]\u001b[0m Trial 7 finished with value: 0.9459922647583316 and parameters: {'lambda_l1': 0.012389617386854474, 'lambda_l2': 5.673915107198513e-07, 'num_leaves': 13, 'feature_fraction': 0.5597770778155492, 'bagging_fraction': 0.7100301799043445, 'bagging_freq': 2, 'min_child_samples': 7}. Best is trial 2 with value: 0.9502767549040043.\u001b[0m\n",
            "\u001b[32m[I 2022-03-12 23:39:56,002]\u001b[0m Trial 8 finished with value: 0.9202781554966645 and parameters: {'lambda_l1': 2.818911590880859e-08, 'lambda_l2': 0.00011007101349360483, 'num_leaves': 128, 'feature_fraction': 0.5386641938687848, 'bagging_fraction': 0.9900973830780045, 'bagging_freq': 6, 'min_child_samples': 90}. Best is trial 2 with value: 0.9502767549040043.\u001b[0m\n",
            "\u001b[32m[I 2022-03-12 23:39:56,471]\u001b[0m Trial 9 finished with value: 0.942132363726194 and parameters: {'lambda_l1': 2.4378236047768252e-08, 'lambda_l2': 0.0016938736920127113, 'num_leaves': 22, 'feature_fraction': 0.8362999347682654, 'bagging_fraction': 0.6497345787322696, 'bagging_freq': 7, 'min_child_samples': 7}. Best is trial 2 with value: 0.9502767549040043.\u001b[0m\n",
            "\u001b[32m[I 2022-03-12 23:39:56,767]\u001b[0m Trial 10 finished with value: 0.9279918920021748 and parameters: {'lambda_l1': 0.5219740536264782, 'lambda_l2': 0.7829885160019672, 'num_leaves': 230, 'feature_fraction': 0.7666617794971169, 'bagging_fraction': 0.8603497998904421, 'bagging_freq': 1, 'min_child_samples': 46}. Best is trial 2 with value: 0.9502767549040043.\u001b[0m\n",
            "\u001b[32m[I 2022-03-12 23:39:57,128]\u001b[0m Trial 11 finished with value: 0.9279907891733085 and parameters: {'lambda_l1': 0.19597519656864804, 'lambda_l2': 1.144754332447661e-08, 'num_leaves': 202, 'feature_fraction': 0.6051631863639428, 'bagging_fraction': 0.796856814027038, 'bagging_freq': 1, 'min_child_samples': 30}. Best is trial 2 with value: 0.9502767549040043.\u001b[0m\n",
            "\u001b[32m[I 2022-03-12 23:39:57,537]\u001b[0m Trial 12 finished with value: 0.9215612968826337 and parameters: {'lambda_l1': 0.022651693348355775, 'lambda_l2': 6.572993495825801e-07, 'num_leaves': 168, 'feature_fraction': 0.6075957417019813, 'bagging_fraction': 0.7379529065868634, 'bagging_freq': 2, 'min_child_samples': 25}. Best is trial 2 with value: 0.9502767549040043.\u001b[0m\n",
            "\u001b[32m[I 2022-03-12 23:39:57,717]\u001b[0m Trial 13 finished with value: 0.8919878380032621 and parameters: {'lambda_l1': 7.02136205870057, 'lambda_l2': 0.010234332018503918, 'num_leaves': 247, 'feature_fraction': 0.86937209093984, 'bagging_fraction': 0.5586259113578238, 'bagging_freq': 4, 'min_child_samples': 59}. Best is trial 2 with value: 0.9502767549040043.\u001b[0m\n",
            "\u001b[32m[I 2022-03-12 23:39:58,071]\u001b[0m Trial 14 finished with value: 0.9262769931150395 and parameters: {'lambda_l1': 2.3540551410965325e-05, 'lambda_l2': 1.0272641067435304e-08, 'num_leaves': 168, 'feature_fraction': 0.5969902272149238, 'bagging_fraction': 0.8646106866403984, 'bagging_freq': 2, 'min_child_samples': 40}. Best is trial 2 with value: 0.9502767549040043.\u001b[0m\n",
            "\u001b[32m[I 2022-03-12 23:39:59,181]\u001b[0m Trial 15 finished with value: 0.9455566473561333 and parameters: {'lambda_l1': 8.43957396164027e-05, 'lambda_l2': 3.146019851340372e-07, 'num_leaves': 165, 'feature_fraction': 0.7047825338724907, 'bagging_fraction': 0.9429304526321183, 'bagging_freq': 4, 'min_child_samples': 6}. Best is trial 2 with value: 0.9502767549040043.\u001b[0m\n",
            "\u001b[32m[I 2022-03-12 23:39:59,424]\u001b[0m Trial 16 finished with value: 0.9429942244852271 and parameters: {'lambda_l1': 1.896939202048871e-06, 'lambda_l2': 0.7903437588178371, 'num_leaves': 11, 'feature_fraction': 0.5028557894690606, 'bagging_fraction': 0.8499170029048934, 'bagging_freq': 2, 'min_child_samples': 19}. Best is trial 2 with value: 0.9502767549040043.\u001b[0m\n",
            "\u001b[32m[I 2022-03-12 23:39:59,703]\u001b[0m Trial 17 finished with value: 0.9121299044178222 and parameters: {'lambda_l1': 0.010506808110788184, 'lambda_l2': 2.3848740720896553e-06, 'num_leaves': 126, 'feature_fraction': 0.7817749527749278, 'bagging_fraction': 0.6537074524214923, 'bagging_freq': 5, 'min_child_samples': 53}. Best is trial 2 with value: 0.9502767549040043.\u001b[0m\n",
            "\u001b[32m[I 2022-03-12 23:40:00,373]\u001b[0m Trial 18 finished with value: 0.9455654699870638 and parameters: {'lambda_l1': 0.00039502426514431276, 'lambda_l2': 0.002136825959627403, 'num_leaves': 94, 'feature_fraction': 0.9440331690866084, 'bagging_fraction': 0.7665108672608751, 'bagging_freq': 1, 'min_child_samples': 16}. Best is trial 2 with value: 0.9502767549040043.\u001b[0m\n",
            "\u001b[32m[I 2022-03-12 23:40:00,584]\u001b[0m Trial 19 finished with value: 0.8765565050912095 and parameters: {'lambda_l1': 6.479251325126007e-07, 'lambda_l2': 1.0062822691125183e-07, 'num_leaves': 205, 'feature_fraction': 0.9121321078471625, 'bagging_fraction': 0.41080513613338576, 'bagging_freq': 2, 'min_child_samples': 68}. Best is trial 2 with value: 0.9502767549040043.\u001b[0m\n",
            "\u001b[32m[I 2022-03-12 23:40:00,900]\u001b[0m Trial 20 finished with value: 0.9151307017630925 and parameters: {'lambda_l1': 0.08695787209379024, 'lambda_l2': 5.032116467681038e-05, 'num_leaves': 150, 'feature_fraction': 0.4000065343369651, 'bagging_fraction': 0.5908494695525043, 'bagging_freq': 5, 'min_child_samples': 23}. Best is trial 2 with value: 0.9502767549040043.\u001b[0m\n",
            "\u001b[32m[I 2022-03-12 23:40:01,618]\u001b[0m Trial 21 finished with value: 0.9477055094021676 and parameters: {'lambda_l1': 0.0004374006380993202, 'lambda_l2': 0.003411807433469121, 'num_leaves': 85, 'feature_fraction': 0.9291296975126194, 'bagging_fraction': 0.7692440272358937, 'bagging_freq': 1, 'min_child_samples': 14}. Best is trial 2 with value: 0.9502767549040043.\u001b[0m\n",
            "\u001b[32m[I 2022-03-12 23:40:02,255]\u001b[0m Trial 22 finished with value: 0.9459911619294653 and parameters: {'lambda_l1': 0.0002829312022790483, 'lambda_l2': 0.07768341979301979, 'num_leaves': 102, 'feature_fraction': 0.7803791150129036, 'bagging_fraction': 0.822800421969611, 'bagging_freq': 1, 'min_child_samples': 14}. Best is trial 2 with value: 0.9502767549040043.\u001b[0m\n",
            "\u001b[32m[I 2022-03-12 23:40:02,645]\u001b[0m Trial 23 finished with value: 0.9232778500130685 and parameters: {'lambda_l1': 0.0025116224324309355, 'lambda_l2': 0.0014139568616103957, 'num_leaves': 19, 'feature_fraction': 0.8941872558519675, 'bagging_fraction': 0.6912690172975534, 'bagging_freq': 2, 'min_child_samples': 32}. Best is trial 2 with value: 0.9502767549040043.\u001b[0m\n",
            "\u001b[32m[I 2022-03-12 23:40:02,779]\u001b[0m Trial 24 finished with value: 0.8611262750080231 and parameters: {'lambda_l1': 1.2500890584944707e-05, 'lambda_l2': 4.031031163409955, 'num_leaves': 2, 'feature_fraction': 0.8025925612829693, 'bagging_fraction': 0.9083342835385426, 'bagging_freq': 3, 'min_child_samples': 5}. Best is trial 2 with value: 0.9502767549040043.\u001b[0m\n",
            "\u001b[32m[I 2022-03-12 23:40:03,210]\u001b[0m Trial 25 finished with value: 0.9279885835155758 and parameters: {'lambda_l1': 0.013755169199391041, 'lambda_l2': 0.0003634294771446765, 'num_leaves': 200, 'feature_fraction': 0.6330234363382178, 'bagging_fraction': 0.7492552264636214, 'bagging_freq': 1, 'min_child_samples': 25}. Best is trial 2 with value: 0.9502767549040043.\u001b[0m\n",
            "\u001b[32m[I 2022-03-12 23:40:03,565]\u001b[0m Trial 26 finished with value: 0.9412760171114928 and parameters: {'lambda_l1': 1.9851627861260526, 'lambda_l2': 0.012710590764454337, 'num_leaves': 38, 'feature_fraction': 0.6649983333337273, 'bagging_fraction': 0.985773071392065, 'bagging_freq': 2, 'min_child_samples': 14}. Best is trial 2 with value: 0.9502767549040043.\u001b[0m\n",
            "\u001b[32m[I 2022-03-12 23:40:03,924]\u001b[0m Trial 27 finished with value: 0.9254206465003381 and parameters: {'lambda_l1': 0.00010730985964230047, 'lambda_l2': 1.7256187373109116e-06, 'num_leaves': 78, 'feature_fraction': 0.9348351905476012, 'bagging_fraction': 0.7078850591369786, 'bagging_freq': 4, 'min_child_samples': 41}. Best is trial 2 with value: 0.9502767549040043.\u001b[0m\n",
            "\u001b[32m[I 2022-03-12 23:40:04,398]\u001b[0m Trial 28 finished with value: 0.9335600749482497 and parameters: {'lambda_l1': 0.048427342259021254, 'lambda_l2': 1.261524711117664e-05, 'num_leaves': 148, 'feature_fraction': 0.7315586213687307, 'bagging_fraction': 0.8180870541616762, 'bagging_freq': 2, 'min_child_samples': 27}. Best is trial 2 with value: 0.9502767549040043.\u001b[0m\n",
            "\u001b[32m[I 2022-03-12 23:40:04,691]\u001b[0m Trial 29 finished with value: 0.9134196627769894 and parameters: {'lambda_l1': 3.917897301317754e-06, 'lambda_l2': 6.099550635208888e-08, 'num_leaves': 52, 'feature_fraction': 0.5406170451670584, 'bagging_fraction': 0.543182579665711, 'bagging_freq': 3, 'min_child_samples': 36}. Best is trial 2 with value: 0.9502767549040043.\u001b[0m\n",
            "\u001b[32m[I 2022-03-12 23:40:05,491]\u001b[0m Trial 30 finished with value: 0.9511336529331388 and parameters: {'lambda_l1': 0.0005843960585799084, 'lambda_l2': 5.789733242221275e-05, 'num_leaves': 223, 'feature_fraction': 0.8485680365666749, 'bagging_fraction': 0.8820508091923637, 'bagging_freq': 1, 'min_child_samples': 12}. Best is trial 30 with value: 0.9511336529331388.\u001b[0m\n",
            "\u001b[32m[I 2022-03-12 23:40:06,270]\u001b[0m Trial 31 finished with value: 0.9477027523300018 and parameters: {'lambda_l1': 0.001042698333309949, 'lambda_l2': 5.2126230592129154e-05, 'num_leaves': 223, 'feature_fraction': 0.8243669216425585, 'bagging_fraction': 0.8956993189247737, 'bagging_freq': 1, 'min_child_samples': 12}. Best is trial 30 with value: 0.9511336529331388.\u001b[0m\n",
            "\u001b[32m[I 2022-03-12 23:40:07,044]\u001b[0m Trial 32 finished with value: 0.9494187540460034 and parameters: {'lambda_l1': 0.0013693511697792772, 'lambda_l2': 4.088432751914288e-05, 'num_leaves': 253, 'feature_fraction': 0.8391536666413718, 'bagging_fraction': 0.8993718058303648, 'bagging_freq': 1, 'min_child_samples': 12}. Best is trial 30 with value: 0.9511336529331388.\u001b[0m\n",
            "\u001b[32m[I 2022-03-12 23:40:07,706]\u001b[0m Trial 33 finished with value: 0.9502817176339028 and parameters: {'lambda_l1': 4.5364610681078495e-05, 'lambda_l2': 0.00035531568094866614, 'num_leaves': 249, 'feature_fraction': 0.8692295984332272, 'bagging_fraction': 0.9382861356111017, 'bagging_freq': 1, 'min_child_samples': 20}. Best is trial 30 with value: 0.9511336529331388.\u001b[0m\n",
            "\u001b[32m[I 2022-03-12 23:40:08,401]\u001b[0m Trial 34 finished with value: 0.9537093097504408 and parameters: {'lambda_l1': 1.6320747359916978e-07, 'lambda_l2': 0.00029625828584622823, 'num_leaves': 256, 'feature_fraction': 0.8692420558461745, 'bagging_fraction': 0.9637458673478668, 'bagging_freq': 1, 'min_child_samples': 19}. Best is trial 34 with value: 0.9537093097504408.\u001b[0m\n",
            "\u001b[32m[I 2022-03-12 23:40:09,056]\u001b[0m Trial 35 finished with value: 0.949851614376036 and parameters: {'lambda_l1': 2.594290801697894e-07, 'lambda_l2': 0.00026654106511519044, 'num_leaves': 230, 'feature_fraction': 0.8845939062111406, 'bagging_fraction': 0.9476438126224204, 'bagging_freq': 3, 'min_child_samples': 21}. Best is trial 34 with value: 0.9537093097504408.\u001b[0m\n",
            "\u001b[32m[I 2022-03-12 23:40:09,759]\u001b[0m Trial 36 finished with value: 0.9549946567941426 and parameters: {'lambda_l1': 1.204610497660003e-07, 'lambda_l2': 0.0006419901632243606, 'num_leaves': 241, 'feature_fraction': 0.9714311063259289, 'bagging_fraction': 0.9797207635894118, 'bagging_freq': 1, 'min_child_samples': 20}. Best is trial 36 with value: 0.9549946567941426.\u001b[0m\n",
            "\u001b[32m[I 2022-03-12 23:40:10,256]\u001b[0m Trial 37 finished with value: 0.9374227330525532 and parameters: {'lambda_l1': 1.269799056315791e-07, 'lambda_l2': 0.0008544852121997751, 'num_leaves': 247, 'feature_fraction': 0.9667690004750227, 'bagging_fraction': 0.9629829799671524, 'bagging_freq': 1, 'min_child_samples': 36}. Best is trial 36 with value: 0.9549946567941426.\u001b[0m\n",
            "\u001b[32m[I 2022-03-12 23:40:10,988]\u001b[0m Trial 38 finished with value: 0.9515676160920377 and parameters: {'lambda_l1': 4.003047744866331e-06, 'lambda_l2': 1.0402836779855533e-05, 'num_leaves': 190, 'feature_fraction': 0.9540300683541925, 'bagging_fraction': 0.9307878616443965, 'bagging_freq': 1, 'min_child_samples': 20}. Best is trial 36 with value: 0.9549946567941426.\u001b[0m\n",
            "\u001b[32m[I 2022-03-12 23:40:11,644]\u001b[0m Trial 39 finished with value: 0.9404191190823582 and parameters: {'lambda_l1': 3.703354643969987e-06, 'lambda_l2': 5.11398546371631e-06, 'num_leaves': 193, 'feature_fraction': 0.9942099556468411, 'bagging_fraction': 0.9982199363713404, 'bagging_freq': 2, 'min_child_samples': 29}. Best is trial 36 with value: 0.9549946567941426.\u001b[0m\n",
            "\u001b[32m[I 2022-03-12 23:40:12,053]\u001b[0m Trial 40 finished with value: 0.9352793851508504 and parameters: {'lambda_l1': 3.5406010864920714e-07, 'lambda_l2': 1.3023131034827119e-05, 'num_leaves': 235, 'feature_fraction': 0.9630308470719857, 'bagging_fraction': 0.9727776473668871, 'bagging_freq': 1, 'min_child_samples': 47}. Best is trial 36 with value: 0.9549946567941426.\u001b[0m\n",
            "\u001b[32m[I 2022-03-12 23:40:12,724]\u001b[0m Trial 41 finished with value: 0.9532819635647399 and parameters: {'lambda_l1': 3.171922667923475e-05, 'lambda_l2': 0.00014735875682931842, 'num_leaves': 213, 'feature_fraction': 0.9054015362047725, 'bagging_fraction': 0.9326307277178475, 'bagging_freq': 1, 'min_child_samples': 20}. Best is trial 36 with value: 0.9549946567941426.\u001b[0m\n",
            "\u001b[32m[I 2022-03-12 23:40:13,006]\u001b[0m Trial 42 finished with value: 0.9194162947376315 and parameters: {'lambda_l1': 1.935026094964974e-06, 'lambda_l2': 9.856868823614151e-05, 'num_leaves': 186, 'feature_fraction': 0.9182288606194691, 'bagging_fraction': 0.9238944314851621, 'bagging_freq': 1, 'min_child_samples': 85}. Best is trial 36 with value: 0.9549946567941426.\u001b[0m\n",
            "\u001b[32m[I 2022-03-12 23:40:13,750]\u001b[0m Trial 43 finished with value: 0.9537115154081736 and parameters: {'lambda_l1': 1.192526442370154e-08, 'lambda_l2': 1.4651032143365736e-05, 'num_leaves': 214, 'feature_fraction': 0.9569108232529168, 'bagging_fraction': 0.8759066236502238, 'bagging_freq': 1, 'min_child_samples': 19}. Best is trial 36 with value: 0.9549946567941426.\u001b[0m\n",
            "\u001b[32m[I 2022-03-12 23:40:14,226]\u001b[0m Trial 44 finished with value: 0.9159914596932591 and parameters: {'lambda_l1': 1.5223344517031975e-08, 'lambda_l2': 2.138037679449083e-05, 'num_leaves': 212, 'feature_fraction': 0.994265855344084, 'bagging_fraction': 0.4768735117050641, 'bagging_freq': 2, 'min_child_samples': 20}. Best is trial 36 with value: 0.9549946567941426.\u001b[0m\n",
            "\u001b[32m[I 2022-03-12 23:40:14,751]\u001b[0m Trial 45 finished with value: 0.9421334665550605 and parameters: {'lambda_l1': 1.1585094722423701e-07, 'lambda_l2': 5.041687241949751e-06, 'num_leaves': 182, 'feature_fraction': 0.9559685471886525, 'bagging_fraction': 0.9636810150780669, 'bagging_freq': 1, 'min_child_samples': 34}. Best is trial 36 with value: 0.9549946567941426.\u001b[0m\n",
            "\u001b[32m[I 2022-03-12 23:40:15,383]\u001b[0m Trial 46 finished with value: 0.9417083260270921 and parameters: {'lambda_l1': 6.637125057415775e-08, 'lambda_l2': 0.0005915093105009864, 'num_leaves': 236, 'feature_fraction': 0.8999970220005682, 'bagging_fraction': 0.9217615688980352, 'bagging_freq': 7, 'min_child_samples': 25}. Best is trial 36 with value: 0.9549946567941426.\u001b[0m\n",
            "\u001b[32m[I 2022-03-12 23:40:15,871]\u001b[0m Trial 47 finished with value: 0.9327081396490137 and parameters: {'lambda_l1': 1.087084855102658e-08, 'lambda_l2': 0.0048657606897726845, 'num_leaves': 238, 'feature_fraction': 0.9445467214880173, 'bagging_fraction': 0.8547105140441887, 'bagging_freq': 1, 'min_child_samples': 31}. Best is trial 36 with value: 0.9549946567941426.\u001b[0m\n",
            "\u001b[32m[I 2022-03-12 23:40:16,932]\u001b[0m Trial 48 finished with value: 0.9464174052862999 and parameters: {'lambda_l1': 1.052298118496775e-06, 'lambda_l2': 0.00015284793814385604, 'num_leaves': 216, 'feature_fraction': 0.9773271912416319, 'bagging_fraction': 0.8269169602783406, 'bagging_freq': 2, 'min_child_samples': 9}. Best is trial 36 with value: 0.9549946567941426.\u001b[0m\n",
            "\u001b[32m[I 2022-03-12 23:40:17,551]\u001b[0m Trial 49 finished with value: 0.95071016664847 and parameters: {'lambda_l1': 4.5994352056946754e-08, 'lambda_l2': 0.042286977908502964, 'num_leaves': 179, 'feature_fraction': 0.8166186767979317, 'bagging_fraction': 0.883663942593446, 'bagging_freq': 2, 'min_child_samples': 18}. Best is trial 36 with value: 0.9549946567941426.\u001b[0m\n",
            "\u001b[32m[I 2022-03-12 23:40:18,625]\u001b[0m Trial 50 finished with value: 0.9498488573038703 and parameters: {'lambda_l1': 8.376274335327288e-06, 'lambda_l2': 1.2745324177020724e-06, 'num_leaves': 211, 'feature_fraction': 0.8767590369243153, 'bagging_fraction': 0.9982993882602885, 'bagging_freq': 1, 'min_child_samples': 9}. Best is trial 36 with value: 0.9549946567941426.\u001b[0m\n",
            "\u001b[32m[I 2022-03-12 23:40:19,322]\u001b[0m Trial 51 finished with value: 0.9507074095763043 and parameters: {'lambda_l1': 2.3702555087913436e-07, 'lambda_l2': 9.001359071122776e-05, 'num_leaves': 256, 'feature_fraction': 0.9136398048124197, 'bagging_fraction': 0.8793052063508825, 'bagging_freq': 1, 'min_child_samples': 17}. Best is trial 36 with value: 0.9549946567941426.\u001b[0m\n",
            "\u001b[32m[I 2022-03-12 23:40:20,258]\u001b[0m Trial 52 finished with value: 0.9507057553330047 and parameters: {'lambda_l1': 2.2481037700204487e-05, 'lambda_l2': 2.5970983846987434e-05, 'num_leaves': 224, 'feature_fraction': 0.8530539934356135, 'bagging_fraction': 0.9476394333789798, 'bagging_freq': 1, 'min_child_samples': 10}. Best is trial 36 with value: 0.9549946567941426.\u001b[0m\n",
            "\u001b[32m[I 2022-03-12 23:40:20,834]\u001b[0m Trial 53 finished with value: 0.9477077150599001 and parameters: {'lambda_l1': 2.430688661739801e-08, 'lambda_l2': 0.00021494002876191678, 'num_leaves': 219, 'feature_fraction': 0.8526844045462516, 'bagging_fraction': 0.923851772560142, 'bagging_freq': 1, 'min_child_samples': 24}. Best is trial 36 with value: 0.9549946567941426.\u001b[0m\n",
            "\u001b[32m[I 2022-03-12 23:40:21,403]\u001b[0m Trial 54 finished with value: 0.9374210788092535 and parameters: {'lambda_l1': 0.00012290674068503858, 'lambda_l2': 0.000759989116629573, 'num_leaves': 240, 'feature_fraction': 0.9352605126864648, 'bagging_fraction': 0.9681622148862713, 'bagging_freq': 6, 'min_child_samples': 28}. Best is trial 36 with value: 0.9549946567941426.\u001b[0m\n",
            "\u001b[32m[I 2022-03-12 23:40:22,108]\u001b[0m Trial 55 finished with value: 0.9472765089731672 and parameters: {'lambda_l1': 1.0000157388137566e-07, 'lambda_l2': 9.5806428600289e-06, 'num_leaves': 198, 'feature_fraction': 0.7395608160904268, 'bagging_fraction': 0.8704241392325939, 'bagging_freq': 2, 'min_child_samples': 16}. Best is trial 36 with value: 0.9549946567941426.\u001b[0m\n",
            "\u001b[32m[I 2022-03-12 23:40:22,423]\u001b[0m Trial 56 finished with value: 0.9258479926860389 and parameters: {'lambda_l1': 6.269504639798183e-07, 'lambda_l2': 8.398779990659889e-05, 'num_leaves': 227, 'feature_fraction': 0.9024961102353116, 'bagging_fraction': 0.8358279038006923, 'bagging_freq': 1, 'min_child_samples': 58}. Best is trial 36 with value: 0.9549946567941426.\u001b[0m\n",
            "\u001b[32m[I 2022-03-12 23:40:23,085]\u001b[0m Trial 57 finished with value: 0.9507096152340369 and parameters: {'lambda_l1': 0.0032946678846605937, 'lambda_l2': 0.008577086571331197, 'num_leaves': 207, 'feature_fraction': 0.9716578912294364, 'bagging_fraction': 0.9190805916409948, 'bagging_freq': 2, 'min_child_samples': 22}. Best is trial 36 with value: 0.9549946567941426.\u001b[0m\n",
            "\u001b[32m[I 2022-03-12 23:40:24,317]\u001b[0m Trial 58 finished with value: 0.9447030578135976 and parameters: {'lambda_l1': 7.841461415049288e-06, 'lambda_l2': 3.138518611712139e-06, 'num_leaves': 191, 'feature_fraction': 0.7987632009920466, 'bagging_fraction': 0.8024448959401994, 'bagging_freq': 1, 'min_child_samples': 5}. Best is trial 36 with value: 0.9549946567941426.\u001b[0m\n",
            "\u001b[32m[I 2022-03-12 23:40:25,191]\u001b[0m Trial 59 finished with value: 0.9558537604810099 and parameters: {'lambda_l1': 3.5992548990019386e-08, 'lambda_l2': 2.1443973794670837e-05, 'num_leaves': 175, 'feature_fraction': 0.9468156769484528, 'bagging_fraction': 0.9423449391942581, 'bagging_freq': 6, 'min_child_samples': 17}. Best is trial 59 with value: 0.9558537604810099.\u001b[0m\n",
            "\u001b[32m[I 2022-03-12 23:40:25,901]\u001b[0m Trial 60 finished with value: 0.9459955732449306 and parameters: {'lambda_l1': 3.88412131899332e-08, 'lambda_l2': 1.0835970702276743e-06, 'num_leaves': 171, 'feature_fraction': 0.9986615636458026, 'bagging_fraction': 0.9789957127611784, 'bagging_freq': 6, 'min_child_samples': 27}. Best is trial 59 with value: 0.9558537604810099.\u001b[0m\n",
            "\u001b[32m[I 2022-03-12 23:40:26,831]\u001b[0m Trial 61 finished with value: 0.9524250655356054 and parameters: {'lambda_l1': 2.1717784292408803e-08, 'lambda_l2': 2.6996958745661597e-05, 'num_leaves': 244, 'feature_fraction': 0.9471499996736629, 'bagging_fraction': 0.9414880552752086, 'bagging_freq': 5, 'min_child_samples': 16}. Best is trial 59 with value: 0.9558537604810099.\u001b[0m\n",
            "\u001b[32m[I 2022-03-12 23:40:27,707]\u001b[0m Trial 62 finished with value: 0.9494226139470356 and parameters: {'lambda_l1': 1.5722917143299235e-08, 'lambda_l2': 8.3462828609899e-06, 'num_leaves': 156, 'feature_fraction': 0.9493159813262046, 'bagging_fraction': 0.953536000816558, 'bagging_freq': 5, 'min_child_samples': 16}. Best is trial 59 with value: 0.9558537604810099.\u001b[0m\n",
            "\u001b[32m[I 2022-03-12 23:40:28,406]\u001b[0m Trial 63 finished with value: 0.9524250655356054 and parameters: {'lambda_l1': 1.8687397792496006e-07, 'lambda_l2': 2.1860606124196655e-05, 'num_leaves': 244, 'feature_fraction': 0.9330642105883831, 'bagging_fraction': 0.9388906202188494, 'bagging_freq': 5, 'min_child_samples': 22}. Best is trial 59 with value: 0.9558537604810099.\u001b[0m\n",
            "\u001b[32m[I 2022-03-12 23:40:29,105]\u001b[0m Trial 64 finished with value: 0.9511386156630373 and parameters: {'lambda_l1': 1.7895867835780176e-07, 'lambda_l2': 2.4481877307923992e-05, 'num_leaves': 244, 'feature_fraction': 0.921427016710443, 'bagging_fraction': 0.9069895251862297, 'bagging_freq': 5, 'min_child_samples': 23}. Best is trial 59 with value: 0.9558537604810099.\u001b[0m\n",
            "\u001b[32m[I 2022-03-12 23:40:29,926]\u001b[0m Trial 65 finished with value: 0.9524223084634396 and parameters: {'lambda_l1': 6.193319751088988e-08, 'lambda_l2': 0.000175398960873744, 'num_leaves': 119, 'feature_fraction': 0.8892759593747639, 'bagging_fraction': 0.981402752528693, 'bagging_freq': 6, 'min_child_samples': 15}. Best is trial 59 with value: 0.9558537604810099.\u001b[0m\n",
            "\u001b[32m[I 2022-03-12 23:40:30,261]\u001b[0m Trial 66 finished with value: 0.9224192977406345 and parameters: {'lambda_l1': 2.6674088325773774e-08, 'lambda_l2': 0.0005401613813477045, 'num_leaves': 256, 'feature_fraction': 0.9298552801183305, 'bagging_fraction': 0.9416583254294986, 'bagging_freq': 5, 'min_child_samples': 69}. Best is trial 59 with value: 0.9558537604810099.\u001b[0m\n",
            "\u001b[32m[I 2022-03-12 23:40:30,724]\u001b[0m Trial 67 finished with value: 0.93485038472185 and parameters: {'lambda_l1': 5.070897510314667e-07, 'lambda_l2': 0.0014105633980853818, 'num_leaves': 231, 'feature_fraction': 0.9829981745979277, 'bagging_fraction': 0.9014381368652217, 'bagging_freq': 4, 'min_child_samples': 39}. Best is trial 59 with value: 0.9558537604810099.\u001b[0m\n",
            "\u001b[32m[I 2022-03-12 23:40:31,857]\u001b[0m Trial 68 finished with value: 0.9515632047765724 and parameters: {'lambda_l1': 1.0853520139348016e-08, 'lambda_l2': 3.441885718241813e-06, 'num_leaves': 241, 'feature_fraction': 0.9079972085414995, 'bagging_fraction': 0.9577070817366082, 'bagging_freq': 6, 'min_child_samples': 11}. Best is trial 59 with value: 0.9558537604810099.\u001b[0m\n",
            "\u001b[32m[I 2022-03-12 23:40:32,444]\u001b[0m Trial 69 finished with value: 0.9339923838638492 and parameters: {'lambda_l1': 8.149754267943872e-08, 'lambda_l2': 2.0402551545031654e-05, 'num_leaves': 245, 'feature_fraction': 0.9707328230114951, 'bagging_fraction': 0.9802155656948065, 'bagging_freq': 4, 'min_child_samples': 32}. Best is trial 59 with value: 0.9558537604810099.\u001b[0m\n",
            "\u001b[32m[I 2022-03-12 23:40:32,699]\u001b[0m Trial 70 finished with value: 0.9151323560063921 and parameters: {'lambda_l1': 3.027320035861918e-08, 'lambda_l2': 4.602792211389528e-05, 'num_leaves': 218, 'feature_fraction': 0.4788584474873775, 'bagging_fraction': 0.9992465550360291, 'bagging_freq': 7, 'min_child_samples': 81}. Best is trial 59 with value: 0.9558537604810099.\u001b[0m\n",
            "\u001b[32m[I 2022-03-12 23:40:33,545]\u001b[0m Trial 71 finished with value: 0.9507068581618711 and parameters: {'lambda_l1': 5.979348257383986e-08, 'lambda_l2': 0.00016159366554835246, 'num_leaves': 110, 'feature_fraction': 0.885537173733436, 'bagging_fraction': 0.9783307775396275, 'bagging_freq': 6, 'min_child_samples': 14}. Best is trial 59 with value: 0.9558537604810099.\u001b[0m\n",
            "\u001b[32m[I 2022-03-12 23:40:34,276]\u001b[0m Trial 72 finished with value: 0.9532808607358736 and parameters: {'lambda_l1': 1.8269746343055796e-07, 'lambda_l2': 0.00015665232604772548, 'num_leaves': 133, 'feature_fraction': 0.8701628725578622, 'bagging_fraction': 0.9341310824655775, 'bagging_freq': 6, 'min_child_samples': 17}. Best is trial 59 with value: 0.9558537604810099.\u001b[0m\n",
            "\u001b[32m[I 2022-03-12 23:40:34,993]\u001b[0m Trial 73 finished with value: 0.9502806148050364 and parameters: {'lambda_l1': 1.0313915087488407e-06, 'lambda_l2': 7.596853968023964e-05, 'num_leaves': 147, 'feature_fraction': 0.8633160161347062, 'bagging_fraction': 0.9304409098119574, 'bagging_freq': 5, 'min_child_samples': 18}. Best is trial 59 with value: 0.9558537604810099.\u001b[0m\n",
            "\u001b[32m[I 2022-03-12 23:40:35,559]\u001b[0m Trial 74 finished with value: 0.942138429284959 and parameters: {'lambda_l1': 1.5130225470607886e-07, 'lambda_l2': 0.000301182607306233, 'num_leaves': 250, 'feature_fraction': 0.9406531331388265, 'bagging_fraction': 0.9072288564489435, 'bagging_freq': 6, 'min_child_samples': 26}. Best is trial 59 with value: 0.9558537604810099.\u001b[0m\n",
            "\u001b[32m[I 2022-03-12 23:40:36,585]\u001b[0m Trial 75 finished with value: 0.9537065526782751 and parameters: {'lambda_l1': 3.2735281113124067e-07, 'lambda_l2': 0.0026707925803021986, 'num_leaves': 138, 'feature_fraction': 0.9218617752161087, 'bagging_fraction': 0.9423797203415842, 'bagging_freq': 5, 'min_child_samples': 8}. Best is trial 59 with value: 0.9558537604810099.\u001b[0m\n",
            "\u001b[32m[I 2022-03-12 23:40:37,560]\u001b[0m Trial 76 finished with value: 0.948134509831168 and parameters: {'lambda_l1': 2.6933274578271233e-07, 'lambda_l2': 0.0029354814182928476, 'num_leaves': 138, 'feature_fraction': 0.9270692443123157, 'bagging_fraction': 0.849687680684407, 'bagging_freq': 6, 'min_child_samples': 8}. Best is trial 59 with value: 0.9558537604810099.\u001b[0m\n",
            "\u001b[32m[I 2022-03-12 23:40:38,155]\u001b[0m Trial 77 finished with value: 0.951138064248604 and parameters: {'lambda_l1': 1.4113746321238464e-06, 'lambda_l2': 0.007750283874455378, 'num_leaves': 134, 'feature_fraction': 0.8313682991197371, 'bagging_fraction': 0.9584790337484356, 'bagging_freq': 5, 'min_child_samples': 22}. Best is trial 59 with value: 0.9558537604810099.\u001b[0m\n",
            "\u001b[32m[I 2022-03-12 23:40:38,419]\u001b[0m Trial 78 finished with value: 0.9095581075015522 and parameters: {'lambda_l1': 4.073757484530564e-07, 'lambda_l2': 0.001380806546949156, 'num_leaves': 118, 'feature_fraction': 0.896265785678854, 'bagging_fraction': 0.8885409256633812, 'bagging_freq': 7, 'min_child_samples': 96}. Best is trial 59 with value: 0.9558537604810099.\u001b[0m\n",
            "\u001b[32m[I 2022-03-12 23:40:39,416]\u001b[0m Trial 79 finished with value: 0.9477038551588679 and parameters: {'lambda_l1': 2.147146419147583e-08, 'lambda_l2': 0.017896286864722163, 'num_leaves': 161, 'feature_fraction': 0.9557122409702359, 'bagging_fraction': 0.9171675508173391, 'bagging_freq': 4, 'min_child_samples': 7}. Best is trial 59 with value: 0.9558537604810099.\u001b[0m\n",
            "\u001b[32m[I 2022-03-12 23:40:40,108]\u001b[0m Trial 80 finished with value: 0.9404207733256577 and parameters: {'lambda_l1': 1.7994622586054485e-07, 'lambda_l2': 0.00047809886225548873, 'num_leaves': 176, 'feature_fraction': 0.8671044740748631, 'bagging_fraction': 0.6598876206327735, 'bagging_freq': 6, 'min_child_samples': 12}. Best is trial 59 with value: 0.9558537604810099.\u001b[0m\n",
            "\u001b[32m[I 2022-03-12 23:40:40,840]\u001b[0m Trial 81 finished with value: 0.9519944108633055 and parameters: {'lambda_l1': 4.2441941600760846e-08, 'lambda_l2': 4.2384183766189555e-05, 'num_leaves': 231, 'feature_fraction': 0.9146320704718045, 'bagging_fraction': 0.9380339255567663, 'bagging_freq': 5, 'min_child_samples': 19}. Best is trial 59 with value: 0.9558537604810099.\u001b[0m\n",
            "\u001b[32m[I 2022-03-12 23:40:41,705]\u001b[0m Trial 82 finished with value: 0.9502767549040043 and parameters: {'lambda_l1': 1.8559098944541814e-08, 'lambda_l2': 0.0009195664126639152, 'num_leaves': 144, 'feature_fraction': 0.9808563321457271, 'bagging_fraction': 0.9449875505786192, 'bagging_freq': 5, 'min_child_samples': 14}. Best is trial 59 with value: 0.9558537604810099.\u001b[0m\n",
            "\u001b[32m[I 2022-03-12 23:40:42,462]\u001b[0m Trial 83 finished with value: 0.9515676160920377 and parameters: {'lambda_l1': 6.598757943151248e-08, 'lambda_l2': 1.815548246981933e-05, 'num_leaves': 202, 'feature_fraction': 0.9455903990440283, 'bagging_fraction': 0.963057044907058, 'bagging_freq': 4, 'min_child_samples': 21}. Best is trial 59 with value: 0.9558537604810099.\u001b[0m\n",
            "\u001b[32m[I 2022-03-12 23:40:43,205]\u001b[0m Trial 84 finished with value: 0.9515648590198719 and parameters: {'lambda_l1': 1.1877299412031527e-07, 'lambda_l2': 0.00013360125637457647, 'num_leaves': 236, 'feature_fraction': 0.9292456408888954, 'bagging_fraction': 0.9382386283407331, 'bagging_freq': 5, 'min_child_samples': 18}. Best is trial 59 with value: 0.9558537604810099.\u001b[0m\n",
            "\u001b[32m[I 2022-03-12 23:40:43,770]\u001b[0m Trial 85 finished with value: 0.9297078937181765 and parameters: {'lambda_l1': 2.7642155667214786e-06, 'lambda_l2': 5.743186118851909e-06, 'num_leaves': 126, 'feature_fraction': 0.9617116478901816, 'bagging_fraction': 0.8709805334108108, 'bagging_freq': 6, 'min_child_samples': 29}. Best is trial 59 with value: 0.9558537604810099.\u001b[0m\n",
            "\u001b[32m[I 2022-03-12 23:40:44,718]\u001b[0m Trial 86 finished with value: 0.9511319986898393 and parameters: {'lambda_l1': 7.877507121259637e-07, 'lambda_l2': 3.2791632134484126e-05, 'num_leaves': 156, 'feature_fraction': 0.8752336914923324, 'bagging_fraction': 0.8936597886838481, 'bagging_freq': 5, 'min_child_samples': 11}. Best is trial 59 with value: 0.9558537604810099.\u001b[0m\n",
            "\u001b[32m[I 2022-03-12 23:40:45,355]\u001b[0m Trial 87 finished with value: 0.945993367587198 and parameters: {'lambda_l1': 3.706876588151707e-08, 'lambda_l2': 0.00223983409608467, 'num_leaves': 210, 'feature_fraction': 0.9002364652943445, 'bagging_fraction': 0.9883381540194944, 'bagging_freq': 7, 'min_child_samples': 24}. Best is trial 59 with value: 0.9558537604810099.\u001b[0m\n",
            "\u001b[32m[I 2022-03-12 23:40:46,016]\u001b[0m Trial 88 finished with value: 0.9395633238820899 and parameters: {'lambda_l1': 3.5893188955113196e-07, 'lambda_l2': 0.005240965689358256, 'num_leaves': 249, 'feature_fraction': 0.9657054585711036, 'bagging_fraction': 0.7308699473715787, 'bagging_freq': 4, 'min_child_samples': 16}. Best is trial 59 with value: 0.9558537604810099.\u001b[0m\n",
            "\u001b[32m[I 2022-03-12 23:40:46,891]\u001b[0m Trial 89 finished with value: 0.9502767549040043 and parameters: {'lambda_l1': 9.287083324137183e-08, 'lambda_l2': 0.000310790791704055, 'num_leaves': 197, 'feature_fraction': 0.9996047785404902, 'bagging_fraction': 0.9149187423204546, 'bagging_freq': 6, 'min_child_samples': 14}. Best is trial 59 with value: 0.9558537604810099.\u001b[0m\n",
            "\u001b[32m[I 2022-03-12 23:40:47,977]\u001b[0m Trial 90 finished with value: 0.9494193054604366 and parameters: {'lambda_l1': 1.026098007698428e-08, 'lambda_l2': 8.051443290907734e-05, 'num_leaves': 224, 'feature_fraction': 0.8424035541717247, 'bagging_fraction': 0.9662416634247664, 'bagging_freq': 5, 'min_child_samples': 8}. Best is trial 59 with value: 0.9558537604810099.\u001b[0m\n",
            "\u001b[32m[I 2022-03-12 23:40:48,756]\u001b[0m Trial 91 finished with value: 0.9541361045217086 and parameters: {'lambda_l1': 6.006828232077159e-08, 'lambda_l2': 0.000202771221915245, 'num_leaves': 120, 'feature_fraction': 0.8852412876772018, 'bagging_fraction': 0.9845576076065757, 'bagging_freq': 6, 'min_child_samples': 16}. Best is trial 59 with value: 0.9558537604810099.\u001b[0m\n",
            "\u001b[32m[I 2022-03-12 23:40:49,466]\u001b[0m Trial 92 finished with value: 0.9519944108633055 and parameters: {'lambda_l1': 2.1571236083979267e-07, 'lambda_l2': 1.3659030828932464e-05, 'num_leaves': 108, 'feature_fraction': 0.8814640911777947, 'bagging_fraction': 0.9525334100179105, 'bagging_freq': 6, 'min_child_samples': 20}. Best is trial 59 with value: 0.9558537604810099.\u001b[0m\n",
            "\u001b[32m[I 2022-03-12 23:40:50,177]\u001b[0m Trial 93 finished with value: 0.9532814121503067 and parameters: {'lambda_l1': 5.3347919425767966e-08, 'lambda_l2': 0.0008877797384886173, 'num_leaves': 134, 'feature_fraction': 0.9218286043121071, 'bagging_fraction': 0.932054950793701, 'bagging_freq': 6, 'min_child_samples': 18}. Best is trial 59 with value: 0.9558537604810099.\u001b[0m\n",
            "\u001b[32m[I 2022-03-12 23:40:50,941]\u001b[0m Trial 94 finished with value: 0.9558537604810099 and parameters: {'lambda_l1': 1.669826601600592e-08, 'lambda_l2': 0.0011902918722935015, 'num_leaves': 94, 'feature_fraction': 0.9130799476921064, 'bagging_fraction': 0.9733137212357637, 'bagging_freq': 7, 'min_child_samples': 17}. Best is trial 59 with value: 0.9558537604810099.\u001b[0m\n",
            "\u001b[32m[I 2022-03-12 23:40:52,185]\u001b[0m Trial 95 finished with value: 0.9468469571297335 and parameters: {'lambda_l1': 4.87908271592156e-08, 'lambda_l2': 0.0007246108620435217, 'num_leaves': 84, 'feature_fraction': 0.9157907878284793, 'bagging_fraction': 0.9682453590370961, 'bagging_freq': 7, 'min_child_samples': 5}. Best is trial 59 with value: 0.9558537604810099.\u001b[0m\n",
            "\u001b[32m[I 2022-03-12 23:40:53,091]\u001b[0m Trial 96 finished with value: 0.9485624074313019 and parameters: {'lambda_l1': 1.4975113995013365e-08, 'lambda_l2': 0.0020100935520071064, 'num_leaves': 95, 'feature_fraction': 0.8164438576936491, 'bagging_fraction': 0.9924845308945178, 'bagging_freq': 7, 'min_child_samples': 10}. Best is trial 59 with value: 0.9558537604810099.\u001b[0m\n",
            "\u001b[32m[I 2022-03-12 23:40:53,901]\u001b[0m Trial 97 finished with value: 0.9507052039185715 and parameters: {'lambda_l1': 8.960997451670163e-08, 'lambda_l2': 0.0004260574964750541, 'num_leaves': 66, 'feature_fraction': 0.853734536884482, 'bagging_fraction': 0.9243459659296992, 'bagging_freq': 7, 'min_child_samples': 13}. Best is trial 59 with value: 0.9558537604810099.\u001b[0m\n",
            "\u001b[32m[I 2022-03-12 23:40:54,512]\u001b[0m Trial 98 finished with value: 0.9481389211466332 and parameters: {'lambda_l1': 3.3808212048143736e-07, 'lambda_l2': 0.00409564029148562, 'num_leaves': 120, 'feature_fraction': 0.9063946717047963, 'bagging_fraction': 0.9741192310345331, 'bagging_freq': 6, 'min_child_samples': 26}. Best is trial 59 with value: 0.9558537604810099.\u001b[0m\n",
            "\u001b[32m[I 2022-03-12 23:40:55,177]\u001b[0m Trial 99 finished with value: 0.951134204347572 and parameters: {'lambda_l1': 3.126936100431638e-08, 'lambda_l2': 0.0011485341615031417, 'num_leaves': 142, 'feature_fraction': 0.757585542022684, 'bagging_fraction': 0.9865164514602719, 'bagging_freq': 6, 'min_child_samples': 19}. Best is trial 59 with value: 0.9558537604810099.\u001b[0m\n",
            "\u001b[32m[I 2022-03-12 23:40:55,997]\u001b[0m Trial 100 finished with value: 0.9507079609907373 and parameters: {'lambda_l1': 4.8370087469748895e-08, 'lambda_l2': 0.00027975954027486557, 'num_leaves': 135, 'feature_fraction': 0.8952042016875228, 'bagging_fraction': 0.9531070660336045, 'bagging_freq': 7, 'min_child_samples': 17}. Best is trial 59 with value: 0.9558537604810099.\u001b[0m\n",
            "\u001b[32m[I 2022-03-12 23:40:56,843]\u001b[0m Trial 101 finished with value: 0.9532803093214404 and parameters: {'lambda_l1': 2.3444638549519447e-08, 'lambda_l2': 0.00017929625774823458, 'num_leaves': 125, 'feature_fraction': 0.943109012011074, 'bagging_fraction': 0.9272036619622267, 'bagging_freq': 6, 'min_child_samples': 16}. Best is trial 59 with value: 0.9558537604810099.\u001b[0m\n",
            "\u001b[32m[I 2022-03-12 23:40:57,507]\u001b[0m Trial 102 finished with value: 0.946851919859632 and parameters: {'lambda_l1': 1.5803853410232128e-08, 'lambda_l2': 0.0001954433572353288, 'num_leaves': 126, 'feature_fraction': 0.9413972769428257, 'bagging_fraction': 0.9315320041184768, 'bagging_freq': 6, 'min_child_samples': 22}. Best is trial 59 with value: 0.9558537604810099.\u001b[0m\n",
            "\u001b[32m[I 2022-03-12 23:40:58,049]\u001b[0m Trial 103 finished with value: 0.9417066717837926 and parameters: {'lambda_l1': 1.0655626960237323e-07, 'lambda_l2': 0.0010184089714681004, 'num_leaves': 110, 'feature_fraction': 0.6826513657329933, 'bagging_fraction': 0.9138809566239011, 'bagging_freq': 6, 'min_child_samples': 24}. Best is trial 59 with value: 0.9558537604810099.\u001b[0m\n",
            "\u001b[32m[I 2022-03-12 23:40:58,753]\u001b[0m Trial 104 finished with value: 0.9532814121503067 and parameters: {'lambda_l1': 2.8399564100708865e-08, 'lambda_l2': 0.0005609334216942522, 'num_leaves': 130, 'feature_fraction': 0.9257143570679688, 'bagging_fraction': 0.8985122450015243, 'bagging_freq': 6, 'min_child_samples': 18}. Best is trial 59 with value: 0.9558537604810099.\u001b[0m\n",
            "\u001b[32m[I 2022-03-12 23:40:59,376]\u001b[0m Trial 105 finished with value: 0.9545673106084417 and parameters: {'lambda_l1': 1.3879997599424125e-07, 'lambda_l2': 0.017689262356951056, 'num_leaves': 92, 'feature_fraction': 0.9183846510910162, 'bagging_fraction': 0.9529217461535758, 'bagging_freq': 1, 'min_child_samples': 20}. Best is trial 59 with value: 0.9558537604810099.\u001b[0m\n",
            "\u001b[32m[I 2022-03-12 23:40:59,949]\u001b[0m Trial 106 finished with value: 0.9498527172049024 and parameters: {'lambda_l1': 6.876750151176593e-08, 'lambda_l2': 0.1422992699969741, 'num_leaves': 96, 'feature_fraction': 0.9244195653547901, 'bagging_fraction': 0.8998548587148224, 'bagging_freq': 1, 'min_child_samples': 20}. Best is trial 59 with value: 0.9558537604810099.\u001b[0m\n",
            "\u001b[32m[I 2022-03-12 23:41:00,761]\u001b[0m Trial 107 finished with value: 0.9507068581618711 and parameters: {'lambda_l1': 3.632200279927809e-08, 'lambda_l2': 0.0162898489567063, 'num_leaves': 105, 'feature_fraction': 0.9816191960595366, 'bagging_fraction': 0.9722657650295432, 'bagging_freq': 1, 'min_child_samples': 13}. Best is trial 59 with value: 0.9558537604810099.\u001b[0m\n",
            "\u001b[32m[I 2022-03-12 23:41:01,305]\u001b[0m Trial 108 finished with value: 0.9442806743577951 and parameters: {'lambda_l1': 1.0432556236034488e-08, 'lambda_l2': 0.035545812048255576, 'num_leaves': 116, 'feature_fraction': 0.9109864702804541, 'bagging_fraction': 0.9515923627005431, 'bagging_freq': 1, 'min_child_samples': 25}. Best is trial 59 with value: 0.9558537604810099.\u001b[0m\n",
            "\u001b[32m[I 2022-03-12 23:41:01,837]\u001b[0m Trial 109 finished with value: 0.9369937326235528 and parameters: {'lambda_l1': 5.593829398294091e-05, 'lambda_l2': 0.2925261528175314, 'num_leaves': 78, 'feature_fraction': 0.9578348136877132, 'bagging_fraction': 0.999930303291396, 'bagging_freq': 1, 'min_child_samples': 30}. Best is trial 59 with value: 0.9558537604810099.\u001b[0m\n",
            "\u001b[32m[I 2022-03-12 23:41:02,216]\u001b[0m Trial 110 finished with value: 0.9314227926053119 and parameters: {'lambda_l1': 1.3009226564313394e-07, 'lambda_l2': 0.002862580106610393, 'num_leaves': 64, 'feature_fraction': 0.8871204891480816, 'bagging_fraction': 0.8840676780712955, 'bagging_freq': 1, 'min_child_samples': 47}. Best is trial 59 with value: 0.9558537604810099.\u001b[0m\n",
            "\u001b[32m[I 2022-03-12 23:41:02,937]\u001b[0m Trial 111 finished with value: 0.9507068581618711 and parameters: {'lambda_l1': 5.569468214503363e-07, 'lambda_l2': 0.006060998230233138, 'num_leaves': 99, 'feature_fraction': 0.8759560384551961, 'bagging_fraction': 0.9584894316570602, 'bagging_freq': 6, 'min_child_samples': 18}. Best is trial 59 with value: 0.9558537604810099.\u001b[0m\n",
            "\u001b[32m[I 2022-03-12 23:41:03,668]\u001b[0m Trial 112 finished with value: 0.9438456083700301 and parameters: {'lambda_l1': 0.005118198227539425, 'lambda_l2': 0.00012776351288730224, 'num_leaves': 132, 'feature_fraction': 0.5839954586651562, 'bagging_fraction': 0.9819850542192902, 'bagging_freq': 1, 'min_child_samples': 10}. Best is trial 59 with value: 0.9558537604810099.\u001b[0m\n",
            "\u001b[32m[I 2022-03-12 23:41:04,310]\u001b[0m Trial 113 finished with value: 0.9494253710192014 and parameters: {'lambda_l1': 2.5669469262097704e-07, 'lambda_l2': 0.000625640841309057, 'num_leaves': 90, 'feature_fraction': 0.9279942515736499, 'bagging_fraction': 0.9119573052143881, 'bagging_freq': 6, 'min_child_samples': 23}. Best is trial 59 with value: 0.9558537604810099.\u001b[0m\n",
            "\u001b[32m[I 2022-03-12 23:41:05,111]\u001b[0m Trial 114 finished with value: 0.9541366559361418 and parameters: {'lambda_l1': 0.00019242326364262712, 'lambda_l2': 0.0018031271199043235, 'num_leaves': 112, 'feature_fraction': 0.906108543742536, 'bagging_fraction': 0.9289320881021348, 'bagging_freq': 6, 'min_child_samples': 15}. Best is trial 59 with value: 0.9558537604810099.\u001b[0m\n",
            "\u001b[32m[I 2022-03-12 23:41:05,962]\u001b[0m Trial 115 finished with value: 0.9434171593554627 and parameters: {'lambda_l1': 9.495016517918087e-05, 'lambda_l2': 0.0022141208942174826, 'num_leaves': 83, 'feature_fraction': 0.9039090428362435, 'bagging_fraction': 0.8617480398443838, 'bagging_freq': 7, 'min_child_samples': 12}. Best is trial 59 with value: 0.9558537604810099.\u001b[0m\n",
            "\u001b[32m[I 2022-03-12 23:41:06,698]\u001b[0m Trial 116 finished with value: 0.9502800633906032 and parameters: {'lambda_l1': 0.0001526882512347828, 'lambda_l2': 0.0004512746004569805, 'num_leaves': 91, 'feature_fraction': 0.970890791811402, 'bagging_fraction': 0.8417277490419717, 'bagging_freq': 1, 'min_child_samples': 15}. Best is trial 59 with value: 0.9558537604810099.\u001b[0m\n",
            "\u001b[32m[I 2022-03-12 23:41:07,369]\u001b[0m Trial 117 finished with value: 0.948996922004634 and parameters: {'lambda_l1': 0.0005989408482726092, 'lambda_l2': 0.0313623163017497, 'num_leaves': 114, 'feature_fraction': 0.9180197718934953, 'bagging_fraction': 0.945074904107017, 'bagging_freq': 2, 'min_child_samples': 21}. Best is trial 59 with value: 0.9558537604810099.\u001b[0m\n",
            "\u001b[32m[I 2022-03-12 23:41:08,501]\u001b[0m Trial 118 finished with value: 0.9485602017735694 and parameters: {'lambda_l1': 3.031702073313407e-08, 'lambda_l2': 0.0011562557246539797, 'num_leaves': 113, 'feature_fraction': 0.9530901755509419, 'bagging_fraction': 0.875891748874162, 'bagging_freq': 6, 'min_child_samples': 7}. Best is trial 59 with value: 0.9558537604810099.\u001b[0m\n",
            "\u001b[32m[I 2022-03-12 23:41:09,155]\u001b[0m Trial 119 finished with value: 0.9528524117213063 and parameters: {'lambda_l1': 5.628564726902548e-08, 'lambda_l2': 0.0016395292315348746, 'num_leaves': 153, 'feature_fraction': 0.9378420625469784, 'bagging_fraction': 0.8980417779657338, 'bagging_freq': 1, 'min_child_samples': 19}. Best is trial 59 with value: 0.9558537604810099.\u001b[0m\n",
            "\u001b[32m[I 2022-03-12 23:41:09,396]\u001b[0m Trial 120 finished with value: 0.9009891272102069 and parameters: {'lambda_l1': 0.0001771107841441701, 'lambda_l2': 0.0032568515398028147, 'num_leaves': 102, 'feature_fraction': 0.9209863928443838, 'bagging_fraction': 0.4869612896812109, 'bagging_freq': 6, 'min_child_samples': 63}. Best is trial 59 with value: 0.9558537604810099.\u001b[0m\n",
            "\u001b[32m[I 2022-03-12 23:41:10,178]\u001b[0m Trial 121 finished with value: 0.9524234112923059 and parameters: {'lambda_l1': 1.695904934364019e-05, 'lambda_l2': 0.00023696245222301572, 'num_leaves': 122, 'feature_fraction': 0.8630090544020994, 'bagging_fraction': 0.93287050018718, 'bagging_freq': 6, 'min_child_samples': 17}. Best is trial 59 with value: 0.9558537604810099.\u001b[0m\n",
            "\u001b[32m[I 2022-03-12 23:41:10,802]\u001b[0m Trial 122 finished with value: 0.9421362236272262 and parameters: {'lambda_l1': 1.5673160114862166e-07, 'lambda_l2': 6.149995394373791e-05, 'num_leaves': 137, 'feature_fraction': 0.8928836791423117, 'bagging_fraction': 0.9637285132563187, 'bagging_freq': 6, 'min_child_samples': 27}. Best is trial 59 with value: 0.9558537604810099.\u001b[0m\n",
            "\u001b[32m[I 2022-03-12 23:41:11,420]\u001b[0m Trial 123 finished with value: 0.9309866237886805 and parameters: {'lambda_l1': 3.702136948935143e-05, 'lambda_l2': 0.0008005431071413842, 'num_leaves': 71, 'feature_fraction': 0.8799170095956489, 'bagging_fraction': 0.5792017267921824, 'bagging_freq': 6, 'min_child_samples': 14}. Best is trial 59 with value: 0.9558537604810099.\u001b[0m\n",
            "\u001b[32m[I 2022-03-12 23:41:12,156]\u001b[0m Trial 124 finished with value: 0.9515670646776044 and parameters: {'lambda_l1': 7.752859543361074e-08, 'lambda_l2': 0.0004676871011022224, 'num_leaves': 142, 'feature_fraction': 0.9870650543214163, 'bagging_fraction': 0.926399738491539, 'bagging_freq': 7, 'min_child_samples': 20}. Best is trial 59 with value: 0.9558537604810099.\u001b[0m\n",
            "\u001b[32m[I 2022-03-12 23:41:12,926]\u001b[0m Trial 125 finished with value: 0.9545673106084417 and parameters: {'lambda_l1': 2.3531813037266848e-08, 'lambda_l2': 0.00011759347083370956, 'num_leaves': 129, 'feature_fraction': 0.9038271859961198, 'bagging_fraction': 0.9468278106353134, 'bagging_freq': 6, 'min_child_samples': 17}. Best is trial 59 with value: 0.9558537604810099.\u001b[0m\n",
            "\u001b[32m[I 2022-03-12 23:41:13,707]\u001b[0m Trial 126 finished with value: 0.9494215111181692 and parameters: {'lambda_l1': 2.2202545611983122e-08, 'lambda_l2': 0.0119877358045637, 'num_leaves': 131, 'feature_fraction': 0.9067737120868418, 'bagging_fraction': 0.9862990610713213, 'bagging_freq': 1, 'min_child_samples': 15}. Best is trial 59 with value: 0.9558537604810099.\u001b[0m\n",
            "\u001b[32m[I 2022-03-12 23:41:14,723]\u001b[0m Trial 127 finished with value: 0.9515621019477062 and parameters: {'lambda_l1': 1.7554237798409695e-08, 'lambda_l2': 0.0001192101988697155, 'num_leaves': 161, 'feature_fraction': 0.9352079288548549, 'bagging_fraction': 0.9493341854807165, 'bagging_freq': 6, 'min_child_samples': 10}. Best is trial 59 with value: 0.9558537604810099.\u001b[0m\n",
            "\u001b[32m[I 2022-03-12 23:41:15,172]\u001b[0m Trial 128 finished with value: 0.9451381238013629 and parameters: {'lambda_l1': 0.6158400854236955, 'lambda_l2': 5.009432107058996, 'num_leaves': 171, 'feature_fraction': 0.8925264996532364, 'bagging_fraction': 0.9713420325297368, 'bagging_freq': 3, 'min_child_samples': 23}. Best is trial 59 with value: 0.9558537604810099.\u001b[0m\n",
            "\u001b[32m[I 2022-03-12 23:41:15,850]\u001b[0m Trial 129 finished with value: 0.9528535145501728 and parameters: {'lambda_l1': 0.0002921155197340895, 'lambda_l2': 0.0003180798171013027, 'num_leaves': 183, 'feature_fraction': 0.9515457271873988, 'bagging_fraction': 0.9085556066038104, 'bagging_freq': 1, 'min_child_samples': 18}. Best is trial 59 with value: 0.9558537604810099.\u001b[0m\n",
            "\u001b[32m[I 2022-03-12 23:41:16,722]\u001b[0m Trial 130 finished with value: 0.9507057553330047 and parameters: {'lambda_l1': 3.817854993924393e-08, 'lambda_l2': 0.001738110951408167, 'num_leaves': 104, 'feature_fraction': 0.923117761209046, 'bagging_fraction': 0.9625750083520609, 'bagging_freq': 6, 'min_child_samples': 12}. Best is trial 59 with value: 0.9558537604810099.\u001b[0m\n",
            "\u001b[32m[I 2022-03-12 23:41:17,460]\u001b[0m Trial 131 finished with value: 0.9537093097504408 and parameters: {'lambda_l1': 1.3533007301948349e-07, 'lambda_l2': 0.0006295977500857342, 'num_leaves': 130, 'feature_fraction': 0.8697227818793125, 'bagging_fraction': 0.9403162602425671, 'bagging_freq': 6, 'min_child_samples': 17}. Best is trial 59 with value: 0.9558537604810099.\u001b[0m\n",
            "\u001b[32m[I 2022-03-12 23:41:18,110]\u001b[0m Trial 132 finished with value: 0.9541399644227407 and parameters: {'lambda_l1': 1.560872302544498e-08, 'lambda_l2': 0.0008857400231056911, 'num_leaves': 124, 'feature_fraction': 0.8545249417787083, 'bagging_fraction': 0.9451314658858793, 'bagging_freq': 6, 'min_child_samples': 21}. Best is trial 59 with value: 0.9558537604810099.\u001b[0m\n",
            "\u001b[32m[I 2022-03-12 23:41:18,748]\u001b[0m Trial 133 finished with value: 0.9507107180629032 and parameters: {'lambda_l1': 1.5613841748939126e-08, 'lambda_l2': 0.0009183944907897646, 'num_leaves': 124, 'feature_fraction': 0.860171783185628, 'bagging_fraction': 0.9436829403929846, 'bagging_freq': 6, 'min_child_samples': 21}. Best is trial 59 with value: 0.9558537604810099.\u001b[0m\n",
            "\u001b[32m[I 2022-03-12 23:41:19,135]\u001b[0m Trial 134 finished with value: 0.9344219357072827 and parameters: {'lambda_l1': 1.4040305458512503e-08, 'lambda_l2': 0.0005840145010899873, 'num_leaves': 117, 'feature_fraction': 0.8857036972524502, 'bagging_fraction': 0.9759969930310454, 'bagging_freq': 6, 'min_child_samples': 50}. Best is trial 59 with value: 0.9558537604810099.\u001b[0m\n",
            "\u001b[32m[I 2022-03-12 23:41:19,923]\u001b[0m Trial 135 finished with value: 0.9528507574780068 and parameters: {'lambda_l1': 5.221472984606838e-08, 'lambda_l2': 0.00036698652580192866, 'num_leaves': 253, 'feature_fraction': 0.8405265547104646, 'bagging_fraction': 0.957296591337254, 'bagging_freq': 7, 'min_child_samples': 15}. Best is trial 59 with value: 0.9558537604810099.\u001b[0m\n",
            "\u001b[32m[I 2022-03-12 23:41:20,628]\u001b[0m Trial 136 finished with value: 0.9502811662194696 and parameters: {'lambda_l1': 1.1481998983452648e-07, 'lambda_l2': 2.0731326644723214e-08, 'num_leaves': 111, 'feature_fraction': 0.9051681670534146, 'bagging_fraction': 0.9223474949157465, 'bagging_freq': 6, 'min_child_samples': 22}. Best is trial 59 with value: 0.9558537604810099.\u001b[0m\n",
            "\u001b[32m[I 2022-03-12 23:41:21,330]\u001b[0m Trial 137 finished with value: 0.9507074095763043 and parameters: {'lambda_l1': 7.972601370751864e-08, 'lambda_l2': 0.0038097059785186464, 'num_leaves': 147, 'feature_fraction': 0.8740266432744918, 'bagging_fraction': 0.9892483521629943, 'bagging_freq': 1, 'min_child_samples': 16}. Best is trial 59 with value: 0.9558537604810099.\u001b[0m\n",
            "\u001b[32m[I 2022-03-12 23:41:21,925]\u001b[0m Trial 138 finished with value: 0.9455676756447965 and parameters: {'lambda_l1': 3.060068385910288e-08, 'lambda_l2': 0.00010547669193625703, 'num_leaves': 122, 'feature_fraction': 0.8474791997539315, 'bagging_fraction': 0.9455233807596368, 'bagging_freq': 5, 'min_child_samples': 25}. Best is trial 59 with value: 0.9558537604810099.\u001b[0m\n",
            "\u001b[32m[I 2022-03-12 23:41:22,584]\u001b[0m Trial 139 finished with value: 0.9494215111181692 and parameters: {'lambda_l1': 2.2116376280028733e-08, 'lambda_l2': 0.00022316303311637882, 'num_leaves': 128, 'feature_fraction': 0.8226002677265811, 'bagging_fraction': 0.9137947422834259, 'bagging_freq': 6, 'min_child_samples': 19}. Best is trial 59 with value: 0.9558537604810099.\u001b[0m\n",
            "\u001b[32m[I 2022-03-12 23:41:23,447]\u001b[0m Trial 140 finished with value: 0.9489908564458692 and parameters: {'lambda_l1': 2.857460288584576e-07, 'lambda_l2': 5.906932027819148e-05, 'num_leaves': 140, 'feature_fraction': 0.8981573476239135, 'bagging_fraction': 0.9352928902044535, 'bagging_freq': 1, 'min_child_samples': 13}. Best is trial 59 with value: 0.9558537604810099.\u001b[0m\n",
            "\u001b[32m[I 2022-03-12 23:41:24,139]\u001b[0m Trial 141 finished with value: 0.9524239627067391 and parameters: {'lambda_l1': 4.050209956137728e-08, 'lambda_l2': 0.0013589232068483318, 'num_leaves': 131, 'feature_fraction': 0.9357622035313005, 'bagging_fraction': 0.8934301420136717, 'bagging_freq': 6, 'min_child_samples': 18}. Best is trial 59 with value: 0.9558537604810099.\u001b[0m\n",
            "\u001b[32m[I 2022-03-12 23:41:24,829]\u001b[0m Trial 142 finished with value: 0.954568413437308 and parameters: {'lambda_l1': 5.4513317324108804e-08, 'lambda_l2': 0.0007254099276040497, 'num_leaves': 137, 'feature_fraction': 0.9128737733621262, 'bagging_fraction': 0.9697053025454193, 'bagging_freq': 6, 'min_child_samples': 20}. Best is trial 59 with value: 0.9558537604810099.\u001b[0m\n",
            "\u001b[32m[I 2022-03-12 23:41:25,529]\u001b[0m Trial 143 finished with value: 0.956709555681278 and parameters: {'lambda_l1': 1.1787486446206253e-07, 'lambda_l2': 0.0006200535446227903, 'num_leaves': 150, 'feature_fraction': 0.913966410923557, 'bagging_fraction': 0.9723310350934861, 'bagging_freq': 6, 'min_child_samples': 20}. Best is trial 143 with value: 0.956709555681278.\u001b[0m\n",
            "\u001b[32m[I 2022-03-12 23:41:26,015]\u001b[0m Trial 144 finished with value: 0.9305620346751452 and parameters: {'lambda_l1': 1.624730987901584e-07, 'lambda_l2': 0.0025901841455497504, 'num_leaves': 151, 'feature_fraction': 0.4181828973427989, 'bagging_fraction': 0.9758906861228771, 'bagging_freq': 6, 'min_child_samples': 21}. Best is trial 143 with value: 0.956709555681278.\u001b[0m\n",
            "\u001b[32m[I 2022-03-12 23:41:26,613]\u001b[0m Trial 145 finished with value: 0.9434232249142275 and parameters: {'lambda_l1': 4.1025406528747995e-07, 'lambda_l2': 0.0003032957872165319, 'num_leaves': 145, 'feature_fraction': 0.9100482478380258, 'bagging_fraction': 0.9629602897942036, 'bagging_freq': 6, 'min_child_samples': 27}. Best is trial 143 with value: 0.956709555681278.\u001b[0m\n",
            "\u001b[32m[I 2022-03-12 23:41:27,251]\u001b[0m Trial 146 finished with value: 0.9498543714482018 and parameters: {'lambda_l1': 8.997616740167274e-07, 'lambda_l2': 0.0016100519582585328, 'num_leaves': 160, 'feature_fraction': 0.8614654073838495, 'bagging_fraction': 0.9995553697433195, 'bagging_freq': 6, 'min_child_samples': 23}. Best is trial 143 with value: 0.956709555681278.\u001b[0m\n",
            "\u001b[32m[I 2022-03-12 23:41:27,958]\u001b[0m Trial 147 finished with value: 0.9425608127407612 and parameters: {'lambda_l1': 0.0008740863153990377, 'lambda_l2': 3.659146883823945e-05, 'num_leaves': 141, 'feature_fraction': 0.6335175811864926, 'bagging_fraction': 0.9839127585797227, 'bagging_freq': 7, 'min_child_samples': 15}. Best is trial 143 with value: 0.956709555681278.\u001b[0m\n",
            "\u001b[32m[I 2022-03-12 23:41:28,689]\u001b[0m Trial 148 finished with value: 0.951138064248604 and parameters: {'lambda_l1': 1.0198347127827194e-08, 'lambda_l2': 0.007017052389323939, 'num_leaves': 108, 'feature_fraction': 0.9682234162524321, 'bagging_fraction': 0.9678280870171424, 'bagging_freq': 5, 'min_child_samples': 20}. Best is trial 143 with value: 0.956709555681278.\u001b[0m\n",
            "\u001b[32m[I 2022-03-12 23:41:29,010]\u001b[0m Trial 149 finished with value: 0.9245615428134708 and parameters: {'lambda_l1': 8.794135840284316e-08, 'lambda_l2': 0.0007251453434182, 'num_leaves': 90, 'feature_fraction': 0.890556126530045, 'bagging_fraction': 0.9538823089384281, 'bagging_freq': 6, 'min_child_samples': 77}. Best is trial 143 with value: 0.956709555681278.\u001b[0m\n",
            "\u001b[32m[I 2022-03-12 23:41:29,841]\u001b[0m Trial 150 finished with value: 0.9382763225950885 and parameters: {'lambda_l1': 1.3191301256164313e-07, 'lambda_l2': 0.00019054689799672872, 'num_leaves': 214, 'feature_fraction': 0.9112733659632136, 'bagging_fraction': 0.6269067194637719, 'bagging_freq': 1, 'min_child_samples': 9}. Best is trial 143 with value: 0.956709555681278.\u001b[0m\n",
            "\u001b[32m[I 2022-03-12 23:41:31,043]\u001b[0m Trial 151 finished with value: 0.9554242086375763 and parameters: {'lambda_l1': 5.843153313037602e-08, 'lambda_l2': 0.0011051741131587077, 'num_leaves': 136, 'feature_fraction': 0.920567756455359, 'bagging_fraction': 0.9405457430412085, 'bagging_freq': 6, 'min_child_samples': 17}. Best is trial 143 with value: 0.956709555681278.\u001b[0m\n",
            "\u001b[32m[I 2022-03-12 23:41:31,251]\u001b[0m Trial 152 finished with value: 0.9279924434166079 and parameters: {'lambda_l1': 7.938896333492482, 'lambda_l2': 0.00048043132280584696, 'num_leaves': 139, 'feature_fraction': 0.8815458077574987, 'bagging_fraction': 0.9493756581676172, 'bagging_freq': 6, 'min_child_samples': 17}. Best is trial 143 with value: 0.956709555681278.\u001b[0m\n",
            "\u001b[32m[I 2022-03-12 23:41:31,909]\u001b[0m Trial 153 finished with value: 0.9481383697322001 and parameters: {'lambda_l1': 6.402827899336535e-08, 'lambda_l2': 0.0012359262304759513, 'num_leaves': 128, 'feature_fraction': 0.9463697320914435, 'bagging_fraction': 0.9689334850752904, 'bagging_freq': 6, 'min_child_samples': 24}. Best is trial 143 with value: 0.956709555681278.\u001b[0m\n",
            "\u001b[32m[I 2022-03-12 23:41:32,863]\u001b[0m Trial 154 finished with value: 0.949848305889437 and parameters: {'lambda_l1': 3.9968407419409236e-08, 'lambda_l2': 6.739256993072974e-06, 'num_leaves': 121, 'feature_fraction': 0.8980796212434292, 'bagging_fraction': 0.9381775039348438, 'bagging_freq': 6, 'min_child_samples': 13}. Best is trial 143 with value: 0.956709555681278.\u001b[0m\n",
            "\u001b[32m[I 2022-03-12 23:41:33,602]\u001b[0m Trial 155 finished with value: 0.9567106585101444 and parameters: {'lambda_l1': 2.1722777196233696e-07, 'lambda_l2': 0.0006304228524543956, 'num_leaves': 136, 'feature_fraction': 0.9607991508200571, 'bagging_fraction': 0.9886012784494093, 'bagging_freq': 6, 'min_child_samples': 20}. Best is trial 155 with value: 0.9567106585101444.\u001b[0m\n",
            "\u001b[32m[I 2022-03-12 23:41:34,306]\u001b[0m Trial 156 finished with value: 0.9554242086375763 and parameters: {'lambda_l1': 2.2906075937478539e-07, 'lambda_l2': 0.0006977727803005236, 'num_leaves': 138, 'feature_fraction': 0.9600041135203297, 'bagging_fraction': 0.9888686873321956, 'bagging_freq': 6, 'min_child_samples': 21}. Best is trial 155 with value: 0.9567106585101444.\u001b[0m\n",
            "\u001b[32m[I 2022-03-12 23:41:35,051]\u001b[0m Trial 157 finished with value: 0.9519960651066048 and parameters: {'lambda_l1': 1.8656100396961602e-07, 'lambda_l2': 0.0007519321477009119, 'num_leaves': 148, 'feature_fraction': 0.9816786631272586, 'bagging_fraction': 0.9905698577012584, 'bagging_freq': 6, 'min_child_samples': 21}. Best is trial 155 with value: 0.9567106585101444.\u001b[0m\n",
            "\u001b[32m[I 2022-03-12 23:41:35,874]\u001b[0m Trial 158 finished with value: 0.956709555681278 and parameters: {'lambda_l1': 5.797151630667246e-07, 'lambda_l2': 0.0004495402379082308, 'num_leaves': 137, 'feature_fraction': 0.9622370626126489, 'bagging_fraction': 0.9794188859041474, 'bagging_freq': 6, 'min_child_samples': 16}. Best is trial 155 with value: 0.9567106585101444.\u001b[0m\n",
            "\u001b[32m[I 2022-03-12 23:41:36,646]\u001b[0m Trial 159 finished with value: 0.9541394130083076 and parameters: {'lambda_l1': 5.28488104045691e-07, 'lambda_l2': 0.00037250266866274044, 'num_leaves': 136, 'feature_fraction': 0.9543900765441694, 'bagging_fraction': 0.9851392694978012, 'bagging_freq': 6, 'min_child_samples': 19}. Best is trial 155 with value: 0.9567106585101444.\u001b[0m\n",
            "\u001b[32m[I 2022-03-12 23:41:37,303]\u001b[0m Trial 160 finished with value: 0.9515670646776044 and parameters: {'lambda_l1': 1.497385138838135e-06, 'lambda_l2': 0.00039014648506206453, 'num_leaves': 136, 'feature_fraction': 0.9596775780774349, 'bagging_fraction': 0.9835162998619619, 'bagging_freq': 6, 'min_child_samples': 23}. Best is trial 155 with value: 0.9567106585101444.\u001b[0m\n",
            "\u001b[32m[I 2022-03-12 23:41:38,056]\u001b[0m Trial 161 finished with value: 0.9537093097504408 and parameters: {'lambda_l1': 2.232359157117903e-07, 'lambda_l2': 0.0009968185238971297, 'num_leaves': 153, 'feature_fraction': 0.9639827808623526, 'bagging_fraction': 0.9963339702410902, 'bagging_freq': 6, 'min_child_samples': 19}. Best is trial 155 with value: 0.9567106585101444.\u001b[0m\n",
            "\u001b[32m[I 2022-03-12 23:41:38,894]\u001b[0m Trial 162 finished with value: 0.952420102805707 and parameters: {'lambda_l1': 4.97525960554013e-07, 'lambda_l2': 0.0002798180863682801, 'num_leaves': 145, 'feature_fraction': 0.9905947186386899, 'bagging_fraction': 0.9770196106986399, 'bagging_freq': 6, 'min_child_samples': 16}. Best is trial 155 with value: 0.9567106585101444.\u001b[0m\n",
            "\u001b[32m[I 2022-03-12 23:41:39,615]\u001b[0m Trial 163 finished with value: 0.9549968624518753 and parameters: {'lambda_l1': 6.881651624116234e-07, 'lambda_l2': 0.001026378298764521, 'num_leaves': 151, 'feature_fraction': 0.9702785813506148, 'bagging_fraction': 0.9906539590776069, 'bagging_freq': 6, 'min_child_samples': 19}. Best is trial 155 with value: 0.9567106585101444.\u001b[0m\n",
            "\u001b[32m[I 2022-03-12 23:41:40,176]\u001b[0m Trial 164 finished with value: 0.9519960651066048 and parameters: {'lambda_l1': 5.064943464241492e-07, 'lambda_l2': 2.218017467215541, 'num_leaves': 157, 'feature_fraction': 0.9784058256035449, 'bagging_fraction': 0.9998644148489647, 'bagging_freq': 6, 'min_child_samples': 21}. Best is trial 155 with value: 0.9567106585101444.\u001b[0m\n",
            "\u001b[32m[I 2022-03-12 23:41:40,817]\u001b[0m Trial 165 finished with value: 0.9502806148050364 and parameters: {'lambda_l1': 7.929928447939209e-07, 'lambda_l2': 0.0015506465889767263, 'num_leaves': 135, 'feature_fraction': 0.952478375793324, 'bagging_fraction': 0.9827163855920565, 'bagging_freq': 6, 'min_child_samples': 25}. Best is trial 155 with value: 0.9567106585101444.\u001b[0m\n",
            "\u001b[32m[I 2022-03-12 23:41:41,550]\u001b[0m Trial 166 finished with value: 0.9554236572231432 and parameters: {'lambda_l1': 1.299827630292081e-06, 'lambda_l2': 0.00044372182908467754, 'num_leaves': 149, 'feature_fraction': 0.9663935206719156, 'bagging_fraction': 0.9711430288182373, 'bagging_freq': 6, 'min_child_samples': 19}. Best is trial 155 with value: 0.9567106585101444.\u001b[0m\n",
            "\u001b[32m[I 2022-03-12 23:41:42,383]\u001b[0m Trial 167 finished with value: 0.9549935539652763 and parameters: {'lambda_l1': 1.27115154182734e-06, 'lambda_l2': 0.00047868951403084217, 'num_leaves': 166, 'feature_fraction': 0.9714992787050563, 'bagging_fraction': 0.9729998484710913, 'bagging_freq': 6, 'min_child_samples': 15}. Best is trial 155 with value: 0.9567106585101444.\u001b[0m\n",
            "\u001b[32m[I 2022-03-12 23:41:42,846]\u001b[0m Trial 168 finished with value: 0.9378478735805214 and parameters: {'lambda_l1': 2.4406258774572984e-06, 'lambda_l2': 0.0004589033511398185, 'num_leaves': 166, 'feature_fraction': 0.9716727054118462, 'bagging_fraction': 0.9697893577876906, 'bagging_freq': 6, 'min_child_samples': 44}. Best is trial 155 with value: 0.9567106585101444.\u001b[0m\n",
            "\u001b[32m[I 2022-03-12 23:41:43,684]\u001b[0m Trial 169 finished with value: 0.9537087583360077 and parameters: {'lambda_l1': 1.6827985346569276e-06, 'lambda_l2': 0.0010127833381619634, 'num_leaves': 148, 'feature_fraction': 0.9969261417803914, 'bagging_fraction': 0.9564284918129005, 'bagging_freq': 6, 'min_child_samples': 14}. Best is trial 155 with value: 0.9567106585101444.\u001b[0m\n",
            "\u001b[32m[I 2022-03-12 23:41:44,482]\u001b[0m Trial 170 finished with value: 0.9537087583360077 and parameters: {'lambda_l1': 1.1966282365471831e-06, 'lambda_l2': 0.0006470053636487943, 'num_leaves': 175, 'feature_fraction': 0.9440029918345674, 'bagging_fraction': 0.9751634009750416, 'bagging_freq': 6, 'min_child_samples': 19}. Best is trial 155 with value: 0.9567106585101444.\u001b[0m\n",
            "\u001b[32m[I 2022-03-12 23:41:45,301]\u001b[0m Trial 171 finished with value: 0.956281658081144 and parameters: {'lambda_l1': 7.32040128825108e-07, 'lambda_l2': 0.0004632805253085547, 'num_leaves': 151, 'feature_fraction': 0.9696374796000035, 'bagging_fraction': 0.9879426244273368, 'bagging_freq': 6, 'min_child_samples': 16}. Best is trial 155 with value: 0.9567106585101444.\u001b[0m\n",
            "\u001b[32m[I 2022-03-12 23:41:46,086]\u001b[0m Trial 172 finished with value: 0.9541388615938745 and parameters: {'lambda_l1': 7.433028436271768e-07, 'lambda_l2': 0.000401502778557201, 'num_leaves': 152, 'feature_fraction': 0.9742425730550179, 'bagging_fraction': 0.9903607484752073, 'bagging_freq': 6, 'min_child_samples': 17}. Best is trial 155 with value: 0.9567106585101444.\u001b[0m\n",
            "\u001b[32m[I 2022-03-12 23:41:46,881]\u001b[0m Trial 173 finished with value: 0.9567112099245776 and parameters: {'lambda_l1': 2.3048977561053896e-06, 'lambda_l2': 0.00038258919173181035, 'num_leaves': 154, 'feature_fraction': 0.9696738132874402, 'bagging_fraction': 0.988735994181356, 'bagging_freq': 6, 'min_child_samples': 17}. Best is trial 173 with value: 0.9567112099245776.\u001b[0m\n",
            "\u001b[32m[I 2022-03-12 23:41:47,579]\u001b[0m Trial 174 finished with value: 0.956281658081144 and parameters: {'lambda_l1': 6.2016079728310195e-06, 'lambda_l2': 0.0006381302151663664, 'num_leaves': 50, 'feature_fraction': 0.9626736396912982, 'bagging_fraction': 0.9878366136240461, 'bagging_freq': 6, 'min_child_samples': 20}. Best is trial 173 with value: 0.9567112099245776.\u001b[0m\n",
            "\u001b[32m[I 2022-03-12 23:41:48,266]\u001b[0m Trial 175 finished with value: 0.9515665132631713 and parameters: {'lambda_l1': 5.9019121059320034e-06, 'lambda_l2': 0.0007076364954116068, 'num_leaves': 50, 'feature_fraction': 0.9880348429730064, 'bagging_fraction': 0.9684985087557672, 'bagging_freq': 6, 'min_child_samples': 22}. Best is trial 173 with value: 0.9567112099245776.\u001b[0m\n",
            "\u001b[32m[I 2022-03-12 23:41:48,986]\u001b[0m Trial 176 finished with value: 0.9515676160920377 and parameters: {'lambda_l1': 3.5833819153874303e-06, 'lambda_l2': 0.0008922346989952135, 'num_leaves': 160, 'feature_fraction': 0.9705431037018368, 'bagging_fraction': 0.9972692669704927, 'bagging_freq': 6, 'min_child_samples': 21}. Best is trial 173 with value: 0.9567112099245776.\u001b[0m\n",
            "\u001b[32m[I 2022-03-12 23:41:49,582]\u001b[0m Trial 177 finished with value: 0.9549957596230091 and parameters: {'lambda_l1': 1.0337117889606276e-06, 'lambda_l2': 0.00025080422026902874, 'num_leaves': 32, 'feature_fraction': 0.962883214955746, 'bagging_fraction': 0.9617312604201681, 'bagging_freq': 6, 'min_child_samples': 17}. Best is trial 173 with value: 0.9567112099245776.\u001b[0m\n",
            "\u001b[32m[I 2022-03-12 23:41:50,237]\u001b[0m Trial 178 finished with value: 0.9498477544750038 and parameters: {'lambda_l1': 2.295405356232609e-06, 'lambda_l2': 0.00025674732343037015, 'num_leaves': 33, 'feature_fraction': 0.9625860552443516, 'bagging_fraction': 0.9756468327264216, 'bagging_freq': 6, 'min_child_samples': 12}. Best is trial 173 with value: 0.9567112099245776.\u001b[0m\n",
            "\u001b[32m[I 2022-03-12 23:41:50,804]\u001b[0m Trial 179 finished with value: 0.9532808607358736 and parameters: {'lambda_l1': 1.5744858540524117e-06, 'lambda_l2': 0.00012747436064928158, 'num_leaves': 29, 'feature_fraction': 0.9852927074787029, 'bagging_fraction': 0.9602974031522817, 'bagging_freq': 6, 'min_child_samples': 17}. Best is trial 173 with value: 0.9567112099245776.\u001b[0m\n",
            "\u001b[32m[I 2022-03-12 23:41:51,565]\u001b[0m Trial 180 finished with value: 0.9524212056345732 and parameters: {'lambda_l1': 1.0857301031627422e-06, 'lambda_l2': 0.0005754817068561343, 'num_leaves': 47, 'feature_fraction': 0.9371947773308817, 'bagging_fraction': 0.9901988214497947, 'bagging_freq': 6, 'min_child_samples': 14}. Best is trial 173 with value: 0.9567112099245776.\u001b[0m\n",
            "\u001b[32m[I 2022-03-12 23:41:51,822]\u001b[0m Trial 181 finished with value: 0.9442790201144957 and parameters: {'lambda_l1': 5.366365483238629e-06, 'lambda_l2': 0.0012771949862203918, 'num_leaves': 8, 'feature_fraction': 0.9622420302302109, 'bagging_fraction': 0.9583875163729811, 'bagging_freq': 6, 'min_child_samples': 20}. Best is trial 173 with value: 0.9567112099245776.\u001b[0m\n",
            "\u001b[32m[I 2022-03-12 23:41:52,543]\u001b[0m Trial 182 finished with value: 0.9541377587650081 and parameters: {'lambda_l1': 2.7455181899242333e-06, 'lambda_l2': 0.0004861378431826225, 'num_leaves': 41, 'feature_fraction': 0.9791966124073449, 'bagging_fraction': 0.9775006612192563, 'bagging_freq': 6, 'min_child_samples': 17}. Best is trial 173 with value: 0.9567112099245776.\u001b[0m\n",
            "\u001b[32m[I 2022-03-12 23:41:53,222]\u001b[0m Trial 183 finished with value: 0.9524250655356054 and parameters: {'lambda_l1': 7.784010343990648e-07, 'lambda_l2': 0.00022627859496629471, 'num_leaves': 157, 'feature_fraction': 0.9468603196877352, 'bagging_fraction': 0.9679475256668593, 'bagging_freq': 6, 'min_child_samples': 23}. Best is trial 173 with value: 0.9567112099245776.\u001b[0m\n",
            "\u001b[32m[I 2022-03-12 23:41:53,637]\u001b[0m Trial 184 finished with value: 0.9528529631357395 and parameters: {'lambda_l1': 3.6227902810862844e-07, 'lambda_l2': 0.00036132039020554397, 'num_leaves': 18, 'feature_fraction': 0.9985042619888709, 'bagging_fraction': 0.9878431087358187, 'bagging_freq': 6, 'min_child_samples': 19}. Best is trial 173 with value: 0.9567112099245776.\u001b[0m\n",
            "\u001b[32m[I 2022-03-12 23:41:54,452]\u001b[0m Trial 185 finished with value: 0.951134204347572 and parameters: {'lambda_l1': 1.1889290868182612e-06, 'lambda_l2': 0.002138463196083371, 'num_leaves': 59, 'feature_fraction': 0.9630338080889099, 'bagging_fraction': 0.9519619896580779, 'bagging_freq': 6, 'min_child_samples': 15}. Best is trial 173 with value: 0.9567112099245776.\u001b[0m\n",
            "\u001b[32m[I 2022-03-12 23:41:55,213]\u001b[0m Trial 186 finished with value: 0.9545673106084417 and parameters: {'lambda_l1': 6.27708143184032e-07, 'lambda_l2': 0.0010530255832200543, 'num_leaves': 170, 'feature_fraction': 0.9345056486602894, 'bagging_fraction': 0.9768895508496052, 'bagging_freq': 6, 'min_child_samples': 18}. Best is trial 173 with value: 0.9567112099245776.\u001b[0m\n",
            "\u001b[32m[I 2022-03-12 23:41:55,709]\u001b[0m Trial 187 finished with value: 0.9519955136921717 and parameters: {'lambda_l1': 3.405718555419294e-07, 'lambda_l2': 0.0005989031211306622, 'num_leaves': 24, 'feature_fraction': 0.9355075203286048, 'bagging_fraction': 0.9979064944964738, 'bagging_freq': 7, 'min_child_samples': 17}. Best is trial 173 with value: 0.9567112099245776.\u001b[0m\n",
            "\u001b[32m[I 2022-03-12 23:41:56,682]\u001b[0m Trial 188 finished with value: 0.952420102805707 and parameters: {'lambda_l1': 5.921937262498041e-07, 'lambda_l2': 0.0012890627624079277, 'num_leaves': 164, 'feature_fraction': 0.951899616954549, 'bagging_fraction': 0.979960675645654, 'bagging_freq': 6, 'min_child_samples': 11}. Best is trial 173 with value: 0.9567112099245776.\u001b[0m\n",
            "\u001b[32m[I 2022-03-12 23:41:57,391]\u001b[0m Trial 189 finished with value: 0.9408503251690913 and parameters: {'lambda_l1': 1.9018679971951916e-06, 'lambda_l2': 0.00029494615225351386, 'num_leaves': 171, 'feature_fraction': 0.9730349150387481, 'bagging_fraction': 0.6905678266798945, 'bagging_freq': 6, 'min_child_samples': 15}. Best is trial 173 with value: 0.9567112099245776.\u001b[0m\n",
            "\u001b[32m[I 2022-03-12 23:41:58,134]\u001b[0m Trial 190 finished with value: 0.9558521062377103 and parameters: {'lambda_l1': 2.433649486739368e-07, 'lambda_l2': 0.00015994120389064442, 'num_leaves': 167, 'feature_fraction': 0.9312355980518975, 'bagging_fraction': 0.9626696850311571, 'bagging_freq': 6, 'min_child_samples': 18}. Best is trial 173 with value: 0.9567112099245776.\u001b[0m\n",
            "\u001b[32m[I 2022-03-12 23:41:58,898]\u001b[0m Trial 191 finished with value: 0.9545645535362759 and parameters: {'lambda_l1': 2.974653123721866e-07, 'lambda_l2': 0.00016092325139514216, 'num_leaves': 176, 'feature_fraction': 0.9323912467255089, 'bagging_fraction': 0.9678256085544997, 'bagging_freq': 6, 'min_child_samples': 19}. Best is trial 173 with value: 0.9567112099245776.\u001b[0m\n",
            "\u001b[32m[I 2022-03-12 23:41:59,699]\u001b[0m Trial 192 finished with value: 0.9545673106084417 and parameters: {'lambda_l1': 2.472537468347669e-07, 'lambda_l2': 8.524215983474632e-05, 'num_leaves': 166, 'feature_fraction': 0.9517738500862154, 'bagging_fraction': 0.9776792206013517, 'bagging_freq': 6, 'min_child_samples': 18}. Best is trial 173 with value: 0.9567112099245776.\u001b[0m\n",
            "\u001b[32m[I 2022-03-12 23:42:00,538]\u001b[0m Trial 193 finished with value: 0.9554242086375763 and parameters: {'lambda_l1': 2.403577555492891e-07, 'lambda_l2': 7.672221392645927e-05, 'num_leaves': 152, 'feature_fraction': 0.955008068969056, 'bagging_fraction': 0.9810163487134705, 'bagging_freq': 6, 'min_child_samples': 18}. Best is trial 173 with value: 0.9567112099245776.\u001b[0m\n",
            "\u001b[32m[I 2022-03-12 23:42:01,472]\u001b[0m Trial 194 finished with value: 0.948993062103602 and parameters: {'lambda_l1': 1.046324529992056e-06, 'lambda_l2': 0.00010736951527168561, 'num_leaves': 154, 'feature_fraction': 0.9753977526103267, 'bagging_fraction': 0.9588057045581595, 'bagging_freq': 6, 'min_child_samples': 13}. Best is trial 173 with value: 0.9567112099245776.\u001b[0m\n",
            "\u001b[32m[I 2022-03-12 23:42:02,220]\u001b[0m Trial 195 finished with value: 0.9571385561102784 and parameters: {'lambda_l1': 1.8685159677967946e-07, 'lambda_l2': 0.00018007857331122225, 'num_leaves': 163, 'feature_fraction': 0.9538555368068244, 'bagging_fraction': 0.9861918681410792, 'bagging_freq': 6, 'min_child_samples': 20}. Best is trial 195 with value: 0.9571385561102784.\u001b[0m\n",
            "\u001b[32m[I 2022-03-12 23:42:03,088]\u001b[0m Trial 196 finished with value: 0.9537087583360077 and parameters: {'lambda_l1': 1.9459960215657628e-07, 'lambda_l2': 0.00017551238230719302, 'num_leaves': 143, 'feature_fraction': 0.9626422732542648, 'bagging_fraction': 0.9886437823755936, 'bagging_freq': 6, 'min_child_samples': 16}. Best is trial 195 with value: 0.9571385561102784.\u001b[0m\n",
            "\u001b[32m[I 2022-03-12 23:42:03,777]\u001b[0m Trial 197 finished with value: 0.9528529631357395 and parameters: {'lambda_l1': 6.7077820097716e-07, 'lambda_l2': 0.00044312450858241347, 'num_leaves': 168, 'feature_fraction': 0.9422127084098287, 'bagging_fraction': 0.9768919280536412, 'bagging_freq': 6, 'min_child_samples': 22}. Best is trial 195 with value: 0.9571385561102784.\u001b[0m\n",
            "\u001b[32m[I 2022-03-12 23:42:04,625]\u001b[0m Trial 198 finished with value: 0.9537082069215744 and parameters: {'lambda_l1': 4.5897742176039107e-07, 'lambda_l2': 0.000235627808758268, 'num_leaves': 150, 'feature_fraction': 0.9865623082268257, 'bagging_fraction': 0.9993247143792044, 'bagging_freq': 6, 'min_child_samples': 16}. Best is trial 195 with value: 0.9571385561102784.\u001b[0m\n",
            "\u001b[32m[I 2022-03-12 23:42:05,388]\u001b[0m Trial 199 finished with value: 0.9541377587650081 and parameters: {'lambda_l1': 3.261926725936763e-07, 'lambda_l2': 8.898573422803757e-05, 'num_leaves': 160, 'feature_fraction': 0.953835276629181, 'bagging_fraction': 0.9833185416837597, 'bagging_freq': 6, 'min_child_samples': 20}. Best is trial 195 with value: 0.9571385561102784.\u001b[0m\n"
          ]
        },
        {
          "output_type": "stream",
          "name": "stdout",
          "text": [
            "FrozenTrial(number=195, values=[0.9571385561102784], datetime_start=datetime.datetime(2022, 3, 12, 23, 42, 1, 474418), datetime_complete=datetime.datetime(2022, 3, 12, 23, 42, 2, 220217), params={'lambda_l1': 1.8685159677967946e-07, 'lambda_l2': 0.00018007857331122225, 'num_leaves': 163, 'feature_fraction': 0.9538555368068244, 'bagging_fraction': 0.9861918681410792, 'bagging_freq': 6, 'min_child_samples': 20}, distributions={'lambda_l1': LogUniformDistribution(high=10.0, low=1e-08), 'lambda_l2': LogUniformDistribution(high=10.0, low=1e-08), 'num_leaves': IntUniformDistribution(high=256, low=2, step=1), 'feature_fraction': UniformDistribution(high=1.0, low=0.4), 'bagging_fraction': UniformDistribution(high=1.0, low=0.4), 'bagging_freq': IntUniformDistribution(high=7, low=1, step=1), 'min_child_samples': IntUniformDistribution(high=100, low=5, step=1)}, user_attrs={}, system_attrs={}, intermediate_values={}, trial_id=195, state=TrialState.COMPLETE, value=None)\n"
          ]
        }
      ]
    },
    {
      "cell_type": "code",
      "source": [
        " print(study.best_params)"
      ],
      "metadata": {
        "id": "LjbRBsA5dkEH",
        "outputId": "015fc755-c1fb-4bcc-ab7f-69b4186e9aab",
        "colab": {
          "base_uri": "https://localhost:8080/"
        }
      },
      "execution_count": 50,
      "outputs": [
        {
          "output_type": "stream",
          "name": "stdout",
          "text": [
            "{'lambda_l1': 1.8685159677967946e-07, 'lambda_l2': 0.00018007857331122225, 'num_leaves': 163, 'feature_fraction': 0.9538555368068244, 'bagging_fraction': 0.9861918681410792, 'bagging_freq': 6, 'min_child_samples': 20}\n"
          ]
        }
      ]
    },
    {
      "cell_type": "code",
      "source": [
        "param={'lambda_l1': 1.8685159677967946e-07, 'lambda_l2': 0.00018007857331122225, 'num_leaves': 163, 'feature_fraction': 0.9538555368068244, 'bagging_fraction': 0.9861918681410792, 'bagging_freq': 6, 'min_child_samples': 20}"
      ],
      "metadata": {
        "id": "8-P3N3Dtgx3i"
      },
      "execution_count": 56,
      "outputs": []
    },
    {
      "cell_type": "code",
      "source": [
        "import lightgbm as lgb\n",
        "model = lgb.LGBMClassifier(random_state=17,**param)\n",
        "model.fit(X_train, y_train)\n",
        "# make predictions for test data\n",
        "xgb_pred = model.predict(X_test)\n",
        "accuracy_score(y_test, xgb_pred)"
      ],
      "metadata": {
        "id": "2aGpk-xPg1wH",
        "outputId": "e0646b63-9569-4b90-9751-8fed22900a00",
        "colab": {
          "base_uri": "https://localhost:8080/"
        }
      },
      "execution_count": 55,
      "outputs": [
        {
          "output_type": "execute_result",
          "data": {
            "text/plain": [
              "0.953"
            ]
          },
          "metadata": {},
          "execution_count": 55
        }
      ]
    },
    {
      "cell_type": "code",
      "source": [
        "\n",
        "def objective(trial):\n",
        "        x, y = X_train,y_train\n",
        "        from xgboost import XGBClassifier\n",
        "        random_state = 17\n",
        "        n_jobs =  -1\n",
        "        verbosity = 0\n",
        "        objective = \"binary:logistic\"\n",
        "        booster = trial.suggest_categorical(\"booster\", [\"gbtree\", \"gblinear\", \"dart\"])\n",
        "        alpha = trial.suggest_float(\"alpha\", 1e-8, 1.0, log=True)\n",
        "        max_depth= trial.suggest_int(\"max_depth\", 2,16)  \n",
        "        max_features= trial.suggest_int(\"max_features\", 2,X_train.shape[1])\n",
        "        eta = trial.suggest_float(\"eta\", 1e-8, 1.0, log=True)\n",
        "        gamma = trial.suggest_float(\"gamma\", 1e-8, 1.0, log=True)\n",
        "        grow_policy = trial.suggest_categorical(\"grow_policy\", [\"depthwise\", \"lossguide\"])\n",
        "        subsample = trial.suggest_float(\"subsample\", 0.1, 1.0, log = True)\n",
        "        min_child_weight = trial.suggest_int(\"min_child_weight\", 1, 15)\n",
        "        colsample_bytree = trial.suggest_float(\"subsample\", 0.1, 1.0, log=True)\n",
        "        n_estimators = trial.suggest_int(\"n_estimators\", 80, 120)\n",
        "    \n",
        "\n",
        "        classifier_obj = XGBClassifier( random_state= random_state,\n",
        "                                            n_jobs          = n_jobs,\n",
        "                                            verbosity        = verbosity, \n",
        "                                            objective        = objective,\n",
        "                                            booster          = booster,\n",
        "                                            alpha            = alpha,\n",
        "                                            max_depth        =max_depth,\n",
        "                                            max_features     =max_features,\n",
        "                                            eta              = eta,\n",
        "                                            gamma            = gamma,\n",
        "                                            grow_policy      = grow_policy,\n",
        "                                            subsample        = subsample,\n",
        "                                            min_child_weight = min_child_weight,\n",
        "                                            colsample_bytree = colsample_bytree,\n",
        "                                            n_estimators     = n_estimators\n",
        "                                            )\n",
        "        \n",
        "\n",
        "        accuracy=sklearn.model_selection.cross_val_score(classifier_obj, x, y, n_jobs=-1, cv=3).mean()\n",
        "   \n",
        "        return accuracy\n",
        "\n",
        "\n",
        "study = optuna.create_study(direction='maximize')\n",
        "study.optimize(objective, n_trials = 100)\n",
        "\n",
        "trial = study.best_trial\n",
        "\n",
        "\n",
        "print(\"Best hyperparameters: {}\".format(trial.params))"
      ],
      "metadata": {
        "id": "IqobA-npa9El",
        "outputId": "3b271554-3c2a-494a-d6eb-dc427b9a4637",
        "colab": {
          "base_uri": "https://localhost:8080/"
        }
      },
      "execution_count": 40,
      "outputs": [
        {
          "output_type": "stream",
          "name": "stderr",
          "text": [
            "\u001b[32m[I 2022-03-12 23:30:45,105]\u001b[0m A new study created in memory with name: no-name-33d41b86-73c7-4275-a4ef-454519158279\u001b[0m\n",
            "\u001b[32m[I 2022-03-12 23:30:45,747]\u001b[0m Trial 0 finished with value: 0.8499788808272098 and parameters: {'booster': 'gblinear', 'alpha': 0.0058598028672546725, 'max_depth': 3, 'max_features': 8, 'eta': 1.6661138130065074e-06, 'gamma': 0.00014394675614796864, 'grow_policy': 'lossguide', 'subsample': 0.7557670565878365, 'min_child_weight': 11, 'n_estimators': 113}. Best is trial 0 with value: 0.8499788808272098.\u001b[0m\n",
            "\u001b[32m[I 2022-03-12 23:30:46,142]\u001b[0m Trial 1 finished with value: 0.8979861242072039 and parameters: {'booster': 'gbtree', 'alpha': 0.0001418703394466687, 'max_depth': 12, 'max_features': 7, 'eta': 0.19063453599895724, 'gamma': 1.3733929297704288e-07, 'grow_policy': 'depthwise', 'subsample': 0.3013350446195821, 'min_child_weight': 3, 'n_estimators': 105}. Best is trial 1 with value: 0.8979861242072039.\u001b[0m\n",
            "\u001b[32m[I 2022-03-12 23:30:46,489]\u001b[0m Trial 2 finished with value: 0.8949880839340993 and parameters: {'booster': 'gbtree', 'alpha': 0.07987648536980882, 'max_depth': 16, 'max_features': 9, 'eta': 0.9705360862494917, 'gamma': 1.3800788012426367e-07, 'grow_policy': 'depthwise', 'subsample': 0.49719267385055227, 'min_child_weight': 11, 'n_estimators': 84}. Best is trial 1 with value: 0.8979861242072039.\u001b[0m\n",
            "\u001b[32m[I 2022-03-12 23:30:46,673]\u001b[0m Trial 3 finished with value: 0.8499788808272098 and parameters: {'booster': 'gblinear', 'alpha': 1.116658217175797e-08, 'max_depth': 13, 'max_features': 12, 'eta': 0.0011904402276588975, 'gamma': 1.3521359427547212e-05, 'grow_policy': 'depthwise', 'subsample': 0.2493718175518748, 'min_child_weight': 11, 'n_estimators': 98}. Best is trial 1 with value: 0.8979861242072039.\u001b[0m\n",
            "\u001b[32m[I 2022-03-12 23:30:46,897]\u001b[0m Trial 4 finished with value: 0.8611202094492582 and parameters: {'booster': 'gbtree', 'alpha': 3.8700962489103424e-08, 'max_depth': 5, 'max_features': 10, 'eta': 0.017918765591876985, 'gamma': 5.7507511335873705e-06, 'grow_policy': 'lossguide', 'subsample': 0.19557221052334484, 'min_child_weight': 8, 'n_estimators': 102}. Best is trial 1 with value: 0.8979861242072039.\u001b[0m\n",
            "\u001b[32m[I 2022-03-12 23:30:48,398]\u001b[0m Trial 5 finished with value: 0.9412760171114928 and parameters: {'booster': 'dart', 'alpha': 2.208194143285537e-05, 'max_depth': 15, 'max_features': 9, 'eta': 1.4360099349377629e-07, 'gamma': 1.8974959862182027e-07, 'grow_policy': 'lossguide', 'subsample': 0.6085151954001621, 'min_child_weight': 2, 'n_estimators': 83}. Best is trial 5 with value: 0.9412760171114928.\u001b[0m\n",
            "\u001b[32m[I 2022-03-12 23:30:48,572]\u001b[0m Trial 6 finished with value: 0.8499788808272098 and parameters: {'booster': 'gblinear', 'alpha': 0.02309499847465207, 'max_depth': 5, 'max_features': 3, 'eta': 0.12942846514291578, 'gamma': 7.220952372109797e-05, 'grow_policy': 'lossguide', 'subsample': 0.11072705033128752, 'min_child_weight': 3, 'n_estimators': 91}. Best is trial 5 with value: 0.9412760171114928.\u001b[0m\n",
            "\u001b[32m[I 2022-03-12 23:30:48,954]\u001b[0m Trial 7 finished with value: 0.9344208328784164 and parameters: {'booster': 'gbtree', 'alpha': 6.4474535699762225e-06, 'max_depth': 3, 'max_features': 5, 'eta': 5.7721198136895276e-08, 'gamma': 6.562749567750931e-08, 'grow_policy': 'depthwise', 'subsample': 0.5837258315604933, 'min_child_weight': 2, 'n_estimators': 107}. Best is trial 5 with value: 0.9412760171114928.\u001b[0m\n",
            "\u001b[32m[I 2022-03-12 23:30:50,181]\u001b[0m Trial 8 finished with value: 0.8799840972077475 and parameters: {'booster': 'dart', 'alpha': 0.00042560758825923396, 'max_depth': 14, 'max_features': 16, 'eta': 4.3531587619964994e-06, 'gamma': 0.007850638930389018, 'grow_policy': 'depthwise', 'subsample': 0.17088904397090582, 'min_child_weight': 2, 'n_estimators': 99}. Best is trial 5 with value: 0.9412760171114928.\u001b[0m\n",
            "\u001b[32m[I 2022-03-12 23:30:50,492]\u001b[0m Trial 9 finished with value: 0.8765576079200758 and parameters: {'booster': 'gbtree', 'alpha': 7.715458142857675e-08, 'max_depth': 9, 'max_features': 7, 'eta': 0.0016177135837938978, 'gamma': 4.178594186412167e-07, 'grow_policy': 'lossguide', 'subsample': 0.31201798857782687, 'min_child_weight': 10, 'n_estimators': 114}. Best is trial 5 with value: 0.9412760171114928.\u001b[0m\n",
            "\u001b[32m[I 2022-03-12 23:30:51,465]\u001b[0m Trial 10 finished with value: 0.9228471953407685 and parameters: {'booster': 'dart', 'alpha': 5.604047322180476e-06, 'max_depth': 9, 'max_features': 14, 'eta': 1.1975246147547452e-08, 'gamma': 0.5745187748414967, 'grow_policy': 'lossguide', 'subsample': 0.9513082541381415, 'min_child_weight': 15, 'n_estimators': 80}. Best is trial 5 with value: 0.9412760171114928.\u001b[0m\n",
            "\u001b[32m[I 2022-03-12 23:30:52,190]\u001b[0m Trial 11 finished with value: 0.9069868619997155 and parameters: {'booster': 'dart', 'alpha': 2.2963711027378124e-06, 'max_depth': 2, 'max_features': 2, 'eta': 1.3723586840532992e-08, 'gamma': 1.1674351531462298e-08, 'grow_policy': 'depthwise', 'subsample': 0.529624958095521, 'min_child_weight': 6, 'n_estimators': 108}. Best is trial 5 with value: 0.9412760171114928.\u001b[0m\n",
            "\u001b[32m[I 2022-03-12 23:30:53,798]\u001b[0m Trial 12 finished with value: 0.9357050770932519 and parameters: {'booster': 'dart', 'alpha': 4.633182786797757e-06, 'max_depth': 7, 'max_features': 4, 'eta': 5.291200905941199e-07, 'gamma': 1.0638189530479602e-08, 'grow_policy': 'depthwise', 'subsample': 0.5200380527221812, 'min_child_weight': 1, 'n_estimators': 92}. Best is trial 5 with value: 0.9412760171114928.\u001b[0m\n",
            "\u001b[32m[I 2022-03-12 23:30:54,998]\u001b[0m Trial 13 finished with value: 0.9181331533516625 and parameters: {'booster': 'dart', 'alpha': 4.6718321869749553e-07, 'max_depth': 7, 'max_features': 5, 'eta': 9.020551243720719e-07, 'gamma': 1.5091931806924928e-06, 'grow_policy': 'lossguide', 'subsample': 0.4577171751170463, 'min_child_weight': 5, 'n_estimators': 90}. Best is trial 5 with value: 0.9412760171114928.\u001b[0m\n",
            "\u001b[32m[I 2022-03-12 23:30:57,055]\u001b[0m Trial 14 finished with value: 0.9459922647583316 and parameters: {'booster': 'dart', 'alpha': 3.2370495268190286e-05, 'max_depth': 11, 'max_features': 18, 'eta': 5.581928210531962e-05, 'gamma': 1.5314228415738306e-08, 'grow_policy': 'lossguide', 'subsample': 0.727176507857352, 'min_child_weight': 1, 'n_estimators': 90}. Best is trial 14 with value: 0.9459922647583316.\u001b[0m\n",
            "\u001b[32m[I 2022-03-12 23:30:58,595]\u001b[0m Trial 15 finished with value: 0.9434237763286607 and parameters: {'booster': 'dart', 'alpha': 0.0009251229064507326, 'max_depth': 11, 'max_features': 18, 'eta': 3.478354439995594e-05, 'gamma': 1.211292627641904e-06, 'grow_policy': 'lossguide', 'subsample': 0.9982870975340268, 'min_child_weight': 5, 'n_estimators': 84}. Best is trial 14 with value: 0.9459922647583316.\u001b[0m\n",
            "\u001b[32m[I 2022-03-12 23:31:00,220]\u001b[0m Trial 16 finished with value: 0.9429953273140933 and parameters: {'booster': 'dart', 'alpha': 0.9078128001788173, 'max_depth': 11, 'max_features': 18, 'eta': 2.885543523869137e-05, 'gamma': 0.0009224706703854286, 'grow_policy': 'lossguide', 'subsample': 0.9819673965840745, 'min_child_weight': 5, 'n_estimators': 87}. Best is trial 14 with value: 0.9459922647583316.\u001b[0m\n",
            "\u001b[32m[I 2022-03-12 23:31:01,764]\u001b[0m Trial 17 finished with value: 0.9258479926860389 and parameters: {'booster': 'dart', 'alpha': 0.0009848940876647013, 'max_depth': 11, 'max_features': 18, 'eta': 9.198975431775957e-05, 'gamma': 2.1808854672080042e-06, 'grow_policy': 'lossguide', 'subsample': 0.7204586990990507, 'min_child_weight': 7, 'n_estimators': 96}. Best is trial 14 with value: 0.9459922647583316.\u001b[0m\n",
            "\u001b[32m[I 2022-03-12 23:31:02,793]\u001b[0m Trial 18 finished with value: 0.9151307017630925 and parameters: {'booster': 'dart', 'alpha': 0.0025400513832258944, 'max_depth': 10, 'max_features': 15, 'eta': 1.9809915199433524e-05, 'gamma': 1.5110061473051146e-05, 'grow_policy': 'lossguide', 'subsample': 0.41353715176901623, 'min_child_weight': 4, 'n_estimators': 80}. Best is trial 14 with value: 0.9459922647583316.\u001b[0m\n",
            "\u001b[32m[I 2022-03-12 23:31:04,277]\u001b[0m Trial 19 finished with value: 0.9271349939730401 and parameters: {'booster': 'dart', 'alpha': 3.785182581452235e-05, 'max_depth': 8, 'max_features': 13, 'eta': 0.0006460388645010933, 'gamma': 2.7948976396234386e-08, 'grow_policy': 'lossguide', 'subsample': 0.810784494299734, 'min_child_weight': 8, 'n_estimators': 95}. Best is trial 14 with value: 0.9459922647583316.\u001b[0m\n",
            "\u001b[32m[I 2022-03-12 23:31:04,511]\u001b[0m Trial 20 finished with value: 0.8499788808272098 and parameters: {'booster': 'gblinear', 'alpha': 0.00020116209119612187, 'max_depth': 13, 'max_features': 16, 'eta': 0.0002490794913264978, 'gamma': 1.0612361581445364e-06, 'grow_policy': 'lossguide', 'subsample': 0.4108756897973674, 'min_child_weight': 4, 'n_estimators': 120}. Best is trial 14 with value: 0.9459922647583316.\u001b[0m\n",
            "\u001b[32m[I 2022-03-12 23:31:06,066]\u001b[0m Trial 21 finished with value: 0.9357072827509846 and parameters: {'booster': 'dart', 'alpha': 0.5556973585842114, 'max_depth': 11, 'max_features': 18, 'eta': 1.9059795519603986e-05, 'gamma': 0.0015566462930970556, 'grow_policy': 'lossguide', 'subsample': 0.9858982944226046, 'min_child_weight': 6, 'n_estimators': 87}. Best is trial 14 with value: 0.9459922647583316.\u001b[0m\n",
            "\u001b[32m[I 2022-03-12 23:31:07,568]\u001b[0m Trial 22 finished with value: 0.9399928757255237 and parameters: {'booster': 'dart', 'alpha': 0.8374115969665259, 'max_depth': 11, 'max_features': 17, 'eta': 2.4987476127643842e-05, 'gamma': 0.0032924723487715492, 'grow_policy': 'lossguide', 'subsample': 0.8406087591616374, 'min_child_weight': 5, 'n_estimators': 87}. Best is trial 14 with value: 0.9459922647583316.\u001b[0m\n",
            "\u001b[32m[I 2022-03-12 23:31:09,492]\u001b[0m Trial 23 finished with value: 0.9472781632164665 and parameters: {'booster': 'dart', 'alpha': 0.09758408234106883, 'max_depth': 13, 'max_features': 18, 'eta': 0.00010186445679198854, 'gamma': 0.0004618880286766821, 'grow_policy': 'lossguide', 'subsample': 0.68231964198969, 'min_child_weight': 1, 'n_estimators': 87}. Best is trial 23 with value: 0.9472781632164665.\u001b[0m\n",
            "\u001b[32m[I 2022-03-12 23:31:11,283]\u001b[0m Trial 24 finished with value: 0.9412765685259258 and parameters: {'booster': 'dart', 'alpha': 0.06579744806735427, 'max_depth': 13, 'max_features': 16, 'eta': 0.00748019025517752, 'gamma': 0.017108821703905975, 'grow_policy': 'lossguide', 'subsample': 0.6649415311889961, 'min_child_weight': 1, 'n_estimators': 84}. Best is trial 23 with value: 0.9472781632164665.\u001b[0m\n",
            "\u001b[32m[I 2022-03-12 23:31:13,448]\u001b[0m Trial 25 finished with value: 0.9421329151406272 and parameters: {'booster': 'dart', 'alpha': 0.008935357041542488, 'max_depth': 15, 'max_features': 12, 'eta': 0.00013248653508638486, 'gamma': 0.00023533587952361928, 'grow_policy': 'lossguide', 'subsample': 0.6760797713655309, 'min_child_weight': 1, 'n_estimators': 93}. Best is trial 23 with value: 0.9472781632164665.\u001b[0m\n",
            "\u001b[32m[I 2022-03-12 23:31:14,693]\u001b[0m Trial 26 finished with value: 0.9125605590901221 and parameters: {'booster': 'dart', 'alpha': 0.0009311329580949654, 'max_depth': 12, 'max_features': 14, 'eta': 4.401273525879659e-06, 'gamma': 0.05120721227539492, 'grow_policy': 'lossguide', 'subsample': 0.37223233376288645, 'min_child_weight': 3, 'n_estimators': 88}. Best is trial 23 with value: 0.9472781632164665.\u001b[0m\n",
            "\u001b[32m[I 2022-03-12 23:31:15,875]\u001b[0m Trial 27 finished with value: 0.9284192381878756 and parameters: {'booster': 'dart', 'alpha': 0.1581338445138308, 'max_depth': 10, 'max_features': 17, 'eta': 0.00493722371209818, 'gamma': 5.243148778074979e-05, 'grow_policy': 'lossguide', 'subsample': 0.8291608331963758, 'min_child_weight': 9, 'n_estimators': 83}. Best is trial 23 with value: 0.9472781632164665.\u001b[0m\n",
            "\u001b[32m[I 2022-03-12 23:31:16,079]\u001b[0m Trial 28 finished with value: 0.8499788808272098 and parameters: {'booster': 'gblinear', 'alpha': 3.6834967988551084e-05, 'max_depth': 14, 'max_features': 15, 'eta': 0.00033713878635322327, 'gamma': 0.00039499590893399343, 'grow_policy': 'lossguide', 'subsample': 0.5973204314432918, 'min_child_weight': 15, 'n_estimators': 94}. Best is trial 23 with value: 0.9472781632164665.\u001b[0m\n",
            "\u001b[32m[I 2022-03-12 23:31:17,219]\u001b[0m Trial 29 finished with value: 0.9112752120464203 and parameters: {'booster': 'dart', 'alpha': 0.008733769369476039, 'max_depth': 12, 'max_features': 17, 'eta': 3.746948722887609e-06, 'gamma': 2.6386322041062076e-05, 'grow_policy': 'lossguide', 'subsample': 0.7538385788705937, 'min_child_weight': 13, 'n_estimators': 89}. Best is trial 23 with value: 0.9472781632164665.\u001b[0m\n",
            "\u001b[32m[I 2022-03-12 23:31:17,398]\u001b[0m Trial 30 finished with value: 0.8499788808272098 and parameters: {'booster': 'gblinear', 'alpha': 0.0031526637498714826, 'max_depth': 9, 'max_features': 11, 'eta': 6.897178053997627e-05, 'gamma': 4.511996983695671e-06, 'grow_policy': 'lossguide', 'subsample': 0.8726122772112183, 'min_child_weight': 4, 'n_estimators': 85}. Best is trial 23 with value: 0.9472781632164665.\u001b[0m\n",
            "\u001b[32m[I 2022-03-12 23:31:18,968]\u001b[0m Trial 31 finished with value: 0.942138980699392 and parameters: {'booster': 'dart', 'alpha': 0.2542340582073266, 'max_depth': 10, 'max_features': 18, 'eta': 2.961248655280281e-05, 'gamma': 0.001356835855179702, 'grow_policy': 'lossguide', 'subsample': 0.9685426012350358, 'min_child_weight': 5, 'n_estimators': 86}. Best is trial 23 with value: 0.9472781632164665.\u001b[0m\n",
            "\u001b[32m[I 2022-03-12 23:31:20,148]\u001b[0m Trial 32 finished with value: 0.927989686344442 and parameters: {'booster': 'dart', 'alpha': 0.03121089797337199, 'max_depth': 12, 'max_features': 18, 'eta': 1.012078732153488e-05, 'gamma': 0.0005922237797622028, 'grow_policy': 'lossguide', 'subsample': 0.7277203815474252, 'min_child_weight': 7, 'n_estimators': 81}. Best is trial 23 with value: 0.9472781632164665.\u001b[0m\n",
            "\u001b[32m[I 2022-03-12 23:31:22,143]\u001b[0m Trial 33 finished with value: 0.9468508170307656 and parameters: {'booster': 'dart', 'alpha': 0.9911515281498053, 'max_depth': 11, 'max_features': 15, 'eta': 0.0001873328484574113, 'gamma': 0.0001301650193372689, 'grow_policy': 'lossguide', 'subsample': 0.998400250127712, 'min_child_weight': 2, 'n_estimators': 89}. Best is trial 23 with value: 0.9472781632164665.\u001b[0m\n",
            "\u001b[32m[I 2022-03-12 23:31:23,163]\u001b[0m Trial 34 finished with value: 0.9477082664743334 and parameters: {'booster': 'gbtree', 'alpha': 0.241183445636223, 'max_depth': 14, 'max_features': 15, 'eta': 0.0016753022257860936, 'gamma': 0.00014199131193686287, 'grow_policy': 'lossguide', 'subsample': 0.8391931743291282, 'min_child_weight': 2, 'n_estimators': 102}. Best is trial 34 with value: 0.9477082664743334.\u001b[0m\n",
            "\u001b[32m[I 2022-03-12 23:31:23,542]\u001b[0m Trial 35 finished with value: 0.884698690611287 and parameters: {'booster': 'gbtree', 'alpha': 0.21449988418139676, 'max_depth': 16, 'max_features': 14, 'eta': 0.001983058167456998, 'gamma': 0.00015856934690221697, 'grow_policy': 'lossguide', 'subsample': 0.24302066553916474, 'min_child_weight': 2, 'n_estimators': 101}. Best is trial 34 with value: 0.9477082664743334.\u001b[0m\n",
            "\u001b[32m[I 2022-03-12 23:31:24,408]\u001b[0m Trial 36 finished with value: 0.9404202219112244 and parameters: {'booster': 'gbtree', 'alpha': 0.02312235854735867, 'max_depth': 14, 'max_features': 15, 'eta': 0.05393375180799027, 'gamma': 9.237917488892369e-05, 'grow_policy': 'depthwise', 'subsample': 0.6489106096525316, 'min_child_weight': 1, 'n_estimators': 97}. Best is trial 34 with value: 0.9477082664743334.\u001b[0m\n",
            "\u001b[32m[I 2022-03-12 23:31:25,281]\u001b[0m Trial 37 finished with value: 0.9421345693839266 and parameters: {'booster': 'gbtree', 'alpha': 0.07491936396395654, 'max_depth': 15, 'max_features': 13, 'eta': 0.0006283760053900712, 'gamma': 2.3702318186651307e-05, 'grow_policy': 'lossguide', 'subsample': 0.8124029740858889, 'min_child_weight': 3, 'n_estimators': 102}. Best is trial 34 with value: 0.9477082664743334.\u001b[0m\n",
            "\u001b[32m[I 2022-03-12 23:31:26,010]\u001b[0m Trial 38 finished with value: 0.9309899322752794 and parameters: {'booster': 'gbtree', 'alpha': 0.2950023140026979, 'max_depth': 14, 'max_features': 16, 'eta': 0.02197024790430437, 'gamma': 0.04819266544975868, 'grow_policy': 'lossguide', 'subsample': 0.5653164333373366, 'min_child_weight': 2, 'n_estimators': 105}. Best is trial 34 with value: 0.9477082664743334.\u001b[0m\n",
            "\u001b[32m[I 2022-03-12 23:31:26,589]\u001b[0m Trial 39 finished with value: 0.9211300907959007 and parameters: {'booster': 'gbtree', 'alpha': 0.00010300609244372548, 'max_depth': 13, 'max_features': 10, 'eta': 0.004432603021165101, 'gamma': 0.004029749745952849, 'grow_policy': 'depthwise', 'subsample': 0.47458400013703683, 'min_child_weight': 3, 'n_estimators': 104}. Best is trial 34 with value: 0.9477082664743334.\u001b[0m\n",
            "\u001b[32m[I 2022-03-12 23:31:26,796]\u001b[0m Trial 40 finished with value: 0.8529785753436139 and parameters: {'booster': 'gbtree', 'alpha': 8.60636209339499e-07, 'max_depth': 12, 'max_features': 17, 'eta': 0.00016402251072520263, 'gamma': 0.0002710723074923777, 'grow_policy': 'lossguide', 'subsample': 0.10258472628394309, 'min_child_weight': 2, 'n_estimators': 91}. Best is trial 34 with value: 0.9477082664743334.\u001b[0m\n",
            "\u001b[32m[I 2022-03-12 23:31:28,711]\u001b[0m Trial 41 finished with value: 0.945135366729197 and parameters: {'booster': 'dart', 'alpha': 0.0520607072542883, 'max_depth': 12, 'max_features': 17, 'eta': 7.255550737110193e-05, 'gamma': 7.678342328662635e-06, 'grow_policy': 'lossguide', 'subsample': 0.8709307197603763, 'min_child_weight': 1, 'n_estimators': 83}. Best is trial 34 with value: 0.9477082664743334.\u001b[0m\n",
            "\u001b[32m[I 2022-03-12 23:31:28,893]\u001b[0m Trial 42 finished with value: 0.8499788808272098 and parameters: {'booster': 'gblinear', 'alpha': 0.09281584060721101, 'max_depth': 15, 'max_features': 15, 'eta': 0.0005505179553109219, 'gamma': 4.7510367213810104e-05, 'grow_policy': 'lossguide', 'subsample': 0.8812714901068445, 'min_child_weight': 1, 'n_estimators': 89}. Best is trial 34 with value: 0.9477082664743334.\u001b[0m\n",
            "\u001b[32m[I 2022-03-12 23:31:30,483]\u001b[0m Trial 43 finished with value: 0.9472803688741992 and parameters: {'booster': 'dart', 'alpha': 0.03790401325065348, 'max_depth': 13, 'max_features': 17, 'eta': 0.00010231358178062143, 'gamma': 6.161678172775453e-06, 'grow_policy': 'lossguide', 'subsample': 0.751153550685942, 'min_child_weight': 2, 'n_estimators': 82}. Best is trial 34 with value: 0.9477082664743334.\u001b[0m\n",
            "\u001b[32m[I 2022-03-12 23:31:30,760]\u001b[0m Trial 44 finished with value: 0.8641265209388603 and parameters: {'booster': 'gbtree', 'alpha': 0.39704843775599785, 'max_depth': 16, 'max_features': 16, 'eta': 8.202809947795396e-06, 'gamma': 1.915840404854589e-07, 'grow_policy': 'lossguide', 'subsample': 0.13983456522917548, 'min_child_weight': 2, 'n_estimators': 110}. Best is trial 34 with value: 0.9477082664743334.\u001b[0m\n",
            "\u001b[32m[I 2022-03-12 23:31:32,721]\u001b[0m Trial 45 finished with value: 0.945993919001631 and parameters: {'booster': 'dart', 'alpha': 0.14247860359002493, 'max_depth': 13, 'max_features': 13, 'eta': 0.0023130541434426737, 'gamma': 4.144830949383782e-07, 'grow_policy': 'depthwise', 'subsample': 0.7602489089172785, 'min_child_weight': 3, 'n_estimators': 99}. Best is trial 34 with value: 0.9477082664743334.\u001b[0m\n",
            "\u001b[32m[I 2022-03-12 23:31:34,075]\u001b[0m Trial 46 finished with value: 0.8979894326938028 and parameters: {'booster': 'dart', 'alpha': 0.020717982334172953, 'max_depth': 13, 'max_features': 13, 'eta': 0.8132115699824217, 'gamma': 6.096200158150867e-07, 'grow_policy': 'depthwise', 'subsample': 0.2800061716980912, 'min_child_weight': 3, 'n_estimators': 98}. Best is trial 34 with value: 0.9477082664743334.\u001b[0m\n",
            "\u001b[32m[I 2022-03-12 23:31:36,294]\u001b[0m Trial 47 finished with value: 0.9309893808608463 and parameters: {'booster': 'dart', 'alpha': 0.14654210692024564, 'max_depth': 14, 'max_features': 12, 'eta': 0.012154799903766418, 'gamma': 7.384800889236235e-06, 'grow_policy': 'depthwise', 'subsample': 0.6074939925807374, 'min_child_weight': 4, 'n_estimators': 110}. Best is trial 34 with value: 0.9477082664743334.\u001b[0m\n",
            "\u001b[32m[I 2022-03-12 23:31:37,442]\u001b[0m Trial 48 finished with value: 0.935274973835385 and parameters: {'booster': 'gbtree', 'alpha': 0.014519160501399678, 'max_depth': 13, 'max_features': 14, 'eta': 0.0017512578431271954, 'gamma': 3.369374483618273e-06, 'grow_policy': 'depthwise', 'subsample': 0.5382474504912872, 'min_child_weight': 2, 'n_estimators': 100}. Best is trial 34 with value: 0.9477082664743334.\u001b[0m\n",
            "\u001b[32m[I 2022-03-12 23:31:38,972]\u001b[0m Trial 49 finished with value: 0.9417066717837926 and parameters: {'booster': 'dart', 'alpha': 0.4968786851841453, 'max_depth': 15, 'max_features': 8, 'eta': 0.0023194220003392627, 'gamma': 2.535526445226591e-07, 'grow_policy': 'depthwise', 'subsample': 0.6646180074829672, 'min_child_weight': 3, 'n_estimators': 82}. Best is trial 34 with value: 0.9477082664743334.\u001b[0m\n",
            "\u001b[32m[I 2022-03-12 23:31:41,273]\u001b[0m Trial 50 finished with value: 0.9485651645034677 and parameters: {'booster': 'dart', 'alpha': 0.0037077504637958985, 'max_depth': 14, 'max_features': 15, 'eta': 0.0009991483624754553, 'gamma': 4.3377826993308414e-08, 'grow_policy': 'depthwise', 'subsample': 0.7604145256757245, 'min_child_weight': 2, 'n_estimators': 103}. Best is trial 50 with value: 0.9485651645034677.\u001b[0m\n",
            "\u001b[32m[I 2022-03-12 23:31:43,636]\u001b[0m Trial 51 finished with value: 0.948134509831168 and parameters: {'booster': 'dart', 'alpha': 0.03642067851943639, 'max_depth': 14, 'max_features': 15, 'eta': 0.00037009721361623235, 'gamma': 7.067948125441544e-08, 'grow_policy': 'depthwise', 'subsample': 0.7762270507926567, 'min_child_weight': 2, 'n_estimators': 104}. Best is trial 50 with value: 0.9485651645034677.\u001b[0m\n",
            "\u001b[32m[I 2022-03-12 23:31:46,100]\u001b[0m Trial 52 finished with value: 0.9468486113730329 and parameters: {'booster': 'dart', 'alpha': 0.0034581848052445447, 'max_depth': 16, 'max_features': 15, 'eta': 0.00031900664950716386, 'gamma': 6.59435257840755e-08, 'grow_policy': 'depthwise', 'subsample': 0.9018049002255359, 'min_child_weight': 2, 'n_estimators': 104}. Best is trial 50 with value: 0.9485651645034677.\u001b[0m\n",
            "\u001b[32m[I 2022-03-12 23:31:48,240]\u001b[0m Trial 53 finished with value: 0.9399917728966573 and parameters: {'booster': 'dart', 'alpha': 0.04887894740423764, 'max_depth': 14, 'max_features': 16, 'eta': 0.000819792877653821, 'gamma': 2.0552309248332117e-08, 'grow_policy': 'depthwise', 'subsample': 0.7774742139839631, 'min_child_weight': 4, 'n_estimators': 108}. Best is trial 50 with value: 0.9485651645034677.\u001b[0m\n",
            "\u001b[32m[I 2022-03-12 23:31:50,535]\u001b[0m Trial 54 finished with value: 0.9438505710999284 and parameters: {'booster': 'dart', 'alpha': 0.006573412596309721, 'max_depth': 15, 'max_features': 15, 'eta': 0.0001175056543505739, 'gamma': 4.886253789152728e-08, 'grow_policy': 'depthwise', 'subsample': 0.6841123746802114, 'min_child_weight': 2, 'n_estimators': 106}. Best is trial 50 with value: 0.9485651645034677.\u001b[0m\n",
            "\u001b[32m[I 2022-03-12 23:31:53,302]\u001b[0m Trial 55 finished with value: 0.9468502656163325 and parameters: {'booster': 'dart', 'alpha': 0.037281595241837065, 'max_depth': 14, 'max_features': 14, 'eta': 0.00022533505553222748, 'gamma': 7.58996847458285e-08, 'grow_policy': 'depthwise', 'subsample': 0.8975507403091609, 'min_child_weight': 1, 'n_estimators': 104}. Best is trial 50 with value: 0.9485651645034677.\u001b[0m\n",
            "\u001b[32m[I 2022-03-12 23:31:53,502]\u001b[0m Trial 56 finished with value: 0.8499788808272098 and parameters: {'booster': 'gblinear', 'alpha': 0.10246717091364838, 'max_depth': 12, 'max_features': 17, 'eta': 0.0005913766052516984, 'gamma': 3.00966194576069e-05, 'grow_policy': 'depthwise', 'subsample': 0.618669060549131, 'min_child_weight': 12, 'n_estimators': 102}. Best is trial 50 with value: 0.9485651645034677.\u001b[0m\n",
            "\u001b[32m[I 2022-03-12 23:31:54,686]\u001b[0m Trial 57 finished with value: 0.9395627724676568 and parameters: {'booster': 'dart', 'alpha': 0.9825524814976964, 'max_depth': 4, 'max_features': 11, 'eta': 0.001317889653376817, 'gamma': 0.0001220378992316566, 'grow_policy': 'depthwise', 'subsample': 0.7129877160577853, 'min_child_weight': 3, 'n_estimators': 100}. Best is trial 50 with value: 0.9485651645034677.\u001b[0m\n",
            "\u001b[32m[I 2022-03-12 23:31:57,754]\u001b[0m Trial 58 finished with value: 0.9485646130890347 and parameters: {'booster': 'dart', 'alpha': 0.001992835704236373, 'max_depth': 13, 'max_features': 16, 'eta': 5.598910266496411e-05, 'gamma': 0.0006006246989824387, 'grow_policy': 'depthwise', 'subsample': 0.7943604220968852, 'min_child_weight': 1, 'n_estimators': 113}. Best is trial 50 with value: 0.9485651645034677.\u001b[0m\n",
            "\u001b[32m[I 2022-03-12 23:32:00,480]\u001b[0m Trial 59 finished with value: 0.9322763821478475 and parameters: {'booster': 'dart', 'alpha': 0.0004257451319839065, 'max_depth': 15, 'max_features': 16, 'eta': 5.131458456650761e-05, 'gamma': 0.002784243092816506, 'grow_policy': 'depthwise', 'subsample': 0.5057915387871812, 'min_child_weight': 1, 'n_estimators': 115}. Best is trial 50 with value: 0.9485651645034677.\u001b[0m\n",
            "\u001b[32m[I 2022-03-12 23:32:03,374]\u001b[0m Trial 60 finished with value: 0.9369904241369538 and parameters: {'booster': 'dart', 'alpha': 0.002070327421169249, 'max_depth': 13, 'max_features': 17, 'eta': 1.0417108386731558e-05, 'gamma': 0.0007949610160751311, 'grow_policy': 'depthwise', 'subsample': 0.566704198011231, 'min_child_weight': 1, 'n_estimators': 116}. Best is trial 50 with value: 0.9485651645034677.\u001b[0m\n",
            "\u001b[32m[I 2022-03-12 23:32:06,012]\u001b[0m Trial 61 finished with value: 0.9447058148857636 and parameters: {'booster': 'dart', 'alpha': 0.017409552424252035, 'max_depth': 13, 'max_features': 15, 'eta': 0.00036945696056495407, 'gamma': 0.00048636028557835374, 'grow_policy': 'depthwise', 'subsample': 0.9348269910670863, 'min_child_weight': 2, 'n_estimators': 107}. Best is trial 50 with value: 0.9485651645034677.\u001b[0m\n",
            "\u001b[32m[I 2022-03-12 23:32:09,219]\u001b[0m Trial 62 finished with value: 0.9442768144567629 and parameters: {'booster': 'dart', 'alpha': 0.010844098202893327, 'max_depth': 14, 'max_features': 16, 'eta': 0.00017659292588176418, 'gamma': 0.00020370626161131234, 'grow_policy': 'depthwise', 'subsample': 0.7928504643235237, 'min_child_weight': 1, 'n_estimators': 117}. Best is trial 50 with value: 0.9485651645034677.\u001b[0m\n",
            "\u001b[32m[I 2022-03-12 23:32:11,558]\u001b[0m Trial 63 finished with value: 0.9425663268850929 and parameters: {'booster': 'dart', 'alpha': 0.0015934472986943288, 'max_depth': 11, 'max_features': 14, 'eta': 0.00379092710799044, 'gamma': 0.008854822162856433, 'grow_policy': 'lossguide', 'subsample': 0.8208527738282686, 'min_child_weight': 4, 'n_estimators': 112}. Best is trial 50 with value: 0.9485651645034677.\u001b[0m\n",
            "\u001b[32m[I 2022-03-12 23:32:14,384]\u001b[0m Trial 64 finished with value: 0.9464229194306316 and parameters: {'booster': 'dart', 'alpha': 0.48695012018495304, 'max_depth': 12, 'max_features': 17, 'eta': 0.0010241359824509479, 'gamma': 3.341539163965857e-08, 'grow_policy': 'lossguide', 'subsample': 0.7333562106993505, 'min_child_weight': 2, 'n_estimators': 118}. Best is trial 50 with value: 0.9485651645034677.\u001b[0m\n",
            "\u001b[32m[I 2022-03-12 23:32:17,006]\u001b[0m Trial 65 finished with value: 0.9489952677613346 and parameters: {'booster': 'dart', 'alpha': 0.00037587555970508205, 'max_depth': 10, 'max_features': 18, 'eta': 0.0001100217718603896, 'gamma': 7.525493075505468e-05, 'grow_policy': 'depthwise', 'subsample': 0.9372624226223953, 'min_child_weight': 3, 'n_estimators': 112}. Best is trial 65 with value: 0.9489952677613346.\u001b[0m\n",
            "\u001b[32m[I 2022-03-12 23:32:19,001]\u001b[0m Trial 66 finished with value: 0.9378473221660881 and parameters: {'booster': 'dart', 'alpha': 0.004330475894273618, 'max_depth': 6, 'max_features': 18, 'eta': 3.568927074349371e-05, 'gamma': 1.3544570306893454e-05, 'grow_policy': 'depthwise', 'subsample': 0.6320081720798324, 'min_child_weight': 3, 'n_estimators': 113}. Best is trial 65 with value: 0.9489952677613346.\u001b[0m\n",
            "\u001b[32m[I 2022-03-12 23:32:21,517]\u001b[0m Trial 67 finished with value: 0.9434210192564949 and parameters: {'booster': 'dart', 'alpha': 0.0002721953174284502, 'max_depth': 8, 'max_features': 18, 'eta': 0.00010412747696638879, 'gamma': 0.00140306568050856, 'grow_policy': 'depthwise', 'subsample': 0.6964137029746722, 'min_child_weight': 1, 'n_estimators': 110}. Best is trial 65 with value: 0.9489952677613346.\u001b[0m\n",
            "\u001b[32m[I 2022-03-12 23:32:21,841]\u001b[0m Trial 68 finished with value: 0.8765520937757442 and parameters: {'booster': 'gbtree', 'alpha': 1.1186686090215008e-08, 'max_depth': 10, 'max_features': 6, 'eta': 1.5762041343833995e-05, 'gamma': 6.0350368703532186e-05, 'grow_policy': 'depthwise', 'subsample': 0.1965070819381699, 'min_child_weight': 3, 'n_estimators': 112}. Best is trial 65 with value: 0.9489952677613346.\u001b[0m\n",
            "\u001b[32m[I 2022-03-12 23:32:22,055]\u001b[0m Trial 69 finished with value: 0.8499788808272098 and parameters: {'booster': 'gblinear', 'alpha': 0.00040460522990218024, 'max_depth': 15, 'max_features': 17, 'eta': 2.4439176687933676e-06, 'gamma': 0.0003013666597701642, 'grow_policy': 'depthwise', 'subsample': 0.9272083996158907, 'min_child_weight': 4, 'n_estimators': 106}. Best is trial 65 with value: 0.9489952677613346.\u001b[0m\n",
            "\u001b[32m[I 2022-03-12 23:32:24,121]\u001b[0m Trial 70 finished with value: 0.9215601940537672 and parameters: {'booster': 'dart', 'alpha': 1.6412436465601764e-05, 'max_depth': 14, 'max_features': 18, 'eta': 4.264390341926132e-05, 'gamma': 8.56839520076513e-07, 'grow_policy': 'depthwise', 'subsample': 0.43023564797405883, 'min_child_weight': 2, 'n_estimators': 109}. Best is trial 65 with value: 0.9489952677613346.\u001b[0m\n",
            "\u001b[32m[I 2022-03-12 23:32:25,887]\u001b[0m Trial 71 finished with value: 0.9447069177146298 and parameters: {'booster': 'dart', 'alpha': 0.0014545860049420053, 'max_depth': 10, 'max_features': 16, 'eta': 0.0003356529753072302, 'gamma': 0.00011923286821483123, 'grow_policy': 'lossguide', 'subsample': 0.8384177021194059, 'min_child_weight': 2, 'n_estimators': 85}. Best is trial 65 with value: 0.9489952677613346.\u001b[0m\n",
            "\u001b[32m[I 2022-03-12 23:32:26,947]\u001b[0m Trial 72 finished with value: 0.8825608568539159 and parameters: {'booster': 'dart', 'alpha': 0.0006750831479856982, 'max_depth': 9, 'max_features': 15, 'eta': 9.818160347827828e-05, 'gamma': 0.0008157040370394171, 'grow_policy': 'lossguide', 'subsample': 0.34703038195753527, 'min_child_weight': 10, 'n_estimators': 103}. Best is trial 65 with value: 0.9489952677613346.\u001b[0m\n",
            "\u001b[32m[I 2022-03-12 23:32:29,346]\u001b[0m Trial 73 finished with value: 0.9498505115471696 and parameters: {'booster': 'dart', 'alpha': 0.2553983989210158, 'max_depth': 13, 'max_features': 16, 'eta': 0.00020746845752260047, 'gamma': 8.330886251031127e-05, 'grow_policy': 'lossguide', 'subsample': 0.9909853737540923, 'min_child_weight': 1, 'n_estimators': 95}. Best is trial 73 with value: 0.9498505115471696.\u001b[0m\n",
            "\u001b[32m[I 2022-03-12 23:32:31,608]\u001b[0m Trial 74 finished with value: 0.9485646130890347 and parameters: {'booster': 'dart', 'alpha': 0.005529574349836625, 'max_depth': 13, 'max_features': 17, 'eta': 6.616060384008262e-05, 'gamma': 1.048969793195041e-07, 'grow_policy': 'lossguide', 'subsample': 0.7697702892696834, 'min_child_weight': 1, 'n_estimators': 94}. Best is trial 73 with value: 0.9498505115471696.\u001b[0m\n",
            "\u001b[32m[I 2022-03-12 23:32:34,002]\u001b[0m Trial 75 finished with value: 0.948993062103602 and parameters: {'booster': 'dart', 'alpha': 6.605002505342629e-05, 'max_depth': 14, 'max_features': 16, 'eta': 5.0016215649502084e-05, 'gamma': 1.5009267948131807e-07, 'grow_policy': 'depthwise', 'subsample': 0.7780417737789134, 'min_child_weight': 1, 'n_estimators': 96}. Best is trial 73 with value: 0.9498505115471696.\u001b[0m\n",
            "\u001b[32m[I 2022-03-12 23:32:36,297]\u001b[0m Trial 76 finished with value: 0.9464201623584657 and parameters: {'booster': 'dart', 'alpha': 5.173385085297106e-05, 'max_depth': 14, 'max_features': 16, 'eta': 0.0004505898363624083, 'gamma': 1.1861935646072504e-07, 'grow_policy': 'depthwise', 'subsample': 0.7921242770089963, 'min_child_weight': 1, 'n_estimators': 94}. Best is trial 73 with value: 0.9498505115471696.\u001b[0m\n",
            "\u001b[32m[I 2022-03-12 23:32:38,776]\u001b[0m Trial 77 finished with value: 0.9468497142018993 and parameters: {'booster': 'dart', 'alpha': 9.006017664231272e-05, 'max_depth': 15, 'max_features': 16, 'eta': 5.8668462362521426e-05, 'gamma': 1.2008771611805184e-07, 'grow_policy': 'depthwise', 'subsample': 0.9418247761176136, 'min_child_weight': 1, 'n_estimators': 97}. Best is trial 73 with value: 0.9498505115471696.\u001b[0m\n",
            "\u001b[32m[I 2022-03-12 23:32:39,841]\u001b[0m Trial 78 finished with value: 0.9451337124858976 and parameters: {'booster': 'gbtree', 'alpha': 0.00542387573380954, 'max_depth': 12, 'max_features': 3, 'eta': 1.793457221547563e-05, 'gamma': 1.650189900003856e-08, 'grow_policy': 'depthwise', 'subsample': 0.8389408840146986, 'min_child_weight': 1, 'n_estimators': 95}. Best is trial 73 with value: 0.9498505115471696.\u001b[0m\n",
            "\u001b[32m[I 2022-03-12 23:32:41,766]\u001b[0m Trial 79 finished with value: 0.943421570670928 and parameters: {'booster': 'dart', 'alpha': 1.134907434888846e-05, 'max_depth': 14, 'max_features': 14, 'eta': 0.000983047520424286, 'gamma': 0.3472541506646749, 'grow_policy': 'depthwise', 'subsample': 0.9883473827847162, 'min_child_weight': 3, 'n_estimators': 92}. Best is trial 73 with value: 0.9498505115471696.\u001b[0m\n",
            "\u001b[32m[I 2022-03-12 23:32:43,486]\u001b[0m Trial 80 finished with value: 0.9335655890925815 and parameters: {'booster': 'dart', 'alpha': 0.0006678722236415798, 'max_depth': 13, 'max_features': 17, 'eta': 9.6309255905828e-07, 'gamma': 3.429859621186137e-08, 'grow_policy': 'depthwise', 'subsample': 0.8703807095034334, 'min_child_weight': 6, 'n_estimators': 96}. Best is trial 73 with value: 0.9498505115471696.\u001b[0m\n",
            "\u001b[32m[I 2022-03-12 23:32:45,624]\u001b[0m Trial 81 finished with value: 0.9477088178887664 and parameters: {'booster': 'dart', 'alpha': 0.00015092517687253192, 'max_depth': 13, 'max_features': 17, 'eta': 0.00019075790848138284, 'gamma': 2.9600617677687693e-07, 'grow_policy': 'lossguide', 'subsample': 0.7287996865685205, 'min_child_weight': 2, 'n_estimators': 99}. Best is trial 73 with value: 0.9498505115471696.\u001b[0m\n",
            "\u001b[32m[I 2022-03-12 23:32:47,788]\u001b[0m Trial 82 finished with value: 0.9468497142018993 and parameters: {'booster': 'dart', 'alpha': 9.537550562243963e-05, 'max_depth': 16, 'max_features': 16, 'eta': 0.00015263886199579888, 'gamma': 2.6530525608067135e-07, 'grow_policy': 'lossguide', 'subsample': 0.7760138264590826, 'min_child_weight': 2, 'n_estimators': 98}. Best is trial 73 with value: 0.9498505115471696.\u001b[0m\n",
            "\u001b[32m[I 2022-03-12 23:32:50,276]\u001b[0m Trial 83 finished with value: 0.9455632643293311 and parameters: {'booster': 'dart', 'alpha': 5.637034485303435e-05, 'max_depth': 14, 'max_features': 15, 'eta': 0.0002980187417856257, 'gamma': 1.005089072006712e-07, 'grow_policy': 'lossguide', 'subsample': 0.7254127434953642, 'min_child_weight': 1, 'n_estimators': 101}. Best is trial 73 with value: 0.9498505115471696.\u001b[0m\n",
            "\u001b[32m[I 2022-03-12 23:32:52,836]\u001b[0m Trial 84 finished with value: 0.9459928161727648 and parameters: {'booster': 'dart', 'alpha': 0.0010687617907083067, 'max_depth': 13, 'max_features': 17, 'eta': 1.6353897184950096e-07, 'gamma': 4.5361571750136233e-07, 'grow_policy': 'depthwise', 'subsample': 0.9188509191019988, 'min_child_weight': 1, 'n_estimators': 99}. Best is trial 73 with value: 0.9498505115471696.\u001b[0m\n",
            "\u001b[32m[I 2022-03-12 23:32:54,864]\u001b[0m Trial 85 finished with value: 0.9434204678420617 and parameters: {'booster': 'dart', 'alpha': 0.00017566534759689683, 'max_depth': 12, 'max_features': 18, 'eta': 5.482883524449747e-05, 'gamma': 2.4296955198711647e-06, 'grow_policy': 'lossguide', 'subsample': 0.8481820257800455, 'min_child_weight': 2, 'n_estimators': 93}. Best is trial 73 with value: 0.9498505115471696.\u001b[0m\n",
            "\u001b[32m[I 2022-03-12 23:32:55,759]\u001b[0m Trial 86 finished with value: 0.9382790796672545 and parameters: {'booster': 'gbtree', 'alpha': 0.00032109061064061425, 'max_depth': 13, 'max_features': 15, 'eta': 0.0002292012948551096, 'gamma': 1.001975561829223e-08, 'grow_policy': 'depthwise', 'subsample': 0.654094994989896, 'min_child_weight': 1, 'n_estimators': 96}. Best is trial 73 with value: 0.9498505115471696.\u001b[0m\n",
            "\u001b[32m[I 2022-03-12 23:32:55,960]\u001b[0m Trial 87 finished with value: 0.8499788808272098 and parameters: {'booster': 'gblinear', 'alpha': 0.0025259297946962508, 'max_depth': 15, 'max_features': 16, 'eta': 3.183898130408369e-05, 'gamma': 4.275672465114534e-08, 'grow_policy': 'lossguide', 'subsample': 0.7621785396886026, 'min_child_weight': 3, 'n_estimators': 98}. Best is trial 73 with value: 0.9498505115471696.\u001b[0m\n",
            "\u001b[32m[I 2022-03-12 23:32:58,288]\u001b[0m Trial 88 finished with value: 0.9468491627874661 and parameters: {'booster': 'dart', 'alpha': 0.00013756114184634174, 'max_depth': 14, 'max_features': 17, 'eta': 0.002970797667664758, 'gamma': 1.5383084422397498e-07, 'grow_policy': 'lossguide', 'subsample': 0.806250607753623, 'min_child_weight': 2, 'n_estimators': 101}. Best is trial 73 with value: 0.9498505115471696.\u001b[0m\n",
            "\u001b[32m[I 2022-03-12 23:33:00,133]\u001b[0m Trial 89 finished with value: 0.9451359181436302 and parameters: {'booster': 'dart', 'alpha': 0.0006054740233870507, 'max_depth': 13, 'max_features': 14, 'eta': 0.0005296242859339446, 'gamma': 2.868233916205698e-07, 'grow_policy': 'depthwise', 'subsample': 0.694042142480077, 'min_child_weight': 3, 'n_estimators': 95}. Best is trial 73 with value: 0.9498505115471696.\u001b[0m\n",
            "\u001b[32m[I 2022-03-12 23:33:00,803]\u001b[0m Trial 90 finished with value: 0.9142743551483911 and parameters: {'booster': 'dart', 'alpha': 2.4957095403230036e-05, 'max_depth': 2, 'max_features': 18, 'eta': 0.009371542282504643, 'gamma': 2.178844527603152e-08, 'grow_policy': 'lossguide', 'subsample': 0.5842410275848611, 'min_child_weight': 1, 'n_estimators': 103}. Best is trial 73 with value: 0.9498505115471696.\u001b[0m\n",
            "\u001b[32m[I 2022-03-12 23:33:03,021]\u001b[0m Trial 91 finished with value: 0.9451375723869297 and parameters: {'booster': 'dart', 'alpha': 0.010402837848888123, 'max_depth': 13, 'max_features': 17, 'eta': 8.188052984535648e-05, 'gamma': 1.7949729246035351e-06, 'grow_policy': 'lossguide', 'subsample': 0.7521604095568414, 'min_child_weight': 2, 'n_estimators': 100}. Best is trial 73 with value: 0.9498505115471696.\u001b[0m\n",
            "\u001b[32m[I 2022-03-12 23:33:05,227]\u001b[0m Trial 92 finished with value: 0.945993367587198 and parameters: {'booster': 'dart', 'alpha': 0.02983726394634863, 'max_depth': 14, 'max_features': 16, 'eta': 0.00013437596609298933, 'gamma': 8.028876478747155e-05, 'grow_policy': 'lossguide', 'subsample': 0.8888270984719877, 'min_child_weight': 2, 'n_estimators': 97}. Best is trial 73 with value: 0.9498505115471696.\u001b[0m\n",
            "\u001b[32m[I 2022-03-12 23:33:08,158]\u001b[0m Trial 93 finished with value: 0.9459917133438984 and parameters: {'booster': 'dart', 'alpha': 0.006237062122897979, 'max_depth': 12, 'max_features': 17, 'eta': 0.0014425530881264064, 'gamma': 3.214648751972816e-05, 'grow_policy': 'lossguide', 'subsample': 0.9537478537181524, 'min_child_weight': 2, 'n_estimators': 114}. Best is trial 73 with value: 0.9498505115471696.\u001b[0m\n",
            "\u001b[32m[I 2022-03-12 23:33:10,122]\u001b[0m Trial 94 finished with value: 0.9417066717837926 and parameters: {'booster': 'dart', 'alpha': 0.056455353200155045, 'max_depth': 14, 'max_features': 16, 'eta': 5.572934198352017e-06, 'gamma': 1.626877015807704e-05, 'grow_policy': 'lossguide', 'subsample': 0.633645060805976, 'min_child_weight': 3, 'n_estimators': 102}. Best is trial 73 with value: 0.9498505115471696.\u001b[0m\n",
            "\u001b[32m[I 2022-03-12 23:33:13,508]\u001b[0m Trial 95 finished with value: 0.9468486113730329 and parameters: {'booster': 'dart', 'alpha': 0.19661710496714002, 'max_depth': 13, 'max_features': 18, 'eta': 1.3657263663415441e-05, 'gamma': 6.855703772853457e-08, 'grow_policy': 'lossguide', 'subsample': 0.7407288718945861, 'min_child_weight': 1, 'n_estimators': 120}. Best is trial 73 with value: 0.9498505115471696.\u001b[0m\n",
            "\u001b[32m[I 2022-03-12 23:33:14,536]\u001b[0m Trial 96 finished with value: 0.945993367587198 and parameters: {'booster': 'gbtree', 'alpha': 0.00023381187652871997, 'max_depth': 11, 'max_features': 15, 'eta': 2.314589634458827e-05, 'gamma': 7.881486534130103e-07, 'grow_policy': 'depthwise', 'subsample': 0.8515593895208197, 'min_child_weight': 2, 'n_estimators': 105}. Best is trial 73 with value: 0.9498505115471696.\u001b[0m\n",
            "\u001b[32m[I 2022-03-12 23:33:17,042]\u001b[0m Trial 97 finished with value: 0.945562712914898 and parameters: {'booster': 'dart', 'alpha': 0.32282805954824234, 'max_depth': 15, 'max_features': 13, 'eta': 0.0008705632728911269, 'gamma': 4.7105459445151904e-05, 'grow_policy': 'lossguide', 'subsample': 0.7978096513898307, 'min_child_weight': 1, 'n_estimators': 99}. Best is trial 73 with value: 0.9498505115471696.\u001b[0m\n",
            "\u001b[32m[I 2022-03-12 23:33:19,612]\u001b[0m Trial 98 finished with value: 0.9425646726417934 and parameters: {'booster': 'dart', 'alpha': 0.004048164631318792, 'max_depth': 12, 'max_features': 17, 'eta': 0.00019253803308513667, 'gamma': 5.1365167325169424e-08, 'grow_policy': 'depthwise', 'subsample': 0.707216319309946, 'min_child_weight': 2, 'n_estimators': 111}. Best is trial 73 with value: 0.9498505115471696.\u001b[0m\n",
            "\u001b[32m[I 2022-03-12 23:33:21,897]\u001b[0m Trial 99 finished with value: 0.9438505710999284 and parameters: {'booster': 'dart', 'alpha': 0.013709704888672463, 'max_depth': 13, 'max_features': 15, 'eta': 8.024295574760639e-05, 'gamma': 2.0797120114821985e-07, 'grow_policy': 'lossguide', 'subsample': 0.9036438817784286, 'min_child_weight': 3, 'n_estimators': 103}. Best is trial 73 with value: 0.9498505115471696.\u001b[0m\n"
          ]
        },
        {
          "output_type": "stream",
          "name": "stdout",
          "text": [
            "Best hyperparameters: {'booster': 'dart', 'alpha': 0.2553983989210158, 'max_depth': 13, 'max_features': 16, 'eta': 0.00020746845752260047, 'gamma': 8.330886251031127e-05, 'grow_policy': 'lossguide', 'subsample': 0.9909853737540923, 'min_child_weight': 1, 'n_estimators': 95}\n"
          ]
        }
      ]
    },
    {
      "cell_type": "code",
      "source": [
        "params={'booster': 'dart', 'alpha': 0.2553983989210158, 'max_depth': 13, 'max_features': 16, 'eta': 0.00020746845752260047, 'gamma': 8.330886251031127e-05, 'grow_policy': 'lossguide', 'subsample': 0.9909853737540923, 'min_child_weight': 1, 'n_estimators': 95}"
      ],
      "metadata": {
        "id": "F_DURTX7e0KV"
      },
      "execution_count": 42,
      "outputs": []
    },
    {
      "cell_type": "code",
      "source": [
        "from xgboost import XGBClassifier\n",
        "model = XGBClassifier(random_state=17,**params)\n",
        "model.fit(X_train, y_train)\n",
        "# make predictions for test data\n",
        "xgb_pred = model.predict(X_test)\n",
        "accuracy_score(y_test, xgb_pred)"
      ],
      "metadata": {
        "id": "Ghc_ewoke2gW",
        "outputId": "00d10e0d-743c-44dc-94c2-001523cfcf6d",
        "colab": {
          "base_uri": "https://localhost:8080/"
        }
      },
      "execution_count": 47,
      "outputs": [
        {
          "output_type": "execute_result",
          "data": {
            "text/plain": [
              "0.951"
            ]
          },
          "metadata": {},
          "execution_count": 47
        }
      ]
    }
  ]
}