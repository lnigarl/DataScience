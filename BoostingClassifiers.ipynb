{
  "nbformat": 4,
  "nbformat_minor": 0,
  "metadata": {
    "colab": {
      "name": "Untitled71.ipynb",
      "provenance": [],
      "authorship_tag": "ABX9TyOB1E2AxL0q2e85YGnewes0",
      "include_colab_link": true
    },
    "kernelspec": {
      "name": "python3",
      "display_name": "Python 3"
    },
    "language_info": {
      "name": "python"
    }
  },
  "cells": [
    {
      "cell_type": "markdown",
      "metadata": {
        "id": "view-in-github",
        "colab_type": "text"
      },
      "source": [
        "<a href=\"https://colab.research.google.com/github/ogut77/DataScience/blob/main/BoostingClassifiers.ipynb\" target=\"_parent\"><img src=\"https://colab.research.google.com/assets/colab-badge.svg\" alt=\"Open In Colab\"/></a>"
      ]
    },
    {
      "cell_type": "markdown",
      "source": [
        ""
      ],
      "metadata": {
        "id": "IrgV4xyWYWoj"
      }
    },
    {
      "cell_type": "code",
      "source": [
        "# for Jupyter-book, we copy data from GitHub, locally, to save Internet traffic,\n",
        "# you can specify the data/ folder from the root of your cloned\n",
        "# https://github.com/Yorko/mlcourse.ai repo, to save Internet traffic\n",
        "import numpy as np\n",
        "import pandas as pd\n",
        "import seaborn as sns\n",
        "\n",
        "sns.set()\n",
        "from matplotlib import pyplot as plt\n",
        "DATA_PATH = \"https://raw.githubusercontent.com/Yorko/mlcourse.ai/master/data/\"\n",
        "df = pd.read_csv(DATA_PATH + \"telecom_churn.csv\")\n",
        "\n",
        "df[\"International plan\"] = pd.factorize(df[\"International plan\"])[0]\n",
        "df[\"Voice mail plan\"] = pd.factorize(df[\"Voice mail plan\"])[0]\n",
        "df[\"Churn\"] = df[\"Churn\"].astype(\"int\")\n",
        "states = df[\"State\"]\n",
        "y = df[\"Churn\"]\n",
        "X=df.drop([\"State\", \"Churn\"], axis=1)\n"
      ],
      "metadata": {
        "id": "EZdL1N4MZqZF"
      },
      "execution_count": 1,
      "outputs": []
    },
    {
      "cell_type": "code",
      "source": [
        "X"
      ],
      "metadata": {
        "colab": {
          "base_uri": "https://localhost:8080/",
          "height": 502
        },
        "id": "hm9ZMVW9aJNh",
        "outputId": "598ea232-0388-4d85-ef6f-ef91c0912cf2"
      },
      "execution_count": 2,
      "outputs": [
        {
          "output_type": "execute_result",
          "data": {
            "text/html": [
              "\n",
              "  <div id=\"df-1417102a-daf0-46d5-b6f2-663d856165dc\">\n",
              "    <div class=\"colab-df-container\">\n",
              "      <div>\n",
              "<style scoped>\n",
              "    .dataframe tbody tr th:only-of-type {\n",
              "        vertical-align: middle;\n",
              "    }\n",
              "\n",
              "    .dataframe tbody tr th {\n",
              "        vertical-align: top;\n",
              "    }\n",
              "\n",
              "    .dataframe thead th {\n",
              "        text-align: right;\n",
              "    }\n",
              "</style>\n",
              "<table border=\"1\" class=\"dataframe\">\n",
              "  <thead>\n",
              "    <tr style=\"text-align: right;\">\n",
              "      <th></th>\n",
              "      <th>Account length</th>\n",
              "      <th>Area code</th>\n",
              "      <th>International plan</th>\n",
              "      <th>Voice mail plan</th>\n",
              "      <th>Number vmail messages</th>\n",
              "      <th>Total day minutes</th>\n",
              "      <th>Total day calls</th>\n",
              "      <th>Total day charge</th>\n",
              "      <th>Total eve minutes</th>\n",
              "      <th>Total eve calls</th>\n",
              "      <th>Total eve charge</th>\n",
              "      <th>Total night minutes</th>\n",
              "      <th>Total night calls</th>\n",
              "      <th>Total night charge</th>\n",
              "      <th>Total intl minutes</th>\n",
              "      <th>Total intl calls</th>\n",
              "      <th>Total intl charge</th>\n",
              "      <th>Customer service calls</th>\n",
              "    </tr>\n",
              "  </thead>\n",
              "  <tbody>\n",
              "    <tr>\n",
              "      <th>0</th>\n",
              "      <td>128</td>\n",
              "      <td>415</td>\n",
              "      <td>0</td>\n",
              "      <td>0</td>\n",
              "      <td>25</td>\n",
              "      <td>265.1</td>\n",
              "      <td>110</td>\n",
              "      <td>45.07</td>\n",
              "      <td>197.4</td>\n",
              "      <td>99</td>\n",
              "      <td>16.78</td>\n",
              "      <td>244.7</td>\n",
              "      <td>91</td>\n",
              "      <td>11.01</td>\n",
              "      <td>10.0</td>\n",
              "      <td>3</td>\n",
              "      <td>2.70</td>\n",
              "      <td>1</td>\n",
              "    </tr>\n",
              "    <tr>\n",
              "      <th>1</th>\n",
              "      <td>107</td>\n",
              "      <td>415</td>\n",
              "      <td>0</td>\n",
              "      <td>0</td>\n",
              "      <td>26</td>\n",
              "      <td>161.6</td>\n",
              "      <td>123</td>\n",
              "      <td>27.47</td>\n",
              "      <td>195.5</td>\n",
              "      <td>103</td>\n",
              "      <td>16.62</td>\n",
              "      <td>254.4</td>\n",
              "      <td>103</td>\n",
              "      <td>11.45</td>\n",
              "      <td>13.7</td>\n",
              "      <td>3</td>\n",
              "      <td>3.70</td>\n",
              "      <td>1</td>\n",
              "    </tr>\n",
              "    <tr>\n",
              "      <th>2</th>\n",
              "      <td>137</td>\n",
              "      <td>415</td>\n",
              "      <td>0</td>\n",
              "      <td>1</td>\n",
              "      <td>0</td>\n",
              "      <td>243.4</td>\n",
              "      <td>114</td>\n",
              "      <td>41.38</td>\n",
              "      <td>121.2</td>\n",
              "      <td>110</td>\n",
              "      <td>10.30</td>\n",
              "      <td>162.6</td>\n",
              "      <td>104</td>\n",
              "      <td>7.32</td>\n",
              "      <td>12.2</td>\n",
              "      <td>5</td>\n",
              "      <td>3.29</td>\n",
              "      <td>0</td>\n",
              "    </tr>\n",
              "    <tr>\n",
              "      <th>3</th>\n",
              "      <td>84</td>\n",
              "      <td>408</td>\n",
              "      <td>1</td>\n",
              "      <td>1</td>\n",
              "      <td>0</td>\n",
              "      <td>299.4</td>\n",
              "      <td>71</td>\n",
              "      <td>50.90</td>\n",
              "      <td>61.9</td>\n",
              "      <td>88</td>\n",
              "      <td>5.26</td>\n",
              "      <td>196.9</td>\n",
              "      <td>89</td>\n",
              "      <td>8.86</td>\n",
              "      <td>6.6</td>\n",
              "      <td>7</td>\n",
              "      <td>1.78</td>\n",
              "      <td>2</td>\n",
              "    </tr>\n",
              "    <tr>\n",
              "      <th>4</th>\n",
              "      <td>75</td>\n",
              "      <td>415</td>\n",
              "      <td>1</td>\n",
              "      <td>1</td>\n",
              "      <td>0</td>\n",
              "      <td>166.7</td>\n",
              "      <td>113</td>\n",
              "      <td>28.34</td>\n",
              "      <td>148.3</td>\n",
              "      <td>122</td>\n",
              "      <td>12.61</td>\n",
              "      <td>186.9</td>\n",
              "      <td>121</td>\n",
              "      <td>8.41</td>\n",
              "      <td>10.1</td>\n",
              "      <td>3</td>\n",
              "      <td>2.73</td>\n",
              "      <td>3</td>\n",
              "    </tr>\n",
              "    <tr>\n",
              "      <th>...</th>\n",
              "      <td>...</td>\n",
              "      <td>...</td>\n",
              "      <td>...</td>\n",
              "      <td>...</td>\n",
              "      <td>...</td>\n",
              "      <td>...</td>\n",
              "      <td>...</td>\n",
              "      <td>...</td>\n",
              "      <td>...</td>\n",
              "      <td>...</td>\n",
              "      <td>...</td>\n",
              "      <td>...</td>\n",
              "      <td>...</td>\n",
              "      <td>...</td>\n",
              "      <td>...</td>\n",
              "      <td>...</td>\n",
              "      <td>...</td>\n",
              "      <td>...</td>\n",
              "    </tr>\n",
              "    <tr>\n",
              "      <th>3328</th>\n",
              "      <td>192</td>\n",
              "      <td>415</td>\n",
              "      <td>0</td>\n",
              "      <td>0</td>\n",
              "      <td>36</td>\n",
              "      <td>156.2</td>\n",
              "      <td>77</td>\n",
              "      <td>26.55</td>\n",
              "      <td>215.5</td>\n",
              "      <td>126</td>\n",
              "      <td>18.32</td>\n",
              "      <td>279.1</td>\n",
              "      <td>83</td>\n",
              "      <td>12.56</td>\n",
              "      <td>9.9</td>\n",
              "      <td>6</td>\n",
              "      <td>2.67</td>\n",
              "      <td>2</td>\n",
              "    </tr>\n",
              "    <tr>\n",
              "      <th>3329</th>\n",
              "      <td>68</td>\n",
              "      <td>415</td>\n",
              "      <td>0</td>\n",
              "      <td>1</td>\n",
              "      <td>0</td>\n",
              "      <td>231.1</td>\n",
              "      <td>57</td>\n",
              "      <td>39.29</td>\n",
              "      <td>153.4</td>\n",
              "      <td>55</td>\n",
              "      <td>13.04</td>\n",
              "      <td>191.3</td>\n",
              "      <td>123</td>\n",
              "      <td>8.61</td>\n",
              "      <td>9.6</td>\n",
              "      <td>4</td>\n",
              "      <td>2.59</td>\n",
              "      <td>3</td>\n",
              "    </tr>\n",
              "    <tr>\n",
              "      <th>3330</th>\n",
              "      <td>28</td>\n",
              "      <td>510</td>\n",
              "      <td>0</td>\n",
              "      <td>1</td>\n",
              "      <td>0</td>\n",
              "      <td>180.8</td>\n",
              "      <td>109</td>\n",
              "      <td>30.74</td>\n",
              "      <td>288.8</td>\n",
              "      <td>58</td>\n",
              "      <td>24.55</td>\n",
              "      <td>191.9</td>\n",
              "      <td>91</td>\n",
              "      <td>8.64</td>\n",
              "      <td>14.1</td>\n",
              "      <td>6</td>\n",
              "      <td>3.81</td>\n",
              "      <td>2</td>\n",
              "    </tr>\n",
              "    <tr>\n",
              "      <th>3331</th>\n",
              "      <td>184</td>\n",
              "      <td>510</td>\n",
              "      <td>1</td>\n",
              "      <td>1</td>\n",
              "      <td>0</td>\n",
              "      <td>213.8</td>\n",
              "      <td>105</td>\n",
              "      <td>36.35</td>\n",
              "      <td>159.6</td>\n",
              "      <td>84</td>\n",
              "      <td>13.57</td>\n",
              "      <td>139.2</td>\n",
              "      <td>137</td>\n",
              "      <td>6.26</td>\n",
              "      <td>5.0</td>\n",
              "      <td>10</td>\n",
              "      <td>1.35</td>\n",
              "      <td>2</td>\n",
              "    </tr>\n",
              "    <tr>\n",
              "      <th>3332</th>\n",
              "      <td>74</td>\n",
              "      <td>415</td>\n",
              "      <td>0</td>\n",
              "      <td>0</td>\n",
              "      <td>25</td>\n",
              "      <td>234.4</td>\n",
              "      <td>113</td>\n",
              "      <td>39.85</td>\n",
              "      <td>265.9</td>\n",
              "      <td>82</td>\n",
              "      <td>22.60</td>\n",
              "      <td>241.4</td>\n",
              "      <td>77</td>\n",
              "      <td>10.86</td>\n",
              "      <td>13.7</td>\n",
              "      <td>4</td>\n",
              "      <td>3.70</td>\n",
              "      <td>0</td>\n",
              "    </tr>\n",
              "  </tbody>\n",
              "</table>\n",
              "<p>3333 rows × 18 columns</p>\n",
              "</div>\n",
              "      <button class=\"colab-df-convert\" onclick=\"convertToInteractive('df-1417102a-daf0-46d5-b6f2-663d856165dc')\"\n",
              "              title=\"Convert this dataframe to an interactive table.\"\n",
              "              style=\"display:none;\">\n",
              "        \n",
              "  <svg xmlns=\"http://www.w3.org/2000/svg\" height=\"24px\"viewBox=\"0 0 24 24\"\n",
              "       width=\"24px\">\n",
              "    <path d=\"M0 0h24v24H0V0z\" fill=\"none\"/>\n",
              "    <path d=\"M18.56 5.44l.94 2.06.94-2.06 2.06-.94-2.06-.94-.94-2.06-.94 2.06-2.06.94zm-11 1L8.5 8.5l.94-2.06 2.06-.94-2.06-.94L8.5 2.5l-.94 2.06-2.06.94zm10 10l.94 2.06.94-2.06 2.06-.94-2.06-.94-.94-2.06-.94 2.06-2.06.94z\"/><path d=\"M17.41 7.96l-1.37-1.37c-.4-.4-.92-.59-1.43-.59-.52 0-1.04.2-1.43.59L10.3 9.45l-7.72 7.72c-.78.78-.78 2.05 0 2.83L4 21.41c.39.39.9.59 1.41.59.51 0 1.02-.2 1.41-.59l7.78-7.78 2.81-2.81c.8-.78.8-2.07 0-2.86zM5.41 20L4 18.59l7.72-7.72 1.47 1.35L5.41 20z\"/>\n",
              "  </svg>\n",
              "      </button>\n",
              "      \n",
              "  <style>\n",
              "    .colab-df-container {\n",
              "      display:flex;\n",
              "      flex-wrap:wrap;\n",
              "      gap: 12px;\n",
              "    }\n",
              "\n",
              "    .colab-df-convert {\n",
              "      background-color: #E8F0FE;\n",
              "      border: none;\n",
              "      border-radius: 50%;\n",
              "      cursor: pointer;\n",
              "      display: none;\n",
              "      fill: #1967D2;\n",
              "      height: 32px;\n",
              "      padding: 0 0 0 0;\n",
              "      width: 32px;\n",
              "    }\n",
              "\n",
              "    .colab-df-convert:hover {\n",
              "      background-color: #E2EBFA;\n",
              "      box-shadow: 0px 1px 2px rgba(60, 64, 67, 0.3), 0px 1px 3px 1px rgba(60, 64, 67, 0.15);\n",
              "      fill: #174EA6;\n",
              "    }\n",
              "\n",
              "    [theme=dark] .colab-df-convert {\n",
              "      background-color: #3B4455;\n",
              "      fill: #D2E3FC;\n",
              "    }\n",
              "\n",
              "    [theme=dark] .colab-df-convert:hover {\n",
              "      background-color: #434B5C;\n",
              "      box-shadow: 0px 1px 3px 1px rgba(0, 0, 0, 0.15);\n",
              "      filter: drop-shadow(0px 1px 2px rgba(0, 0, 0, 0.3));\n",
              "      fill: #FFFFFF;\n",
              "    }\n",
              "  </style>\n",
              "\n",
              "      <script>\n",
              "        const buttonEl =\n",
              "          document.querySelector('#df-1417102a-daf0-46d5-b6f2-663d856165dc button.colab-df-convert');\n",
              "        buttonEl.style.display =\n",
              "          google.colab.kernel.accessAllowed ? 'block' : 'none';\n",
              "\n",
              "        async function convertToInteractive(key) {\n",
              "          const element = document.querySelector('#df-1417102a-daf0-46d5-b6f2-663d856165dc');\n",
              "          const dataTable =\n",
              "            await google.colab.kernel.invokeFunction('convertToInteractive',\n",
              "                                                     [key], {});\n",
              "          if (!dataTable) return;\n",
              "\n",
              "          const docLinkHtml = 'Like what you see? Visit the ' +\n",
              "            '<a target=\"_blank\" href=https://colab.research.google.com/notebooks/data_table.ipynb>data table notebook</a>'\n",
              "            + ' to learn more about interactive tables.';\n",
              "          element.innerHTML = '';\n",
              "          dataTable['output_type'] = 'display_data';\n",
              "          await google.colab.output.renderOutput(dataTable, element);\n",
              "          const docLink = document.createElement('div');\n",
              "          docLink.innerHTML = docLinkHtml;\n",
              "          element.appendChild(docLink);\n",
              "        }\n",
              "      </script>\n",
              "    </div>\n",
              "  </div>\n",
              "  "
            ],
            "text/plain": [
              "      Account length  Area code  International plan  Voice mail plan  \\\n",
              "0                128        415                   0                0   \n",
              "1                107        415                   0                0   \n",
              "2                137        415                   0                1   \n",
              "3                 84        408                   1                1   \n",
              "4                 75        415                   1                1   \n",
              "...              ...        ...                 ...              ...   \n",
              "3328             192        415                   0                0   \n",
              "3329              68        415                   0                1   \n",
              "3330              28        510                   0                1   \n",
              "3331             184        510                   1                1   \n",
              "3332              74        415                   0                0   \n",
              "\n",
              "      Number vmail messages  Total day minutes  Total day calls  \\\n",
              "0                        25              265.1              110   \n",
              "1                        26              161.6              123   \n",
              "2                         0              243.4              114   \n",
              "3                         0              299.4               71   \n",
              "4                         0              166.7              113   \n",
              "...                     ...                ...              ...   \n",
              "3328                     36              156.2               77   \n",
              "3329                      0              231.1               57   \n",
              "3330                      0              180.8              109   \n",
              "3331                      0              213.8              105   \n",
              "3332                     25              234.4              113   \n",
              "\n",
              "      Total day charge  Total eve minutes  Total eve calls  Total eve charge  \\\n",
              "0                45.07              197.4               99             16.78   \n",
              "1                27.47              195.5              103             16.62   \n",
              "2                41.38              121.2              110             10.30   \n",
              "3                50.90               61.9               88              5.26   \n",
              "4                28.34              148.3              122             12.61   \n",
              "...                ...                ...              ...               ...   \n",
              "3328             26.55              215.5              126             18.32   \n",
              "3329             39.29              153.4               55             13.04   \n",
              "3330             30.74              288.8               58             24.55   \n",
              "3331             36.35              159.6               84             13.57   \n",
              "3332             39.85              265.9               82             22.60   \n",
              "\n",
              "      Total night minutes  Total night calls  Total night charge  \\\n",
              "0                   244.7                 91               11.01   \n",
              "1                   254.4                103               11.45   \n",
              "2                   162.6                104                7.32   \n",
              "3                   196.9                 89                8.86   \n",
              "4                   186.9                121                8.41   \n",
              "...                   ...                ...                 ...   \n",
              "3328                279.1                 83               12.56   \n",
              "3329                191.3                123                8.61   \n",
              "3330                191.9                 91                8.64   \n",
              "3331                139.2                137                6.26   \n",
              "3332                241.4                 77               10.86   \n",
              "\n",
              "      Total intl minutes  Total intl calls  Total intl charge  \\\n",
              "0                   10.0                 3               2.70   \n",
              "1                   13.7                 3               3.70   \n",
              "2                   12.2                 5               3.29   \n",
              "3                    6.6                 7               1.78   \n",
              "4                   10.1                 3               2.73   \n",
              "...                  ...               ...                ...   \n",
              "3328                 9.9                 6               2.67   \n",
              "3329                 9.6                 4               2.59   \n",
              "3330                14.1                 6               3.81   \n",
              "3331                 5.0                10               1.35   \n",
              "3332                13.7                 4               3.70   \n",
              "\n",
              "      Customer service calls  \n",
              "0                          1  \n",
              "1                          1  \n",
              "2                          0  \n",
              "3                          2  \n",
              "4                          3  \n",
              "...                      ...  \n",
              "3328                       2  \n",
              "3329                       3  \n",
              "3330                       2  \n",
              "3331                       2  \n",
              "3332                       0  \n",
              "\n",
              "[3333 rows x 18 columns]"
            ]
          },
          "metadata": {},
          "execution_count": 2
        }
      ]
    },
    {
      "cell_type": "code",
      "source": [
        "from sklearn.model_selection import StratifiedKFold, train_test_split\n",
        "from sklearn.tree import DecisionTreeClassifier\n",
        "\n",
        "X_train, X_test, y_train, y_test = train_test_split(\n",
        "    X, y, test_size=0.3, random_state=17\n",
        ")\n",
        "\n"
      ],
      "metadata": {
        "id": "aC4sGAvybIGe"
      },
      "execution_count": 3,
      "outputs": []
    },
    {
      "cell_type": "code",
      "source": [
        "from sklearn.metrics import accuracy_score\n",
        "tree = DecisionTreeClassifier(random_state=17)\n",
        "tree.fit(X_train, y_train)\n",
        "# make predictions for test data\n",
        "tree_pred = tree.predict(X_test)\n",
        "accuracy_score(y_test, tree_pred) "
      ],
      "metadata": {
        "colab": {
          "base_uri": "https://localhost:8080/"
        },
        "id": "caDTFnXIb9Kn",
        "outputId": "661585d7-478d-41fa-ab73-8c7a801f4822"
      },
      "execution_count": 4,
      "outputs": [
        {
          "output_type": "execute_result",
          "data": {
            "text/plain": [
              "0.92"
            ]
          },
          "metadata": {},
          "execution_count": 4
        }
      ]
    },
    {
      "cell_type": "code",
      "source": [
        "from sklearn.ensemble import RandomForestClassifier\n",
        "\n",
        "forest = RandomForestClassifier(random_state=17 )\n",
        "forest.fit(X_train, y_train)\n",
        "# make predictions for test data\n",
        "forest_pred = forest.predict(X_test)\n",
        "accuracy_score(y_test, forest_pred) "
      ],
      "metadata": {
        "colab": {
          "base_uri": "https://localhost:8080/"
        },
        "id": "eqqgQ351dStx",
        "outputId": "ea6d6151-b116-446b-b629-6ccd38e992e5"
      },
      "execution_count": 5,
      "outputs": [
        {
          "output_type": "execute_result",
          "data": {
            "text/plain": [
              "0.95"
            ]
          },
          "metadata": {},
          "execution_count": 5
        }
      ]
    },
    {
      "cell_type": "code",
      "source": [
        "# fit model no training data\n",
        "from xgboost import XGBClassifier\n",
        "model = XGBClassifier(random_state=17)\n",
        "model.fit(X_train, y_train)\n",
        "# make predictions for test data\n",
        "xgb_pred = model.predict(X_test)\n",
        "accuracy_score(y_test, xgb_pred)"
      ],
      "metadata": {
        "id": "g5ar8WG6-q_4",
        "outputId": "fa9df6f1-9d91-4b6d-c0cf-62d67513ece3",
        "colab": {
          "base_uri": "https://localhost:8080/"
        }
      },
      "execution_count": 6,
      "outputs": [
        {
          "output_type": "execute_result",
          "data": {
            "text/plain": [
              "0.951"
            ]
          },
          "metadata": {},
          "execution_count": 6
        }
      ]
    },
    {
      "cell_type": "code",
      "source": [
        "import lightgbm as lgb\n",
        "t0 = time()\n",
        "lgb_model = lgb.LGBMClassifier(random_state=17)\n",
        "lgb_model.fit(X_train, y_train)\n",
        "lgb_time = time() - t0\n",
        "accuracy_score(y_test, lgb_model.predict(X_test))"
      ],
      "metadata": {
        "id": "sDYQOsNJClI6",
        "outputId": "0fc71c62-9575-40ae-b6b7-819cdb9fb0d2",
        "colab": {
          "base_uri": "https://localhost:8080/"
        }
      },
      "execution_count": 16,
      "outputs": [
        {
          "output_type": "execute_result",
          "data": {
            "text/plain": [
              "0.956"
            ]
          },
          "metadata": {},
          "execution_count": 16
        }
      ]
    },
    {
      "cell_type": "code",
      "source": [
        "from sklearn.model_selection import GridSearchCV, cross_val_score\n",
        "forest_params = {\"max_depth\": range(6, 10), \"max_features\": range(5, 10)}\n",
        "\n",
        "forest_grid = GridSearchCV(model, forest_params, cv=5, n_jobs=-1, verbose=True)\n",
        "\n",
        "forest_grid.fit(X_train, y_train)\n",
        "\n",
        "forest_grid.best_params_, forest_grid.best_score_\n",
        "accuracy_score(y_test, forest_grid.predict(X_test)) "
      ],
      "metadata": {
        "id": "h1leXRk6O-Hm",
        "outputId": "ca134410-2023-45e8-9062-4bb8bd3abb65",
        "colab": {
          "base_uri": "https://localhost:8080/"
        }
      },
      "execution_count": 7,
      "outputs": [
        {
          "output_type": "stream",
          "name": "stdout",
          "text": [
            "Fitting 5 folds for each of 20 candidates, totalling 100 fits\n"
          ]
        },
        {
          "output_type": "execute_result",
          "data": {
            "text/plain": [
              "0.951"
            ]
          },
          "metadata": {},
          "execution_count": 7
        }
      ]
    },
    {
      "cell_type": "code",
      "source": [
        "from sklearn.ensemble import GradientBoostingClassifier\n",
        "from time import time\n",
        "t0 = time()\n",
        "gbm_model = GradientBoostingClassifier(random_state=17)\n",
        "gbm_model.fit(X_train, y_train)\n",
        "gbm_time = time() - t0\n",
        "accuracy_score(y_test, gbm_model.predict(X_test))"
      ],
      "metadata": {
        "id": "7uzEf6HPB8q4",
        "outputId": "6d5aaff7-8364-42c4-f464-0639b60ed607",
        "colab": {
          "base_uri": "https://localhost:8080/"
        }
      },
      "execution_count": 9,
      "outputs": [
        {
          "output_type": "execute_result",
          "data": {
            "text/plain": [
              "0.954"
            ]
          },
          "metadata": {},
          "execution_count": 9
        }
      ]
    },
    {
      "cell_type": "code",
      "source": [
        "forest_params = {\"max_depth\": range(2, 15,2), \"max_features\": range(5, 19,2)}\n",
        "\n",
        "forest_grid = GridSearchCV(gbm_model, forest_params, cv=3, n_jobs=-1, verbose=True)\n",
        "\n",
        "forest_grid.fit(X_train, y_train)\n",
        "\n",
        "\n",
        "accuracy_score(y_test, forest_grid.predict(X_test)) "
      ],
      "metadata": {
        "id": "onH0wFXFPYFC",
        "outputId": "6ef5faa4-2878-4ec6-bf11-855755aefa9c",
        "colab": {
          "base_uri": "https://localhost:8080/"
        }
      },
      "execution_count": 14,
      "outputs": [
        {
          "output_type": "stream",
          "name": "stdout",
          "text": [
            "Fitting 3 folds for each of 49 candidates, totalling 147 fits\n"
          ]
        },
        {
          "output_type": "execute_result",
          "data": {
            "text/plain": [
              "0.95"
            ]
          },
          "metadata": {},
          "execution_count": 14
        }
      ]
    },
    {
      "cell_type": "code",
      "source": [
        "print(forest_grid.best_params_, forest_grid.best_score_)"
      ],
      "metadata": {
        "id": "OqmfShBMQ27L",
        "outputId": "8cafe98f-2ff1-492f-992a-4abceb6deded",
        "colab": {
          "base_uri": "https://localhost:8080/"
        }
      },
      "execution_count": 15,
      "outputs": [
        {
          "output_type": "stream",
          "name": "stdout",
          "text": [
            "{'max_depth': 10, 'max_features': 11} 0.9511369614197377\n"
          ]
        }
      ]
    },
    {
      "cell_type": "code",
      "source": [
        "forest_params = {\"max_depth\": range(2, 15,2), \"max_features\": range(5, 19,2)}\n",
        "\n",
        "forest_grid = GridSearchCV(gbm_model, forest_params, cv=5, n_jobs=-1, verbose=True)\n",
        "\n",
        "forest_grid.fit(X_train, y_train)\n",
        "\n",
        "forest_grid.best_params_, forest_grid.best_score_\n",
        "accuracy_score(y_test, forest_grid.predict(X_test)) "
      ],
      "metadata": {
        "id": "ZNKNhOoyPrFm",
        "outputId": "16f860e2-1caa-4551-dfa6-569d3996a113",
        "colab": {
          "base_uri": "https://localhost:8080/"
        }
      },
      "execution_count": 17,
      "outputs": [
        {
          "output_type": "stream",
          "name": "stdout",
          "text": [
            "Fitting 5 folds for each of 49 candidates, totalling 245 fits\n"
          ]
        },
        {
          "output_type": "execute_result",
          "data": {
            "text/plain": [
              "0.956"
            ]
          },
          "metadata": {},
          "execution_count": 17
        }
      ]
    },
    {
      "cell_type": "code",
      "source": [
        "print(forest_grid.best_params_, forest_grid.best_score_)"
      ],
      "metadata": {
        "id": "a5NWfr6kR1Qz",
        "outputId": "7c611392-9d61-4475-d73c-dff9a3c1e9f0",
        "colab": {
          "base_uri": "https://localhost:8080/"
        }
      },
      "execution_count": 18,
      "outputs": [
        {
          "output_type": "stream",
          "name": "stdout",
          "text": [
            "{'max_depth': 4, 'max_features': 9} 0.9541425039747822\n"
          ]
        }
      ]
    },
    {
      "cell_type": "code",
      "source": [
        "!pip install optuna\n"
      ],
      "metadata": {
        "id": "FlZybpVuUw1A"
      },
      "execution_count": null,
      "outputs": []
    },
    {
      "cell_type": "code",
      "source": [
        "import optuna\n",
        "\n",
        "import sklearn.datasets\n",
        "import sklearn.ensemble\n",
        "import sklearn.model_selection\n",
        "import sklearn.svm\n",
        "\n",
        "\n",
        "# FYI: Objective functions can take additional arguments\n",
        "# (https://optuna.readthedocs.io/en/stable/faq.html#objective-func-additional-args).\n",
        "def objective(trial):\n",
        "    x, y = X_train,y_train\n",
        "\n",
        "    classifier_name = trial.suggest_categorical(\"classifier\", [\"GradientBoostingClassifier\", \"RandomForest\",\"LightGBM\",\"XGBoost\"])\n",
        "    if classifier_name == \"GradientBoostingClassifier\":\n",
        "         max_depth = trial.suggest_int(\"max_depth\", 2,16)\n",
        "         max_features = trial.suggest_int(\"max_features\", 2,X_train.shape[1])\n",
        "         classifier_obj = sklearn.ensemble.GradientBoostingClassifier(random_state=17,  max_depth=max_depth, max_features=max_features )\n",
        "    elif classifier_name == \"GradientBoostingClassifier\":\n",
        "         max_depth = trial.suggest_int(\"max_depth\", 2,16)\n",
        "         max_features = trial.suggest_int(\"max_features\", 2,X_train.shape[1])\n",
        "         classifier_obj = sklearn.ensemble.RandomForestClassifier(random_state=17, max_depth=max_depth,max_features=max_features )\n",
        "    elif classifier_name == \"LightGBM\":\n",
        "         import lightgbm as lgb\n",
        "         max_depth = trial.suggest_int(\"max_depth\", 2,16)\n",
        "         max_features = trial.suggest_int(\"max_features\", 2,X_train.shape[1])\n",
        "         \n",
        "         classifier_obj  = lgb.LGBMClassifier(random_state=17,max_depth=max_depth,max_features=max_features)\n",
        "    else:\n",
        "         from xgboost import XGBClassifier\n",
        "         max_depth = trial.suggest_int(\"max_depth\", 2,16)\n",
        "         max_features = trial.suggest_int(\"max_features\", 2,X_train.shape[1])\n",
        "         classifier_obj  = XGBClassifier(random_state=17,max_depth=max_depth,max_features=max_features)\n",
        "   \n",
        "\n",
        "    score = sklearn.model_selection.cross_val_score(classifier_obj, x, y, n_jobs=-1, cv=3)\n",
        "    accuracy = score.mean()\n",
        "    return accuracy\n",
        "\n",
        "\n",
        "if __name__ == \"__main__\":\n",
        "    study = optuna.create_study(direction=\"maximize\")\n",
        "    study.optimize(objective, n_trials=100)\n",
        "    print(study.best_trial)"
      ],
      "metadata": {
        "id": "fkFEMF1VY6zF",
        "outputId": "ac146245-0754-43cc-d13c-47a73c38d8b4",
        "colab": {
          "base_uri": "https://localhost:8080/"
        }
      },
      "execution_count": 140,
      "outputs": [
        {
          "output_type": "stream",
          "name": "stderr",
          "text": [
            "\u001b[32m[I 2022-03-11 00:02:40,684]\u001b[0m A new study created in memory with name: no-name-85c0d942-7403-4e62-a718-a03c9c05b33f\u001b[0m\n",
            "\u001b[32m[I 2022-03-11 00:02:41,651]\u001b[0m Trial 0 finished with value: 0.9472792660453329 and parameters: {'classifier': 'XGBoost', 'max_depth': 14, 'max_features': 7}. Best is trial 0 with value: 0.9472792660453329.\u001b[0m\n",
            "\u001b[32m[I 2022-03-11 00:02:42,618]\u001b[0m Trial 1 finished with value: 0.9477071636454669 and parameters: {'classifier': 'XGBoost', 'max_depth': 13, 'max_features': 3}. Best is trial 1 with value: 0.9477071636454669.\u001b[0m\n",
            "\u001b[32m[I 2022-03-11 00:02:42,959]\u001b[0m Trial 2 finished with value: 0.9507085124051705 and parameters: {'classifier': 'LightGBM', 'max_depth': 8, 'max_features': 5}. Best is trial 2 with value: 0.9507085124051705.\u001b[0m\n",
            "\u001b[32m[I 2022-03-11 00:02:43,204]\u001b[0m Trial 3 finished with value: 0.8954165329486666 and parameters: {'classifier': 'GradientBoostingClassifier', 'max_depth': 2, 'max_features': 2}. Best is trial 2 with value: 0.9507085124051705.\u001b[0m\n",
            "\u001b[32m[I 2022-03-11 00:02:45,409]\u001b[0m Trial 4 finished with value: 0.9219875402394683 and parameters: {'classifier': 'GradientBoostingClassifier', 'max_depth': 10, 'max_features': 2}. Best is trial 2 with value: 0.9507085124051705.\u001b[0m\n",
            "\u001b[32m[I 2022-03-11 00:02:46,123]\u001b[0m Trial 5 finished with value: 0.9481334070023015 and parameters: {'classifier': 'XGBoost', 'max_depth': 7, 'max_features': 6}. Best is trial 2 with value: 0.9507085124051705.\u001b[0m\n",
            "\u001b[32m[I 2022-03-11 00:02:50,943]\u001b[0m Trial 6 finished with value: 0.9318473817188471 and parameters: {'classifier': 'GradientBoostingClassifier', 'max_depth': 13, 'max_features': 18}. Best is trial 2 with value: 0.9507085124051705.\u001b[0m\n",
            "\u001b[32m[I 2022-03-11 00:02:51,288]\u001b[0m Trial 7 finished with value: 0.9421340179694936 and parameters: {'classifier': 'XGBoost', 'max_depth': 3, 'max_features': 9}. Best is trial 2 with value: 0.9507085124051705.\u001b[0m\n",
            "\u001b[32m[I 2022-03-11 00:02:52,245]\u001b[0m Trial 8 finished with value: 0.9477071636454669 and parameters: {'classifier': 'RandomForest', 'max_depth': 16, 'max_features': 16}. Best is trial 2 with value: 0.9507085124051705.\u001b[0m\n",
            "\u001b[32m[I 2022-03-11 00:02:52,353]\u001b[0m Trial 9 finished with value: 0.9237068504420689 and parameters: {'classifier': 'LightGBM', 'max_depth': 2, 'max_features': 5}. Best is trial 2 with value: 0.9507085124051705.\u001b[0m\n",
            "\u001b[32m[I 2022-03-11 00:02:52,653]\u001b[0m Trial 10 finished with value: 0.9528535145501728 and parameters: {'classifier': 'LightGBM', 'max_depth': 7, 'max_features': 13}. Best is trial 10 with value: 0.9528535145501728.\u001b[0m\n",
            "\u001b[32m[I 2022-03-11 00:02:52,905]\u001b[0m Trial 11 finished with value: 0.9507090638196036 and parameters: {'classifier': 'LightGBM', 'max_depth': 6, 'max_features': 13}. Best is trial 10 with value: 0.9528535145501728.\u001b[0m\n",
            "\u001b[32m[I 2022-03-11 00:02:53,116]\u001b[0m Trial 12 finished with value: 0.9498527172049024 and parameters: {'classifier': 'LightGBM', 'max_depth': 5, 'max_features': 13}. Best is trial 10 with value: 0.9528535145501728.\u001b[0m\n",
            "\u001b[32m[I 2022-03-11 00:02:53,374]\u001b[0m Trial 13 finished with value: 0.9507090638196036 and parameters: {'classifier': 'LightGBM', 'max_depth': 6, 'max_features': 13}. Best is trial 10 with value: 0.9528535145501728.\u001b[0m\n",
            "\u001b[32m[I 2022-03-11 00:02:53,747]\u001b[0m Trial 14 finished with value: 0.9519944108633055 and parameters: {'classifier': 'LightGBM', 'max_depth': 10, 'max_features': 13}. Best is trial 10 with value: 0.9528535145501728.\u001b[0m\n",
            "\u001b[32m[I 2022-03-11 00:02:54,651]\u001b[0m Trial 15 finished with value: 0.9502784091473037 and parameters: {'classifier': 'RandomForest', 'max_depth': 10, 'max_features': 10}. Best is trial 10 with value: 0.9528535145501728.\u001b[0m\n",
            "\u001b[32m[I 2022-03-11 00:02:55,030]\u001b[0m Trial 16 finished with value: 0.9519944108633055 and parameters: {'classifier': 'LightGBM', 'max_depth': 10, 'max_features': 15}. Best is trial 10 with value: 0.9528535145501728.\u001b[0m\n",
            "\u001b[32m[I 2022-03-11 00:02:55,426]\u001b[0m Trial 17 finished with value: 0.9541366559361418 and parameters: {'classifier': 'LightGBM', 'max_depth': 11, 'max_features': 16}. Best is trial 17 with value: 0.9541366559361418.\u001b[0m\n",
            "\u001b[32m[I 2022-03-11 00:02:55,812]\u001b[0m Trial 18 finished with value: 0.956281658081144 and parameters: {'classifier': 'LightGBM', 'max_depth': 12, 'max_features': 18}. Best is trial 18 with value: 0.956281658081144.\u001b[0m\n",
            "\u001b[32m[I 2022-03-11 00:02:56,750]\u001b[0m Trial 19 finished with value: 0.9485646130890347 and parameters: {'classifier': 'RandomForest', 'max_depth': 12, 'max_features': 18}. Best is trial 18 with value: 0.956281658081144.\u001b[0m\n",
            "\u001b[32m[I 2022-03-11 00:02:57,146]\u001b[0m Trial 20 finished with value: 0.9532803093214405 and parameters: {'classifier': 'LightGBM', 'max_depth': 16, 'max_features': 16}. Best is trial 18 with value: 0.956281658081144.\u001b[0m\n",
            "\u001b[32m[I 2022-03-11 00:02:57,564]\u001b[0m Trial 21 finished with value: 0.9532803093214405 and parameters: {'classifier': 'LightGBM', 'max_depth': 16, 'max_features': 16}. Best is trial 18 with value: 0.956281658081144.\u001b[0m\n",
            "\u001b[32m[I 2022-03-11 00:02:57,955]\u001b[0m Trial 22 finished with value: 0.956281658081144 and parameters: {'classifier': 'LightGBM', 'max_depth': 12, 'max_features': 16}. Best is trial 18 with value: 0.956281658081144.\u001b[0m\n",
            "\u001b[32m[I 2022-03-11 00:02:58,353]\u001b[0m Trial 23 finished with value: 0.956281658081144 and parameters: {'classifier': 'LightGBM', 'max_depth': 12, 'max_features': 18}. Best is trial 18 with value: 0.956281658081144.\u001b[0m\n",
            "\u001b[32m[I 2022-03-11 00:02:58,757]\u001b[0m Trial 24 finished with value: 0.9549957596230091 and parameters: {'classifier': 'LightGBM', 'max_depth': 14, 'max_features': 18}. Best is trial 18 with value: 0.956281658081144.\u001b[0m\n",
            "\u001b[32m[I 2022-03-11 00:02:59,141]\u001b[0m Trial 25 finished with value: 0.956281658081144 and parameters: {'classifier': 'LightGBM', 'max_depth': 12, 'max_features': 15}. Best is trial 18 with value: 0.956281658081144.\u001b[0m\n",
            "\u001b[32m[I 2022-03-11 00:02:59,540]\u001b[0m Trial 26 finished with value: 0.9549957596230091 and parameters: {'classifier': 'LightGBM', 'max_depth': 14, 'max_features': 15}. Best is trial 18 with value: 0.956281658081144.\u001b[0m\n",
            "\u001b[32m[I 2022-03-11 00:03:00,490]\u001b[0m Trial 27 finished with value: 0.9485646130890347 and parameters: {'classifier': 'RandomForest', 'max_depth': 12, 'max_features': 17}. Best is trial 18 with value: 0.956281658081144.\u001b[0m\n",
            "\u001b[32m[I 2022-03-11 00:03:04,121]\u001b[0m Trial 28 finished with value: 0.9485646130890347 and parameters: {'classifier': 'GradientBoostingClassifier', 'max_depth': 9, 'max_features': 11}. Best is trial 18 with value: 0.956281658081144.\u001b[0m\n",
            "\u001b[32m[I 2022-03-11 00:03:05,445]\u001b[0m Trial 29 finished with value: 0.9477071636454669 and parameters: {'classifier': 'XGBoost', 'max_depth': 13, 'max_features': 14}. Best is trial 18 with value: 0.956281658081144.\u001b[0m\n",
            "\u001b[32m[I 2022-03-11 00:03:06,063]\u001b[0m Trial 30 finished with value: 0.9524228598778727 and parameters: {'classifier': 'LightGBM', 'max_depth': 15, 'max_features': 11}. Best is trial 18 with value: 0.956281658081144.\u001b[0m\n",
            "\u001b[32m[I 2022-03-11 00:03:06,651]\u001b[0m Trial 31 finished with value: 0.956281658081144 and parameters: {'classifier': 'LightGBM', 'max_depth': 12, 'max_features': 17}. Best is trial 18 with value: 0.956281658081144.\u001b[0m\n",
            "\u001b[32m[I 2022-03-11 00:03:07,258]\u001b[0m Trial 32 finished with value: 0.9541366559361418 and parameters: {'classifier': 'LightGBM', 'max_depth': 11, 'max_features': 17}. Best is trial 18 with value: 0.956281658081144.\u001b[0m\n",
            "\u001b[32m[I 2022-03-11 00:03:07,851]\u001b[0m Trial 33 finished with value: 0.9545667591940085 and parameters: {'classifier': 'LightGBM', 'max_depth': 13, 'max_features': 15}. Best is trial 18 with value: 0.956281658081144.\u001b[0m\n",
            "\u001b[32m[I 2022-03-11 00:03:08,233]\u001b[0m Trial 34 finished with value: 0.9541366559361418 and parameters: {'classifier': 'LightGBM', 'max_depth': 11, 'max_features': 17}. Best is trial 18 with value: 0.956281658081144.\u001b[0m\n",
            "\u001b[32m[I 2022-03-11 00:03:09,095]\u001b[0m Trial 35 finished with value: 0.9472787146308997 and parameters: {'classifier': 'XGBoost', 'max_depth': 9, 'max_features': 14}. Best is trial 18 with value: 0.956281658081144.\u001b[0m\n",
            "\u001b[32m[I 2022-03-11 00:03:14,055]\u001b[0m Trial 36 finished with value: 0.9288460329591435 and parameters: {'classifier': 'GradientBoostingClassifier', 'max_depth': 14, 'max_features': 17}. Best is trial 18 with value: 0.956281658081144.\u001b[0m\n",
            "\u001b[32m[I 2022-03-11 00:03:14,448]\u001b[0m Trial 37 finished with value: 0.956281658081144 and parameters: {'classifier': 'LightGBM', 'max_depth': 12, 'max_features': 18}. Best is trial 18 with value: 0.956281658081144.\u001b[0m\n",
            "\u001b[32m[I 2022-03-11 00:03:14,780]\u001b[0m Trial 38 finished with value: 0.9507085124051705 and parameters: {'classifier': 'LightGBM', 'max_depth': 8, 'max_features': 8}. Best is trial 18 with value: 0.956281658081144.\u001b[0m\n",
            "\u001b[32m[I 2022-03-11 00:03:19,542]\u001b[0m Trial 39 finished with value: 0.9327059339912811 and parameters: {'classifier': 'GradientBoostingClassifier', 'max_depth': 15, 'max_features': 14}. Best is trial 18 with value: 0.956281658081144.\u001b[0m\n",
            "\u001b[32m[I 2022-03-11 00:03:20,740]\u001b[0m Trial 40 finished with value: 0.9477077150599001 and parameters: {'classifier': 'XGBoost', 'max_depth': 11, 'max_features': 18}. Best is trial 18 with value: 0.956281658081144.\u001b[0m\n",
            "\u001b[32m[I 2022-03-11 00:03:21,149]\u001b[0m Trial 41 finished with value: 0.956281658081144 and parameters: {'classifier': 'LightGBM', 'max_depth': 12, 'max_features': 18}. Best is trial 18 with value: 0.956281658081144.\u001b[0m\n",
            "\u001b[32m[I 2022-03-11 00:03:21,547]\u001b[0m Trial 42 finished with value: 0.9545667591940085 and parameters: {'classifier': 'LightGBM', 'max_depth': 13, 'max_features': 17}. Best is trial 18 with value: 0.956281658081144.\u001b[0m\n",
            "\u001b[32m[I 2022-03-11 00:03:21,939]\u001b[0m Trial 43 finished with value: 0.956281658081144 and parameters: {'classifier': 'LightGBM', 'max_depth': 12, 'max_features': 16}. Best is trial 18 with value: 0.956281658081144.\u001b[0m\n",
            "\u001b[32m[I 2022-03-11 00:03:22,314]\u001b[0m Trial 44 finished with value: 0.9511375128341709 and parameters: {'classifier': 'LightGBM', 'max_depth': 9, 'max_features': 15}. Best is trial 18 with value: 0.956281658081144.\u001b[0m\n",
            "\u001b[32m[I 2022-03-11 00:03:22,707]\u001b[0m Trial 45 finished with value: 0.9545667591940085 and parameters: {'classifier': 'LightGBM', 'max_depth': 13, 'max_features': 18}. Best is trial 18 with value: 0.956281658081144.\u001b[0m\n",
            "\u001b[32m[I 2022-03-11 00:03:23,096]\u001b[0m Trial 46 finished with value: 0.9541366559361418 and parameters: {'classifier': 'LightGBM', 'max_depth': 11, 'max_features': 16}. Best is trial 18 with value: 0.956281658081144.\u001b[0m\n",
            "\u001b[32m[I 2022-03-11 00:03:23,996]\u001b[0m Trial 47 finished with value: 0.9502784091473037 and parameters: {'classifier': 'RandomForest', 'max_depth': 10, 'max_features': 17}. Best is trial 18 with value: 0.956281658081144.\u001b[0m\n",
            "\u001b[32m[I 2022-03-11 00:03:24,382]\u001b[0m Trial 48 finished with value: 0.956281658081144 and parameters: {'classifier': 'LightGBM', 'max_depth': 12, 'max_features': 18}. Best is trial 18 with value: 0.956281658081144.\u001b[0m\n",
            "\u001b[32m[I 2022-03-11 00:03:24,779]\u001b[0m Trial 49 finished with value: 0.9524228598778727 and parameters: {'classifier': 'LightGBM', 'max_depth': 15, 'max_features': 3}. Best is trial 18 with value: 0.956281658081144.\u001b[0m\n",
            "\u001b[32m[I 2022-03-11 00:03:29,200]\u001b[0m Trial 50 finished with value: 0.93913266920979 and parameters: {'classifier': 'GradientBoostingClassifier', 'max_depth': 13, 'max_features': 15}. Best is trial 18 with value: 0.956281658081144.\u001b[0m\n",
            "\u001b[32m[I 2022-03-11 00:03:29,591]\u001b[0m Trial 51 finished with value: 0.956281658081144 and parameters: {'classifier': 'LightGBM', 'max_depth': 12, 'max_features': 17}. Best is trial 18 with value: 0.956281658081144.\u001b[0m\n",
            "\u001b[32m[I 2022-03-11 00:03:29,993]\u001b[0m Trial 52 finished with value: 0.9549957596230091 and parameters: {'classifier': 'LightGBM', 'max_depth': 14, 'max_features': 16}. Best is trial 18 with value: 0.956281658081144.\u001b[0m\n",
            "\u001b[32m[I 2022-03-11 00:03:30,380]\u001b[0m Trial 53 finished with value: 0.9541366559361418 and parameters: {'classifier': 'LightGBM', 'max_depth': 11, 'max_features': 17}. Best is trial 18 with value: 0.956281658081144.\u001b[0m\n",
            "\u001b[32m[I 2022-03-11 00:03:30,755]\u001b[0m Trial 54 finished with value: 0.9519944108633055 and parameters: {'classifier': 'LightGBM', 'max_depth': 10, 'max_features': 18}. Best is trial 18 with value: 0.956281658081144.\u001b[0m\n",
            "\u001b[32m[I 2022-03-11 00:03:31,148]\u001b[0m Trial 55 finished with value: 0.956281658081144 and parameters: {'classifier': 'LightGBM', 'max_depth': 12, 'max_features': 12}. Best is trial 18 with value: 0.956281658081144.\u001b[0m\n",
            "\u001b[32m[I 2022-03-11 00:03:31,540]\u001b[0m Trial 56 finished with value: 0.9545667591940085 and parameters: {'classifier': 'LightGBM', 'max_depth': 13, 'max_features': 12}. Best is trial 18 with value: 0.956281658081144.\u001b[0m\n",
            "\u001b[32m[I 2022-03-11 00:03:32,505]\u001b[0m Trial 57 finished with value: 0.9485646130890347 and parameters: {'classifier': 'XGBoost', 'max_depth': 12, 'max_features': 12}. Best is trial 18 with value: 0.956281658081144.\u001b[0m\n",
            "\u001b[32m[I 2022-03-11 00:03:33,443]\u001b[0m Trial 58 finished with value: 0.9477077150599001 and parameters: {'classifier': 'RandomForest', 'max_depth': 11, 'max_features': 18}. Best is trial 18 with value: 0.956281658081144.\u001b[0m\n",
            "\u001b[32m[I 2022-03-11 00:03:33,777]\u001b[0m Trial 59 finished with value: 0.9507085124051705 and parameters: {'classifier': 'LightGBM', 'max_depth': 8, 'max_features': 16}. Best is trial 18 with value: 0.956281658081144.\u001b[0m\n",
            "\u001b[32m[I 2022-03-11 00:03:34,194]\u001b[0m Trial 60 finished with value: 0.9549957596230091 and parameters: {'classifier': 'LightGBM', 'max_depth': 14, 'max_features': 18}. Best is trial 18 with value: 0.956281658081144.\u001b[0m\n",
            "\u001b[32m[I 2022-03-11 00:03:34,589]\u001b[0m Trial 61 finished with value: 0.956281658081144 and parameters: {'classifier': 'LightGBM', 'max_depth': 12, 'max_features': 16}. Best is trial 18 with value: 0.956281658081144.\u001b[0m\n",
            "\u001b[32m[I 2022-03-11 00:03:34,984]\u001b[0m Trial 62 finished with value: 0.9545667591940085 and parameters: {'classifier': 'LightGBM', 'max_depth': 13, 'max_features': 14}. Best is trial 18 with value: 0.956281658081144.\u001b[0m\n",
            "\u001b[32m[I 2022-03-11 00:03:35,382]\u001b[0m Trial 63 finished with value: 0.956281658081144 and parameters: {'classifier': 'LightGBM', 'max_depth': 12, 'max_features': 17}. Best is trial 18 with value: 0.956281658081144.\u001b[0m\n",
            "\u001b[32m[I 2022-03-11 00:03:35,556]\u001b[0m Trial 64 finished with value: 0.9434204678420617 and parameters: {'classifier': 'LightGBM', 'max_depth': 4, 'max_features': 16}. Best is trial 18 with value: 0.956281658081144.\u001b[0m\n",
            "\u001b[32m[I 2022-03-11 00:03:35,941]\u001b[0m Trial 65 finished with value: 0.9541366559361418 and parameters: {'classifier': 'LightGBM', 'max_depth': 11, 'max_features': 9}. Best is trial 18 with value: 0.956281658081144.\u001b[0m\n",
            "\u001b[32m[I 2022-03-11 00:03:36,332]\u001b[0m Trial 66 finished with value: 0.9519944108633055 and parameters: {'classifier': 'LightGBM', 'max_depth': 10, 'max_features': 17}. Best is trial 18 with value: 0.956281658081144.\u001b[0m\n",
            "\u001b[32m[I 2022-03-11 00:03:36,723]\u001b[0m Trial 67 finished with value: 0.956281658081144 and parameters: {'classifier': 'LightGBM', 'max_depth': 12, 'max_features': 15}. Best is trial 18 with value: 0.956281658081144.\u001b[0m\n",
            "\u001b[32m[I 2022-03-11 00:03:37,122]\u001b[0m Trial 68 finished with value: 0.9545667591940085 and parameters: {'classifier': 'LightGBM', 'max_depth': 13, 'max_features': 15}. Best is trial 18 with value: 0.956281658081144.\u001b[0m\n",
            "\u001b[32m[I 2022-03-11 00:03:38,060]\u001b[0m Trial 69 finished with value: 0.9485646130890347 and parameters: {'classifier': 'RandomForest', 'max_depth': 12, 'max_features': 18}. Best is trial 18 with value: 0.956281658081144.\u001b[0m\n",
            "\u001b[32m[I 2022-03-11 00:03:38,445]\u001b[0m Trial 70 finished with value: 0.9519944108633055 and parameters: {'classifier': 'LightGBM', 'max_depth': 10, 'max_features': 17}. Best is trial 18 with value: 0.956281658081144.\u001b[0m\n",
            "\u001b[32m[I 2022-03-11 00:03:38,835]\u001b[0m Trial 71 finished with value: 0.956281658081144 and parameters: {'classifier': 'LightGBM', 'max_depth': 12, 'max_features': 18}. Best is trial 18 with value: 0.956281658081144.\u001b[0m\n",
            "\u001b[32m[I 2022-03-11 00:03:39,226]\u001b[0m Trial 72 finished with value: 0.9541366559361418 and parameters: {'classifier': 'LightGBM', 'max_depth': 11, 'max_features': 17}. Best is trial 18 with value: 0.956281658081144.\u001b[0m\n",
            "\u001b[32m[I 2022-03-11 00:03:39,625]\u001b[0m Trial 73 finished with value: 0.9549957596230091 and parameters: {'classifier': 'LightGBM', 'max_depth': 14, 'max_features': 18}. Best is trial 18 with value: 0.956281658081144.\u001b[0m\n",
            "\u001b[32m[I 2022-03-11 00:03:43,789]\u001b[0m Trial 74 finished with value: 0.9417055689549262 and parameters: {'classifier': 'GradientBoostingClassifier', 'max_depth': 11, 'max_features': 16}. Best is trial 18 with value: 0.956281658081144.\u001b[0m\n",
            "\u001b[32m[I 2022-03-11 00:03:44,180]\u001b[0m Trial 75 finished with value: 0.956281658081144 and parameters: {'classifier': 'LightGBM', 'max_depth': 12, 'max_features': 17}. Best is trial 18 with value: 0.956281658081144.\u001b[0m\n",
            "\u001b[32m[I 2022-03-11 00:03:44,576]\u001b[0m Trial 76 finished with value: 0.956281658081144 and parameters: {'classifier': 'LightGBM', 'max_depth': 12, 'max_features': 14}. Best is trial 18 with value: 0.956281658081144.\u001b[0m\n",
            "\u001b[32m[I 2022-03-11 00:03:45,544]\u001b[0m Trial 77 finished with value: 0.9477071636454669 and parameters: {'classifier': 'XGBoost', 'max_depth': 13, 'max_features': 12}. Best is trial 18 with value: 0.956281658081144.\u001b[0m\n",
            "\u001b[32m[I 2022-03-11 00:03:45,933]\u001b[0m Trial 78 finished with value: 0.9541366559361418 and parameters: {'classifier': 'LightGBM', 'max_depth': 11, 'max_features': 15}. Best is trial 18 with value: 0.956281658081144.\u001b[0m\n",
            "\u001b[32m[I 2022-03-11 00:03:46,345]\u001b[0m Trial 79 finished with value: 0.9549957596230091 and parameters: {'classifier': 'LightGBM', 'max_depth': 14, 'max_features': 17}. Best is trial 18 with value: 0.956281658081144.\u001b[0m\n",
            "\u001b[32m[I 2022-03-11 00:03:46,745]\u001b[0m Trial 80 finished with value: 0.9545667591940085 and parameters: {'classifier': 'LightGBM', 'max_depth': 13, 'max_features': 18}. Best is trial 18 with value: 0.956281658081144.\u001b[0m\n",
            "\u001b[32m[I 2022-03-11 00:03:47,140]\u001b[0m Trial 81 finished with value: 0.956281658081144 and parameters: {'classifier': 'LightGBM', 'max_depth': 12, 'max_features': 18}. Best is trial 18 with value: 0.956281658081144.\u001b[0m\n",
            "\u001b[32m[I 2022-03-11 00:03:47,544]\u001b[0m Trial 82 finished with value: 0.956281658081144 and parameters: {'classifier': 'LightGBM', 'max_depth': 12, 'max_features': 16}. Best is trial 18 with value: 0.956281658081144.\u001b[0m\n",
            "\u001b[32m[I 2022-03-11 00:03:47,943]\u001b[0m Trial 83 finished with value: 0.9545667591940085 and parameters: {'classifier': 'LightGBM', 'max_depth': 13, 'max_features': 18}. Best is trial 18 with value: 0.956281658081144.\u001b[0m\n",
            "\u001b[32m[I 2022-03-11 00:03:48,339]\u001b[0m Trial 84 finished with value: 0.9541366559361418 and parameters: {'classifier': 'LightGBM', 'max_depth': 11, 'max_features': 16}. Best is trial 18 with value: 0.956281658081144.\u001b[0m\n",
            "\u001b[32m[I 2022-03-11 00:03:48,719]\u001b[0m Trial 85 finished with value: 0.9519944108633055 and parameters: {'classifier': 'LightGBM', 'max_depth': 10, 'max_features': 10}. Best is trial 18 with value: 0.956281658081144.\u001b[0m\n",
            "\u001b[32m[I 2022-03-11 00:03:53,375]\u001b[0m Trial 86 finished with value: 0.9361329746933861 and parameters: {'classifier': 'GradientBoostingClassifier', 'max_depth': 15, 'max_features': 13}. Best is trial 18 with value: 0.956281658081144.\u001b[0m\n",
            "\u001b[32m[I 2022-03-11 00:03:53,774]\u001b[0m Trial 87 finished with value: 0.956281658081144 and parameters: {'classifier': 'LightGBM', 'max_depth': 12, 'max_features': 6}. Best is trial 18 with value: 0.956281658081144.\u001b[0m\n",
            "\u001b[32m[I 2022-03-11 00:03:54,173]\u001b[0m Trial 88 finished with value: 0.9545667591940085 and parameters: {'classifier': 'LightGBM', 'max_depth': 13, 'max_features': 16}. Best is trial 18 with value: 0.956281658081144.\u001b[0m\n",
            "\u001b[32m[I 2022-03-11 00:03:55,126]\u001b[0m Trial 89 finished with value: 0.9477077150599001 and parameters: {'classifier': 'XGBoost', 'max_depth': 11, 'max_features': 15}. Best is trial 18 with value: 0.956281658081144.\u001b[0m\n",
            "\u001b[32m[I 2022-03-11 00:03:55,528]\u001b[0m Trial 90 finished with value: 0.956281658081144 and parameters: {'classifier': 'LightGBM', 'max_depth': 12, 'max_features': 17}. Best is trial 18 with value: 0.956281658081144.\u001b[0m\n",
            "\u001b[32m[I 2022-03-11 00:03:55,925]\u001b[0m Trial 91 finished with value: 0.956281658081144 and parameters: {'classifier': 'LightGBM', 'max_depth': 12, 'max_features': 17}. Best is trial 18 with value: 0.956281658081144.\u001b[0m\n",
            "\u001b[32m[I 2022-03-11 00:03:56,325]\u001b[0m Trial 92 finished with value: 0.956281658081144 and parameters: {'classifier': 'LightGBM', 'max_depth': 12, 'max_features': 17}. Best is trial 18 with value: 0.956281658081144.\u001b[0m\n",
            "\u001b[32m[I 2022-03-11 00:03:56,734]\u001b[0m Trial 93 finished with value: 0.9545667591940085 and parameters: {'classifier': 'LightGBM', 'max_depth': 13, 'max_features': 15}. Best is trial 18 with value: 0.956281658081144.\u001b[0m\n",
            "\u001b[32m[I 2022-03-11 00:03:57,122]\u001b[0m Trial 94 finished with value: 0.956281658081144 and parameters: {'classifier': 'LightGBM', 'max_depth': 12, 'max_features': 17}. Best is trial 18 with value: 0.956281658081144.\u001b[0m\n",
            "\u001b[32m[I 2022-03-11 00:03:58,066]\u001b[0m Trial 95 finished with value: 0.9477077150599001 and parameters: {'classifier': 'RandomForest', 'max_depth': 11, 'max_features': 16}. Best is trial 18 with value: 0.956281658081144.\u001b[0m\n",
            "\u001b[32m[I 2022-03-11 00:03:58,464]\u001b[0m Trial 96 finished with value: 0.956281658081144 and parameters: {'classifier': 'LightGBM', 'max_depth': 12, 'max_features': 18}. Best is trial 18 with value: 0.956281658081144.\u001b[0m\n",
            "\u001b[32m[I 2022-03-11 00:03:58,864]\u001b[0m Trial 97 finished with value: 0.9545667591940085 and parameters: {'classifier': 'LightGBM', 'max_depth': 13, 'max_features': 16}. Best is trial 18 with value: 0.956281658081144.\u001b[0m\n",
            "\u001b[32m[I 2022-03-11 00:03:59,253]\u001b[0m Trial 98 finished with value: 0.9541366559361418 and parameters: {'classifier': 'LightGBM', 'max_depth': 11, 'max_features': 18}. Best is trial 18 with value: 0.956281658081144.\u001b[0m\n",
            "\u001b[32m[I 2022-03-11 00:03:59,560]\u001b[0m Trial 99 finished with value: 0.9528535145501728 and parameters: {'classifier': 'LightGBM', 'max_depth': 7, 'max_features': 17}. Best is trial 18 with value: 0.956281658081144.\u001b[0m\n"
          ]
        },
        {
          "output_type": "stream",
          "name": "stdout",
          "text": [
            "FrozenTrial(number=18, values=[0.956281658081144], datetime_start=datetime.datetime(2022, 3, 11, 0, 2, 55, 428677), datetime_complete=datetime.datetime(2022, 3, 11, 0, 2, 55, 812280), params={'classifier': 'LightGBM', 'max_depth': 12, 'max_features': 18}, distributions={'classifier': CategoricalDistribution(choices=('GradientBoostingClassifier', 'RandomForest', 'LightGBM', 'XGBoost')), 'max_depth': IntUniformDistribution(high=16, low=2, step=1), 'max_features': IntUniformDistribution(high=18, low=2, step=1)}, user_attrs={}, system_attrs={}, intermediate_values={}, trial_id=18, state=TrialState.COMPLETE, value=None)\n"
          ]
        }
      ]
    },
    {
      "cell_type": "code",
      "source": [
        "study.best_params"
      ],
      "metadata": {
        "id": "LD2eF1jagWp5",
        "outputId": "77eb70cd-b728-4592-e3c3-186f88de3eb0",
        "colab": {
          "base_uri": "https://localhost:8080/"
        }
      },
      "execution_count": 134,
      "outputs": [
        {
          "output_type": "execute_result",
          "data": {
            "text/plain": [
              "{'classifier': 'LightGBM', 'rf_max_depth': 12, 'rf_max_feature': 14}"
            ]
          },
          "metadata": {},
          "execution_count": 134
        }
      ]
    },
    {
      "cell_type": "code",
      "source": [
        "import lightgbm as lgb\n",
        "\n",
        "lgb_model = lgb.LGBMClassifier(random_state=17,max_depth= 12,_max_features= 14)\n",
        "lgb_model.fit(X_train,y_train)\n",
        "print(accuracy_score(y_test, lgb_model.predict(X_test)))"
      ],
      "metadata": {
        "id": "mB4Bl8cSHOfC",
        "outputId": "a2230308-97fa-4ed0-e936-d909cfa13515",
        "colab": {
          "base_uri": "https://localhost:8080/"
        }
      },
      "execution_count": 137,
      "outputs": [
        {
          "output_type": "stream",
          "name": "stdout",
          "text": [
            "0.956\n"
          ]
        }
      ]
    }
  ]
}